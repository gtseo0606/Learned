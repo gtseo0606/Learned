{
 "cells": [
  {
   "cell_type": "markdown",
   "metadata": {
    "_cell_guid": "02adde30-2633-41f1-a672-af8ff83a1b02",
    "_uuid": "22754d0cc0847be93bf947c7998d7fb65a2817d7"
   },
   "source": [
    "**대회 목적:**\n",
    "\n",
    "경쟁 데이터 세트에는 공개 도메인의 으스스한 작가가 쓴 소설의 텍스트가 포함되어 있습니다.\n",
    "  1. 에드거 앨런 포(EAP)\n",
    "  2. HP 러브크래프트(HPL)\n",
    "  3. 메리 울스턴크래프트 셸리(MWS)\n",
    " \n",
    "목표는 테스트 세트에서 문장의 저자를 정확하게 식별하는 것입니다.\n",
    "\n",
    "**노트북의 목적:**\n",
    "\n",
    "이 노트북에서 무시무시한 작성자를 식별하는 데 도움이 되는 다양한 기능을 만들어 보겠습니다.\n",
    "\n",
    "첫 번째 단계로 기능 엔지니어링 부분을 자세히 살펴보기 전에 몇 가지 기본 데이터 시각화 및 정리를 수행합니다."
   ]
  },
  {
   "cell_type": "markdown",
   "metadata": {},
   "source": [
    "# 요약\n",
    "\n",
    "1. 메타변수 생성 -> xgb -> np.mean(metrics.log_loss(실제값, 예측값))\n",
    "2. TfidfVectorizer -> MultinomialNB -> confusion_matrix-> np.mean(metrics.log_loss(실제값, 예측값))\n",
    "3. TfidfVectorizer -> TruncatedSVD -> np.mean(metrics.log_loss(실제값, 예측값))\n",
    "4. CountVectorizer(stop_words='english', ngram_range=(1,3)) -> MultinomialNB -> confusion_matrix -> np.mean(metrics.log_loss(실제값, 예측값))\n",
    "5. CountVectorizer(ngram_range=(1,7), analyzer='char')\n",
    "6. TfidfVectorizer(ngram_range=(1,5), analyzer='char') -> TruncatedSVD(n_components=n_comp, algorithm='arpack') -> pd.concat([train_df, train_svd], axis=1) -> 앞서한 예측값들 -> xgb -> xgb.plot_importance -> np.mean(metrics.log_loss(실제값, 예측값))\n"
   ]
  },
  {
   "cell_type": "code",
   "execution_count": 1,
   "metadata": {
    "_cell_guid": "b31f62fb-bde8-410e-972c-3c092f22d497",
    "_uuid": "0fcdf81ce439d2215892af58f839edfc0ca80a91"
   },
   "outputs": [],
   "source": [
    "import numpy as np # linear algebra\n",
    "import pandas as pd # data processing, CSV file I/O (e.g. pd.read_csv)\n",
    "import matplotlib.pyplot as plt\n",
    "import seaborn as sns\n",
    "\n",
    "import nltk\n",
    "from nltk.corpus import stopwords\n",
    "import string # 문자/숫자의 리스트 출력\n",
    "\n",
    "import xgboost as xgb\n",
    "\n",
    "from sklearn.feature_extraction.text import TfidfVectorizer, CountVectorizer\n",
    "from sklearn.decomposition import TruncatedSVD\n",
    "from sklearn import ensemble, metrics, model_selection, naive_bayes\n",
    "color = sns.color_palette()\n",
    "\n",
    "%matplotlib inline\n",
    "\n",
    "eng_stopwords = set(stopwords.words(\"english\"))\n",
    "pd.options.mode.chained_assignment = None"
   ]
  },
  {
   "cell_type": "code",
   "execution_count": 2,
   "metadata": {
    "_cell_guid": "add1b71c-e802-408f-8f62-7ea71ed155cf",
    "_uuid": "ae86f9515b3be4956e223db4c2472c2c0c40d9fb"
   },
   "outputs": [
    {
     "name": "stdout",
     "output_type": "stream",
     "text": [
      "Number of rows in train dataset :  19579\n",
      "Number of rows in test dataset :  8392\n"
     ]
    }
   ],
   "source": [
    "## Read the train and test dataset and check the top few lines ##\n",
    "train_df = pd.read_csv(\"./input/train.csv\")\n",
    "test_df = pd.read_csv(\"./input/test.csv\")\n",
    "print(\"Number of rows in train dataset : \",train_df.shape[0])\n",
    "print(\"Number of rows in test dataset : \",test_df.shape[0])"
   ]
  },
  {
   "cell_type": "code",
   "execution_count": 3,
   "metadata": {
    "_cell_guid": "35e22f81-77f9-438e-ba50-803aea15ad14",
    "_uuid": "83a9dfc6af30753f82f07ef6162d3b9ba155b06d"
   },
   "outputs": [
    {
     "data": {
      "text/html": [
       "<div>\n",
       "<style scoped>\n",
       "    .dataframe tbody tr th:only-of-type {\n",
       "        vertical-align: middle;\n",
       "    }\n",
       "\n",
       "    .dataframe tbody tr th {\n",
       "        vertical-align: top;\n",
       "    }\n",
       "\n",
       "    .dataframe thead th {\n",
       "        text-align: right;\n",
       "    }\n",
       "</style>\n",
       "<table border=\"1\" class=\"dataframe\">\n",
       "  <thead>\n",
       "    <tr style=\"text-align: right;\">\n",
       "      <th></th>\n",
       "      <th>id</th>\n",
       "      <th>text</th>\n",
       "      <th>author</th>\n",
       "    </tr>\n",
       "  </thead>\n",
       "  <tbody>\n",
       "    <tr>\n",
       "      <th>0</th>\n",
       "      <td>id26305</td>\n",
       "      <td>This process, however, afforded me no means of...</td>\n",
       "      <td>EAP</td>\n",
       "    </tr>\n",
       "    <tr>\n",
       "      <th>1</th>\n",
       "      <td>id17569</td>\n",
       "      <td>It never once occurred to me that the fumbling...</td>\n",
       "      <td>HPL</td>\n",
       "    </tr>\n",
       "    <tr>\n",
       "      <th>2</th>\n",
       "      <td>id11008</td>\n",
       "      <td>In his left hand was a gold snuff box, from wh...</td>\n",
       "      <td>EAP</td>\n",
       "    </tr>\n",
       "    <tr>\n",
       "      <th>3</th>\n",
       "      <td>id27763</td>\n",
       "      <td>How lovely is spring As we looked from Windsor...</td>\n",
       "      <td>MWS</td>\n",
       "    </tr>\n",
       "    <tr>\n",
       "      <th>4</th>\n",
       "      <td>id12958</td>\n",
       "      <td>Finding nothing else, not even gold, the Super...</td>\n",
       "      <td>HPL</td>\n",
       "    </tr>\n",
       "  </tbody>\n",
       "</table>\n",
       "</div>"
      ],
      "text/plain": [
       "        id                                               text author\n",
       "0  id26305  This process, however, afforded me no means of...    EAP\n",
       "1  id17569  It never once occurred to me that the fumbling...    HPL\n",
       "2  id11008  In his left hand was a gold snuff box, from wh...    EAP\n",
       "3  id27763  How lovely is spring As we looked from Windsor...    MWS\n",
       "4  id12958  Finding nothing else, not even gold, the Super...    HPL"
      ]
     },
     "execution_count": 3,
     "metadata": {},
     "output_type": "execute_result"
    }
   ],
   "source": [
    "train_df.head()"
   ]
  },
  {
   "cell_type": "markdown",
   "metadata": {
    "_cell_guid": "5bee9e9a-5fbf-4ee6-9e92-0c77821fe77d",
    "_uuid": "d7682e0812990e3409db6076e7570ce984e466a1"
   },
   "source": [
    "각 저자의 출현 횟수를 확인하여 클래스가 균형을 이루고 있는지 확인할 수 있습니다."
   ]
  },
  {
   "cell_type": "code",
   "execution_count": 4,
   "metadata": {
    "_cell_guid": "95529569-3380-4794-8248-caf5e8c67f6a",
    "_uuid": "045fe5712b26a72855dad61f05c947ab829a295b"
   },
   "outputs": [
    {
     "name": "stderr",
     "output_type": "stream",
     "text": [
      "C:\\Users\\HOME\\anaconda3\\lib\\site-packages\\seaborn\\_decorators.py:36: FutureWarning: Pass the following variables as keyword args: x, y. From version 0.12, the only valid positional argument will be `data`, and passing other arguments without an explicit keyword will result in an error or misinterpretation.\n",
      "  warnings.warn(\n"
     ]
    },
    {
     "data": {
      "image/png": "[encoded data removed]",
      "text/plain": [
       "<Figure size 576x288 with 1 Axes>"
      ]
     },
     "metadata": {
      "needs_background": "light"
     },
     "output_type": "display_data"
    }
   ],
   "source": [
    "cnt_srs = train_df['author'].value_counts()\n",
    "\n",
    "plt.figure(figsize=(8,4))\n",
    "sns.barplot(cnt_srs.index, cnt_srs.values, alpha=0.8)\n",
    "plt.ylabel('Number of Occurrences', fontsize=12)\n",
    "plt.xlabel('Author Name', fontsize=12)\n",
    "plt.show()"
   ]
  },
  {
   "cell_type": "markdown",
   "metadata": {
    "_cell_guid": "bff5de3a-b92f-4192-b142-60d0367e1bb2",
    "_uuid": "7b1ddc8bf782ae87ed5c24fdb6edbff986255d60"
   },
   "source": [
    "이것은 좋아 보인다. 계급 불균형이 별로 없다. 가능하면 각 저자의 글 스타일을 이해하고 이해하기 위해 각 저자의 몇 줄을 인쇄해 보겠습니다."
   ]
  },
  {
   "cell_type": "code",
   "execution_count": 5,
   "metadata": {
    "_cell_guid": "6c85f84f-d0ee-444e-8b5f-2bf62452624a",
    "_uuid": "cc6b841404940a0f84481c76f5c2328b373416e1"
   },
   "outputs": [
    {
     "name": "stdout",
     "output_type": "stream",
     "text": [
      "Author name :  EAP\n",
      "This process, however, afforded me no means of ascertaining the dimensions of my dungeon; as I might make its circuit, and return to the point whence I set out, without being aware of the fact; so perfectly uniform seemed the wall.\n",
      "In his left hand was a gold snuff box, from which, as he capered down the hill, cutting all manner of fantastic steps, he took snuff incessantly with an air of the greatest possible self satisfaction.\n",
      "The astronomer, perhaps, at this point, took refuge in the suggestion of non luminosity; and here analogy was suddenly let fall.\n",
      "The surcingle hung in ribands from my body.\n",
      "I knew that you could not say to yourself 'stereotomy' without being brought to think of atomies, and thus of the theories of Epicurus; and since, when we discussed this subject not very long ago, I mentioned to you how singularly, yet with how little notice, the vague guesses of that noble Greek had met with confirmation in the late nebular cosmogony, I felt that you could not avoid casting your eyes upward to the great nebula in Orion, and I certainly expected that you would do so.\n",
      "\n",
      "\n",
      "Author name :  HPL\n",
      "It never once occurred to me that the fumbling might be a mere mistake.\n",
      "Finding nothing else, not even gold, the Superintendent abandoned his attempts; but a perplexed look occasionally steals over his countenance as he sits thinking at his desk.\n",
      "Herbert West needed fresh bodies because his life work was the reanimation of the dead.\n",
      "The farm like grounds extended back very deeply up the hill, almost to Wheaton Street.\n",
      "His facial aspect, too, was remarkable for its maturity; for though he shared his mother's and grandfather's chinlessness, his firm and precociously shaped nose united with the expression of his large, dark, almost Latin eyes to give him an air of quasi adulthood and well nigh preternatural intelligence.\n",
      "\n",
      "\n",
      "Author name :  MWS\n",
      "How lovely is spring As we looked from Windsor Terrace on the sixteen fertile counties spread beneath, speckled by happy cottages and wealthier towns, all looked as in former years, heart cheering and fair.\n",
      "A youth passed in solitude, my best years spent under your gentle and feminine fosterage, has so refined the groundwork of my character that I cannot overcome an intense distaste to the usual brutality exercised on board ship: I have never believed it to be necessary, and when I heard of a mariner equally noted for his kindliness of heart and the respect and obedience paid to him by his crew, I felt myself peculiarly fortunate in being able to secure his services.\n",
      "I confess that neither the structure of languages, nor the code of governments, nor the politics of various states possessed attractions for me.\n",
      "He shall find that I can feel my injuries; he shall learn to dread my revenge\" A few days after he arrived.\n",
      "He had escaped me, and I must commence a destructive and almost endless journey across the mountainous ices of the ocean, amidst cold that few of the inhabitants could long endure and which I, the native of a genial and sunny climate, could not hope to survive.\n",
      "\n",
      "\n"
     ]
    }
   ],
   "source": [
    "grouped_df = train_df.groupby('author')\n",
    "for name, group in grouped_df:\n",
    "    print(\"Author name : \", name)\n",
    "    cnt = 0\n",
    "    for ind, row in group.iterrows():\n",
    "        print(row[\"text\"])\n",
    "        cnt += 1\n",
    "        if cnt == 5:\n",
    "            break\n",
    "    print(\"\\n\")"
   ]
  },
  {
   "cell_type": "markdown",
   "metadata": {
    "_cell_guid": "84398b75-325f-4259-90ea-bb6293cc5235",
    "_uuid": "d5739c4a5967d2bcb9326d39529f84791c09dfb8"
   },
   "source": [
    "내가 볼 수있는 유일한 것은 텍스트 데이터에 상당히 많은 특수 문자가 있다는 것입니다. 따라서 이러한 특수 문자의 수는 좋은 변수일 수 있습니다. 아마 나중에 만들 수 있을 것입니다.\n",
    "\n",
    "그 외에는 실마리가 별로 없습니다.. 재미있는 스타일(만들 수 있는 변수)이 있으면 댓글에 추가해 주세요.\n",
    "\n",
    "**변수 엔지니어링:**\n",
    "\n",
    "이제 변수 엔지니어링을 시도해 보겠습니다. 이것은 두 가지 주요 부분으로 구성됩니다.\n",
    "\n",
    " 1. 메타 변수 - 단어 수, 중지 단어 수, 구두점 수 등과 같은 텍스트에서 추출된 변수\n",
    " 2. 텍스트 기반 변수 - 빈도, svd, word2vec 등과 같은 텍스트/단어를 직접 기반으로 하는 변수\n",
    "\n",
    "**메타 변수:**\n",
    "\n",
    "우리는 메타 변수을 만드는 것부터 시작하여 그들이 으스스한 작가를 얼마나 잘 예측하는지 볼 것입니다. 변수 목록은 다음과 같습니다.\n",
    "1. 텍스트의 단어 수\n",
    "2. 텍스트의 고유 단어 수\n",
    "3. 텍스트의 문자 수\n",
    "4. 불용어의 수\n",
    "5. 구두점 수\n",
    "6. 대문자 단어의 수\n",
    "7. 제목 케이스 단어의 수\n",
    "8. 단어의 평균 길이"
   ]
  },
  {
   "cell_type": "code",
   "execution_count": 6,
   "metadata": {
    "_cell_guid": "5758c1ff-ca4d-4c66-8c85-ac1725bd631b",
    "_uuid": "ec015064f318cfd7d0a405bd28cd002f72724bbe"
   },
   "outputs": [],
   "source": [
    "## Number of words in the text ##\n",
    "train_df[\"num_words\"] = train_df[\"text\"].apply(lambda x: len(str(x).split()))\n",
    "test_df[\"num_words\"] = test_df[\"text\"].apply(lambda x: len(str(x).split()))\n",
    "\n",
    "## Number of unique words in the text ##\n",
    "train_df[\"num_unique_words\"] = train_df[\"text\"].apply(lambda x: len(set(str(x).split())))\n",
    "test_df[\"num_unique_words\"] = test_df[\"text\"].apply(lambda x: len(set(str(x).split())))\n",
    "\n",
    "## Number of characters in the text ##\n",
    "train_df[\"num_chars\"] = train_df[\"text\"].apply(lambda x: len(str(x)))\n",
    "test_df[\"num_chars\"] = test_df[\"text\"].apply(lambda x: len(str(x)))\n",
    "\n",
    "## Number of stopwords in the text ##\n",
    "train_df[\"num_stopwords\"] = train_df[\"text\"].apply(lambda x: len([w for w in str(x).lower().split() if w in eng_stopwords]))\n",
    "test_df[\"num_stopwords\"] = test_df[\"text\"].apply(lambda x: len([w for w in str(x).lower().split() if w in eng_stopwords]))\n",
    "\n",
    "## Number of punctuations in the text ##\n",
    "train_df[\"num_punctuations\"] =train_df['text'].apply(lambda x: len([c for c in str(x) if c in string.punctuation]) )\n",
    "test_df[\"num_punctuations\"] =test_df['text'].apply(lambda x: len([c for c in str(x) if c in string.punctuation]) )\n",
    "\n",
    "## Number of title case words in the text ##\n",
    "train_df[\"num_words_upper\"] = train_df[\"text\"].apply(lambda x: len([w for w in str(x).split() if w.isupper()]))\n",
    "test_df[\"num_words_upper\"] = test_df[\"text\"].apply(lambda x: len([w for w in str(x).split() if w.isupper()]))\n",
    "\n",
    "## Number of title case words in the text ##\n",
    "train_df[\"num_words_title\"] = train_df[\"text\"].apply(lambda x: len([w for w in str(x).split() if w.istitle()]))\n",
    "test_df[\"num_words_title\"] = test_df[\"text\"].apply(lambda x: len([w for w in str(x).split() if w.istitle()]))\n",
    "\n",
    "## Average length of the words in the text ##\n",
    "train_df[\"mean_word_len\"] = train_df[\"text\"].apply(lambda x: np.mean([len(w) for w in str(x).split()]))\n",
    "test_df[\"mean_word_len\"] = test_df[\"text\"].apply(lambda x: np.mean([len(w) for w in str(x).split()]))"
   ]
  },
  {
   "cell_type": "markdown",
   "metadata": {
    "_cell_guid": "164b0d54-3d9e-4b58-ae7c-20c447efdc69",
    "_uuid": "d79f96166a7fe609fd8431b341b2d5ad189ca07a"
   },
   "source": [
    "이제 예측에 도움이 될 몇 가지 새로운 변수를 플로팅해 보겠습니다."
   ]
  },
  {
   "cell_type": "code",
   "execution_count": 7,
   "metadata": {
    "_cell_guid": "fe9a91d9-3df7-4e1b-9e69-f701cc714a15",
    "_uuid": "51962b52791977deefab8b7991d59a51211c8a5e"
   },
   "outputs": [
    {
     "data": {
      "image/png": "[encoded data removed]",
      "text/plain": [
       "<Figure size 864x576 with 1 Axes>"
      ]
     },
     "metadata": {
      "needs_background": "light"
     },
     "output_type": "display_data"
    }
   ],
   "source": [
    "train_df['num_words'].loc[train_df['num_words']>80] = 80 #truncation for better visuals\n",
    "plt.figure(figsize=(12,8))\n",
    "sns.violinplot(x='author', y='num_words', data=train_df)\n",
    "plt.xlabel('Author Name', fontsize=12)\n",
    "plt.ylabel('Number of words in text', fontsize=12)\n",
    "plt.title(\"Number of words by author\", fontsize=15)\n",
    "plt.show()"
   ]
  },
  {
   "cell_type": "markdown",
   "metadata": {
    "_cell_guid": "66833874-08f2-48b8-9561-b54de997071d",
    "_uuid": "abe5dcadd42cd45169e44e3e299c303d5197b8ab",
    "collapsed": true
   },
   "source": [
    "EAP는 MWS 및 HPL보다 단어 수가 약간 적은 것 같습니다."
   ]
  },
  {
   "cell_type": "code",
   "execution_count": 8,
   "metadata": {
    "_cell_guid": "91514e74-d734-4642-a9dd-470cb8a65733",
    "_uuid": "1c4c0950d33e29d270fbc021aa8c5ff0e7ab205b"
   },
   "outputs": [
    {
     "data": {
      "image/png": "[encoded data removed]",
      "text/plain": [
       "<Figure size 864x576 with 1 Axes>"
      ]
     },
     "metadata": {
      "needs_background": "light"
     },
     "output_type": "display_data"
    }
   ],
   "source": [
    "train_df['num_punctuations'].loc[train_df['num_punctuations']>10] = 10 #truncation for better visuals\n",
    "plt.figure(figsize=(12,8))\n",
    "sns.violinplot(x='author', y='num_punctuations', data=train_df)\n",
    "plt.xlabel('Author Name', fontsize=12)\n",
    "plt.ylabel('Number of puntuations in text', fontsize=12)\n",
    "plt.title(\"Number of punctuations by author\", fontsize=15)\n",
    "plt.show()"
   ]
  },
  {
   "cell_type": "markdown",
   "metadata": {
    "_cell_guid": "3a622bfc-da8b-4f13-b9d8-a63dd79a5218",
    "_uuid": "240a9ac16cf5d342e6d01cb020f1d8cea670ec84"
   },
   "source": [
    "이것도 좀 쓸만해 보입니다. 이제 몇 가지 텍스트 기반 기능을 만드는 데 집중해 보겠습니다.\n",
    "\n",
    "이러한 메타 변수가 어떻게 도움이 되는지 알아보기 위해 먼저 기본 모델을 구축해 보겠습니다."
   ]
  },
  {
   "cell_type": "code",
   "execution_count": 9,
   "metadata": {},
   "outputs": [
    {
     "data": {
      "text/html": [
       "<div>\n",
       "<style scoped>\n",
       "    .dataframe tbody tr th:only-of-type {\n",
       "        vertical-align: middle;\n",
       "    }\n",
       "\n",
       "    .dataframe tbody tr th {\n",
       "        vertical-align: top;\n",
       "    }\n",
       "\n",
       "    .dataframe thead th {\n",
       "        text-align: right;\n",
       "    }\n",
       "</style>\n",
       "<table border=\"1\" class=\"dataframe\">\n",
       "  <thead>\n",
       "    <tr style=\"text-align: right;\">\n",
       "      <th></th>\n",
       "      <th>id</th>\n",
       "      <th>text</th>\n",
       "      <th>author</th>\n",
       "      <th>num_words</th>\n",
       "      <th>num_unique_words</th>\n",
       "      <th>num_chars</th>\n",
       "      <th>num_stopwords</th>\n",
       "      <th>num_punctuations</th>\n",
       "      <th>num_words_upper</th>\n",
       "      <th>num_words_title</th>\n",
       "      <th>mean_word_len</th>\n",
       "    </tr>\n",
       "  </thead>\n",
       "  <tbody>\n",
       "    <tr>\n",
       "      <th>0</th>\n",
       "      <td>id26305</td>\n",
       "      <td>This process, however, afforded me no means of...</td>\n",
       "      <td>EAP</td>\n",
       "      <td>41</td>\n",
       "      <td>35</td>\n",
       "      <td>231</td>\n",
       "      <td>19</td>\n",
       "      <td>7</td>\n",
       "      <td>2</td>\n",
       "      <td>3</td>\n",
       "      <td>4.658537</td>\n",
       "    </tr>\n",
       "    <tr>\n",
       "      <th>1</th>\n",
       "      <td>id17569</td>\n",
       "      <td>It never once occurred to me that the fumbling...</td>\n",
       "      <td>HPL</td>\n",
       "      <td>14</td>\n",
       "      <td>14</td>\n",
       "      <td>71</td>\n",
       "      <td>8</td>\n",
       "      <td>1</td>\n",
       "      <td>0</td>\n",
       "      <td>1</td>\n",
       "      <td>4.142857</td>\n",
       "    </tr>\n",
       "    <tr>\n",
       "      <th>2</th>\n",
       "      <td>id11008</td>\n",
       "      <td>In his left hand was a gold snuff box, from wh...</td>\n",
       "      <td>EAP</td>\n",
       "      <td>36</td>\n",
       "      <td>32</td>\n",
       "      <td>200</td>\n",
       "      <td>16</td>\n",
       "      <td>5</td>\n",
       "      <td>0</td>\n",
       "      <td>1</td>\n",
       "      <td>4.583333</td>\n",
       "    </tr>\n",
       "    <tr>\n",
       "      <th>3</th>\n",
       "      <td>id27763</td>\n",
       "      <td>How lovely is spring As we looked from Windsor...</td>\n",
       "      <td>MWS</td>\n",
       "      <td>34</td>\n",
       "      <td>32</td>\n",
       "      <td>206</td>\n",
       "      <td>13</td>\n",
       "      <td>4</td>\n",
       "      <td>0</td>\n",
       "      <td>4</td>\n",
       "      <td>5.088235</td>\n",
       "    </tr>\n",
       "    <tr>\n",
       "      <th>4</th>\n",
       "      <td>id12958</td>\n",
       "      <td>Finding nothing else, not even gold, the Super...</td>\n",
       "      <td>HPL</td>\n",
       "      <td>27</td>\n",
       "      <td>25</td>\n",
       "      <td>174</td>\n",
       "      <td>11</td>\n",
       "      <td>4</td>\n",
       "      <td>0</td>\n",
       "      <td>2</td>\n",
       "      <td>5.481481</td>\n",
       "    </tr>\n",
       "    <tr>\n",
       "      <th>...</th>\n",
       "      <td>...</td>\n",
       "      <td>...</td>\n",
       "      <td>...</td>\n",
       "      <td>...</td>\n",
       "      <td>...</td>\n",
       "      <td>...</td>\n",
       "      <td>...</td>\n",
       "      <td>...</td>\n",
       "      <td>...</td>\n",
       "      <td>...</td>\n",
       "      <td>...</td>\n",
       "    </tr>\n",
       "    <tr>\n",
       "      <th>19574</th>\n",
       "      <td>id17718</td>\n",
       "      <td>I could have fancied, while I looked at it, th...</td>\n",
       "      <td>EAP</td>\n",
       "      <td>20</td>\n",
       "      <td>19</td>\n",
       "      <td>108</td>\n",
       "      <td>11</td>\n",
       "      <td>3</td>\n",
       "      <td>2</td>\n",
       "      <td>2</td>\n",
       "      <td>4.450000</td>\n",
       "    </tr>\n",
       "    <tr>\n",
       "      <th>19575</th>\n",
       "      <td>id08973</td>\n",
       "      <td>The lids clenched themselves together as if in...</td>\n",
       "      <td>EAP</td>\n",
       "      <td>10</td>\n",
       "      <td>10</td>\n",
       "      <td>55</td>\n",
       "      <td>6</td>\n",
       "      <td>1</td>\n",
       "      <td>0</td>\n",
       "      <td>1</td>\n",
       "      <td>4.600000</td>\n",
       "    </tr>\n",
       "    <tr>\n",
       "      <th>19576</th>\n",
       "      <td>id05267</td>\n",
       "      <td>Mais il faut agir that is to say, a Frenchman ...</td>\n",
       "      <td>EAP</td>\n",
       "      <td>13</td>\n",
       "      <td>13</td>\n",
       "      <td>68</td>\n",
       "      <td>4</td>\n",
       "      <td>2</td>\n",
       "      <td>0</td>\n",
       "      <td>2</td>\n",
       "      <td>4.307692</td>\n",
       "    </tr>\n",
       "    <tr>\n",
       "      <th>19577</th>\n",
       "      <td>id17513</td>\n",
       "      <td>For an item of news like this, it strikes us i...</td>\n",
       "      <td>EAP</td>\n",
       "      <td>15</td>\n",
       "      <td>14</td>\n",
       "      <td>74</td>\n",
       "      <td>7</td>\n",
       "      <td>3</td>\n",
       "      <td>0</td>\n",
       "      <td>1</td>\n",
       "      <td>4.000000</td>\n",
       "    </tr>\n",
       "    <tr>\n",
       "      <th>19578</th>\n",
       "      <td>id00393</td>\n",
       "      <td>He laid a gnarled claw on my shoulder, and it ...</td>\n",
       "      <td>HPL</td>\n",
       "      <td>22</td>\n",
       "      <td>21</td>\n",
       "      <td>109</td>\n",
       "      <td>14</td>\n",
       "      <td>2</td>\n",
       "      <td>0</td>\n",
       "      <td>1</td>\n",
       "      <td>4.000000</td>\n",
       "    </tr>\n",
       "  </tbody>\n",
       "</table>\n",
       "<p>19579 rows × 11 columns</p>\n",
       "</div>"
      ],
      "text/plain": [
       "            id                                               text author  \\\n",
       "0      id26305  This process, however, afforded me no means of...    EAP   \n",
       "1      id17569  It never once occurred to me that the fumbling...    HPL   \n",
       "2      id11008  In his left hand was a gold snuff box, from wh...    EAP   \n",
       "3      id27763  How lovely is spring As we looked from Windsor...    MWS   \n",
       "4      id12958  Finding nothing else, not even gold, the Super...    HPL   \n",
       "...        ...                                                ...    ...   \n",
       "19574  id17718  I could have fancied, while I looked at it, th...    EAP   \n",
       "19575  id08973  The lids clenched themselves together as if in...    EAP   \n",
       "19576  id05267  Mais il faut agir that is to say, a Frenchman ...    EAP   \n",
       "19577  id17513  For an item of news like this, it strikes us i...    EAP   \n",
       "19578  id00393  He laid a gnarled claw on my shoulder, and it ...    HPL   \n",
       "\n",
       "       num_words  num_unique_words  num_chars  num_stopwords  \\\n",
       "0             41                35        231             19   \n",
       "1             14                14         71              8   \n",
       "2             36                32        200             16   \n",
       "3             34                32        206             13   \n",
       "4             27                25        174             11   \n",
       "...          ...               ...        ...            ...   \n",
       "19574         20                19        108             11   \n",
       "19575         10                10         55              6   \n",
       "19576         13                13         68              4   \n",
       "19577         15                14         74              7   \n",
       "19578         22                21        109             14   \n",
       "\n",
       "       num_punctuations  num_words_upper  num_words_title  mean_word_len  \n",
       "0                     7                2                3       4.658537  \n",
       "1                     1                0                1       4.142857  \n",
       "2                     5                0                1       4.583333  \n",
       "3                     4                0                4       5.088235  \n",
       "4                     4                0                2       5.481481  \n",
       "...                 ...              ...              ...            ...  \n",
       "19574                 3                2                2       4.450000  \n",
       "19575                 1                0                1       4.600000  \n",
       "19576                 2                0                2       4.307692  \n",
       "19577                 3                0                1       4.000000  \n",
       "19578                 2                0                1       4.000000  \n",
       "\n",
       "[19579 rows x 11 columns]"
      ]
     },
     "execution_count": 9,
     "metadata": {},
     "output_type": "execute_result"
    }
   ],
   "source": [
    "train_df"
   ]
  },
  {
   "cell_type": "code",
   "execution_count": 10,
   "metadata": {
    "_cell_guid": "d97fc321-32a9-429e-9135-ae52300332ec",
    "_uuid": "c27a85339ef5cf5ac3c87527249f878b615d3996"
   },
   "outputs": [],
   "source": [
    "## Prepare the data for modeling ###\n",
    "# 라벨인코딩\n",
    "author_mapping_dict = {'EAP':0, 'HPL':1, 'MWS':2}\n",
    "train_y = train_df['author'].map(author_mapping_dict)\n",
    "\n",
    "train_id = train_df['id'].values\n",
    "test_id = test_df['id'].values\n",
    "\n",
    "### 재작성 \n",
    "train_df[\"num_words\"] = train_df[\"text\"].apply(lambda x: len(str(x).split()))\n",
    "test_df[\"num_words\"] = test_df[\"text\"].apply(lambda x: len(str(x).split()))\n",
    "train_df[\"mean_word_len\"] = train_df[\"text\"].apply(lambda x: np.mean([len(w) for w in str(x).split()]))\n",
    "test_df[\"mean_word_len\"] = test_df[\"text\"].apply(lambda x: np.mean([len(w) for w in str(x).split()]))\n",
    "\n",
    "# 변수제거\n",
    "cols_to_drop = ['id', 'text']\n",
    "train_X = train_df.drop(cols_to_drop+['author'], axis=1)\n",
    "test_X = test_df.drop(cols_to_drop, axis=1)"
   ]
  },
  {
   "cell_type": "markdown",
   "metadata": {
    "_cell_guid": "c4198d3f-5fad-41b1-9bcf-3b2faef2287f",
    "_uuid": "1fddaea1621cba593f86d78851a26e1645f4954e"
   },
   "source": [
    "이러한 메타 변수만으로 간단한 XGBoost 모델을 훈련할 수 있습니다."
   ]
  },
  {
   "cell_type": "code",
   "execution_count": 11,
   "metadata": {},
   "outputs": [
    {
     "data": {
      "text/html": [
       "<div>\n",
       "<style scoped>\n",
       "    .dataframe tbody tr th:only-of-type {\n",
       "        vertical-align: middle;\n",
       "    }\n",
       "\n",
       "    .dataframe tbody tr th {\n",
       "        vertical-align: top;\n",
       "    }\n",
       "\n",
       "    .dataframe thead th {\n",
       "        text-align: right;\n",
       "    }\n",
       "</style>\n",
       "<table border=\"1\" class=\"dataframe\">\n",
       "  <thead>\n",
       "    <tr style=\"text-align: right;\">\n",
       "      <th></th>\n",
       "      <th>num_words</th>\n",
       "      <th>num_unique_words</th>\n",
       "      <th>num_chars</th>\n",
       "      <th>num_stopwords</th>\n",
       "      <th>num_punctuations</th>\n",
       "      <th>num_words_upper</th>\n",
       "      <th>num_words_title</th>\n",
       "      <th>mean_word_len</th>\n",
       "    </tr>\n",
       "  </thead>\n",
       "  <tbody>\n",
       "    <tr>\n",
       "      <th>0</th>\n",
       "      <td>41</td>\n",
       "      <td>35</td>\n",
       "      <td>231</td>\n",
       "      <td>19</td>\n",
       "      <td>7</td>\n",
       "      <td>2</td>\n",
       "      <td>3</td>\n",
       "      <td>4.658537</td>\n",
       "    </tr>\n",
       "    <tr>\n",
       "      <th>1</th>\n",
       "      <td>14</td>\n",
       "      <td>14</td>\n",
       "      <td>71</td>\n",
       "      <td>8</td>\n",
       "      <td>1</td>\n",
       "      <td>0</td>\n",
       "      <td>1</td>\n",
       "      <td>4.142857</td>\n",
       "    </tr>\n",
       "    <tr>\n",
       "      <th>2</th>\n",
       "      <td>36</td>\n",
       "      <td>32</td>\n",
       "      <td>200</td>\n",
       "      <td>16</td>\n",
       "      <td>5</td>\n",
       "      <td>0</td>\n",
       "      <td>1</td>\n",
       "      <td>4.583333</td>\n",
       "    </tr>\n",
       "    <tr>\n",
       "      <th>3</th>\n",
       "      <td>34</td>\n",
       "      <td>32</td>\n",
       "      <td>206</td>\n",
       "      <td>13</td>\n",
       "      <td>4</td>\n",
       "      <td>0</td>\n",
       "      <td>4</td>\n",
       "      <td>5.088235</td>\n",
       "    </tr>\n",
       "    <tr>\n",
       "      <th>4</th>\n",
       "      <td>27</td>\n",
       "      <td>25</td>\n",
       "      <td>174</td>\n",
       "      <td>11</td>\n",
       "      <td>4</td>\n",
       "      <td>0</td>\n",
       "      <td>2</td>\n",
       "      <td>5.481481</td>\n",
       "    </tr>\n",
       "    <tr>\n",
       "      <th>...</th>\n",
       "      <td>...</td>\n",
       "      <td>...</td>\n",
       "      <td>...</td>\n",
       "      <td>...</td>\n",
       "      <td>...</td>\n",
       "      <td>...</td>\n",
       "      <td>...</td>\n",
       "      <td>...</td>\n",
       "    </tr>\n",
       "    <tr>\n",
       "      <th>19574</th>\n",
       "      <td>20</td>\n",
       "      <td>19</td>\n",
       "      <td>108</td>\n",
       "      <td>11</td>\n",
       "      <td>3</td>\n",
       "      <td>2</td>\n",
       "      <td>2</td>\n",
       "      <td>4.450000</td>\n",
       "    </tr>\n",
       "    <tr>\n",
       "      <th>19575</th>\n",
       "      <td>10</td>\n",
       "      <td>10</td>\n",
       "      <td>55</td>\n",
       "      <td>6</td>\n",
       "      <td>1</td>\n",
       "      <td>0</td>\n",
       "      <td>1</td>\n",
       "      <td>4.600000</td>\n",
       "    </tr>\n",
       "    <tr>\n",
       "      <th>19576</th>\n",
       "      <td>13</td>\n",
       "      <td>13</td>\n",
       "      <td>68</td>\n",
       "      <td>4</td>\n",
       "      <td>2</td>\n",
       "      <td>0</td>\n",
       "      <td>2</td>\n",
       "      <td>4.307692</td>\n",
       "    </tr>\n",
       "    <tr>\n",
       "      <th>19577</th>\n",
       "      <td>15</td>\n",
       "      <td>14</td>\n",
       "      <td>74</td>\n",
       "      <td>7</td>\n",
       "      <td>3</td>\n",
       "      <td>0</td>\n",
       "      <td>1</td>\n",
       "      <td>4.000000</td>\n",
       "    </tr>\n",
       "    <tr>\n",
       "      <th>19578</th>\n",
       "      <td>22</td>\n",
       "      <td>21</td>\n",
       "      <td>109</td>\n",
       "      <td>14</td>\n",
       "      <td>2</td>\n",
       "      <td>0</td>\n",
       "      <td>1</td>\n",
       "      <td>4.000000</td>\n",
       "    </tr>\n",
       "  </tbody>\n",
       "</table>\n",
       "<p>19579 rows × 8 columns</p>\n",
       "</div>"
      ],
      "text/plain": [
       "       num_words  num_unique_words  num_chars  num_stopwords  \\\n",
       "0             41                35        231             19   \n",
       "1             14                14         71              8   \n",
       "2             36                32        200             16   \n",
       "3             34                32        206             13   \n",
       "4             27                25        174             11   \n",
       "...          ...               ...        ...            ...   \n",
       "19574         20                19        108             11   \n",
       "19575         10                10         55              6   \n",
       "19576         13                13         68              4   \n",
       "19577         15                14         74              7   \n",
       "19578         22                21        109             14   \n",
       "\n",
       "       num_punctuations  num_words_upper  num_words_title  mean_word_len  \n",
       "0                     7                2                3       4.658537  \n",
       "1                     1                0                1       4.142857  \n",
       "2                     5                0                1       4.583333  \n",
       "3                     4                0                4       5.088235  \n",
       "4                     4                0                2       5.481481  \n",
       "...                 ...              ...              ...            ...  \n",
       "19574                 3                2                2       4.450000  \n",
       "19575                 1                0                1       4.600000  \n",
       "19576                 2                0                2       4.307692  \n",
       "19577                 3                0                1       4.000000  \n",
       "19578                 2                0                1       4.000000  \n",
       "\n",
       "[19579 rows x 8 columns]"
      ]
     },
     "execution_count": 11,
     "metadata": {},
     "output_type": "execute_result"
    }
   ],
   "source": [
    "train_X"
   ]
  },
  {
   "cell_type": "code",
   "execution_count": 21,
   "metadata": {},
   "outputs": [
    {
     "data": {
      "text/html": [
       "<div>\n",
       "<style scoped>\n",
       "    .dataframe tbody tr th:only-of-type {\n",
       "        vertical-align: middle;\n",
       "    }\n",
       "\n",
       "    .dataframe tbody tr th {\n",
       "        vertical-align: top;\n",
       "    }\n",
       "\n",
       "    .dataframe thead th {\n",
       "        text-align: right;\n",
       "    }\n",
       "</style>\n",
       "<table border=\"1\" class=\"dataframe\">\n",
       "  <thead>\n",
       "    <tr style=\"text-align: right;\">\n",
       "      <th></th>\n",
       "      <th>num_words</th>\n",
       "      <th>num_unique_words</th>\n",
       "      <th>num_chars</th>\n",
       "      <th>num_stopwords</th>\n",
       "      <th>num_punctuations</th>\n",
       "      <th>num_words_upper</th>\n",
       "      <th>num_words_title</th>\n",
       "      <th>mean_word_len</th>\n",
       "    </tr>\n",
       "  </thead>\n",
       "  <tbody>\n",
       "    <tr>\n",
       "      <th>0</th>\n",
       "      <td>19</td>\n",
       "      <td>19</td>\n",
       "      <td>110</td>\n",
       "      <td>9</td>\n",
       "      <td>3</td>\n",
       "      <td>1</td>\n",
       "      <td>3</td>\n",
       "      <td>4.842105</td>\n",
       "    </tr>\n",
       "    <tr>\n",
       "      <th>1</th>\n",
       "      <td>62</td>\n",
       "      <td>49</td>\n",
       "      <td>330</td>\n",
       "      <td>33</td>\n",
       "      <td>7</td>\n",
       "      <td>1</td>\n",
       "      <td>3</td>\n",
       "      <td>4.338710</td>\n",
       "    </tr>\n",
       "    <tr>\n",
       "      <th>2</th>\n",
       "      <td>33</td>\n",
       "      <td>30</td>\n",
       "      <td>189</td>\n",
       "      <td>15</td>\n",
       "      <td>3</td>\n",
       "      <td>0</td>\n",
       "      <td>1</td>\n",
       "      <td>4.757576</td>\n",
       "    </tr>\n",
       "    <tr>\n",
       "      <th>3</th>\n",
       "      <td>41</td>\n",
       "      <td>34</td>\n",
       "      <td>223</td>\n",
       "      <td>19</td>\n",
       "      <td>5</td>\n",
       "      <td>2</td>\n",
       "      <td>3</td>\n",
       "      <td>4.463415</td>\n",
       "    </tr>\n",
       "    <tr>\n",
       "      <th>4</th>\n",
       "      <td>11</td>\n",
       "      <td>11</td>\n",
       "      <td>53</td>\n",
       "      <td>6</td>\n",
       "      <td>1</td>\n",
       "      <td>1</td>\n",
       "      <td>1</td>\n",
       "      <td>3.909091</td>\n",
       "    </tr>\n",
       "    <tr>\n",
       "      <th>...</th>\n",
       "      <td>...</td>\n",
       "      <td>...</td>\n",
       "      <td>...</td>\n",
       "      <td>...</td>\n",
       "      <td>...</td>\n",
       "      <td>...</td>\n",
       "      <td>...</td>\n",
       "      <td>...</td>\n",
       "    </tr>\n",
       "    <tr>\n",
       "      <th>8387</th>\n",
       "      <td>9</td>\n",
       "      <td>9</td>\n",
       "      <td>42</td>\n",
       "      <td>7</td>\n",
       "      <td>1</td>\n",
       "      <td>0</td>\n",
       "      <td>1</td>\n",
       "      <td>3.777778</td>\n",
       "    </tr>\n",
       "    <tr>\n",
       "      <th>8388</th>\n",
       "      <td>7</td>\n",
       "      <td>7</td>\n",
       "      <td>34</td>\n",
       "      <td>4</td>\n",
       "      <td>1</td>\n",
       "      <td>1</td>\n",
       "      <td>1</td>\n",
       "      <td>4.000000</td>\n",
       "    </tr>\n",
       "    <tr>\n",
       "      <th>8389</th>\n",
       "      <td>25</td>\n",
       "      <td>24</td>\n",
       "      <td>150</td>\n",
       "      <td>11</td>\n",
       "      <td>2</td>\n",
       "      <td>0</td>\n",
       "      <td>1</td>\n",
       "      <td>5.040000</td>\n",
       "    </tr>\n",
       "    <tr>\n",
       "      <th>8390</th>\n",
       "      <td>38</td>\n",
       "      <td>34</td>\n",
       "      <td>197</td>\n",
       "      <td>21</td>\n",
       "      <td>3</td>\n",
       "      <td>2</td>\n",
       "      <td>3</td>\n",
       "      <td>4.210526</td>\n",
       "    </tr>\n",
       "    <tr>\n",
       "      <th>8391</th>\n",
       "      <td>38</td>\n",
       "      <td>33</td>\n",
       "      <td>247</td>\n",
       "      <td>18</td>\n",
       "      <td>5</td>\n",
       "      <td>0</td>\n",
       "      <td>1</td>\n",
       "      <td>5.526316</td>\n",
       "    </tr>\n",
       "  </tbody>\n",
       "</table>\n",
       "<p>8392 rows × 8 columns</p>\n",
       "</div>"
      ],
      "text/plain": [
       "      num_words  num_unique_words  num_chars  num_stopwords  num_punctuations  \\\n",
       "0            19                19        110              9                 3   \n",
       "1            62                49        330             33                 7   \n",
       "2            33                30        189             15                 3   \n",
       "3            41                34        223             19                 5   \n",
       "4            11                11         53              6                 1   \n",
       "...         ...               ...        ...            ...               ...   \n",
       "8387          9                 9         42              7                 1   \n",
       "8388          7                 7         34              4                 1   \n",
       "8389         25                24        150             11                 2   \n",
       "8390         38                34        197             21                 3   \n",
       "8391         38                33        247             18                 5   \n",
       "\n",
       "      num_words_upper  num_words_title  mean_word_len  \n",
       "0                   1                3       4.842105  \n",
       "1                   1                3       4.338710  \n",
       "2                   0                1       4.757576  \n",
       "3                   2                3       4.463415  \n",
       "4                   1                1       3.909091  \n",
       "...               ...              ...            ...  \n",
       "8387                0                1       3.777778  \n",
       "8388                1                1       4.000000  \n",
       "8389                0                1       5.040000  \n",
       "8390                2                3       4.210526  \n",
       "8391                0                1       5.526316  \n",
       "\n",
       "[8392 rows x 8 columns]"
      ]
     },
     "execution_count": 21,
     "metadata": {},
     "output_type": "execute_result"
    }
   ],
   "source": [
    "test_X"
   ]
  },
  {
   "cell_type": "code",
   "execution_count": 19,
   "metadata": {},
   "outputs": [
    {
     "data": {
      "text/html": [
       "<div>\n",
       "<style scoped>\n",
       "    .dataframe tbody tr th:only-of-type {\n",
       "        vertical-align: middle;\n",
       "    }\n",
       "\n",
       "    .dataframe tbody tr th {\n",
       "        vertical-align: top;\n",
       "    }\n",
       "\n",
       "    .dataframe thead th {\n",
       "        text-align: right;\n",
       "    }\n",
       "</style>\n",
       "<table border=\"1\" class=\"dataframe\">\n",
       "  <thead>\n",
       "    <tr style=\"text-align: right;\">\n",
       "      <th></th>\n",
       "      <th>num_words</th>\n",
       "      <th>num_unique_words</th>\n",
       "      <th>num_chars</th>\n",
       "      <th>num_stopwords</th>\n",
       "      <th>num_punctuations</th>\n",
       "      <th>num_words_upper</th>\n",
       "      <th>num_words_title</th>\n",
       "      <th>mean_word_len</th>\n",
       "    </tr>\n",
       "  </thead>\n",
       "  <tbody>\n",
       "    <tr>\n",
       "      <th>1</th>\n",
       "      <td>14</td>\n",
       "      <td>14</td>\n",
       "      <td>71</td>\n",
       "      <td>8</td>\n",
       "      <td>1</td>\n",
       "      <td>0</td>\n",
       "      <td>1</td>\n",
       "      <td>4.142857</td>\n",
       "    </tr>\n",
       "    <tr>\n",
       "      <th>2</th>\n",
       "      <td>36</td>\n",
       "      <td>32</td>\n",
       "      <td>200</td>\n",
       "      <td>16</td>\n",
       "      <td>5</td>\n",
       "      <td>0</td>\n",
       "      <td>1</td>\n",
       "      <td>4.583333</td>\n",
       "    </tr>\n",
       "    <tr>\n",
       "      <th>3</th>\n",
       "      <td>34</td>\n",
       "      <td>32</td>\n",
       "      <td>206</td>\n",
       "      <td>13</td>\n",
       "      <td>4</td>\n",
       "      <td>0</td>\n",
       "      <td>4</td>\n",
       "      <td>5.088235</td>\n",
       "    </tr>\n",
       "    <tr>\n",
       "      <th>5</th>\n",
       "      <td>83</td>\n",
       "      <td>66</td>\n",
       "      <td>468</td>\n",
       "      <td>43</td>\n",
       "      <td>6</td>\n",
       "      <td>5</td>\n",
       "      <td>5</td>\n",
       "      <td>4.650602</td>\n",
       "    </tr>\n",
       "    <tr>\n",
       "      <th>6</th>\n",
       "      <td>21</td>\n",
       "      <td>21</td>\n",
       "      <td>128</td>\n",
       "      <td>9</td>\n",
       "      <td>5</td>\n",
       "      <td>0</td>\n",
       "      <td>1</td>\n",
       "      <td>5.142857</td>\n",
       "    </tr>\n",
       "    <tr>\n",
       "      <th>...</th>\n",
       "      <td>...</td>\n",
       "      <td>...</td>\n",
       "      <td>...</td>\n",
       "      <td>...</td>\n",
       "      <td>...</td>\n",
       "      <td>...</td>\n",
       "      <td>...</td>\n",
       "      <td>...</td>\n",
       "    </tr>\n",
       "    <tr>\n",
       "      <th>19573</th>\n",
       "      <td>27</td>\n",
       "      <td>24</td>\n",
       "      <td>143</td>\n",
       "      <td>11</td>\n",
       "      <td>4</td>\n",
       "      <td>0</td>\n",
       "      <td>4</td>\n",
       "      <td>4.333333</td>\n",
       "    </tr>\n",
       "    <tr>\n",
       "      <th>19574</th>\n",
       "      <td>20</td>\n",
       "      <td>19</td>\n",
       "      <td>108</td>\n",
       "      <td>11</td>\n",
       "      <td>3</td>\n",
       "      <td>2</td>\n",
       "      <td>2</td>\n",
       "      <td>4.450000</td>\n",
       "    </tr>\n",
       "    <tr>\n",
       "      <th>19575</th>\n",
       "      <td>10</td>\n",
       "      <td>10</td>\n",
       "      <td>55</td>\n",
       "      <td>6</td>\n",
       "      <td>1</td>\n",
       "      <td>0</td>\n",
       "      <td>1</td>\n",
       "      <td>4.600000</td>\n",
       "    </tr>\n",
       "    <tr>\n",
       "      <th>19577</th>\n",
       "      <td>15</td>\n",
       "      <td>14</td>\n",
       "      <td>74</td>\n",
       "      <td>7</td>\n",
       "      <td>3</td>\n",
       "      <td>0</td>\n",
       "      <td>1</td>\n",
       "      <td>4.000000</td>\n",
       "    </tr>\n",
       "    <tr>\n",
       "      <th>19578</th>\n",
       "      <td>22</td>\n",
       "      <td>21</td>\n",
       "      <td>109</td>\n",
       "      <td>14</td>\n",
       "      <td>2</td>\n",
       "      <td>0</td>\n",
       "      <td>1</td>\n",
       "      <td>4.000000</td>\n",
       "    </tr>\n",
       "  </tbody>\n",
       "</table>\n",
       "<p>15663 rows × 8 columns</p>\n",
       "</div>"
      ],
      "text/plain": [
       "       num_words  num_unique_words  num_chars  num_stopwords  \\\n",
       "1             14                14         71              8   \n",
       "2             36                32        200             16   \n",
       "3             34                32        206             13   \n",
       "5             83                66        468             43   \n",
       "6             21                21        128              9   \n",
       "...          ...               ...        ...            ...   \n",
       "19573         27                24        143             11   \n",
       "19574         20                19        108             11   \n",
       "19575         10                10         55              6   \n",
       "19577         15                14         74              7   \n",
       "19578         22                21        109             14   \n",
       "\n",
       "       num_punctuations  num_words_upper  num_words_title  mean_word_len  \n",
       "1                     1                0                1       4.142857  \n",
       "2                     5                0                1       4.583333  \n",
       "3                     4                0                4       5.088235  \n",
       "5                     6                5                5       4.650602  \n",
       "6                     5                0                1       5.142857  \n",
       "...                 ...              ...              ...            ...  \n",
       "19573                 4                0                4       4.333333  \n",
       "19574                 3                2                2       4.450000  \n",
       "19575                 1                0                1       4.600000  \n",
       "19577                 3                0                1       4.000000  \n",
       "19578                 2                0                1       4.000000  \n",
       "\n",
       "[15663 rows x 8 columns]"
      ]
     },
     "execution_count": 19,
     "metadata": {},
     "output_type": "execute_result"
    }
   ],
   "source": [
    "dev_X"
   ]
  },
  {
   "cell_type": "code",
   "execution_count": 17,
   "metadata": {},
   "outputs": [
    {
     "data": {
      "text/html": [
       "<div>\n",
       "<style scoped>\n",
       "    .dataframe tbody tr th:only-of-type {\n",
       "        vertical-align: middle;\n",
       "    }\n",
       "\n",
       "    .dataframe tbody tr th {\n",
       "        vertical-align: top;\n",
       "    }\n",
       "\n",
       "    .dataframe thead th {\n",
       "        text-align: right;\n",
       "    }\n",
       "</style>\n",
       "<table border=\"1\" class=\"dataframe\">\n",
       "  <thead>\n",
       "    <tr style=\"text-align: right;\">\n",
       "      <th></th>\n",
       "      <th>num_words</th>\n",
       "      <th>num_unique_words</th>\n",
       "      <th>num_chars</th>\n",
       "      <th>num_stopwords</th>\n",
       "      <th>num_punctuations</th>\n",
       "      <th>num_words_upper</th>\n",
       "      <th>num_words_title</th>\n",
       "      <th>mean_word_len</th>\n",
       "    </tr>\n",
       "  </thead>\n",
       "  <tbody>\n",
       "    <tr>\n",
       "      <th>0</th>\n",
       "      <td>41</td>\n",
       "      <td>35</td>\n",
       "      <td>231</td>\n",
       "      <td>19</td>\n",
       "      <td>7</td>\n",
       "      <td>2</td>\n",
       "      <td>3</td>\n",
       "      <td>4.658537</td>\n",
       "    </tr>\n",
       "    <tr>\n",
       "      <th>4</th>\n",
       "      <td>27</td>\n",
       "      <td>25</td>\n",
       "      <td>174</td>\n",
       "      <td>11</td>\n",
       "      <td>4</td>\n",
       "      <td>0</td>\n",
       "      <td>2</td>\n",
       "      <td>5.481481</td>\n",
       "    </tr>\n",
       "    <tr>\n",
       "      <th>13</th>\n",
       "      <td>15</td>\n",
       "      <td>15</td>\n",
       "      <td>86</td>\n",
       "      <td>5</td>\n",
       "      <td>2</td>\n",
       "      <td>0</td>\n",
       "      <td>3</td>\n",
       "      <td>4.800000</td>\n",
       "    </tr>\n",
       "    <tr>\n",
       "      <th>20</th>\n",
       "      <td>21</td>\n",
       "      <td>20</td>\n",
       "      <td>111</td>\n",
       "      <td>11</td>\n",
       "      <td>2</td>\n",
       "      <td>0</td>\n",
       "      <td>1</td>\n",
       "      <td>4.333333</td>\n",
       "    </tr>\n",
       "    <tr>\n",
       "      <th>21</th>\n",
       "      <td>44</td>\n",
       "      <td>39</td>\n",
       "      <td>252</td>\n",
       "      <td>24</td>\n",
       "      <td>4</td>\n",
       "      <td>1</td>\n",
       "      <td>2</td>\n",
       "      <td>4.750000</td>\n",
       "    </tr>\n",
       "    <tr>\n",
       "      <th>...</th>\n",
       "      <td>...</td>\n",
       "      <td>...</td>\n",
       "      <td>...</td>\n",
       "      <td>...</td>\n",
       "      <td>...</td>\n",
       "      <td>...</td>\n",
       "      <td>...</td>\n",
       "      <td>...</td>\n",
       "    </tr>\n",
       "    <tr>\n",
       "      <th>19531</th>\n",
       "      <td>7</td>\n",
       "      <td>7</td>\n",
       "      <td>53</td>\n",
       "      <td>3</td>\n",
       "      <td>1</td>\n",
       "      <td>0</td>\n",
       "      <td>1</td>\n",
       "      <td>6.714286</td>\n",
       "    </tr>\n",
       "    <tr>\n",
       "      <th>19543</th>\n",
       "      <td>16</td>\n",
       "      <td>16</td>\n",
       "      <td>93</td>\n",
       "      <td>6</td>\n",
       "      <td>2</td>\n",
       "      <td>1</td>\n",
       "      <td>2</td>\n",
       "      <td>4.875000</td>\n",
       "    </tr>\n",
       "    <tr>\n",
       "      <th>19550</th>\n",
       "      <td>12</td>\n",
       "      <td>12</td>\n",
       "      <td>59</td>\n",
       "      <td>6</td>\n",
       "      <td>2</td>\n",
       "      <td>0</td>\n",
       "      <td>1</td>\n",
       "      <td>4.000000</td>\n",
       "    </tr>\n",
       "    <tr>\n",
       "      <th>19554</th>\n",
       "      <td>21</td>\n",
       "      <td>19</td>\n",
       "      <td>126</td>\n",
       "      <td>10</td>\n",
       "      <td>2</td>\n",
       "      <td>0</td>\n",
       "      <td>1</td>\n",
       "      <td>5.047619</td>\n",
       "    </tr>\n",
       "    <tr>\n",
       "      <th>19576</th>\n",
       "      <td>13</td>\n",
       "      <td>13</td>\n",
       "      <td>68</td>\n",
       "      <td>4</td>\n",
       "      <td>2</td>\n",
       "      <td>0</td>\n",
       "      <td>2</td>\n",
       "      <td>4.307692</td>\n",
       "    </tr>\n",
       "  </tbody>\n",
       "</table>\n",
       "<p>3916 rows × 8 columns</p>\n",
       "</div>"
      ],
      "text/plain": [
       "       num_words  num_unique_words  num_chars  num_stopwords  \\\n",
       "0             41                35        231             19   \n",
       "4             27                25        174             11   \n",
       "13            15                15         86              5   \n",
       "20            21                20        111             11   \n",
       "21            44                39        252             24   \n",
       "...          ...               ...        ...            ...   \n",
       "19531          7                 7         53              3   \n",
       "19543         16                16         93              6   \n",
       "19550         12                12         59              6   \n",
       "19554         21                19        126             10   \n",
       "19576         13                13         68              4   \n",
       "\n",
       "       num_punctuations  num_words_upper  num_words_title  mean_word_len  \n",
       "0                     7                2                3       4.658537  \n",
       "4                     4                0                2       5.481481  \n",
       "13                    2                0                3       4.800000  \n",
       "20                    2                0                1       4.333333  \n",
       "21                    4                1                2       4.750000  \n",
       "...                 ...              ...              ...            ...  \n",
       "19531                 1                0                1       6.714286  \n",
       "19543                 2                1                2       4.875000  \n",
       "19550                 2                0                1       4.000000  \n",
       "19554                 2                0                1       5.047619  \n",
       "19576                 2                0                2       4.307692  \n",
       "\n",
       "[3916 rows x 8 columns]"
      ]
     },
     "execution_count": 17,
     "metadata": {},
     "output_type": "execute_result"
    }
   ],
   "source": [
    "val_X"
   ]
  },
  {
   "cell_type": "code",
   "execution_count": 20,
   "metadata": {},
   "outputs": [
    {
     "data": {
      "text/plain": [
       "1        1\n",
       "2        0\n",
       "3        2\n",
       "5        2\n",
       "6        0\n",
       "        ..\n",
       "19573    2\n",
       "19574    0\n",
       "19575    0\n",
       "19577    0\n",
       "19578    1\n",
       "Name: author, Length: 15663, dtype: int64"
      ]
     },
     "execution_count": 20,
     "metadata": {},
     "output_type": "execute_result"
    }
   ],
   "source": [
    "dev_y"
   ]
  },
  {
   "cell_type": "code",
   "execution_count": 28,
   "metadata": {},
   "outputs": [
    {
     "data": {
      "text/plain": [
       "array([[1.59e-075, 3.41e-264, 1.00e+000],\n",
       "       [1.00e+000, 7.61e-087, 2.68e-102],\n",
       "       [1.03e-015, 1.50e-049, 1.00e+000],\n",
       "       ...,\n",
       "       [6.17e-010, 7.47e-094, 1.00e+000],\n",
       "       [3.44e-016, 1.00e+000, 2.69e-027],\n",
       "       [3.68e-050, 1.82e-067, 1.00e+000]])"
      ]
     },
     "execution_count": 28,
     "metadata": {},
     "output_type": "execute_result"
    }
   ],
   "source": [
    "pred_val_y"
   ]
  },
  {
   "cell_type": "code",
   "execution_count": 22,
   "metadata": {},
   "outputs": [
    {
     "data": {
      "text/plain": [
       "3916"
      ]
     },
     "execution_count": 22,
     "metadata": {},
     "output_type": "execute_result"
    }
   ],
   "source": [
    "len(pred_val_y)"
   ]
  },
  {
   "cell_type": "code",
   "execution_count": 24,
   "metadata": {},
   "outputs": [
    {
     "data": {
      "text/plain": [
       "8392"
      ]
     },
     "execution_count": 24,
     "metadata": {},
     "output_type": "execute_result"
    }
   ],
   "source": [
    "len(pred_test_y)"
   ]
  },
  {
   "cell_type": "code",
   "execution_count": 25,
   "metadata": {},
   "outputs": [
    {
     "data": {
      "text/plain": [
       "<xgboost.core.Booster at 0x2514f9a83a0>"
      ]
     },
     "execution_count": 25,
     "metadata": {},
     "output_type": "execute_result"
    }
   ],
   "source": [
    "model"
   ]
  },
  {
   "cell_type": "code",
   "execution_count": 13,
   "metadata": {
    "_cell_guid": "1534f55b-1334-4f1e-a597-d51e4d190fb3",
    "_uuid": "7e736a33d7aefcc49edb0e629e57462f92e86c99"
   },
   "outputs": [],
   "source": [
    "# runXGB(dev_X, dev_y, val_X, val_y, test_X, seed_val=0)\n",
    "def runXGB(train_X, train_y, test_X, test_y=None, test_X2=None, seed_val=0, child=1, colsample=0.3):\n",
    "    # 매개변수\n",
    "    param = {}\n",
    "    param['objective'] = 'multi:softprob'\n",
    "    param['eta'] = 0.1\n",
    "    param['max_depth'] = 3\n",
    "    param['silent'] = 1\n",
    "    param['num_class'] = 3\n",
    "    param['eval_metric'] = \"mlogloss\"\n",
    "    param['min_child_weight'] = child # 1\n",
    "    param['subsample'] = 0.8\n",
    "    param['colsample_bytree'] = colsample # 0.3\n",
    "    param['seed'] = seed_val # 0\n",
    "    num_rounds = 2000\n",
    "\n",
    "    # 희소행렬 -> DMatrix으로 변환\n",
    "    # xgb.DMatrix -> xgb.train -> xgb.train.predict -> xgb.plot_importance\n",
    "    plst = list(param.items()) # ['multi:softprob', 0.1, 3, 1, 3, 'mlogloss', 1, 0.8, 0.3, 0]\n",
    "    xgtrain = xgb.DMatrix(train_X, label=train_y) # dev_X는 (15663rows×8columns)인 df, dev_y는 15663인 series\n",
    "\n",
    "    if test_y is not None:\n",
    "        xgtest = xgb.DMatrix(test_X, label=test_y) # val_X는 (3916rows×8columns)인 df, val_y는 3916인 series\n",
    "        watchlist = [ (xgtrain,'train'), (xgtest, 'test') ]\n",
    "        model = xgb.train(plst, xgtrain, num_rounds, watchlist, early_stopping_rounds=50, verbose_eval=20)\n",
    "    else:\n",
    "        xgtest = xgb.DMatrix(test_X)\n",
    "        model = xgb.train(plst, xgtrain, num_rounds)\n",
    "\n",
    "    pred_test_y = model.predict(xgtest, ntree_limit = model.best_ntree_limit) # 3916인 array\n",
    "    if test_X2 is not None:\n",
    "        xgtest2 = xgb.DMatrix(test_X2)\n",
    "        pred_test_y2 = model.predict(xgtest2, ntree_limit = model.best_ntree_limit) # 8392인 array\n",
    "    return pred_test_y, pred_test_y2, model # <xgboost.core.Booster at 0x2514f9a83a0>"
   ]
  },
  {
   "cell_type": "markdown",
   "metadata": {
    "_cell_guid": "1effdaf3-faca-455d-a7a2-ae4d81b5c209",
    "_uuid": "607c32af563879d1f7e011a438216ab8bea74ae3"
   },
   "source": [
    "커널 실행 시간을 위해 점수에 대한 k-폴드 교차 검증의 첫 번째 폴드만 확인할 수 있습니다. 로컬에서 실행하는 동안 'break' 줄을 제거하십시오."
   ]
  },
  {
   "cell_type": "code",
   "execution_count": 27,
   "metadata": {},
   "outputs": [
    {
     "name": "stdout",
     "output_type": "stream",
     "text": [
      "15663\n",
      "3916\n",
      "15663\n",
      "3916\n",
      "15663\n",
      "3916\n",
      "15663\n",
      "3916\n",
      "15664\n",
      "3915\n"
     ]
    }
   ],
   "source": [
    "for dev_index, val_index in kf.split(train_X): # train_X : (15663 rows × 8 columns)인 df\n",
    "    print(len(dev_index))\n",
    "    print(len(val_index))"
   ]
  },
  {
   "cell_type": "code",
   "execution_count": 14,
   "metadata": {
    "_cell_guid": "97965af9-da5a-4ccc-94c5-bc541ed00d49",
    "_uuid": "441491131b9a7272863714494dd1303022c9d630"
   },
   "outputs": [
    {
     "name": "stdout",
     "output_type": "stream",
     "text": [
      "[13:37:24] WARNING: C:/Users/Administrator/workspace/xgboost-win64_release_1.5.1/src/learner.cc:576: \n",
      "Parameters: { \"silent\" } might not be used.\n",
      "\n",
      "  This could be a false alarm, with some parameters getting used by language bindings but\n",
      "  then being mistakenly passed down to XGBoost core, or some parameter actually being used\n",
      "  but getting flagged wrongly here. Please open an issue if you find any such cases.\n",
      "\n",
      "\n",
      "[0]\ttrain-mlogloss:1.09384\ttest-mlogloss:1.09472\n",
      "[20]\ttrain-mlogloss:1.04663\ttest-mlogloss:1.05720\n",
      "[40]\ttrain-mlogloss:1.02368\ttest-mlogloss:1.03845\n",
      "[60]\ttrain-mlogloss:1.01109\ttest-mlogloss:1.02949\n",
      "[80]\ttrain-mlogloss:0.99824\ttest-mlogloss:1.01957\n",
      "[100]\ttrain-mlogloss:0.98938\ttest-mlogloss:1.01345\n",
      "[120]\ttrain-mlogloss:0.98209\ttest-mlogloss:1.00860\n",
      "[140]\ttrain-mlogloss:0.97603\ttest-mlogloss:1.00505\n",
      "[160]\ttrain-mlogloss:0.97088\ttest-mlogloss:1.00237\n",
      "[180]\ttrain-mlogloss:0.96619\ttest-mlogloss:1.00040\n",
      "[200]\ttrain-mlogloss:0.96141\ttest-mlogloss:0.99788\n",
      "[220]\ttrain-mlogloss:0.95745\ttest-mlogloss:0.99651\n",
      "[240]\ttrain-mlogloss:0.95372\ttest-mlogloss:0.99505\n",
      "[260]\ttrain-mlogloss:0.95045\ttest-mlogloss:0.99377\n",
      "[280]\ttrain-mlogloss:0.94730\ttest-mlogloss:0.99296\n",
      "[300]\ttrain-mlogloss:0.94402\ttest-mlogloss:0.99235\n",
      "[320]\ttrain-mlogloss:0.94112\ttest-mlogloss:0.99152\n",
      "[340]\ttrain-mlogloss:0.93846\ttest-mlogloss:0.99101\n",
      "[360]\ttrain-mlogloss:0.93540\ttest-mlogloss:0.99025\n",
      "[380]\ttrain-mlogloss:0.93291\ttest-mlogloss:0.98975\n",
      "[400]\ttrain-mlogloss:0.93021\ttest-mlogloss:0.98917\n",
      "[420]\ttrain-mlogloss:0.92797\ttest-mlogloss:0.98907\n",
      "[440]\ttrain-mlogloss:0.92578\ttest-mlogloss:0.98919\n",
      "[460]\ttrain-mlogloss:0.92365\ttest-mlogloss:0.98910\n",
      "[480]\ttrain-mlogloss:0.92181\ttest-mlogloss:0.98896\n",
      "[497]\ttrain-mlogloss:0.92026\ttest-mlogloss:0.98908\n",
      "cv scores :  [0.9887632298301353]\n"
     ]
    },
    {
     "name": "stderr",
     "output_type": "stream",
     "text": [
      "C:\\Users\\HOME\\anaconda3\\lib\\site-packages\\xgboost\\core.py:105: UserWarning: ntree_limit is deprecated, use `iteration_range` or model slicing instead.\n",
      "  warnings.warn(\n"
     ]
    }
   ],
   "source": [
    "from sklearn.model_selection import KFold\n",
    "\n",
    "kf = KFold(n_splits=5, shuffle=True, random_state=2017)\n",
    "\n",
    "cv_scores = []\n",
    "#pred_full_test = 0 # array형태\n",
    "pred_train = np.zeros([train_df.shape[0], 3]) # (19579,3) \n",
    "\n",
    "# dev_index : 15663/15664, val_index : 3915/3916\n",
    "for dev_index, val_index in kf.split(train_X): # train_X : (19579 rows × 8 columns)인 df\n",
    "    dev_X, val_X = train_X.loc[dev_index], train_X.loc[val_index]\n",
    "    dev_y, val_y = train_y[dev_index], train_y[val_index]\n",
    "    \n",
    "    pred_val_y, pred_test_y, model = runXGB(dev_X, dev_y, val_X, val_y, test_X, seed_val=0)\n",
    "    \n",
    "    #pred_full_test = pred_full_test + pred_test_y # 8392인 array\n",
    "    pred_train[val_index,:] = pred_val_y # 3916인 array\n",
    "    cv_scores.append(metrics.log_loss(val_y, pred_val_y)) # (실제값, 예측값) 3916*5\n",
    "    break\n",
    "    \n",
    "print(\"cv scores : \", cv_scores)"
   ]
  },
  {
   "cell_type": "markdown",
   "metadata": {
    "_cell_guid": "ef5d6aa2-9d59-48e8-87ad-7ab254e0dc8a",
    "_uuid": "6ebaf270a27c8b07455498111bd0a8b2c11b6b16"
   },
   "source": [
    "메타 변수만 사용하여 '0.987'의 mlogloss를 얻고 있습니다. 나쁘지 않은 점수입니다. 이제 이러한 기능 중 어떤 것이 중요한지 살펴보겠습니다."
   ]
  },
  {
   "cell_type": "code",
   "execution_count": 15,
   "metadata": {
    "_cell_guid": "2856aa57-cce7-4f18-af56-a77ebd52eef7",
    "_uuid": "506938cebfedaad3e70d531e4cad554abe2a3c55"
   },
   "outputs": [
    {
     "data": {
      "image/png": "[encoded data removed]",
      "text/plain": [
       "<Figure size 864x864 with 1 Axes>"
      ]
     },
     "metadata": {
      "needs_background": "light"
     },
     "output_type": "display_data"
    }
   ],
   "source": [
    "### Plot the important variables ###\n",
    "fig, ax = plt.subplots(figsize=(12,12))\n",
    "xgb.plot_importance(model, max_num_features=50, height=0.8, ax=ax)\n",
    "plt.show()"
   ]
  },
  {
   "cell_type": "markdown",
   "metadata": {
    "_cell_guid": "739ce74e-af56-4fd6-a7b3-fe809f33bc54",
    "_uuid": "25225b8d3a5ed46ec90308478b3788760eb5ea1d"
   },
   "source": [
    "문자 수, 평균 단어 길이 및 고유 단어 수가 상위 3개 변수인 것으로 나타났습니다. 이제 몇 가지 텍스트 기반 변수를 만드는 데 집중해 보겠습니다.\n",
    "\n",
    "**텍스트 기반 변수 :**\n",
    "\n",
    "우리가 만들 수 있는 기본 기능 중 하나는 텍스트에 있는 단어의 tf-idf 값입니다. 그래서 우리는 그것으로 시작할 수 있습니다."
   ]
  },
  {
   "cell_type": "code",
   "execution_count": 29,
   "metadata": {
    "_cell_guid": "dd89dcab-b7a2-4b11-9564-ac8558f938e0",
    "_uuid": "41b4430c7e9699bd7f430c471009082bf7449928"
   },
   "outputs": [],
   "source": [
    "### Fit transform the tfidf vectorizer ###\n",
    "tfidf_vec = TfidfVectorizer(stop_words='english', ngram_range=(1,3))\n",
    "\n",
    "full_tfidf = tfidf_vec.fit_transform(train_df['text'].values.tolist() + test_df['text'].values.tolist())\n",
    "train_tfidf = tfidf_vec.transform(train_df['text'].values.tolist())\n",
    "test_tfidf = tfidf_vec.transform(test_df['text'].values.tolist())"
   ]
  },
  {
   "cell_type": "markdown",
   "metadata": {
    "_cell_guid": "fb46183a-43b6-4785-823a-f017a0821b78",
    "_uuid": "9c51efb2c3ff436baf8811a298b699b430b812bf"
   },
   "source": [
    "이제 tfidf 벡터를 얻었으므로 여기에 까다로운 부분이 있습니다. \n",
    "tfidf 출력은 희소 행렬이므로 다른 밀집변수와 함께 사용해야 하는 경우 몇 가지 선택 사항이 있습니다.\n",
    "\n",
    "1. 우리는 tfidf 벡터라이저에서 상위 'n' 변수(시스템 구성에 따라 다름)을 가져오도록 선택할 수 있으며, 이를 고밀도 형식으로 변환하고 다른 변수와 연결합니다.\n",
    "2. 희소 특성만을 사용하여 모델을 만든 다음 다른 밀집변수와 함께 변수 중 하나로 예측을 사용합니다.\n",
    "\n",
    "데이터 세트를 기반으로 하면 하나가 다른 것보다 더 잘 수행될 수 있습니다. \n",
    "여기에서는 tfidf의 모든 기능을 사용하는 매우 [좋은 점수 커널](https://www.kaggle.com/the1owl/python-tell-tale-tutorial)이 있으므로 두 번째 접근 방식을 사용할 수 있습니다.\n",
    "\n",
    "또한 이 데이터 세트에서 [Naive Bayes가 더 나은 성능을 보입니다](https://www.kaggle.com/thomasnelson/spooky-simple-naive-bayes-scores-0-399). \n",
    "따라서 훈련 속도가 더 빠르기 때문에 tfidf 기능을 사용하여 나이브베이즈 모델을 구축할 수 있습니다."
   ]
  },
  {
   "cell_type": "code",
   "execution_count": 30,
   "metadata": {
    "_cell_guid": "7ce26604-5935-41cd-85ac-33e499a186f1",
    "_uuid": "924a649ddf02867e7bd1e68d8cab33d3c36bb83e"
   },
   "outputs": [],
   "source": [
    "from sklearn.naive_bayes import MultinomialNB\n",
    "\n",
    "# runMNB(dev_X, dev_y, val_X, val_y, test_tfidf) # test_tfidf : 8392x550841\n",
    "def runMNB(train_X, train_y, test_X, test_y, test_X2):\n",
    "    model = MultinomialNB()\n",
    "    model.fit(train_X, train_y)\n",
    "    \n",
    "    pred_test_y = model.predict_proba(test_X)\n",
    "    pred_test_y2 = model.predict_proba(test_X2)\n",
    "    \n",
    "    return pred_test_y, pred_test_y2, model"
   ]
  },
  {
   "cell_type": "markdown",
   "metadata": {
    "_cell_guid": "a409c693-6d31-485d-b05f-d98008a1c185",
    "_uuid": "f3ef5dd66afde39552eaa8f59929b263b831b190"
   },
   "source": [
    "**Naive Bayes on Word Tfidf Vectorizer:**"
   ]
  },
  {
   "cell_type": "code",
   "execution_count": 34,
   "metadata": {},
   "outputs": [
    {
     "data": {
      "text/plain": [
       "<19579x550841 sparse matrix of type '<class 'numpy.float64'>'\n",
       "\twith 611707 stored elements in Compressed Sparse Row format>"
      ]
     },
     "execution_count": 34,
     "metadata": {},
     "output_type": "execute_result"
    }
   ],
   "source": [
    "train_tfidf"
   ]
  },
  {
   "cell_type": "code",
   "execution_count": 35,
   "metadata": {},
   "outputs": [
    {
     "data": {
      "text/plain": [
       "0        0\n",
       "1        1\n",
       "2        0\n",
       "3        2\n",
       "4        1\n",
       "        ..\n",
       "19574    0\n",
       "19575    0\n",
       "19576    0\n",
       "19577    0\n",
       "19578    1\n",
       "Name: author, Length: 19579, dtype: int64"
      ]
     },
     "execution_count": 35,
     "metadata": {},
     "output_type": "execute_result"
    }
   ],
   "source": [
    "train_y"
   ]
  },
  {
   "cell_type": "code",
   "execution_count": 36,
   "metadata": {},
   "outputs": [
    {
     "data": {
      "text/plain": [
       "0        0\n",
       "1        1\n",
       "2        0\n",
       "3        2\n",
       "4        1\n",
       "        ..\n",
       "19574    0\n",
       "19575    0\n",
       "19576    0\n",
       "19577    0\n",
       "19578    1\n",
       "Name: author, Length: 15664, dtype: int64"
      ]
     },
     "execution_count": 36,
     "metadata": {},
     "output_type": "execute_result"
    }
   ],
   "source": [
    "dev_y"
   ]
  },
  {
   "cell_type": "code",
   "execution_count": 37,
   "metadata": {},
   "outputs": [
    {
     "data": {
      "text/plain": [
       "5        2\n",
       "6        0\n",
       "9        2\n",
       "22       0\n",
       "24       0\n",
       "        ..\n",
       "19515    2\n",
       "19522    1\n",
       "19537    2\n",
       "19538    1\n",
       "19573    2\n",
       "Name: author, Length: 3915, dtype: int64"
      ]
     },
     "execution_count": 37,
     "metadata": {},
     "output_type": "execute_result"
    }
   ],
   "source": [
    "val_y"
   ]
  },
  {
   "cell_type": "code",
   "execution_count": 38,
   "metadata": {},
   "outputs": [
    {
     "data": {
      "text/plain": [
       "<8392x550841 sparse matrix of type '<class 'numpy.float64'>'\n",
       "\twith 258688 stored elements in Compressed Sparse Row format>"
      ]
     },
     "execution_count": 38,
     "metadata": {},
     "output_type": "execute_result"
    }
   ],
   "source": [
    "test_tfidf"
   ]
  },
  {
   "cell_type": "code",
   "execution_count": 39,
   "metadata": {},
   "outputs": [
    {
     "data": {
      "text/plain": [
       "array([[0.4144724 , 0.17076084, 0.41476676],\n",
       "       [0.51718498, 0.24926282, 0.2335522 ],\n",
       "       [0.39304418, 0.24555086, 0.36140496],\n",
       "       ...,\n",
       "       [0.37382573, 0.21526166, 0.41091261],\n",
       "       [0.42593811, 0.29615677, 0.27790512],\n",
       "       [0.31885599, 0.26637083, 0.41477318]])"
      ]
     },
     "execution_count": 39,
     "metadata": {},
     "output_type": "execute_result"
    }
   ],
   "source": [
    "pred_val_y"
   ]
  },
  {
   "cell_type": "code",
   "execution_count": 40,
   "metadata": {},
   "outputs": [
    {
     "data": {
      "text/plain": [
       "3915"
      ]
     },
     "execution_count": 40,
     "metadata": {},
     "output_type": "execute_result"
    }
   ],
   "source": [
    "len(pred_val_y)"
   ]
  },
  {
   "cell_type": "code",
   "execution_count": 41,
   "metadata": {},
   "outputs": [
    {
     "data": {
      "text/plain": [
       "8392"
      ]
     },
     "execution_count": 41,
     "metadata": {},
     "output_type": "execute_result"
    }
   ],
   "source": [
    "len(pred_test_y)"
   ]
  },
  {
   "cell_type": "code",
   "execution_count": 33,
   "metadata": {
    "_cell_guid": "61063815-507a-45f7-8866-5298da11e62d",
    "_uuid": "c0ed8394d5fbcfb833efa2836509583a2ec79de1"
   },
   "outputs": [
    {
     "name": "stdout",
     "output_type": "stream",
     "text": [
      "Mean cv score :  0.8422161983612855\n"
     ]
    }
   ],
   "source": [
    "from sklearn.model_selection import KFold\n",
    "\n",
    "kf = KFold(n_splits=5, shuffle=True, random_state=2017)\n",
    "cv_scores = []\n",
    "pred_full_test = 0\n",
    "pred_train = np.zeros([train_df.shape[0], 3])\n",
    "\n",
    "for dev_index, val_index in kf.split(train_X):\n",
    "    dev_X, val_X = train_tfidf[dev_index], train_tfidf[val_index] # 15664x550841, 3915x550841\n",
    "    dev_y, val_y = train_y[dev_index], train_y[val_index] # 15664, 3915\n",
    "    pred_val_y, pred_test_y, model = runMNB(dev_X, dev_y, val_X, val_y, test_tfidf) # 3915,8392,model // test_tfidf : 8392x550841\n",
    "    \n",
    "    pred_full_test = pred_full_test + pred_test_y # 8392\n",
    "    pred_train[val_index,:] = pred_val_y #3915\n",
    "    cv_scores.append(metrics.log_loss(val_y, pred_val_y)) # (실제값, 예측값) # 3915*5\n",
    "    \n",
    "print(\"Mean cv score : \", np.mean(cv_scores))\n",
    "pred_full_test = pred_full_test / 5."
   ]
  },
  {
   "cell_type": "markdown",
   "metadata": {
    "_cell_guid": "e40f18ae-9db6-43dd-a010-27a34b1aa33f",
    "_uuid": "1f6da22535edd4c6faf256836f925bb18d18aba0"
   },
   "source": [
    "우리는 tfidf vectorizer를 사용하여 0.844의 mlogloss를 얻고 있습니다. 메타 변수보다 훨씬 좋습니다. 혼동 행렬을 살펴보겠습니다.\n",
    "\n",
    "메타변수 생성 -> xgb\n",
    "\n",
    "TfidfVectorizer -> MultinomialNB\n"
   ]
  },
  {
   "cell_type": "code",
   "execution_count": 47,
   "metadata": {
    "_cell_guid": "586f6708-8cc1-4422-90dd-6e4bef3cf2c0",
    "_kg_hide-input": true,
    "_uuid": "2bd4a5be4f492f1eb75836a7fbaed8c4374701cf"
   },
   "outputs": [],
   "source": [
    "### Function to create confusion matrix ###\n",
    "import itertools\n",
    "from sklearn.metrics import confusion_matrix\n",
    "\n",
    "### From http://scikit-learn.org/stable/auto_examples/model_selection/plot_confusion_matrix.html#sphx-glr-auto-examples-model-selection-plot-confusion-matrix-py #\n",
    "# plot_confusion_matrix(cnf_matrix, classes=['EAP', 'HPL', 'MWS'], title='Confusion matrix, without normalization')\n",
    "def plot_confusion_matrix(cm, classes, normalize=False, title='Confusion matrix', cmap=plt.cm.Blues):\n",
    "    \"\"\"\n",
    "    This function prints and plots the confusion matrix.\n",
    "    Normalization can be applied by setting `normalize=True`.\n",
    "    \"\"\"\n",
    "    # 정규화\n",
    "    if normalize:\n",
    "        cm = cm.astype('float') / cm.sum(axis=1)[:, np.newaxis] # 차원늘리기\n",
    "\n",
    "    plt.imshow(cm, interpolation='nearest', cmap=cmap)\n",
    "    plt.title(title)\n",
    "    plt.colorbar()\n",
    "    tick_marks = np.arange(len(classes))\n",
    "    plt.xticks(tick_marks, classes, rotation=45)\n",
    "    plt.yticks(tick_marks, classes)\n",
    "\n",
    "    # 각 구역에 값넣기\n",
    "    fmt = '.2f' if normalize else 'd'\n",
    "    thresh = cm.max() / 2.\n",
    "    for i, j in itertools.product(range(cm.shape[0]), range(cm.shape[1])):\n",
    "        plt.text(j, i, format(cm[i, j], fmt),\n",
    "                 horizontalalignment=\"center\",\n",
    "                 color=\"white\" if cm[i, j] > thresh else \"black\")\n",
    "\n",
    "    plt.tight_layout()\n",
    "    plt.ylabel('True label')\n",
    "    plt.xlabel('Predicted label')"
   ]
  },
  {
   "cell_type": "code",
   "execution_count": 45,
   "metadata": {},
   "outputs": [
    {
     "data": {
      "text/plain": [
       "array([[0.4144724 , 0.17076084, 0.41476676],\n",
       "       [0.51718498, 0.24926282, 0.2335522 ],\n",
       "       [0.39304418, 0.24555086, 0.36140496],\n",
       "       ...,\n",
       "       [0.37382573, 0.21526166, 0.41091261],\n",
       "       [0.42593811, 0.29615677, 0.27790512],\n",
       "       [0.31885599, 0.26637083, 0.41477318]])"
      ]
     },
     "execution_count": 45,
     "metadata": {},
     "output_type": "execute_result"
    }
   ],
   "source": [
    "pred_val_y # (3915, 3)"
   ]
  },
  {
   "cell_type": "code",
   "execution_count": 42,
   "metadata": {},
   "outputs": [
    {
     "data": {
      "text/plain": [
       "array([2, 0, 0, ..., 2, 0, 2], dtype=int64)"
      ]
     },
     "execution_count": 42,
     "metadata": {},
     "output_type": "execute_result"
    }
   ],
   "source": [
    "np.argmax(pred_val_y, axis=1)"
   ]
  },
  {
   "cell_type": "code",
   "execution_count": 49,
   "metadata": {},
   "outputs": [
    {
     "data": {
      "text/plain": [
       "array([[1531,   17,   47],\n",
       "       [ 554,  500,   44],\n",
       "       [ 487,   11,  724]], dtype=int64)"
      ]
     },
     "execution_count": 49,
     "metadata": {},
     "output_type": "execute_result"
    }
   ],
   "source": [
    "cnf_matrix"
   ]
  },
  {
   "cell_type": "code",
   "execution_count": 50,
   "metadata": {},
   "outputs": [
    {
     "data": {
      "text/plain": [
       "array([[1595],\n",
       "       [1098],\n",
       "       [1222]], dtype=int64)"
      ]
     },
     "execution_count": 50,
     "metadata": {},
     "output_type": "execute_result"
    }
   ],
   "source": [
    "cnf_matrix.sum(axis=1)[:, np.newaxis]"
   ]
  },
  {
   "cell_type": "code",
   "execution_count": 48,
   "metadata": {
    "_cell_guid": "800547fa-c070-4bdf-ad1a-1f97e7db3fdf",
    "_kg_hide-input": true,
    "_uuid": "b0792565a816242c8e29a242264c5e77ec90a7eb"
   },
   "outputs": [
    {
     "data": {
      "image/png": "[encoded data removed]",
      "text/plain": [
       "<Figure size 576x576 with 2 Axes>"
      ]
     },
     "metadata": {
      "needs_background": "light"
     },
     "output_type": "display_data"
    }
   ],
   "source": [
    "cnf_matrix = confusion_matrix(val_y, np.argmax(pred_val_y, axis=1))\n",
    "np.set_printoptions(precision=2)\n",
    "\n",
    "# Plot non-normalized confusion matrix\n",
    "plt.figure(figsize=(8,8))\n",
    "plot_confusion_matrix(cnf_matrix, classes=['EAP', 'HPL', 'MWS'],\n",
    "                      title='Confusion matrix, without normalization')\n",
    "plt.show()"
   ]
  },
  {
   "cell_type": "markdown",
   "metadata": {
    "_cell_guid": "404695a0-c33b-4cba-9dd1-bf2a5e8c12fc",
    "_uuid": "e16c6d867d6bf1bb4e2661cc28841c672091fe0a"
   },
   "source": [
    "많은 인스턴스가 EAP로 예측되고 해당 클래스에 크게 치우쳐 있습니다.\n",
    "\n",
    "**단어 TFIDF의 SVD:**\n",
    "\n",
    "tfidf 벡터는 희소하기 때문에 정보를 압축하고 훨씬 간결하게 표현하는 또 다른 방법은 SVD를 사용하는 것입니다. 또한 일반적으로 SVD 기능은 과거 텍스트 기반 대회에서 저에게 잘 수행되었습니다. 그래서 우리는 tfidf라는 단어에 svd 기능을 만들어 기능 세트에 추가할 수 있었습니다."
   ]
  },
  {
   "cell_type": "code",
   "execution_count": 51,
   "metadata": {
    "_cell_guid": "94d49082-2834-4633-8420-10f12f1b16eb",
    "_uuid": "95a7ae438276387fa9f2c4a2b25ee29f9b1f7d2d"
   },
   "outputs": [],
   "source": [
    "n_comp = 20\n",
    "svd_obj = TruncatedSVD(n_components=n_comp, algorithm='arpack')\n",
    "svd_obj.fit(full_tfidf)\n",
    "train_svd = pd.DataFrame(svd_obj.transform(train_tfidf))\n",
    "test_svd = pd.DataFrame(svd_obj.transform(test_tfidf))\n",
    "    \n",
    "train_svd.columns = ['svd_word_'+str(i) for i in range(n_comp)]\n",
    "test_svd.columns = ['svd_word_'+str(i) for i in range(n_comp)]\n",
    "train_df = pd.concat([train_df, train_svd], axis=1)\n",
    "test_df = pd.concat([test_df, test_svd], axis=1)\n",
    "del full_tfidf, train_tfidf, test_tfidf, train_svd, test_svd"
   ]
  },
  {
   "cell_type": "markdown",
   "metadata": {
    "_cell_guid": "77309c44-f947-46f4-814c-7d7a01768293",
    "_uuid": "468ef624b3f6d752737b9c112ae6f0592a929da2"
   },
   "source": [
    "**Naive Bayes on Word Count Vectorizer:**"
   ]
  },
  {
   "cell_type": "code",
   "execution_count": 52,
   "metadata": {
    "_cell_guid": "92ab9f7c-8c2c-4233-a6dc-eaa12ca7d144",
    "_uuid": "9cd43c20764c81a3216b8371c477ae5552e24c7d"
   },
   "outputs": [],
   "source": [
    "### Fit transform the count vectorizer ###\n",
    "tfidf_vec = CountVectorizer(stop_words='english', ngram_range=(1,3))\n",
    "\n",
    "tfidf_vec.fit(train_df['text'].values.tolist() + test_df['text'].values.tolist())\n",
    "train_tfidf = tfidf_vec.transform(train_df['text'].values.tolist())\n",
    "test_tfidf = tfidf_vec.transform(test_df['text'].values.tolist())"
   ]
  },
  {
   "cell_type": "markdown",
   "metadata": {
    "_cell_guid": "48d68a84-6c6d-40b3-9069-d4c324355fc6",
    "_uuid": "2e05fb42bcd850e74c767961f58400b0dac463ec"
   },
   "source": [
    "이제 count vectorizer 기반 기능을 사용하여 다항식 NB 모델을 구축해 보겠습니다."
   ]
  },
  {
   "cell_type": "code",
   "execution_count": 53,
   "metadata": {
    "_cell_guid": "b7927348-b6b1-4960-b76c-ebf14fae37f0",
    "_uuid": "4f9354473820d59076bf991b5110fc4dd309c204"
   },
   "outputs": [
    {
     "name": "stdout",
     "output_type": "stream",
     "text": [
      "Mean cv score :  0.45091841616567435\n"
     ]
    }
   ],
   "source": [
    "kf = KFold(n_splits=5, shuffle=True, random_state=2017)\n",
    "cv_scores = []\n",
    "pred_full_test = 0\n",
    "pred_train = np.zeros([train_df.shape[0], 3])\n",
    "\n",
    "for dev_index, val_index in kf.split(train_X):\n",
    "    dev_X, val_X = train_tfidf[dev_index], train_tfidf[val_index]\n",
    "    dev_y, val_y = train_y[dev_index], train_y[val_index]\n",
    "    \n",
    "    pred_val_y, pred_test_y, model = runMNB(dev_X, dev_y, val_X, val_y, test_tfidf)\n",
    "    \n",
    "    pred_full_test = pred_full_test + pred_test_y\n",
    "    pred_train[val_index,:] = pred_val_y\n",
    "    cv_scores.append(metrics.log_loss(val_y, pred_val_y))\n",
    "    \n",
    "print(\"Mean cv score : \", np.mean(cv_scores))\n",
    "pred_full_test = pred_full_test / 5.\n",
    "\n",
    "# add the predictions as new features #\n",
    "train_df[\"nb_cvec_eap\"] = pred_train[:,0]\n",
    "train_df[\"nb_cvec_hpl\"] = pred_train[:,1]\n",
    "train_df[\"nb_cvec_mws\"] = pred_train[:,2]\n",
    "test_df[\"nb_cvec_eap\"] = pred_full_test[:,0]\n",
    "test_df[\"nb_cvec_hpl\"] = pred_full_test[:,1]\n",
    "test_df[\"nb_cvec_mws\"] = pred_full_test[:,2]"
   ]
  },
  {
   "cell_type": "code",
   "execution_count": 54,
   "metadata": {},
   "outputs": [
    {
     "data": {
      "text/html": [
       "<div>\n",
       "<style scoped>\n",
       "    .dataframe tbody tr th:only-of-type {\n",
       "        vertical-align: middle;\n",
       "    }\n",
       "\n",
       "    .dataframe tbody tr th {\n",
       "        vertical-align: top;\n",
       "    }\n",
       "\n",
       "    .dataframe thead th {\n",
       "        text-align: right;\n",
       "    }\n",
       "</style>\n",
       "<table border=\"1\" class=\"dataframe\">\n",
       "  <thead>\n",
       "    <tr style=\"text-align: right;\">\n",
       "      <th></th>\n",
       "      <th>id</th>\n",
       "      <th>text</th>\n",
       "      <th>num_words</th>\n",
       "      <th>num_unique_words</th>\n",
       "      <th>num_chars</th>\n",
       "      <th>num_stopwords</th>\n",
       "      <th>num_punctuations</th>\n",
       "      <th>num_words_upper</th>\n",
       "      <th>num_words_title</th>\n",
       "      <th>mean_word_len</th>\n",
       "      <th>...</th>\n",
       "      <th>svd_word_13</th>\n",
       "      <th>svd_word_14</th>\n",
       "      <th>svd_word_15</th>\n",
       "      <th>svd_word_16</th>\n",
       "      <th>svd_word_17</th>\n",
       "      <th>svd_word_18</th>\n",
       "      <th>svd_word_19</th>\n",
       "      <th>nb_cvec_eap</th>\n",
       "      <th>nb_cvec_hpl</th>\n",
       "      <th>nb_cvec_mws</th>\n",
       "    </tr>\n",
       "  </thead>\n",
       "  <tbody>\n",
       "    <tr>\n",
       "      <th>0</th>\n",
       "      <td>id02310</td>\n",
       "      <td>Still, as I urged our leaving Ireland with suc...</td>\n",
       "      <td>19</td>\n",
       "      <td>19</td>\n",
       "      <td>110</td>\n",
       "      <td>9</td>\n",
       "      <td>3</td>\n",
       "      <td>1</td>\n",
       "      <td>3</td>\n",
       "      <td>4.842105</td>\n",
       "      <td>...</td>\n",
       "      <td>-0.011837</td>\n",
       "      <td>0.036064</td>\n",
       "      <td>-0.016591</td>\n",
       "      <td>-0.025580</td>\n",
       "      <td>-0.018785</td>\n",
       "      <td>0.031289</td>\n",
       "      <td>-0.047220</td>\n",
       "      <td>0.021018</td>\n",
       "      <td>0.000595</td>\n",
       "      <td>0.978387</td>\n",
       "    </tr>\n",
       "    <tr>\n",
       "      <th>1</th>\n",
       "      <td>id24541</td>\n",
       "      <td>If a fire wanted fanning, it could readily be ...</td>\n",
       "      <td>62</td>\n",
       "      <td>49</td>\n",
       "      <td>330</td>\n",
       "      <td>33</td>\n",
       "      <td>7</td>\n",
       "      <td>1</td>\n",
       "      <td>3</td>\n",
       "      <td>4.338710</td>\n",
       "      <td>...</td>\n",
       "      <td>-0.004397</td>\n",
       "      <td>-0.000020</td>\n",
       "      <td>-0.008583</td>\n",
       "      <td>0.006335</td>\n",
       "      <td>-0.004216</td>\n",
       "      <td>0.001810</td>\n",
       "      <td>0.001767</td>\n",
       "      <td>0.999985</td>\n",
       "      <td>0.000009</td>\n",
       "      <td>0.000006</td>\n",
       "    </tr>\n",
       "    <tr>\n",
       "      <th>2</th>\n",
       "      <td>id00134</td>\n",
       "      <td>And when they had broken down the frail door t...</td>\n",
       "      <td>33</td>\n",
       "      <td>30</td>\n",
       "      <td>189</td>\n",
       "      <td>15</td>\n",
       "      <td>3</td>\n",
       "      <td>0</td>\n",
       "      <td>1</td>\n",
       "      <td>4.757576</td>\n",
       "      <td>...</td>\n",
       "      <td>0.006063</td>\n",
       "      <td>-0.003324</td>\n",
       "      <td>-0.009452</td>\n",
       "      <td>0.013239</td>\n",
       "      <td>0.004852</td>\n",
       "      <td>-0.007478</td>\n",
       "      <td>0.002786</td>\n",
       "      <td>0.217325</td>\n",
       "      <td>0.782527</td>\n",
       "      <td>0.000148</td>\n",
       "    </tr>\n",
       "    <tr>\n",
       "      <th>3</th>\n",
       "      <td>id27757</td>\n",
       "      <td>While I was thinking how I should possibly man...</td>\n",
       "      <td>41</td>\n",
       "      <td>34</td>\n",
       "      <td>223</td>\n",
       "      <td>19</td>\n",
       "      <td>5</td>\n",
       "      <td>2</td>\n",
       "      <td>3</td>\n",
       "      <td>4.463415</td>\n",
       "      <td>...</td>\n",
       "      <td>0.004783</td>\n",
       "      <td>-0.006865</td>\n",
       "      <td>-0.007960</td>\n",
       "      <td>0.006763</td>\n",
       "      <td>0.002540</td>\n",
       "      <td>-0.004558</td>\n",
       "      <td>-0.000728</td>\n",
       "      <td>0.753591</td>\n",
       "      <td>0.246408</td>\n",
       "      <td>0.000001</td>\n",
       "    </tr>\n",
       "    <tr>\n",
       "      <th>4</th>\n",
       "      <td>id04081</td>\n",
       "      <td>I am not sure to what limit his knowledge may ...</td>\n",
       "      <td>11</td>\n",
       "      <td>11</td>\n",
       "      <td>53</td>\n",
       "      <td>6</td>\n",
       "      <td>1</td>\n",
       "      <td>1</td>\n",
       "      <td>1</td>\n",
       "      <td>3.909091</td>\n",
       "      <td>...</td>\n",
       "      <td>-0.001825</td>\n",
       "      <td>0.000123</td>\n",
       "      <td>-0.006504</td>\n",
       "      <td>0.002533</td>\n",
       "      <td>-0.004004</td>\n",
       "      <td>-0.002902</td>\n",
       "      <td>0.000315</td>\n",
       "      <td>0.970950</td>\n",
       "      <td>0.021824</td>\n",
       "      <td>0.007226</td>\n",
       "    </tr>\n",
       "    <tr>\n",
       "      <th>...</th>\n",
       "      <td>...</td>\n",
       "      <td>...</td>\n",
       "      <td>...</td>\n",
       "      <td>...</td>\n",
       "      <td>...</td>\n",
       "      <td>...</td>\n",
       "      <td>...</td>\n",
       "      <td>...</td>\n",
       "      <td>...</td>\n",
       "      <td>...</td>\n",
       "      <td>...</td>\n",
       "      <td>...</td>\n",
       "      <td>...</td>\n",
       "      <td>...</td>\n",
       "      <td>...</td>\n",
       "      <td>...</td>\n",
       "      <td>...</td>\n",
       "      <td>...</td>\n",
       "      <td>...</td>\n",
       "      <td>...</td>\n",
       "      <td>...</td>\n",
       "    </tr>\n",
       "    <tr>\n",
       "      <th>8387</th>\n",
       "      <td>id11749</td>\n",
       "      <td>All this is now the fitter for my purpose.</td>\n",
       "      <td>9</td>\n",
       "      <td>9</td>\n",
       "      <td>42</td>\n",
       "      <td>7</td>\n",
       "      <td>1</td>\n",
       "      <td>0</td>\n",
       "      <td>1</td>\n",
       "      <td>3.777778</td>\n",
       "      <td>...</td>\n",
       "      <td>0.000610</td>\n",
       "      <td>-0.001496</td>\n",
       "      <td>0.001063</td>\n",
       "      <td>-0.001688</td>\n",
       "      <td>-0.005155</td>\n",
       "      <td>-0.003901</td>\n",
       "      <td>0.001965</td>\n",
       "      <td>0.565949</td>\n",
       "      <td>0.106068</td>\n",
       "      <td>0.327983</td>\n",
       "    </tr>\n",
       "    <tr>\n",
       "      <th>8388</th>\n",
       "      <td>id10526</td>\n",
       "      <td>I fixed myself on a wide solitude.</td>\n",
       "      <td>7</td>\n",
       "      <td>7</td>\n",
       "      <td>34</td>\n",
       "      <td>4</td>\n",
       "      <td>1</td>\n",
       "      <td>1</td>\n",
       "      <td>1</td>\n",
       "      <td>4.000000</td>\n",
       "      <td>...</td>\n",
       "      <td>-0.005626</td>\n",
       "      <td>-0.006015</td>\n",
       "      <td>-0.008673</td>\n",
       "      <td>0.005675</td>\n",
       "      <td>0.004995</td>\n",
       "      <td>-0.004539</td>\n",
       "      <td>-0.000283</td>\n",
       "      <td>0.031598</td>\n",
       "      <td>0.033443</td>\n",
       "      <td>0.934959</td>\n",
       "    </tr>\n",
       "    <tr>\n",
       "      <th>8389</th>\n",
       "      <td>id13477</td>\n",
       "      <td>It is easily understood that what might improv...</td>\n",
       "      <td>25</td>\n",
       "      <td>24</td>\n",
       "      <td>150</td>\n",
       "      <td>11</td>\n",
       "      <td>2</td>\n",
       "      <td>0</td>\n",
       "      <td>1</td>\n",
       "      <td>5.040000</td>\n",
       "      <td>...</td>\n",
       "      <td>-0.006167</td>\n",
       "      <td>0.000023</td>\n",
       "      <td>-0.012848</td>\n",
       "      <td>0.006857</td>\n",
       "      <td>-0.005566</td>\n",
       "      <td>0.006634</td>\n",
       "      <td>0.011775</td>\n",
       "      <td>0.999709</td>\n",
       "      <td>0.000120</td>\n",
       "      <td>0.000171</td>\n",
       "    </tr>\n",
       "    <tr>\n",
       "      <th>8390</th>\n",
       "      <td>id13761</td>\n",
       "      <td>Be this as it may, I now began to feel the ins...</td>\n",
       "      <td>38</td>\n",
       "      <td>34</td>\n",
       "      <td>197</td>\n",
       "      <td>21</td>\n",
       "      <td>3</td>\n",
       "      <td>2</td>\n",
       "      <td>3</td>\n",
       "      <td>4.210526</td>\n",
       "      <td>...</td>\n",
       "      <td>-0.010635</td>\n",
       "      <td>-0.001895</td>\n",
       "      <td>-0.004086</td>\n",
       "      <td>-0.001623</td>\n",
       "      <td>-0.002973</td>\n",
       "      <td>-0.007277</td>\n",
       "      <td>0.004486</td>\n",
       "      <td>0.000689</td>\n",
       "      <td>0.000005</td>\n",
       "      <td>0.999307</td>\n",
       "    </tr>\n",
       "    <tr>\n",
       "      <th>8391</th>\n",
       "      <td>id04282</td>\n",
       "      <td>Long winded, statistical, and drearily genealo...</td>\n",
       "      <td>38</td>\n",
       "      <td>33</td>\n",
       "      <td>247</td>\n",
       "      <td>18</td>\n",
       "      <td>5</td>\n",
       "      <td>0</td>\n",
       "      <td>1</td>\n",
       "      <td>5.526316</td>\n",
       "      <td>...</td>\n",
       "      <td>-0.003923</td>\n",
       "      <td>-0.006325</td>\n",
       "      <td>-0.006186</td>\n",
       "      <td>-0.007940</td>\n",
       "      <td>0.009861</td>\n",
       "      <td>0.017919</td>\n",
       "      <td>-0.013286</td>\n",
       "      <td>0.024705</td>\n",
       "      <td>0.975287</td>\n",
       "      <td>0.000008</td>\n",
       "    </tr>\n",
       "  </tbody>\n",
       "</table>\n",
       "<p>8392 rows × 33 columns</p>\n",
       "</div>"
      ],
      "text/plain": [
       "           id                                               text  num_words  \\\n",
       "0     id02310  Still, as I urged our leaving Ireland with suc...         19   \n",
       "1     id24541  If a fire wanted fanning, it could readily be ...         62   \n",
       "2     id00134  And when they had broken down the frail door t...         33   \n",
       "3     id27757  While I was thinking how I should possibly man...         41   \n",
       "4     id04081  I am not sure to what limit his knowledge may ...         11   \n",
       "...       ...                                                ...        ...   \n",
       "8387  id11749         All this is now the fitter for my purpose.          9   \n",
       "8388  id10526                 I fixed myself on a wide solitude.          7   \n",
       "8389  id13477  It is easily understood that what might improv...         25   \n",
       "8390  id13761  Be this as it may, I now began to feel the ins...         38   \n",
       "8391  id04282  Long winded, statistical, and drearily genealo...         38   \n",
       "\n",
       "      num_unique_words  num_chars  num_stopwords  num_punctuations  \\\n",
       "0                   19        110              9                 3   \n",
       "1                   49        330             33                 7   \n",
       "2                   30        189             15                 3   \n",
       "3                   34        223             19                 5   \n",
       "4                   11         53              6                 1   \n",
       "...                ...        ...            ...               ...   \n",
       "8387                 9         42              7                 1   \n",
       "8388                 7         34              4                 1   \n",
       "8389                24        150             11                 2   \n",
       "8390                34        197             21                 3   \n",
       "8391                33        247             18                 5   \n",
       "\n",
       "      num_words_upper  num_words_title  mean_word_len  ...  svd_word_13  \\\n",
       "0                   1                3       4.842105  ...    -0.011837   \n",
       "1                   1                3       4.338710  ...    -0.004397   \n",
       "2                   0                1       4.757576  ...     0.006063   \n",
       "3                   2                3       4.463415  ...     0.004783   \n",
       "4                   1                1       3.909091  ...    -0.001825   \n",
       "...               ...              ...            ...  ...          ...   \n",
       "8387                0                1       3.777778  ...     0.000610   \n",
       "8388                1                1       4.000000  ...    -0.005626   \n",
       "8389                0                1       5.040000  ...    -0.006167   \n",
       "8390                2                3       4.210526  ...    -0.010635   \n",
       "8391                0                1       5.526316  ...    -0.003923   \n",
       "\n",
       "      svd_word_14  svd_word_15  svd_word_16  svd_word_17  svd_word_18  \\\n",
       "0        0.036064    -0.016591    -0.025580    -0.018785     0.031289   \n",
       "1       -0.000020    -0.008583     0.006335    -0.004216     0.001810   \n",
       "2       -0.003324    -0.009452     0.013239     0.004852    -0.007478   \n",
       "3       -0.006865    -0.007960     0.006763     0.002540    -0.004558   \n",
       "4        0.000123    -0.006504     0.002533    -0.004004    -0.002902   \n",
       "...           ...          ...          ...          ...          ...   \n",
       "8387    -0.001496     0.001063    -0.001688    -0.005155    -0.003901   \n",
       "8388    -0.006015    -0.008673     0.005675     0.004995    -0.004539   \n",
       "8389     0.000023    -0.012848     0.006857    -0.005566     0.006634   \n",
       "8390    -0.001895    -0.004086    -0.001623    -0.002973    -0.007277   \n",
       "8391    -0.006325    -0.006186    -0.007940     0.009861     0.017919   \n",
       "\n",
       "      svd_word_19  nb_cvec_eap  nb_cvec_hpl  nb_cvec_mws  \n",
       "0       -0.047220     0.021018     0.000595     0.978387  \n",
       "1        0.001767     0.999985     0.000009     0.000006  \n",
       "2        0.002786     0.217325     0.782527     0.000148  \n",
       "3       -0.000728     0.753591     0.246408     0.000001  \n",
       "4        0.000315     0.970950     0.021824     0.007226  \n",
       "...           ...          ...          ...          ...  \n",
       "8387     0.001965     0.565949     0.106068     0.327983  \n",
       "8388    -0.000283     0.031598     0.033443     0.934959  \n",
       "8389     0.011775     0.999709     0.000120     0.000171  \n",
       "8390     0.004486     0.000689     0.000005     0.999307  \n",
       "8391    -0.013286     0.024705     0.975287     0.000008  \n",
       "\n",
       "[8392 rows x 33 columns]"
      ]
     },
     "execution_count": 54,
     "metadata": {},
     "output_type": "execute_result"
    }
   ],
   "source": [
    "test_df"
   ]
  },
  {
   "cell_type": "code",
   "execution_count": 55,
   "metadata": {
    "_cell_guid": "5d412e2f-8988-4895-9434-33df93c263db",
    "_kg_hide-input": true,
    "_uuid": "75658bb392011311ffefbfc562483ac5e11a0cab"
   },
   "outputs": [
    {
     "data": {
      "image/png": "[encoded data removed]",
      "text/plain": [
       "<Figure size 576x576 with 2 Axes>"
      ]
     },
     "metadata": {
      "needs_background": "light"
     },
     "output_type": "display_data"
    }
   ],
   "source": [
    "cnf_matrix = confusion_matrix(val_y, np.argmax(pred_val_y,axis=1))\n",
    "np.set_printoptions(precision=2)\n",
    "\n",
    "# Plot non-normalized confusion matrix\n",
    "plt.figure(figsize=(8,8))\n",
    "plot_confusion_matrix(cnf_matrix, classes=['EAP', 'HPL', 'MWS'],\n",
    "                      title='Confusion matrix of NB on word count, without normalization')\n",
    "plt.show()"
   ]
  },
  {
   "cell_type": "markdown",
   "metadata": {
    "_cell_guid": "5a5d31ea-278c-432a-9840-ca9209410ff7",
    "_uuid": "fb099e48fde5f3960bc2409d323749e855b2e269"
   },
   "source": [
    "우와. tfidf vectorizer 대신 count vectorizer를 사용하여 0.451의 교차 검증 mlogloss를 얻었습니다. 이 모델을 사용한 LB 점수는 0.468입니다. 또한 혼동 행렬은 이전 것보다 훨씬 좋아 보입니다.\n",
    "\n",
    "** Character Count Vectorizer의 Naive Bayes:**\n",
    "\n",
    "\"데이터 아이볼링\"의 한 가지 아이디어는 특수 문자를 계산하는 것이 도움이 될 수 있다는 것입니다. 특수 문자를 계산하는 대신 문자 수준에서 count vectorizer를 사용하여 일부 기능을 얻을 수 있습니다. 다시 다항식 NB를 실행할 수 있습니다."
   ]
  },
  {
   "cell_type": "code",
   "execution_count": 56,
   "metadata": {
    "_cell_guid": "aed10880-e717-4a04-85b9-a77f8f58aee9",
    "_uuid": "d26ba4563285c10418479465e10de172f527f2a5"
   },
   "outputs": [
    {
     "name": "stdout",
     "output_type": "stream",
     "text": [
      "Mean cv score :  3.7507639226818825\n"
     ]
    }
   ],
   "source": [
    "### Fit transform the tfidf vectorizer ###\n",
    "tfidf_vec = CountVectorizer(ngram_range=(1,7), analyzer='char')\n",
    "\n",
    "tfidf_vec.fit(train_df['text'].values.tolist() + test_df['text'].values.tolist())\n",
    "train_tfidf = tfidf_vec.transform(train_df['text'].values.tolist())\n",
    "test_tfidf = tfidf_vec.transform(test_df['text'].values.tolist())\n",
    "\n",
    "kf = KFold(n_splits=5, shuffle=True, random_state=2017)\n",
    "cv_scores = []\n",
    "pred_full_test = 0\n",
    "pred_train = np.zeros([train_df.shape[0], 3])\n",
    "\n",
    "for dev_index, val_index in kf.split(train_X):\n",
    "    dev_X, val_X = train_tfidf[dev_index], train_tfidf[val_index]\n",
    "    dev_y, val_y = train_y[dev_index], train_y[val_index]\n",
    "\n",
    "    pred_val_y, pred_test_y, model = runMNB(dev_X, dev_y, val_X, val_y, test_tfidf)\n",
    "    \n",
    "    pred_full_test = pred_full_test + pred_test_y\n",
    "    pred_train[val_index,:] = pred_val_y\n",
    "    cv_scores.append(metrics.log_loss(val_y, pred_val_y))\n",
    "    \n",
    "print(\"Mean cv score : \", np.mean(cv_scores))\n",
    "pred_full_test = pred_full_test / 5.\n",
    "\n",
    "# add the predictions as new features #\n",
    "train_df[\"nb_cvec_char_eap\"] = pred_train[:,0]\n",
    "train_df[\"nb_cvec_char_hpl\"] = pred_train[:,1]\n",
    "train_df[\"nb_cvec_char_mws\"] = pred_train[:,2]\n",
    "test_df[\"nb_cvec_char_eap\"] = pred_full_test[:,0]\n",
    "test_df[\"nb_cvec_char_hpl\"] = pred_full_test[:,1]\n",
    "test_df[\"nb_cvec_char_mws\"] = pred_full_test[:,2]"
   ]
  },
  {
   "cell_type": "markdown",
   "metadata": {
    "_cell_guid": "55e95b9a-807b-4e99-bf95-069a11e07a64",
    "_uuid": "227e565a4a8a6aa04dcfb648688bf0deb0853910"
   },
   "source": [
    "교차검증점수는 매우 높고 3.75입니다. \n",
    "그러나 이것은 단어 수준 변수와 다른 정보를 추가할 수 있으므로 최종 모델에도 사용하겠습니다.\n",
    "\n",
    "**Character Tfidf Vectorizer의 Naive Bayes:**\n",
    "\n",
    "또한 문자 tfidf 벡터라이저에 대한 나이브 베이즈 예측을 얻도록 합시다."
   ]
  },
  {
   "cell_type": "code",
   "execution_count": 57,
   "metadata": {
    "_cell_guid": "a15097b8-f9c7-4b3b-815e-a8f4a5f2558e",
    "_uuid": "bfeaa62ae81e2af3fdb595422f08f560506c1f42"
   },
   "outputs": [
    {
     "name": "stdout",
     "output_type": "stream",
     "text": [
      "Mean cv score :  0.790415258947421\n"
     ]
    }
   ],
   "source": [
    "### Fit transform the tfidf vectorizer ###\n",
    "tfidf_vec = TfidfVectorizer(ngram_range=(1,5), analyzer='char')\n",
    "\n",
    "full_tfidf = tfidf_vec.fit_transform(train_df['text'].values.tolist() + test_df['text'].values.tolist())\n",
    "train_tfidf = tfidf_vec.transform(train_df['text'].values.tolist())\n",
    "test_tfidf = tfidf_vec.transform(test_df['text'].values.tolist())\n",
    "\n",
    "kf = KFold(n_splits=5, shuffle=True, random_state=2017)\n",
    "cv_scores = []\n",
    "pred_full_test = 0\n",
    "pred_train = np.zeros([train_df.shape[0], 3])\n",
    "\n",
    "for dev_index, val_index in kf.split(train_X):\n",
    "    dev_X, val_X = train_tfidf[dev_index], train_tfidf[val_index]\n",
    "    dev_y, val_y = train_y[dev_index], train_y[val_index]\n",
    "\n",
    "    pred_val_y, pred_test_y, model = runMNB(dev_X, dev_y, val_X, val_y, test_tfidf)\n",
    "    \n",
    "    pred_full_test = pred_full_test + pred_test_y\n",
    "    pred_train[val_index,:] = pred_val_y\n",
    "    cv_scores.append(metrics.log_loss(val_y, pred_val_y))\n",
    "print(\"Mean cv score : \", np.mean(cv_scores))\n",
    "pred_full_test = pred_full_test / 5.\n",
    "\n",
    "# add the predictions as new features #\n",
    "train_df[\"nb_tfidf_char_eap\"] = pred_train[:,0]\n",
    "train_df[\"nb_tfidf_char_hpl\"] = pred_train[:,1]\n",
    "train_df[\"nb_tfidf_char_mws\"] = pred_train[:,2]\n",
    "test_df[\"nb_tfidf_char_eap\"] = pred_full_test[:,0]\n",
    "test_df[\"nb_tfidf_char_hpl\"] = pred_full_test[:,1]\n",
    "test_df[\"nb_tfidf_char_mws\"] = pred_full_test[:,2]"
   ]
  },
  {
   "cell_type": "markdown",
   "metadata": {
    "_cell_guid": "c807a434-c6d8-4a6c-a592-76c70bd043fe",
    "_uuid": "af6e2880a16f96304bd6556ed67d9eac5491a3bc"
   },
   "source": [
    "**캐릭터 TFIDF의 SVD:**\n",
    "\n",
    "또한 캐릭터 tfidf 변수에 svd 기능을 생성하고 모델링에 사용할 수도 있습니다."
   ]
  },
  {
   "cell_type": "code",
   "execution_count": 58,
   "metadata": {
    "_cell_guid": "a764f24e-b48d-4460-9f1b-d242599049bd",
    "_uuid": "bd34ef340648d0f9f000a916d8cbcb258dc22838"
   },
   "outputs": [],
   "source": [
    "n_comp = 20\n",
    "svd_obj = TruncatedSVD(n_components=n_comp, algorithm='arpack')\n",
    "svd_obj.fit(full_tfidf)\n",
    "train_svd = pd.DataFrame(svd_obj.transform(train_tfidf))\n",
    "test_svd = pd.DataFrame(svd_obj.transform(test_tfidf))\n",
    "    \n",
    "train_svd.columns = ['svd_char_'+str(i) for i in range(n_comp)]\n",
    "test_svd.columns = ['svd_char_'+str(i) for i in range(n_comp)]\n",
    "train_df = pd.concat([train_df, train_svd], axis=1)\n",
    "test_df = pd.concat([test_df, test_svd], axis=1)\n",
    "del full_tfidf, train_tfidf, test_tfidf, train_svd, test_svd"
   ]
  },
  {
   "cell_type": "markdown",
   "metadata": {
    "_cell_guid": "365abbc9-d630-4075-a2aa-c025d146d6aa",
    "_uuid": "0577ac7e16cd158944d1ee3c27ca92c588e2d10a"
   },
   "source": [
    "**XGBoost 모델:**\n",
    "\n",
    "이제 이러한 새 변수를 사용하여 xgboost 모델을 다시 실행하고 결과를 평가할 수 있습니다."
   ]
  },
  {
   "cell_type": "code",
   "execution_count": 62,
   "metadata": {},
   "outputs": [
    {
     "data": {
      "text/html": [
       "<div>\n",
       "<style scoped>\n",
       "    .dataframe tbody tr th:only-of-type {\n",
       "        vertical-align: middle;\n",
       "    }\n",
       "\n",
       "    .dataframe tbody tr th {\n",
       "        vertical-align: top;\n",
       "    }\n",
       "\n",
       "    .dataframe thead th {\n",
       "        text-align: right;\n",
       "    }\n",
       "</style>\n",
       "<table border=\"1\" class=\"dataframe\">\n",
       "  <thead>\n",
       "    <tr style=\"text-align: right;\">\n",
       "      <th></th>\n",
       "      <th>num_words</th>\n",
       "      <th>num_unique_words</th>\n",
       "      <th>num_chars</th>\n",
       "      <th>num_stopwords</th>\n",
       "      <th>num_punctuations</th>\n",
       "      <th>num_words_upper</th>\n",
       "      <th>num_words_title</th>\n",
       "      <th>mean_word_len</th>\n",
       "      <th>svd_word_0</th>\n",
       "      <th>svd_word_1</th>\n",
       "      <th>...</th>\n",
       "      <th>svd_char_10</th>\n",
       "      <th>svd_char_11</th>\n",
       "      <th>svd_char_12</th>\n",
       "      <th>svd_char_13</th>\n",
       "      <th>svd_char_14</th>\n",
       "      <th>svd_char_15</th>\n",
       "      <th>svd_char_16</th>\n",
       "      <th>svd_char_17</th>\n",
       "      <th>svd_char_18</th>\n",
       "      <th>svd_char_19</th>\n",
       "    </tr>\n",
       "  </thead>\n",
       "  <tbody>\n",
       "    <tr>\n",
       "      <th>0</th>\n",
       "      <td>19</td>\n",
       "      <td>19</td>\n",
       "      <td>110</td>\n",
       "      <td>9</td>\n",
       "      <td>3</td>\n",
       "      <td>1</td>\n",
       "      <td>3</td>\n",
       "      <td>4.842105</td>\n",
       "      <td>0.024516</td>\n",
       "      <td>-0.010185</td>\n",
       "      <td>...</td>\n",
       "      <td>-0.077185</td>\n",
       "      <td>-0.006559</td>\n",
       "      <td>0.005616</td>\n",
       "      <td>0.020747</td>\n",
       "      <td>-0.065907</td>\n",
       "      <td>0.053055</td>\n",
       "      <td>0.040820</td>\n",
       "      <td>-0.060882</td>\n",
       "      <td>0.010134</td>\n",
       "      <td>-0.003119</td>\n",
       "    </tr>\n",
       "    <tr>\n",
       "      <th>1</th>\n",
       "      <td>62</td>\n",
       "      <td>49</td>\n",
       "      <td>330</td>\n",
       "      <td>33</td>\n",
       "      <td>7</td>\n",
       "      <td>1</td>\n",
       "      <td>3</td>\n",
       "      <td>4.338710</td>\n",
       "      <td>0.022294</td>\n",
       "      <td>-0.011968</td>\n",
       "      <td>...</td>\n",
       "      <td>0.016415</td>\n",
       "      <td>0.011792</td>\n",
       "      <td>0.013476</td>\n",
       "      <td>0.083765</td>\n",
       "      <td>-0.027404</td>\n",
       "      <td>0.055122</td>\n",
       "      <td>-0.067695</td>\n",
       "      <td>-0.003033</td>\n",
       "      <td>0.029863</td>\n",
       "      <td>0.006638</td>\n",
       "    </tr>\n",
       "    <tr>\n",
       "      <th>2</th>\n",
       "      <td>33</td>\n",
       "      <td>30</td>\n",
       "      <td>189</td>\n",
       "      <td>15</td>\n",
       "      <td>3</td>\n",
       "      <td>0</td>\n",
       "      <td>1</td>\n",
       "      <td>4.757576</td>\n",
       "      <td>0.016906</td>\n",
       "      <td>-0.008934</td>\n",
       "      <td>...</td>\n",
       "      <td>0.011926</td>\n",
       "      <td>0.022561</td>\n",
       "      <td>0.042856</td>\n",
       "      <td>-0.001981</td>\n",
       "      <td>0.058037</td>\n",
       "      <td>-0.027065</td>\n",
       "      <td>-0.004207</td>\n",
       "      <td>0.026371</td>\n",
       "      <td>-0.023764</td>\n",
       "      <td>0.021925</td>\n",
       "    </tr>\n",
       "    <tr>\n",
       "      <th>3</th>\n",
       "      <td>41</td>\n",
       "      <td>34</td>\n",
       "      <td>223</td>\n",
       "      <td>19</td>\n",
       "      <td>5</td>\n",
       "      <td>2</td>\n",
       "      <td>3</td>\n",
       "      <td>4.463415</td>\n",
       "      <td>0.013408</td>\n",
       "      <td>-0.007515</td>\n",
       "      <td>...</td>\n",
       "      <td>-0.042390</td>\n",
       "      <td>-0.056576</td>\n",
       "      <td>0.053759</td>\n",
       "      <td>-0.026924</td>\n",
       "      <td>0.070788</td>\n",
       "      <td>0.000571</td>\n",
       "      <td>-0.033236</td>\n",
       "      <td>-0.071819</td>\n",
       "      <td>0.017313</td>\n",
       "      <td>-0.027750</td>\n",
       "    </tr>\n",
       "    <tr>\n",
       "      <th>4</th>\n",
       "      <td>11</td>\n",
       "      <td>11</td>\n",
       "      <td>53</td>\n",
       "      <td>6</td>\n",
       "      <td>1</td>\n",
       "      <td>1</td>\n",
       "      <td>1</td>\n",
       "      <td>3.909091</td>\n",
       "      <td>0.012565</td>\n",
       "      <td>-0.003185</td>\n",
       "      <td>...</td>\n",
       "      <td>0.006790</td>\n",
       "      <td>0.042263</td>\n",
       "      <td>-0.018383</td>\n",
       "      <td>-0.039678</td>\n",
       "      <td>0.017349</td>\n",
       "      <td>-0.002632</td>\n",
       "      <td>-0.014737</td>\n",
       "      <td>0.061780</td>\n",
       "      <td>-0.055344</td>\n",
       "      <td>0.054694</td>\n",
       "    </tr>\n",
       "    <tr>\n",
       "      <th>...</th>\n",
       "      <td>...</td>\n",
       "      <td>...</td>\n",
       "      <td>...</td>\n",
       "      <td>...</td>\n",
       "      <td>...</td>\n",
       "      <td>...</td>\n",
       "      <td>...</td>\n",
       "      <td>...</td>\n",
       "      <td>...</td>\n",
       "      <td>...</td>\n",
       "      <td>...</td>\n",
       "      <td>...</td>\n",
       "      <td>...</td>\n",
       "      <td>...</td>\n",
       "      <td>...</td>\n",
       "      <td>...</td>\n",
       "      <td>...</td>\n",
       "      <td>...</td>\n",
       "      <td>...</td>\n",
       "      <td>...</td>\n",
       "      <td>...</td>\n",
       "    </tr>\n",
       "    <tr>\n",
       "      <th>8387</th>\n",
       "      <td>9</td>\n",
       "      <td>9</td>\n",
       "      <td>42</td>\n",
       "      <td>7</td>\n",
       "      <td>1</td>\n",
       "      <td>0</td>\n",
       "      <td>1</td>\n",
       "      <td>3.777778</td>\n",
       "      <td>0.006477</td>\n",
       "      <td>-0.004209</td>\n",
       "      <td>...</td>\n",
       "      <td>0.040577</td>\n",
       "      <td>0.057288</td>\n",
       "      <td>0.039300</td>\n",
       "      <td>-0.064571</td>\n",
       "      <td>0.013609</td>\n",
       "      <td>0.037641</td>\n",
       "      <td>-0.057116</td>\n",
       "      <td>0.055621</td>\n",
       "      <td>-0.021832</td>\n",
       "      <td>0.040692</td>\n",
       "    </tr>\n",
       "    <tr>\n",
       "      <th>8388</th>\n",
       "      <td>7</td>\n",
       "      <td>7</td>\n",
       "      <td>34</td>\n",
       "      <td>4</td>\n",
       "      <td>1</td>\n",
       "      <td>1</td>\n",
       "      <td>1</td>\n",
       "      <td>4.000000</td>\n",
       "      <td>0.011401</td>\n",
       "      <td>-0.006803</td>\n",
       "      <td>...</td>\n",
       "      <td>0.014870</td>\n",
       "      <td>-0.046629</td>\n",
       "      <td>0.011422</td>\n",
       "      <td>-0.052563</td>\n",
       "      <td>0.055345</td>\n",
       "      <td>0.014132</td>\n",
       "      <td>-0.028990</td>\n",
       "      <td>-0.036881</td>\n",
       "      <td>-0.017690</td>\n",
       "      <td>0.022852</td>\n",
       "    </tr>\n",
       "    <tr>\n",
       "      <th>8389</th>\n",
       "      <td>25</td>\n",
       "      <td>24</td>\n",
       "      <td>150</td>\n",
       "      <td>11</td>\n",
       "      <td>2</td>\n",
       "      <td>0</td>\n",
       "      <td>1</td>\n",
       "      <td>5.040000</td>\n",
       "      <td>0.024211</td>\n",
       "      <td>-0.013763</td>\n",
       "      <td>...</td>\n",
       "      <td>0.022989</td>\n",
       "      <td>0.014606</td>\n",
       "      <td>0.000173</td>\n",
       "      <td>-0.044822</td>\n",
       "      <td>-0.065277</td>\n",
       "      <td>0.018879</td>\n",
       "      <td>-0.007556</td>\n",
       "      <td>0.019218</td>\n",
       "      <td>0.024902</td>\n",
       "      <td>-0.025109</td>\n",
       "    </tr>\n",
       "    <tr>\n",
       "      <th>8390</th>\n",
       "      <td>38</td>\n",
       "      <td>34</td>\n",
       "      <td>197</td>\n",
       "      <td>21</td>\n",
       "      <td>3</td>\n",
       "      <td>2</td>\n",
       "      <td>3</td>\n",
       "      <td>4.210526</td>\n",
       "      <td>0.025443</td>\n",
       "      <td>-0.013794</td>\n",
       "      <td>...</td>\n",
       "      <td>-0.043491</td>\n",
       "      <td>0.046127</td>\n",
       "      <td>-0.041112</td>\n",
       "      <td>-0.021125</td>\n",
       "      <td>-0.030812</td>\n",
       "      <td>0.020161</td>\n",
       "      <td>0.039208</td>\n",
       "      <td>-0.055308</td>\n",
       "      <td>-0.040508</td>\n",
       "      <td>-0.018515</td>\n",
       "    </tr>\n",
       "    <tr>\n",
       "      <th>8391</th>\n",
       "      <td>38</td>\n",
       "      <td>33</td>\n",
       "      <td>247</td>\n",
       "      <td>18</td>\n",
       "      <td>5</td>\n",
       "      <td>0</td>\n",
       "      <td>1</td>\n",
       "      <td>5.526316</td>\n",
       "      <td>0.021897</td>\n",
       "      <td>-0.010181</td>\n",
       "      <td>...</td>\n",
       "      <td>-0.004355</td>\n",
       "      <td>-0.021253</td>\n",
       "      <td>0.018119</td>\n",
       "      <td>0.031552</td>\n",
       "      <td>-0.038812</td>\n",
       "      <td>-0.014792</td>\n",
       "      <td>0.052156</td>\n",
       "      <td>0.022833</td>\n",
       "      <td>-0.002455</td>\n",
       "      <td>-0.028240</td>\n",
       "    </tr>\n",
       "  </tbody>\n",
       "</table>\n",
       "<p>8392 rows × 57 columns</p>\n",
       "</div>"
      ],
      "text/plain": [
       "      num_words  num_unique_words  num_chars  num_stopwords  num_punctuations  \\\n",
       "0            19                19        110              9                 3   \n",
       "1            62                49        330             33                 7   \n",
       "2            33                30        189             15                 3   \n",
       "3            41                34        223             19                 5   \n",
       "4            11                11         53              6                 1   \n",
       "...         ...               ...        ...            ...               ...   \n",
       "8387          9                 9         42              7                 1   \n",
       "8388          7                 7         34              4                 1   \n",
       "8389         25                24        150             11                 2   \n",
       "8390         38                34        197             21                 3   \n",
       "8391         38                33        247             18                 5   \n",
       "\n",
       "      num_words_upper  num_words_title  mean_word_len  svd_word_0  svd_word_1  \\\n",
       "0                   1                3       4.842105    0.024516   -0.010185   \n",
       "1                   1                3       4.338710    0.022294   -0.011968   \n",
       "2                   0                1       4.757576    0.016906   -0.008934   \n",
       "3                   2                3       4.463415    0.013408   -0.007515   \n",
       "4                   1                1       3.909091    0.012565   -0.003185   \n",
       "...               ...              ...            ...         ...         ...   \n",
       "8387                0                1       3.777778    0.006477   -0.004209   \n",
       "8388                1                1       4.000000    0.011401   -0.006803   \n",
       "8389                0                1       5.040000    0.024211   -0.013763   \n",
       "8390                2                3       4.210526    0.025443   -0.013794   \n",
       "8391                0                1       5.526316    0.021897   -0.010181   \n",
       "\n",
       "      ...  svd_char_10  svd_char_11  svd_char_12  svd_char_13  svd_char_14  \\\n",
       "0     ...    -0.077185    -0.006559     0.005616     0.020747    -0.065907   \n",
       "1     ...     0.016415     0.011792     0.013476     0.083765    -0.027404   \n",
       "2     ...     0.011926     0.022561     0.042856    -0.001981     0.058037   \n",
       "3     ...    -0.042390    -0.056576     0.053759    -0.026924     0.070788   \n",
       "4     ...     0.006790     0.042263    -0.018383    -0.039678     0.017349   \n",
       "...   ...          ...          ...          ...          ...          ...   \n",
       "8387  ...     0.040577     0.057288     0.039300    -0.064571     0.013609   \n",
       "8388  ...     0.014870    -0.046629     0.011422    -0.052563     0.055345   \n",
       "8389  ...     0.022989     0.014606     0.000173    -0.044822    -0.065277   \n",
       "8390  ...    -0.043491     0.046127    -0.041112    -0.021125    -0.030812   \n",
       "8391  ...    -0.004355    -0.021253     0.018119     0.031552    -0.038812   \n",
       "\n",
       "      svd_char_15  svd_char_16  svd_char_17  svd_char_18  svd_char_19  \n",
       "0        0.053055     0.040820    -0.060882     0.010134    -0.003119  \n",
       "1        0.055122    -0.067695    -0.003033     0.029863     0.006638  \n",
       "2       -0.027065    -0.004207     0.026371    -0.023764     0.021925  \n",
       "3        0.000571    -0.033236    -0.071819     0.017313    -0.027750  \n",
       "4       -0.002632    -0.014737     0.061780    -0.055344     0.054694  \n",
       "...           ...          ...          ...          ...          ...  \n",
       "8387     0.037641    -0.057116     0.055621    -0.021832     0.040692  \n",
       "8388     0.014132    -0.028990    -0.036881    -0.017690     0.022852  \n",
       "8389     0.018879    -0.007556     0.019218     0.024902    -0.025109  \n",
       "8390     0.020161     0.039208    -0.055308    -0.040508    -0.018515  \n",
       "8391    -0.014792     0.052156     0.022833    -0.002455    -0.028240  \n",
       "\n",
       "[8392 rows x 57 columns]"
      ]
     },
     "execution_count": 62,
     "metadata": {},
     "output_type": "execute_result"
    }
   ],
   "source": [
    "test_X"
   ]
  },
  {
   "cell_type": "code",
   "execution_count": 59,
   "metadata": {
    "_cell_guid": "7091aede-e589-45d9-9a85-1560af442725",
    "_uuid": "633eb97dc8b15a7959b962c20222697590071af7"
   },
   "outputs": [
    {
     "name": "stdout",
     "output_type": "stream",
     "text": [
      "[18:55:51] WARNING: C:/Users/Administrator/workspace/xgboost-win64_release_1.5.1/src/learner.cc:576: \n",
      "Parameters: { \"silent\" } might not be used.\n",
      "\n",
      "  This could be a false alarm, with some parameters getting used by language bindings but\n",
      "  then being mistakenly passed down to XGBoost core, or some parameter actually being used\n",
      "  but getting flagged wrongly here. Please open an issue if you find any such cases.\n",
      "\n",
      "\n",
      "[0]\ttrain-mlogloss:1.00354\ttest-mlogloss:1.00354\n",
      "[20]\ttrain-mlogloss:0.40979\ttest-mlogloss:0.41471\n",
      "[40]\ttrain-mlogloss:0.33858\ttest-mlogloss:0.35061\n",
      "[60]\ttrain-mlogloss:0.31308\ttest-mlogloss:0.33272\n",
      "[80]\ttrain-mlogloss:0.29566\ttest-mlogloss:0.32390\n",
      "[100]\ttrain-mlogloss:0.28243\ttest-mlogloss:0.31827\n",
      "[120]\ttrain-mlogloss:0.27152\ttest-mlogloss:0.31475\n",
      "[140]\ttrain-mlogloss:0.26187\ttest-mlogloss:0.31187\n",
      "[160]\ttrain-mlogloss:0.25342\ttest-mlogloss:0.30982\n",
      "[180]\ttrain-mlogloss:0.24557\ttest-mlogloss:0.30863\n",
      "[200]\ttrain-mlogloss:0.23779\ttest-mlogloss:0.30748\n",
      "[220]\ttrain-mlogloss:0.23124\ttest-mlogloss:0.30644\n",
      "[240]\ttrain-mlogloss:0.22498\ttest-mlogloss:0.30562\n",
      "[260]\ttrain-mlogloss:0.21865\ttest-mlogloss:0.30576\n",
      "[280]\ttrain-mlogloss:0.21249\ttest-mlogloss:0.30538\n",
      "[300]\ttrain-mlogloss:0.20648\ttest-mlogloss:0.30545\n",
      "[320]\ttrain-mlogloss:0.20132\ttest-mlogloss:0.30555\n",
      "[340]\ttrain-mlogloss:0.19604\ttest-mlogloss:0.30558\n",
      "[344]\ttrain-mlogloss:0.19489\ttest-mlogloss:0.30562\n",
      "cv scores :  [0.30519857905295633]\n"
     ]
    },
    {
     "name": "stderr",
     "output_type": "stream",
     "text": [
      "C:\\Users\\HOME\\anaconda3\\lib\\site-packages\\xgboost\\core.py:105: UserWarning: ntree_limit is deprecated, use `iteration_range` or model slicing instead.\n",
      "  warnings.warn(\n"
     ]
    }
   ],
   "source": [
    "cols_to_drop = ['id', 'text']\n",
    "train_X = train_df.drop(cols_to_drop+['author'], axis=1)\n",
    "test_X = test_df.drop(cols_to_drop, axis=1)\n",
    "\n",
    "kf = KFold(n_splits=5, shuffle=True, random_state=2017)\n",
    "cv_scores = []\n",
    "pred_full_test = 0\n",
    "pred_train = np.zeros([train_df.shape[0], 3])\n",
    "\n",
    "for dev_index, val_index in kf.split(train_X):\n",
    "    dev_X, val_X = train_X.loc[dev_index], train_X.loc[val_index]\n",
    "    dev_y, val_y = train_y[dev_index], train_y[val_index]\n",
    "\n",
    "    pred_val_y, pred_test_y, model = runXGB(dev_X, dev_y, val_X, val_y, test_X, seed_val=0, colsample=0.7)\n",
    "    \n",
    "    pred_full_test = pred_full_test + pred_test_y\n",
    "    pred_train[val_index,:] = pred_val_y\n",
    "    cv_scores.append(metrics.log_loss(val_y, pred_val_y))\n",
    "    break\n",
    "print(\"cv scores : \", cv_scores)\n",
    "\n",
    "out_df = pd.DataFrame(pred_full_test)\n",
    "out_df.columns = ['EAP', 'HPL', 'MWS']\n",
    "out_df.insert(0, 'id', test_id)\n",
    "out_df.to_csv(\"sub_fe.csv\", index=False)"
   ]
  },
  {
   "cell_type": "markdown",
   "metadata": {
    "_cell_guid": "7d93a2d6-435a-46bb-a522-c4d6b03d84f0",
    "_uuid": "4512493a6527cc244b9c47eb1ed9ff0dbce5eb5a"
   },
   "source": [
    "**이것은 0.3055의 val 점수와 0.32xx의 LB 점수를 가지고 있습니다** 모든 폴드에서 실행하면 더 나은 점수를 얻을 수 있습니다. 이제 중요한 변수를 다시 확인해보자."
   ]
  },
  {
   "cell_type": "code",
   "execution_count": 60,
   "metadata": {
    "_cell_guid": "ed36de2b-e0bb-42e6-bed8-bbbdeb513ba5",
    "_uuid": "ddefa6111b588449df9f2abbc541c0ca051174ab"
   },
   "outputs": [
    {
     "data": {
      "image/png": "[encoded data removed]",
      "text/plain": [
       "<Figure size 864x864 with 1 Axes>"
      ]
     },
     "metadata": {
      "needs_background": "light"
     },
     "output_type": "display_data"
    }
   ],
   "source": [
    "### Plot the important variables ###\n",
    "fig, ax = plt.subplots(figsize=(12,12))\n",
    "xgb.plot_importance(model, max_num_features=50, height=0.8, ax=ax)\n",
    "plt.show()"
   ]
  },
  {
   "cell_type": "markdown",
   "metadata": {
    "_cell_guid": "c4b258fe-ac27-4d5b-908c-eda43670fbf7",
    "_uuid": "c818e95a21559bdb4def3aed522b6616eb1a9de8"
   },
   "source": [
    "Naive Bayes 변수는 예상대로 최고의 변수입니다. 이제 오분류 오류를 확인하기 위해 정오분류표를 구해 보겠습니다."
   ]
  },
  {
   "cell_type": "code",
   "execution_count": 61,
   "metadata": {
    "_cell_guid": "2f3aaa7b-396c-426b-89b3-1e66385946fd",
    "_uuid": "c195596cd7dff2de98bddec1453e30d8d5511169"
   },
   "outputs": [
    {
     "data": {
      "image/png": "[encoded data removed]",
      "text/plain": [
       "<Figure size 576x576 with 2 Axes>"
      ]
     },
     "metadata": {
      "needs_background": "light"
     },
     "output_type": "display_data"
    }
   ],
   "source": [
    "cnf_matrix = confusion_matrix(val_y, np.argmax(pred_val_y,axis=1))\n",
    "np.set_printoptions(precision=2)\n",
    "\n",
    "# Plot non-normalized confusion matrix\n",
    "plt.figure(figsize=(8,8))\n",
    "plot_confusion_matrix(cnf_matrix, classes=['EAP', 'HPL', 'MWS'],\n",
    "                      title='Confusion matrix of XGB, without normalization')\n",
    "plt.show()"
   ]
  },
  {
   "cell_type": "markdown",
   "metadata": {
    "_cell_guid": "855a4e2b-d377-4a91-bac9-4202119c8666",
    "_uuid": "5e40512bdaf05ffbd7a1914735c46784d7c33329"
   },
   "source": [
    "EAP와 MWS는 다른 것보다 더 자주 잘못 분류되는 것 같습니다. 이 쌍에 대한 예측을 개선하는 기능을 잠재적으로 생성할 수 있습니다.\n",
    "\n",
    "**이 FE 노트북의 다음 단계:**\n",
    "* 단어 임베딩 기반 기능 사용\n",
    "* 기타 메타 기능이 있는 경우\n",
    "* 문장에 대한 감상"
   ]
  },
  {
   "cell_type": "markdown",
   "metadata": {
    "_cell_guid": "7a43b172-b6b6-4fd2-89d6-7300672cc462",
    "_uuid": "117205aae679d7b6481df1c446cd42f41cf924de"
   },
   "source": [
    "**추가 개선을 위한 아이디어:**\n",
    "* tfidf 및 카운트 벡터라이저에 대한 매개변수 조정\n",
    "* 나이브 베이즈 및 XGB 모델에 대한 매개변수 조정\n",
    "* 다른 모델과의 앙상블/스태킹"
   ]
  }
 ],
 "metadata": {
  "kernelspec": {
   "display_name": "Python 3 (ipykernel)",
   "language": "python",
   "name": "python3"
  },
  "language_info": {
   "codemirror_mode": {
    "name": "ipython",
    "version": 3
   },
   "file_extension": ".py",
   "mimetype": "text/x-python",
   "name": "python",
   "nbconvert_exporter": "python",
   "pygments_lexer": "ipython3",
   "version": "3.9.7"
  }
 },
 "nbformat": 4,
 "nbformat_minor": 1
}
