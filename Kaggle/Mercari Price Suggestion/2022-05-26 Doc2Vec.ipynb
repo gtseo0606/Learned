{
 "cells": [
  {
   "cell_type": "markdown",
   "id": "0d499f6b",
   "metadata": {},
   "source": [
    "## 1. 공시 사업 보고서 로드 및 전처리\n",
    "\n",
    "해당 실습은 형태소 분석기 Mecab의 원활한 설치를 위해서 구글의 Colab에서 진행했다고 가정합니다. 여러분들의 컴퓨터에 Mecab을 설치하였거나, 다른 형태소 분석기를 사용한다면 Colab에서 하지 않더라도 상관없습니다."
   ]
  },
  {
   "cell_type": "code",
   "execution_count": null,
   "id": "70580430",
   "metadata": {},
   "outputs": [],
   "source": [
    "# dart.csv 파일 다운로드\n",
    "!wget --load-cookies /tmp/cookies.txt \"https://docs.google.com/uc?export=download&confirm=$(wget --quiet --save-cookies /tmp/cookies.txt --keep-session-cookies --no-check-certificate 'https://docs.google.com/uc?export=download&id=1nIUZxASrbIa0Z2xzGVgX1dqjtnFCoKNT' -O- | sed -rn 's/.*confirm=([0-9A-Za-z_]+).*/\\1\\n/p')&id=1nIUZxASrbIa0Z2xzGVgX1dqjtnFCoKNT\" -O dart.csv && rm -rf /tmp/cookies.txt"
   ]
  },
  {
   "cell_type": "code",
   "execution_count": null,
   "id": "06832c15",
   "metadata": {},
   "outputs": [],
   "source": [
    "# 형태소 분석기 Mecab 설치\n",
    "!git clone https://github.com/SOMJANG/Mecab-ko-for-Google-Colab.git\n",
    "%cd Mecab-ko-for-Google-Colab\n",
    "!bash install_mecab-ko_on_colab190912.sh"
   ]
  },
  {
   "cell_type": "code",
   "execution_count": null,
   "id": "288593af",
   "metadata": {},
   "outputs": [],
   "source": [
    "import pandas as pd\n",
    "from konlpy.tag import Mecab\n",
    "from gensim.models.doc2vec import TaggedDocument\n",
    "from tqdm import tqdm"
   ]
  },
  {
   "cell_type": "code",
   "execution_count": null,
   "id": "535d4235",
   "metadata": {},
   "outputs": [],
   "source": [
    "df = pd.read_csv('/content/dart.csv',  sep=',')\n",
    "df = df.dropna()\n",
    "df"
   ]
  },
  {
   "cell_type": "code",
   "execution_count": null,
   "id": "4e57b0b3",
   "metadata": {},
   "outputs": [],
   "source": [
    "mecab = Mecab()\n",
    "\n",
    "tagged_corpus_list = []\n",
    "\n",
    "for index, row in tqdm(df.iterrows(), total=len(df)):\n",
    "  text = row['business']\n",
    "  tag = row['name']\n",
    "  tagged_corpus_list.append(TaggedDocument(tags=[tag], words=mecab.morphs(text)))\n",
    "\n",
    "print('문서의 수 :', len(tagged_corpus_list))"
   ]
  },
  {
   "cell_type": "code",
   "execution_count": null,
   "id": "4690b422",
   "metadata": {},
   "outputs": [],
   "source": [
    "tagged_corpus_list[0]"
   ]
  },
  {
   "cell_type": "markdown",
   "id": "6210968b",
   "metadata": {},
   "source": [
    "## 2. Doc2Vec 학습 및 테스트\n",
    "이제 모델을 학습합니다. 사업 보고서가 꽤 긴 문서인데다 토큰화 외에 불용어 제거 등 별도 추가 전처리를 진행하지 않았기 때문에 저자가 Colab에서 수행했을 때, 소요 시간이 최소 1시간 이상 걸렸습니다.\n"
   ]
  },
  {
   "cell_type": "code",
   "execution_count": null,
   "id": "515142b4",
   "metadata": {},
   "outputs": [],
   "source": [
    "from gensim.models import doc2vec"
   ]
  },
  {
   "cell_type": "code",
   "execution_count": null,
   "id": "959cccbd",
   "metadata": {},
   "outputs": [],
   "source": [
    "model = doc2vec.Doc2Vec(vector_size=300, alpha=0.025, min_alpha=0.025, workers=8, window=8)\n",
    "\n",
    "# Vocabulary 빌드\n",
    "model.build_vocab(tagged_corpus_list)\n",
    "print(f\"Tag Size: {len(model.docvecs.doctags.keys())}\", end=' / ')\n",
    "\n",
    "# Doc2Vec 학습\n",
    "model.train(tagged_corpus_list, total_examples=model.corpus_count, epochs=50)\n",
    "\n",
    "# 모델 저장\n",
    "model.save('dart.doc2vec')"
   ]
  },
  {
   "cell_type": "code",
   "execution_count": null,
   "id": "d1995db7",
   "metadata": {},
   "outputs": [],
   "source": [
    "similar_doc = model.docvecs.most_similar('동화약품')\n",
    "print(similar_doc)"
   ]
  },
  {
   "cell_type": "code",
   "execution_count": null,
   "id": "d49021ba",
   "metadata": {},
   "outputs": [],
   "source": [
    "similar_doc = model.docvecs.most_similar('하이트진로')\n",
    "print(similar_doc)"
   ]
  },
  {
   "cell_type": "code",
   "execution_count": null,
   "id": "0ad44ce7",
   "metadata": {},
   "outputs": [],
   "source": [
    "similar_doc = model.docvecs.most_similar('LG이노텍')\n",
    "print(similar_doc)"
   ]
  }
 ],
 "metadata": {
  "kernelspec": {
   "display_name": "Python 3 (ipykernel)",
   "language": "python",
   "name": "python3"
  },
  "language_info": {
   "codemirror_mode": {
    "name": "ipython",
    "version": 3
   },
   "file_extension": ".py",
   "mimetype": "text/x-python",
   "name": "python",
   "nbconvert_exporter": "python",
   "pygments_lexer": "ipython3",
   "version": "3.9.7"
  }
 },
 "nbformat": 4,
 "nbformat_minor": 5
}
