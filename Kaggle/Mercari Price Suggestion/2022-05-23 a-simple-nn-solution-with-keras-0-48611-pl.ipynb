{
 "cells": [
  {
   "cell_type": "code",
   "execution_count": 3,
   "metadata": {
    "_cell_guid": "f49a0842-1c3d-4bee-8b3e-3caf6111bb60",
    "_uuid": "e4561cb64722ffd7adb74a8800f89973bc3fe87a"
   },
   "outputs": [],
   "source": [
    "import numpy as np\n",
    "import pandas as pd\n",
    "\n",
    "from sklearn.preprocessing import LabelEncoder, MinMaxScaler, StandardScaler\n",
    "from sklearn.model_selection import train_test_split\n",
    "\n",
    "import matplotlib.pyplot as plt\n",
    "%matplotlib inline \n",
    "\n",
    "import math\n",
    "\n",
    "from subprocess import check_output\n",
    "#print(check_output([\"ls\", \"./input\"]).decode(\"utf8\"))"
   ]
  },
  {
   "cell_type": "code",
   "execution_count": 4,
   "metadata": {
    "_cell_guid": "17b85633-4dae-4a49-9573-5d5c3b1b9699",
    "_uuid": "56874f4a359241631a1f1e4788da09e7b09182b8"
   },
   "outputs": [],
   "source": [
    "def rmsle(y, y_pred):\n",
    "    assert len(y) == len(y_pred)\n",
    "    to_sum = [(math.log(y_pred[i] + 1) - math.log(y[i] + 1)) ** 2.0 for i,pred in enumerate(y_pred)]\n",
    "    return (sum(to_sum) * (1.0/len(y))) ** 0.5\n",
    "#Source: https://www.kaggle.com/marknagelberg/rmsle-function"
   ]
  },
  {
   "cell_type": "code",
   "execution_count": 5,
   "metadata": {
    "_cell_guid": "a76efe2c-34bb-458a-8611-1dcabda65b31",
    "_uuid": "80cd3abaf2d32b2c8133719d9a7bbb977adf91cb"
   },
   "outputs": [
    {
     "name": "stdout",
     "output_type": "stream",
     "text": [
      "Loading data...\n",
      "(1482535, 8)\n",
      "(693359, 7)\n"
     ]
    }
   ],
   "source": [
    "#LOAD DATA\n",
    "print(\"Loading data...\")\n",
    "train = pd.read_table(\"./input/train.tsv\")\n",
    "test = pd.read_table(\"./input/test.tsv\")\n",
    "print(train.shape)\n",
    "print(test.shape)"
   ]
  },
  {
   "cell_type": "code",
   "execution_count": 6,
   "metadata": {},
   "outputs": [
    {
     "data": {
      "text/html": [
       "<div>\n",
       "<style scoped>\n",
       "    .dataframe tbody tr th:only-of-type {\n",
       "        vertical-align: middle;\n",
       "    }\n",
       "\n",
       "    .dataframe tbody tr th {\n",
       "        vertical-align: top;\n",
       "    }\n",
       "\n",
       "    .dataframe thead th {\n",
       "        text-align: right;\n",
       "    }\n",
       "</style>\n",
       "<table border=\"1\" class=\"dataframe\">\n",
       "  <thead>\n",
       "    <tr style=\"text-align: right;\">\n",
       "      <th></th>\n",
       "      <th>train_id</th>\n",
       "      <th>name</th>\n",
       "      <th>item_condition_id</th>\n",
       "      <th>category_name</th>\n",
       "      <th>brand_name</th>\n",
       "      <th>price</th>\n",
       "      <th>shipping</th>\n",
       "      <th>item_description</th>\n",
       "    </tr>\n",
       "  </thead>\n",
       "  <tbody>\n",
       "    <tr>\n",
       "      <th>0</th>\n",
       "      <td>0</td>\n",
       "      <td>MLB Cincinnati Reds T Shirt Size XL</td>\n",
       "      <td>3</td>\n",
       "      <td>Men/Tops/T-shirts</td>\n",
       "      <td>NaN</td>\n",
       "      <td>10.0</td>\n",
       "      <td>1</td>\n",
       "      <td>No description yet</td>\n",
       "    </tr>\n",
       "    <tr>\n",
       "      <th>1</th>\n",
       "      <td>1</td>\n",
       "      <td>Razer BlackWidow Chroma Keyboard</td>\n",
       "      <td>3</td>\n",
       "      <td>Electronics/Computers &amp; Tablets/Components &amp; P...</td>\n",
       "      <td>Razer</td>\n",
       "      <td>52.0</td>\n",
       "      <td>0</td>\n",
       "      <td>This keyboard is in great condition and works ...</td>\n",
       "    </tr>\n",
       "    <tr>\n",
       "      <th>2</th>\n",
       "      <td>2</td>\n",
       "      <td>AVA-VIV Blouse</td>\n",
       "      <td>1</td>\n",
       "      <td>Women/Tops &amp; Blouses/Blouse</td>\n",
       "      <td>Target</td>\n",
       "      <td>10.0</td>\n",
       "      <td>1</td>\n",
       "      <td>Adorable top with a hint of lace and a key hol...</td>\n",
       "    </tr>\n",
       "  </tbody>\n",
       "</table>\n",
       "</div>"
      ],
      "text/plain": [
       "   train_id                                 name  item_condition_id  \\\n",
       "0         0  MLB Cincinnati Reds T Shirt Size XL                  3   \n",
       "1         1     Razer BlackWidow Chroma Keyboard                  3   \n",
       "2         2                       AVA-VIV Blouse                  1   \n",
       "\n",
       "                                       category_name brand_name  price  \\\n",
       "0                                  Men/Tops/T-shirts        NaN   10.0   \n",
       "1  Electronics/Computers & Tablets/Components & P...      Razer   52.0   \n",
       "2                        Women/Tops & Blouses/Blouse     Target   10.0   \n",
       "\n",
       "   shipping                                   item_description  \n",
       "0         1                                 No description yet  \n",
       "1         0  This keyboard is in great condition and works ...  \n",
       "2         1  Adorable top with a hint of lace and a key hol...  "
      ]
     },
     "execution_count": 6,
     "metadata": {},
     "output_type": "execute_result"
    }
   ],
   "source": [
    "train.head(3)"
   ]
  },
  {
   "cell_type": "code",
   "execution_count": 7,
   "metadata": {
    "_cell_guid": "4e506bee-5541-4879-aaea-159dee4416b8",
    "_uuid": "967a5f2b26862be11cdae8cb0fb7402fd486135c"
   },
   "outputs": [
    {
     "name": "stdout",
     "output_type": "stream",
     "text": [
      "Handling missing values...\n",
      "(1482535, 8)\n",
      "(693359, 7)\n"
     ]
    }
   ],
   "source": [
    "#HANDLE MISSING VALUES\n",
    "print(\"Handling missing values...\")\n",
    "def handle_missing(dataset):\n",
    "    dataset.category_name.fillna(value=\"missing\", inplace=True)\n",
    "    dataset.brand_name.fillna(value=\"missing\", inplace=True)\n",
    "    dataset.item_description.fillna(value=\"missing\", inplace=True)\n",
    "    return (dataset)\n",
    "\n",
    "train = handle_missing(train)\n",
    "test = handle_missing(test)\n",
    "print(train.shape)\n",
    "print(test.shape)"
   ]
  },
  {
   "cell_type": "code",
   "execution_count": 8,
   "metadata": {
    "_cell_guid": "39007c90-161e-4ef0-b0a5-fc16f04665b4",
    "_uuid": "1aa305c5227f3a4d6b5a5bdf6aa55fe55cf46548"
   },
   "outputs": [
    {
     "data": {
      "text/html": [
       "<div>\n",
       "<style scoped>\n",
       "    .dataframe tbody tr th:only-of-type {\n",
       "        vertical-align: middle;\n",
       "    }\n",
       "\n",
       "    .dataframe tbody tr th {\n",
       "        vertical-align: top;\n",
       "    }\n",
       "\n",
       "    .dataframe thead th {\n",
       "        text-align: right;\n",
       "    }\n",
       "</style>\n",
       "<table border=\"1\" class=\"dataframe\">\n",
       "  <thead>\n",
       "    <tr style=\"text-align: right;\">\n",
       "      <th></th>\n",
       "      <th>train_id</th>\n",
       "      <th>name</th>\n",
       "      <th>item_condition_id</th>\n",
       "      <th>category_name</th>\n",
       "      <th>brand_name</th>\n",
       "      <th>price</th>\n",
       "      <th>shipping</th>\n",
       "      <th>item_description</th>\n",
       "    </tr>\n",
       "  </thead>\n",
       "  <tbody>\n",
       "    <tr>\n",
       "      <th>0</th>\n",
       "      <td>0</td>\n",
       "      <td>MLB Cincinnati Reds T Shirt Size XL</td>\n",
       "      <td>3</td>\n",
       "      <td>Men/Tops/T-shirts</td>\n",
       "      <td>missing</td>\n",
       "      <td>10.0</td>\n",
       "      <td>1</td>\n",
       "      <td>No description yet</td>\n",
       "    </tr>\n",
       "    <tr>\n",
       "      <th>1</th>\n",
       "      <td>1</td>\n",
       "      <td>Razer BlackWidow Chroma Keyboard</td>\n",
       "      <td>3</td>\n",
       "      <td>Electronics/Computers &amp; Tablets/Components &amp; P...</td>\n",
       "      <td>Razer</td>\n",
       "      <td>52.0</td>\n",
       "      <td>0</td>\n",
       "      <td>This keyboard is in great condition and works ...</td>\n",
       "    </tr>\n",
       "    <tr>\n",
       "      <th>2</th>\n",
       "      <td>2</td>\n",
       "      <td>AVA-VIV Blouse</td>\n",
       "      <td>1</td>\n",
       "      <td>Women/Tops &amp; Blouses/Blouse</td>\n",
       "      <td>Target</td>\n",
       "      <td>10.0</td>\n",
       "      <td>1</td>\n",
       "      <td>Adorable top with a hint of lace and a key hol...</td>\n",
       "    </tr>\n",
       "  </tbody>\n",
       "</table>\n",
       "</div>"
      ],
      "text/plain": [
       "   train_id                                 name  item_condition_id  \\\n",
       "0         0  MLB Cincinnati Reds T Shirt Size XL                  3   \n",
       "1         1     Razer BlackWidow Chroma Keyboard                  3   \n",
       "2         2                       AVA-VIV Blouse                  1   \n",
       "\n",
       "                                       category_name brand_name  price  \\\n",
       "0                                  Men/Tops/T-shirts    missing   10.0   \n",
       "1  Electronics/Computers & Tablets/Components & P...      Razer   52.0   \n",
       "2                        Women/Tops & Blouses/Blouse     Target   10.0   \n",
       "\n",
       "   shipping                                   item_description  \n",
       "0         1                                 No description yet  \n",
       "1         0  This keyboard is in great condition and works ...  \n",
       "2         1  Adorable top with a hint of lace and a key hol...  "
      ]
     },
     "execution_count": 8,
     "metadata": {},
     "output_type": "execute_result"
    }
   ],
   "source": [
    "train.head(3)"
   ]
  },
  {
   "cell_type": "code",
   "execution_count": 9,
   "metadata": {
    "_cell_guid": "204de9ca-7ea5-481b-9039-743bbab1084f",
    "_uuid": "cf9985161bcd94612b1359177e23124efd3410cb"
   },
   "outputs": [
    {
     "name": "stdout",
     "output_type": "stream",
     "text": [
      "Handling categorical variables...\n"
     ]
    },
    {
     "data": {
      "text/html": [
       "<div>\n",
       "<style scoped>\n",
       "    .dataframe tbody tr th:only-of-type {\n",
       "        vertical-align: middle;\n",
       "    }\n",
       "\n",
       "    .dataframe tbody tr th {\n",
       "        vertical-align: top;\n",
       "    }\n",
       "\n",
       "    .dataframe thead th {\n",
       "        text-align: right;\n",
       "    }\n",
       "</style>\n",
       "<table border=\"1\" class=\"dataframe\">\n",
       "  <thead>\n",
       "    <tr style=\"text-align: right;\">\n",
       "      <th></th>\n",
       "      <th>train_id</th>\n",
       "      <th>name</th>\n",
       "      <th>item_condition_id</th>\n",
       "      <th>category_name</th>\n",
       "      <th>brand_name</th>\n",
       "      <th>price</th>\n",
       "      <th>shipping</th>\n",
       "      <th>item_description</th>\n",
       "    </tr>\n",
       "  </thead>\n",
       "  <tbody>\n",
       "    <tr>\n",
       "      <th>0</th>\n",
       "      <td>0</td>\n",
       "      <td>MLB Cincinnati Reds T Shirt Size XL</td>\n",
       "      <td>3</td>\n",
       "      <td>829</td>\n",
       "      <td>5265</td>\n",
       "      <td>10.0</td>\n",
       "      <td>1</td>\n",
       "      <td>No description yet</td>\n",
       "    </tr>\n",
       "    <tr>\n",
       "      <th>1</th>\n",
       "      <td>1</td>\n",
       "      <td>Razer BlackWidow Chroma Keyboard</td>\n",
       "      <td>3</td>\n",
       "      <td>86</td>\n",
       "      <td>3889</td>\n",
       "      <td>52.0</td>\n",
       "      <td>0</td>\n",
       "      <td>This keyboard is in great condition and works ...</td>\n",
       "    </tr>\n",
       "    <tr>\n",
       "      <th>2</th>\n",
       "      <td>2</td>\n",
       "      <td>AVA-VIV Blouse</td>\n",
       "      <td>1</td>\n",
       "      <td>1277</td>\n",
       "      <td>4588</td>\n",
       "      <td>10.0</td>\n",
       "      <td>1</td>\n",
       "      <td>Adorable top with a hint of lace and a key hol...</td>\n",
       "    </tr>\n",
       "  </tbody>\n",
       "</table>\n",
       "</div>"
      ],
      "text/plain": [
       "   train_id                                 name  item_condition_id  \\\n",
       "0         0  MLB Cincinnati Reds T Shirt Size XL                  3   \n",
       "1         1     Razer BlackWidow Chroma Keyboard                  3   \n",
       "2         2                       AVA-VIV Blouse                  1   \n",
       "\n",
       "   category_name  brand_name  price  shipping  \\\n",
       "0            829        5265   10.0         1   \n",
       "1             86        3889   52.0         0   \n",
       "2           1277        4588   10.0         1   \n",
       "\n",
       "                                    item_description  \n",
       "0                                 No description yet  \n",
       "1  This keyboard is in great condition and works ...  \n",
       "2  Adorable top with a hint of lace and a key hol...  "
      ]
     },
     "execution_count": 9,
     "metadata": {},
     "output_type": "execute_result"
    }
   ],
   "source": [
    "#PROCESS CATEGORICAL DATA\n",
    "print(\"Handling categorical variables...\")\n",
    "le = LabelEncoder()\n",
    "\n",
    "le.fit(np.hstack([train.category_name, test.category_name]))\n",
    "train.category_name = le.transform(train.category_name)\n",
    "test.category_name = le.transform(test.category_name)\n",
    "\n",
    "le.fit(np.hstack([train.brand_name, test.brand_name]))\n",
    "train.brand_name = le.transform(train.brand_name)\n",
    "test.brand_name = le.transform(test.brand_name)\n",
    "del le\n",
    "\n",
    "train.head(3)"
   ]
  },
  {
   "cell_type": "code",
   "execution_count": 10,
   "metadata": {
    "_cell_guid": "b122ac7a-c203-463f-aa92-b843b039fce3",
    "_uuid": "ff62bf6d3681b84510026bfa3514963513f2e8f2"
   },
   "outputs": [
    {
     "name": "stdout",
     "output_type": "stream",
     "text": [
      "Text to seq process...\n",
      "   Fitting tokenizer...\n",
      "   Transforming text to seq...\n"
     ]
    },
    {
     "data": {
      "text/html": [
       "<div>\n",
       "<style scoped>\n",
       "    .dataframe tbody tr th:only-of-type {\n",
       "        vertical-align: middle;\n",
       "    }\n",
       "\n",
       "    .dataframe tbody tr th {\n",
       "        vertical-align: top;\n",
       "    }\n",
       "\n",
       "    .dataframe thead th {\n",
       "        text-align: right;\n",
       "    }\n",
       "</style>\n",
       "<table border=\"1\" class=\"dataframe\">\n",
       "  <thead>\n",
       "    <tr style=\"text-align: right;\">\n",
       "      <th></th>\n",
       "      <th>train_id</th>\n",
       "      <th>name</th>\n",
       "      <th>item_condition_id</th>\n",
       "      <th>category_name</th>\n",
       "      <th>brand_name</th>\n",
       "      <th>price</th>\n",
       "      <th>shipping</th>\n",
       "      <th>item_description</th>\n",
       "      <th>seq_item_description</th>\n",
       "      <th>seq_name</th>\n",
       "    </tr>\n",
       "  </thead>\n",
       "  <tbody>\n",
       "    <tr>\n",
       "      <th>0</th>\n",
       "      <td>0</td>\n",
       "      <td>MLB Cincinnati Reds T Shirt Size XL</td>\n",
       "      <td>3</td>\n",
       "      <td>829</td>\n",
       "      <td>5265</td>\n",
       "      <td>10.0</td>\n",
       "      <td>1</td>\n",
       "      <td>No description yet</td>\n",
       "      <td>[12, 68, 79]</td>\n",
       "      <td>[3852, 8823, 6896, 208, 84, 6, 155]</td>\n",
       "    </tr>\n",
       "    <tr>\n",
       "      <th>1</th>\n",
       "      <td>1</td>\n",
       "      <td>Razer BlackWidow Chroma Keyboard</td>\n",
       "      <td>3</td>\n",
       "      <td>86</td>\n",
       "      <td>3889</td>\n",
       "      <td>52.0</td>\n",
       "      <td>0</td>\n",
       "      <td>This keyboard is in great condition and works ...</td>\n",
       "      <td>[29, 2627, 10, 7, 39, 17, 1, 207, 51, 19, 1113...</td>\n",
       "      <td>[10760, 25565, 16369, 2627]</td>\n",
       "    </tr>\n",
       "    <tr>\n",
       "      <th>2</th>\n",
       "      <td>2</td>\n",
       "      <td>AVA-VIV Blouse</td>\n",
       "      <td>1</td>\n",
       "      <td>1277</td>\n",
       "      <td>4588</td>\n",
       "      <td>10.0</td>\n",
       "      <td>1</td>\n",
       "      <td>Adorable top with a hint of lace and a key hol...</td>\n",
       "      <td>[604, 60, 9, 4, 5347, 11, 192, 1, 4, 886, 1290...</td>\n",
       "      <td>[7634, 10563, 666]</td>\n",
       "    </tr>\n",
       "  </tbody>\n",
       "</table>\n",
       "</div>"
      ],
      "text/plain": [
       "   train_id                                 name  item_condition_id  \\\n",
       "0         0  MLB Cincinnati Reds T Shirt Size XL                  3   \n",
       "1         1     Razer BlackWidow Chroma Keyboard                  3   \n",
       "2         2                       AVA-VIV Blouse                  1   \n",
       "\n",
       "   category_name  brand_name  price  shipping  \\\n",
       "0            829        5265   10.0         1   \n",
       "1             86        3889   52.0         0   \n",
       "2           1277        4588   10.0         1   \n",
       "\n",
       "                                    item_description  \\\n",
       "0                                 No description yet   \n",
       "1  This keyboard is in great condition and works ...   \n",
       "2  Adorable top with a hint of lace and a key hol...   \n",
       "\n",
       "                                seq_item_description  \\\n",
       "0                                       [12, 68, 79]   \n",
       "1  [29, 2627, 10, 7, 39, 17, 1, 207, 51, 19, 1113...   \n",
       "2  [604, 60, 9, 4, 5347, 11, 192, 1, 4, 886, 1290...   \n",
       "\n",
       "                              seq_name  \n",
       "0  [3852, 8823, 6896, 208, 84, 6, 155]  \n",
       "1          [10760, 25565, 16369, 2627]  \n",
       "2                   [7634, 10563, 666]  "
      ]
     },
     "execution_count": 10,
     "metadata": {},
     "output_type": "execute_result"
    }
   ],
   "source": [
    "#PROCESS TEXT: RAW\n",
    "print(\"Text to seq process...\")\n",
    "from keras.preprocessing.text import Tokenizer\n",
    "raw_text = np.hstack([train.item_description.str.lower(), train.name.str.lower()])\n",
    "\n",
    "print(\"   Fitting tokenizer...\")\n",
    "tok_raw = Tokenizer()\n",
    "tok_raw.fit_on_texts(raw_text)\n",
    "print(\"   Transforming text to seq...\")\n",
    "\n",
    "train[\"seq_item_description\"] = tok_raw.texts_to_sequences(train.item_description.str.lower())\n",
    "test[\"seq_item_description\"] = tok_raw.texts_to_sequences(test.item_description.str.lower())\n",
    "train[\"seq_name\"] = tok_raw.texts_to_sequences(train.name.str.lower())\n",
    "test[\"seq_name\"] = tok_raw.texts_to_sequences(test.name.str.lower())\n",
    "train.head(3)"
   ]
  },
  {
   "cell_type": "code",
   "execution_count": 11,
   "metadata": {
    "_cell_guid": "9da5165e-0692-4c1a-a5e7-3fb1c6c1a4fd",
    "_uuid": "335a3d95444a2602598aebbfa6de0a8a3f5a1814"
   },
   "outputs": [
    {
     "name": "stdout",
     "output_type": "stream",
     "text": [
      "max name seq 17\n",
      "max item desc seq 269\n"
     ]
    }
   ],
   "source": [
    "#SEQUENCES VARIABLES ANALYSIS\n",
    "max_name_seq = np.max([np.max(train.seq_name.apply(lambda x: len(x))), \n",
    "                       np.max(test.seq_name.apply(lambda x: len(x)))])\n",
    "max_seq_item_description = np.max([np.max(train.seq_item_description.apply(lambda x: len(x)))\n",
    "                                   , np.max(test.seq_item_description.apply(lambda x: len(x)))])\n",
    "print(\"max name seq \"+str(max_name_seq))\n",
    "print(\"max item desc seq \"+str(max_seq_item_description))"
   ]
  },
  {
   "cell_type": "code",
   "execution_count": 12,
   "metadata": {
    "_cell_guid": "3e87bf13-093e-42a3-bef9-ed10322944df",
    "_uuid": "32ffa5a96deaeb6214469a2594475f7b5a15bc92"
   },
   "outputs": [
    {
     "data": {
      "text/plain": [
       "<AxesSubplot:>"
      ]
     },
     "execution_count": 12,
     "metadata": {},
     "output_type": "execute_result"
    },
    {
     "data": {
      "image/png": "[encoded data removed]",
      "text/plain": [
       "<Figure size 432x288 with 1 Axes>"
      ]
     },
     "metadata": {
      "needs_background": "light"
     },
     "output_type": "display_data"
    }
   ],
   "source": [
    "train.seq_name.apply(lambda x: len(x)).hist()"
   ]
  },
  {
   "cell_type": "code",
   "execution_count": 13,
   "metadata": {
    "_cell_guid": "09349ced-fcac-4406-8876-a00fc269218d",
    "_uuid": "bdfde374cbe6f2edc9c453f91ef90c757c8d8f06"
   },
   "outputs": [
    {
     "data": {
      "text/plain": [
       "<AxesSubplot:>"
      ]
     },
     "execution_count": 13,
     "metadata": {},
     "output_type": "execute_result"
    },
    {
     "data": {
      "image/png": "[encoded data removed]",
      "text/plain": [
       "<Figure size 432x288 with 1 Axes>"
      ]
     },
     "metadata": {
      "needs_background": "light"
     },
     "output_type": "display_data"
    }
   ],
   "source": [
    "train.seq_item_description.apply(lambda x: len(x)).hist()"
   ]
  },
  {
   "cell_type": "code",
   "execution_count": 14,
   "metadata": {
    "_cell_guid": "e1b9db3a-63de-4bd9-9bad-2db899176053",
    "_uuid": "4cae7d35e8b44e04df93c9f8084ec67ef40a1828"
   },
   "outputs": [],
   "source": [
    "#EMBEDDINGS MAX VALUE\n",
    "#Base on the histograms, we select the next lengths\n",
    "MAX_NAME_SEQ = 10\n",
    "MAX_ITEM_DESC_SEQ = 75\n",
    "MAX_TEXT = np.max([np.max(train.seq_name.max())\n",
    "                   , np.max(test.seq_name.max())\n",
    "                  , np.max(train.seq_item_description.max())\n",
    "                  , np.max(test.seq_item_description.max())])+2\n",
    "MAX_CATEGORY = np.max([train.category_name.max(), test.category_name.max()])+1\n",
    "MAX_BRAND = np.max([train.brand_name.max(), test.brand_name.max()])+1\n",
    "MAX_CONDITION = np.max([train.item_condition_id.max(), test.item_condition_id.max()])+1"
   ]
  },
  {
   "cell_type": "code",
   "execution_count": 16,
   "metadata": {
    "_cell_guid": "cb88f6b3-44ab-4ab4-831a-6a3ebdd0e10d",
    "_uuid": "53474065f08e5d469e4a65bd272c0b316ae26b1e"
   },
   "outputs": [
    {
     "data": {
      "text/plain": [
       "array([[<AxesSubplot:title={'center':'target'}>]], dtype=object)"
      ]
     },
     "execution_count": 16,
     "metadata": {},
     "output_type": "execute_result"
    },
    {
     "data": {
      "image/png": "[encoded data removed]",
      "text/plain": [
       "<Figure size 432x288 with 1 Axes>"
      ]
     },
     "metadata": {
      "needs_background": "light"
     },
     "output_type": "display_data"
    }
   ],
   "source": [
    "# 가격 -> 로그(가격) -> 표준정규화(로그(가격))\n",
    "train[\"target\"] = np.log(train.price+1)\n",
    "target_scaler = MinMaxScaler(feature_range=(-1, 1))\n",
    "train[\"target\"] = target_scaler.fit_transform(train.target.values.reshape(-1,1))\n",
    "pd.DataFrame(train.target).hist()"
   ]
  },
  {
   "cell_type": "code",
   "execution_count": 17,
   "metadata": {
    "_cell_guid": "abf9cd11-efa2-4a2c-b844-cdf2fc23bbd8",
    "_uuid": "38f7f125582a88eba6410d93306df119e454db82"
   },
   "outputs": [
    {
     "name": "stdout",
     "output_type": "stream",
     "text": [
      "(1467709, 11)\n",
      "(14826, 11)\n"
     ]
    }
   ],
   "source": [
    "#EXTRACT DEVELOPTMENT TEST\n",
    "dtrain, dvalid = train_test_split(train, random_state=123, train_size=0.99)\n",
    "print(dtrain.shape)\n",
    "print(dvalid.shape)"
   ]
  },
  {
   "cell_type": "code",
   "execution_count": 24,
   "metadata": {},
   "outputs": [
    {
     "data": {
      "text/html": [
       "<div>\n",
       "<style scoped>\n",
       "    .dataframe tbody tr th:only-of-type {\n",
       "        vertical-align: middle;\n",
       "    }\n",
       "\n",
       "    .dataframe tbody tr th {\n",
       "        vertical-align: top;\n",
       "    }\n",
       "\n",
       "    .dataframe thead th {\n",
       "        text-align: right;\n",
       "    }\n",
       "</style>\n",
       "<table border=\"1\" class=\"dataframe\">\n",
       "  <thead>\n",
       "    <tr style=\"text-align: right;\">\n",
       "      <th></th>\n",
       "      <th>train_id</th>\n",
       "      <th>name</th>\n",
       "      <th>item_condition_id</th>\n",
       "      <th>category_name</th>\n",
       "      <th>brand_name</th>\n",
       "      <th>price</th>\n",
       "      <th>shipping</th>\n",
       "      <th>item_description</th>\n",
       "      <th>seq_item_description</th>\n",
       "      <th>seq_name</th>\n",
       "      <th>target</th>\n",
       "    </tr>\n",
       "  </thead>\n",
       "  <tbody>\n",
       "    <tr>\n",
       "      <th>407853</th>\n",
       "      <td>407853</td>\n",
       "      <td>maroon velvet lisette shorts</td>\n",
       "      <td>1</td>\n",
       "      <td>1162</td>\n",
       "      <td>737</td>\n",
       "      <td>22.0</td>\n",
       "      <td>1</td>\n",
       "      <td>brand new from brandy melville</td>\n",
       "      <td>[16, 5, 43, 536, 587]</td>\n",
       "      <td>[836, 1038, 18025, 129]</td>\n",
       "      <td>-0.175509</td>\n",
       "    </tr>\n",
       "    <tr>\n",
       "      <th>748699</th>\n",
       "      <td>748699</td>\n",
       "      <td>Benefit Roller Lash Mascara FULL SIZE</td>\n",
       "      <td>2</td>\n",
       "      <td>26</td>\n",
       "      <td>574</td>\n",
       "      <td>14.0</td>\n",
       "      <td>1</td>\n",
       "      <td>Benefit Roller Lash Mascara FULL SIZE in the c...</td>\n",
       "      <td>[1232, 2593, 1292, 643, 152, 6, 7, 2, 48, 24, ...</td>\n",
       "      <td>[1232, 2593, 1292, 643, 152, 6]</td>\n",
       "      <td>-0.287907</td>\n",
       "    </tr>\n",
       "    <tr>\n",
       "      <th>320295</th>\n",
       "      <td>320295</td>\n",
       "      <td>Holographic Ipsy Bag</td>\n",
       "      <td>2</td>\n",
       "      <td>1303</td>\n",
       "      <td>5265</td>\n",
       "      <td>7.0</td>\n",
       "      <td>0</td>\n",
       "      <td>Used once</td>\n",
       "      <td>[31, 96]</td>\n",
       "      <td>[2875, 2240, 101]</td>\n",
       "      <td>-0.453202</td>\n",
       "    </tr>\n",
       "    <tr>\n",
       "      <th>1094144</th>\n",
       "      <td>1094144</td>\n",
       "      <td>Samsung galaxy on5 10/10 con. W/metropcs</td>\n",
       "      <td>2</td>\n",
       "      <td>81</td>\n",
       "      <td>4121</td>\n",
       "      <td>40.0</td>\n",
       "      <td>1</td>\n",
       "      <td>No description yet</td>\n",
       "      <td>[12, 68, 79]</td>\n",
       "      <td>[440, 438, 12298, 95, 95, 3901, 245, 11128]</td>\n",
       "      <td>-0.023501</td>\n",
       "    </tr>\n",
       "    <tr>\n",
       "      <th>1310650</th>\n",
       "      <td>1310650</td>\n",
       "      <td>Country Heat</td>\n",
       "      <td>2</td>\n",
       "      <td>97</td>\n",
       "      <td>5265</td>\n",
       "      <td>28.0</td>\n",
       "      <td>0</td>\n",
       "      <td>Comes with 4 DVDs and a bonus DVD. Also comes ...</td>\n",
       "      <td>[103, 9, 47, 2354, 1, 4, 2205, 699, 154, 103, ...</td>\n",
       "      <td>[2215, 1160]</td>\n",
       "      <td>-0.114556</td>\n",
       "    </tr>\n",
       "    <tr>\n",
       "      <th>...</th>\n",
       "      <td>...</td>\n",
       "      <td>...</td>\n",
       "      <td>...</td>\n",
       "      <td>...</td>\n",
       "      <td>...</td>\n",
       "      <td>...</td>\n",
       "      <td>...</td>\n",
       "      <td>...</td>\n",
       "      <td>...</td>\n",
       "      <td>...</td>\n",
       "      <td>...</td>\n",
       "    </tr>\n",
       "    <tr>\n",
       "      <th>1241052</th>\n",
       "      <td>1241052</td>\n",
       "      <td>Urban Decay Naked Skin Foundation</td>\n",
       "      <td>3</td>\n",
       "      <td>29</td>\n",
       "      <td>5265</td>\n",
       "      <td>15.0</td>\n",
       "      <td>1</td>\n",
       "      <td>About 80% or more full, no lid. Shade 2.0. Loo...</td>\n",
       "      <td>[222, 1716, 23, 86, 152, 12, 1398, 428, 22, 20...</td>\n",
       "      <td>[417, 677, 1108, 191, 405]</td>\n",
       "      <td>-0.270936</td>\n",
       "    </tr>\n",
       "    <tr>\n",
       "      <th>1066306</th>\n",
       "      <td>1066306</td>\n",
       "      <td>VS LOVE SPELL MIST</td>\n",
       "      <td>1</td>\n",
       "      <td>11</td>\n",
       "      <td>4953</td>\n",
       "      <td>13.0</td>\n",
       "      <td>0</td>\n",
       "      <td>Brand new 8.4 fl oz</td>\n",
       "      <td>[16, 5, 81, 47, 507, 151]</td>\n",
       "      <td>[105, 204, 2946, 822]</td>\n",
       "      <td>-0.306049</td>\n",
       "    </tr>\n",
       "    <tr>\n",
       "      <th>28030</th>\n",
       "      <td>28030</td>\n",
       "      <td>F21 Floral Sweatshirt</td>\n",
       "      <td>2</td>\n",
       "      <td>1259</td>\n",
       "      <td>1646</td>\n",
       "      <td>14.0</td>\n",
       "      <td>0</td>\n",
       "      <td>I'm not sure if my daughter ever wore this. It...</td>\n",
       "      <td>[243, 40, 372, 65, 33, 1334, 935, 413, 29, 19,...</td>\n",
       "      <td>[2529, 283, 560]</td>\n",
       "      <td>-0.287907</td>\n",
       "    </tr>\n",
       "    <tr>\n",
       "      <th>277869</th>\n",
       "      <td>277869</td>\n",
       "      <td>Necklace pearl stones</td>\n",
       "      <td>1</td>\n",
       "      <td>1204</td>\n",
       "      <td>5265</td>\n",
       "      <td>23.0</td>\n",
       "      <td>0</td>\n",
       "      <td>jewelry necklace, Biwa Pearl Stones, 19.5 inch...</td>\n",
       "      <td>[448, 257, 50608, 1010, 1424, 1390, 34, 511, 1...</td>\n",
       "      <td>[257, 1010, 1424]</td>\n",
       "      <td>-0.164318</td>\n",
       "    </tr>\n",
       "    <tr>\n",
       "      <th>773630</th>\n",
       "      <td>773630</td>\n",
       "      <td>Rosetta Stone Espanol \"Totale\" Level 1-3</td>\n",
       "      <td>2</td>\n",
       "      <td>852</td>\n",
       "      <td>5265</td>\n",
       "      <td>61.0</td>\n",
       "      <td>0</td>\n",
       "      <td>Spanish Latin America version levels 1,2 and 3</td>\n",
       "      <td>[6643, 20978, 2632, 1654, 4555, 28, 22, 1, 32]</td>\n",
       "      <td>[19299, 852, 27670, 31224, 2515, 28, 32]</td>\n",
       "      <td>0.085247</td>\n",
       "    </tr>\n",
       "  </tbody>\n",
       "</table>\n",
       "<p>1467709 rows × 11 columns</p>\n",
       "</div>"
      ],
      "text/plain": [
       "         train_id                                      name  \\\n",
       "407853     407853              maroon velvet lisette shorts   \n",
       "748699     748699     Benefit Roller Lash Mascara FULL SIZE   \n",
       "320295     320295                      Holographic Ipsy Bag   \n",
       "1094144   1094144  Samsung galaxy on5 10/10 con. W/metropcs   \n",
       "1310650   1310650                              Country Heat   \n",
       "...           ...                                       ...   \n",
       "1241052   1241052         Urban Decay Naked Skin Foundation   \n",
       "1066306   1066306                        VS LOVE SPELL MIST   \n",
       "28030       28030                     F21 Floral Sweatshirt   \n",
       "277869     277869                     Necklace pearl stones   \n",
       "773630     773630  Rosetta Stone Espanol \"Totale\" Level 1-3   \n",
       "\n",
       "         item_condition_id  category_name  brand_name  price  shipping  \\\n",
       "407853                   1           1162         737   22.0         1   \n",
       "748699                   2             26         574   14.0         1   \n",
       "320295                   2           1303        5265    7.0         0   \n",
       "1094144                  2             81        4121   40.0         1   \n",
       "1310650                  2             97        5265   28.0         0   \n",
       "...                    ...            ...         ...    ...       ...   \n",
       "1241052                  3             29        5265   15.0         1   \n",
       "1066306                  1             11        4953   13.0         0   \n",
       "28030                    2           1259        1646   14.0         0   \n",
       "277869                   1           1204        5265   23.0         0   \n",
       "773630                   2            852        5265   61.0         0   \n",
       "\n",
       "                                          item_description  \\\n",
       "407853                      brand new from brandy melville   \n",
       "748699   Benefit Roller Lash Mascara FULL SIZE in the c...   \n",
       "320295                                           Used once   \n",
       "1094144                                 No description yet   \n",
       "1310650  Comes with 4 DVDs and a bonus DVD. Also comes ...   \n",
       "...                                                    ...   \n",
       "1241052  About 80% or more full, no lid. Shade 2.0. Loo...   \n",
       "1066306                                Brand new 8.4 fl oz   \n",
       "28030    I'm not sure if my daughter ever wore this. It...   \n",
       "277869   jewelry necklace, Biwa Pearl Stones, 19.5 inch...   \n",
       "773630      Spanish Latin America version levels 1,2 and 3   \n",
       "\n",
       "                                      seq_item_description  \\\n",
       "407853                               [16, 5, 43, 536, 587]   \n",
       "748699   [1232, 2593, 1292, 643, 152, 6, 7, 2, 48, 24, ...   \n",
       "320295                                            [31, 96]   \n",
       "1094144                                       [12, 68, 79]   \n",
       "1310650  [103, 9, 47, 2354, 1, 4, 2205, 699, 154, 103, ...   \n",
       "...                                                    ...   \n",
       "1241052  [222, 1716, 23, 86, 152, 12, 1398, 428, 22, 20...   \n",
       "1066306                          [16, 5, 81, 47, 507, 151]   \n",
       "28030    [243, 40, 372, 65, 33, 1334, 935, 413, 29, 19,...   \n",
       "277869   [448, 257, 50608, 1010, 1424, 1390, 34, 511, 1...   \n",
       "773630      [6643, 20978, 2632, 1654, 4555, 28, 22, 1, 32]   \n",
       "\n",
       "                                            seq_name    target  \n",
       "407853                       [836, 1038, 18025, 129] -0.175509  \n",
       "748699               [1232, 2593, 1292, 643, 152, 6] -0.287907  \n",
       "320295                             [2875, 2240, 101] -0.453202  \n",
       "1094144  [440, 438, 12298, 95, 95, 3901, 245, 11128] -0.023501  \n",
       "1310650                                 [2215, 1160] -0.114556  \n",
       "...                                              ...       ...  \n",
       "1241052                   [417, 677, 1108, 191, 405] -0.270936  \n",
       "1066306                        [105, 204, 2946, 822] -0.306049  \n",
       "28030                               [2529, 283, 560] -0.287907  \n",
       "277869                             [257, 1010, 1424] -0.164318  \n",
       "773630      [19299, 852, 27670, 31224, 2515, 28, 32]  0.085247  \n",
       "\n",
       "[1467709 rows x 11 columns]"
      ]
     },
     "execution_count": 24,
     "metadata": {},
     "output_type": "execute_result"
    }
   ],
   "source": [
    "dtrain"
   ]
  },
  {
   "cell_type": "code",
   "execution_count": 18,
   "metadata": {
    "_cell_guid": "22f34be1-bd4a-4ad1-a931-62873816e8ee",
    "_uuid": "2f876f24ae0e5a82bdf9b0568f796cce5e2fed2c"
   },
   "outputs": [],
   "source": [
    "#KERAS DATA DEFINITION\n",
    "from keras.preprocessing.sequence import pad_sequences\n",
    "\n",
    "MAX_NAME_SEQ = 10\n",
    "MAX_ITEM_DESC_SEQ = 75\n",
    "\n",
    "def get_keras_data(dataset):\n",
    "    X = {\n",
    "        'name': pad_sequences(dataset.seq_name, maxlen=MAX_NAME_SEQ) # (1467709, 10)\n",
    "        ,'item_desc': pad_sequences(dataset.seq_item_description, maxlen=MAX_ITEM_DESC_SEQ) # (1467709, 75)\n",
    "        ,'brand_name': np.array(dataset.brand_name) # (1467709,)\n",
    "        ,'category_name': np.array(dataset.category_name)\n",
    "        ,'item_condition': np.array(dataset.item_condition_id)\n",
    "        ,'num_vars': np.array(dataset[[\"shipping\"]])\n",
    "    }\n",
    "    return X\n",
    "\n",
    "X_train = get_keras_data(dtrain)\n",
    "X_valid = get_keras_data(dvalid)\n",
    "X_test = get_keras_data(test)"
   ]
  },
  {
   "cell_type": "code",
   "execution_count": 28,
   "metadata": {},
   "outputs": [
    {
     "data": {
      "text/plain": [
       "(1467709, 10)"
      ]
     },
     "execution_count": 28,
     "metadata": {},
     "output_type": "execute_result"
    }
   ],
   "source": [
    "pad_sequences(dtrain.seq_name, maxlen=MAX_NAME_SEQ).shape"
   ]
  },
  {
   "cell_type": "code",
   "execution_count": 27,
   "metadata": {},
   "outputs": [
    {
     "data": {
      "text/plain": [
       "(1467709,)"
      ]
     },
     "execution_count": 27,
     "metadata": {},
     "output_type": "execute_result"
    }
   ],
   "source": [
    "np.array(dtrain.brand_name).shape"
   ]
  },
  {
   "cell_type": "code",
   "execution_count": 19,
   "metadata": {
    "_cell_guid": "79428c10-e754-4e0e-a8be-ecbe74ef55ff",
    "_uuid": "8af261410908e6c713ca7de01c3c2c549debf779"
   },
   "outputs": [
    {
     "name": "stdout",
     "output_type": "stream",
     "text": [
      "Model: \"model\"\n",
      "__________________________________________________________________________________________________\n",
      " Layer (type)                   Output Shape         Param #     Connected to                     \n",
      "==================================================================================================\n",
      " brand_name (InputLayer)        [(None, 1)]          0           []                               \n",
      "                                                                                                  \n",
      " category_name (InputLayer)     [(None, 1)]          0           []                               \n",
      "                                                                                                  \n",
      " item_condition (InputLayer)    [(None, 1)]          0           []                               \n",
      "                                                                                                  \n",
      " item_desc (InputLayer)         [(None, 75)]         0           []                               \n",
      "                                                                                                  \n",
      " name (InputLayer)              [(None, 10)]         0           []                               \n",
      "                                                                                                  \n",
      " embedding_2 (Embedding)        (None, 1, 10)        52900       ['brand_name[0][0]']             \n",
      "                                                                                                  \n",
      " embedding_3 (Embedding)        (None, 1, 10)        13110       ['category_name[0][0]']          \n",
      "                                                                                                  \n",
      " embedding_4 (Embedding)        (None, 1, 5)         30          ['item_condition[0][0]']         \n",
      "                                                                                                  \n",
      " embedding_1 (Embedding)        (None, 75, 50)       12954400    ['item_desc[0][0]']              \n",
      "                                                                                                  \n",
      " embedding (Embedding)          (None, 10, 50)       12954400    ['name[0][0]']                   \n",
      "                                                                                                  \n",
      " flatten (Flatten)              (None, 10)           0           ['embedding_2[0][0]']            \n",
      "                                                                                                  \n",
      " flatten_1 (Flatten)            (None, 10)           0           ['embedding_3[0][0]']            \n",
      "                                                                                                  \n",
      " flatten_2 (Flatten)            (None, 5)            0           ['embedding_4[0][0]']            \n",
      "                                                                                                  \n",
      " gru (GRU)                      (None, 16)           3264        ['embedding_1[0][0]']            \n",
      "                                                                                                  \n",
      " gru_1 (GRU)                    (None, 8)            1440        ['embedding[0][0]']              \n",
      "                                                                                                  \n",
      " num_vars (InputLayer)          [(None, 1)]          0           []                               \n",
      "                                                                                                  \n",
      " concatenate (Concatenate)      (None, 50)           0           ['flatten[0][0]',                \n",
      "                                                                  'flatten_1[0][0]',              \n",
      "                                                                  'flatten_2[0][0]',              \n",
      "                                                                  'gru[0][0]',                    \n",
      "                                                                  'gru_1[0][0]',                  \n",
      "                                                                  'num_vars[0][0]']               \n",
      "                                                                                                  \n",
      " dense (Dense)                  (None, 128)          6528        ['concatenate[0][0]']            \n",
      "                                                                                                  \n",
      " dropout (Dropout)              (None, 128)          0           ['dense[0][0]']                  \n",
      "                                                                                                  \n",
      " dense_1 (Dense)                (None, 64)           8256        ['dropout[0][0]']                \n",
      "                                                                                                  \n",
      " dropout_1 (Dropout)            (None, 64)           0           ['dense_1[0][0]']                \n",
      "                                                                                                  \n",
      " dense_2 (Dense)                (None, 1)            65          ['dropout_1[0][0]']              \n",
      "                                                                                                  \n",
      "==================================================================================================\n",
      "Total params: 25,994,393\n",
      "Trainable params: 25,994,393\n",
      "Non-trainable params: 0\n",
      "__________________________________________________________________________________________________\n"
     ]
    }
   ],
   "source": [
    "#KERAS MODEL DEFINITION\n",
    "from keras.layers import Input, Dropout, Dense, BatchNormalization, Activation, concatenate, GRU, Embedding, Flatten\n",
    "from keras.models import Model\n",
    "from keras.callbacks import ModelCheckpoint, Callback, EarlyStopping\n",
    "from keras import backend as K\n",
    "\n",
    "def get_callbacks(filepath, patience=2):\n",
    "    es = EarlyStopping('val_loss', patience=patience, mode=\"min\")\n",
    "    msave = ModelCheckpoint(filepath, save_best_only=True)\n",
    "    return [es, msave]\n",
    "\n",
    "def rmsle_cust(y_true, y_pred):\n",
    "    first_log = K.log(K.clip(y_pred, K.epsilon(), None) + 1.)\n",
    "    second_log = K.log(K.clip(y_true, K.epsilon(), None) + 1.)\n",
    "    return K.sqrt(K.mean(K.square(first_log - second_log), axis=-1))\n",
    "\n",
    "def get_model():\n",
    "    #params\n",
    "    dr_r = 0.1\n",
    "    \n",
    "    #Inputs\n",
    "    name = Input(shape=[X_train[\"name\"].shape[1]], name=\"name\")\n",
    "    item_desc = Input(shape=[X_train[\"item_desc\"].shape[1]], name=\"item_desc\")\n",
    "    brand_name = Input(shape=[1], name=\"brand_name\")\n",
    "    category_name = Input(shape=[1], name=\"category_name\")\n",
    "    item_condition = Input(shape=[1], name=\"item_condition\")\n",
    "    num_vars = Input(shape=[X_train[\"num_vars\"].shape[1]], name=\"num_vars\")\n",
    "    \n",
    "    #Embeddings layers\n",
    "    emb_name = Embedding(MAX_TEXT, 50)(name)\n",
    "    emb_item_desc = Embedding(MAX_TEXT, 50)(item_desc)\n",
    "    emb_brand_name = Embedding(MAX_BRAND, 10)(brand_name)\n",
    "    emb_category_name = Embedding(MAX_CATEGORY, 10)(category_name)\n",
    "    emb_item_condition = Embedding(MAX_CONDITION, 5)(item_condition)\n",
    "    \n",
    "    #rnn layer\n",
    "    rnn_layer1 = GRU(16) (emb_item_desc)\n",
    "    rnn_layer2 = GRU(8) (emb_name)\n",
    "    \n",
    "    #main layer\n",
    "    main_l = concatenate([\n",
    "        Flatten() (emb_brand_name)\n",
    "        , Flatten() (emb_category_name)\n",
    "        , Flatten() (emb_item_condition)\n",
    "        , rnn_layer1\n",
    "        , rnn_layer2\n",
    "        , num_vars\n",
    "    ])\n",
    "    main_l = Dropout(dr_r) (Dense(128) (main_l))\n",
    "    main_l = Dropout(dr_r) (Dense(64) (main_l))\n",
    "    \n",
    "    #output\n",
    "    output = Dense(1, activation=\"linear\") (main_l)\n",
    "    \n",
    "    #model\n",
    "    model = Model([name, item_desc, brand_name\n",
    "                   , category_name, item_condition, num_vars], output)\n",
    "    model.compile(loss=\"mse\", optimizer=\"adam\", metrics=[\"mae\", rmsle_cust])\n",
    "    \n",
    "    return model\n",
    "\n",
    "    \n",
    "model = get_model()\n",
    "model.summary()"
   ]
  },
  {
   "cell_type": "code",
   "execution_count": 20,
   "metadata": {
    "_cell_guid": "b19fde2e-e454-48fd-b336-de0b15051fc8",
    "_uuid": "5fa44a0c7fcca9b0f0c15719be8ac38a2ee7cea8"
   },
   "outputs": [
    {
     "name": "stdout",
     "output_type": "stream",
     "text": [
      "Epoch 1/5\n",
      "74/74 [==============================] - 226s 3s/step - loss: 0.0294 - mae: 0.1303 - rmsle_cust: 0.0156 - val_loss: 0.0184 - val_mae: 0.1030 - val_rmsle_cust: 0.0135\n",
      "Epoch 2/5\n",
      "74/74 [==============================] - 212s 3s/step - loss: 0.0182 - mae: 0.1022 - rmsle_cust: 0.0133 - val_loss: 0.0162 - val_mae: 0.0965 - val_rmsle_cust: 0.0128\n",
      "Epoch 3/5\n",
      "74/74 [==============================] - 222s 3s/step - loss: 0.0161 - mae: 0.0960 - rmsle_cust: 0.0126 - val_loss: 0.0155 - val_mae: 0.0945 - val_rmsle_cust: 0.0125\n",
      "Epoch 4/5\n",
      "74/74 [==============================] - 197s 3s/step - loss: 0.0149 - mae: 0.0924 - rmsle_cust: 0.0122 - val_loss: 0.0154 - val_mae: 0.0937 - val_rmsle_cust: 0.0124\n",
      "Epoch 5/5\n",
      "74/74 [==============================] - 193s 3s/step - loss: 0.0142 - mae: 0.0901 - rmsle_cust: 0.0119 - val_loss: 0.0153 - val_mae: 0.0940 - val_rmsle_cust: 0.0123\n"
     ]
    },
    {
     "data": {
      "text/plain": [
       "<keras.callbacks.History at 0x1f61b328bb0>"
      ]
     },
     "execution_count": 20,
     "metadata": {},
     "output_type": "execute_result"
    }
   ],
   "source": [
    "#FITTING THE MODEL\n",
    "BATCH_SIZE = 20000\n",
    "epochs = 5\n",
    "\n",
    "model = get_model()\n",
    "model.fit(X_train, dtrain.target, epochs=epochs, batch_size=BATCH_SIZE\n",
    "          , validation_data=(X_valid, dvalid.target)\n",
    "          , verbose=1)"
   ]
  },
  {
   "cell_type": "code",
   "execution_count": 21,
   "metadata": {
    "_cell_guid": "0bfc00c9-37d7-4ebe-9f9c-2bf0661aef3c",
    "_uuid": "5065d64200d6c4675901e727ddf87afc8136a0c3"
   },
   "outputs": [
    {
     "name": "stdout",
     "output_type": "stream",
     "text": [
      " RMSLE error on dev test: 0.4867783380584693\n"
     ]
    }
   ],
   "source": [
    "#EVLUEATE THE MODEL ON DEV TEST: What is it doing?\n",
    "val_preds = model.predict(X_valid)\n",
    "val_preds = target_scaler.inverse_transform(val_preds)\n",
    "val_preds = np.exp(val_preds)+1\n",
    "\n",
    "#mean_absolute_error, mean_squared_log_error\n",
    "y_true = np.array(dvalid.price.values)\n",
    "y_pred = val_preds[:,0]\n",
    "v_rmsle = rmsle(y_true, y_pred)\n",
    "print(\" RMSLE error on dev test: \"+str(v_rmsle))"
   ]
  },
  {
   "cell_type": "code",
   "execution_count": 22,
   "metadata": {
    "_cell_guid": "996256b1-8628-4a8a-9e75-2eae09fa7d6e",
    "_uuid": "59772da91cbcb781396138d860d7875a23accaa9"
   },
   "outputs": [
    {
     "name": "stderr",
     "output_type": "stream",
     "text": [
      "C:\\Users\\HOME\\AppData\\Local\\Temp/ipykernel_17412/2545304726.py:7: SettingWithCopyWarning: \n",
      "A value is trying to be set on a copy of a slice from a DataFrame.\n",
      "Try using .loc[row_indexer,col_indexer] = value instead\n",
      "\n",
      "See the caveats in the documentation: https://pandas.pydata.org/pandas-docs/stable/user_guide/indexing.html#returning-a-view-versus-a-copy\n",
      "  submission[\"price\"] = preds\n"
     ]
    }
   ],
   "source": [
    "#CREATE PREDICTIONS\n",
    "preds = model.predict(X_test, batch_size=BATCH_SIZE)\n",
    "preds = target_scaler.inverse_transform(preds)\n",
    "preds = np.exp(preds)-1\n",
    "\n",
    "submission = test[[\"test_id\"]]\n",
    "submission[\"price\"] = preds"
   ]
  },
  {
   "cell_type": "code",
   "execution_count": 23,
   "metadata": {
    "_cell_guid": "8b76a6c9-fa82-4011-82ab-0384b8e2e5b4",
    "_uuid": "270683b6ea8391d536aa86deeb7d0b381a9006ba"
   },
   "outputs": [
    {
     "data": {
      "text/plain": [
       "<AxesSubplot:>"
      ]
     },
     "execution_count": 23,
     "metadata": {},
     "output_type": "execute_result"
    },
    {
     "data": {
      "image/png": "[encoded data removed]",
      "text/plain": [
       "<Figure size 432x288 with 1 Axes>"
      ]
     },
     "metadata": {
      "needs_background": "light"
     },
     "output_type": "display_data"
    }
   ],
   "source": [
    "submission.to_csv(\"./myNNsubmission.csv\", index=False)\n",
    "submission.price.hist()"
   ]
  },
  {
   "cell_type": "markdown",
   "metadata": {
    "_cell_guid": "4f194864-1f59-4b94-871b-3b3ee6f01fd2",
    "_uuid": "d0e07027d44dcda199db405c974a05276a3fb4ac"
   },
   "source": [
    "이것은 nn이 이 문제를 해결할 수 있는 방법의 예일 뿐입니다. 커널의 잠재적인 개선 사항:\n",
    "     - 임베딩 팩터 증가\n",
    "     - 배치 크기 줄이기\n",
    "     - 일괄 정규화 추가\n",
    "     - LSTM, 양방향 RNN, 스택 RNN 시도\n",
    "     - 더 조밀한 레이어 또는 더 많은 rnn 출력으로 시도\n",
    "     - 등. 아니면 새로운 아키텍처를 시도해보세요!\n",
    "    \n",
    "어떤 의견이든 환영합니다. 감사해요!"
   ]
  },
  {
   "cell_type": "code",
   "execution_count": null,
   "metadata": {},
   "outputs": [],
   "source": []
  }
 ],
 "metadata": {
  "kernelspec": {
   "display_name": "Python 3 (ipykernel)",
   "language": "python",
   "name": "python3"
  },
  "language_info": {
   "codemirror_mode": {
    "name": "ipython",
    "version": 3
   },
   "file_extension": ".py",
   "mimetype": "text/x-python",
   "name": "python",
   "nbconvert_exporter": "python",
   "pygments_lexer": "ipython3",
   "version": "3.9.7"
  }
 },
 "nbformat": 4,
 "nbformat_minor": 1
}
