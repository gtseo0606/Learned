{
 "cells": [
  {
   "cell_type": "markdown",
   "metadata": {
    "_cell_guid": "049dad6e-bee5-4822-9e0e-ae11b0e7f26a",
    "_uuid": "d9c4e75689c538b41aad45753aba45d601011830"
   },
   "source": [
    "# **소개**\n",
    "\n",
    "matplotlib를 사용한 [Mercari 가격 제안 챌린지](https://www.kaggle.com/c/mercari-price-suggestion-challenge#description)의 초기 설명 데이터 분석입니다. [bokeh](https://bokeh.pydata.org/en/latest/) 및 [Plot.ly](https://plot.ly/feed/) - 아름다운 대화형 플롯과 대시보드를 생성하는 시각화 도구입니다. 이 대회는 일본 최대 커뮤니티 기반 쇼핑 앱인 Mercari가 주최하며, 주요 목표는 Mercari가 상품 정보를 바탕으로 판매자에게 제안해야 하는 정확한 가격을 예측하는 것입니다.\n",
    "\n",
    "클러스터링 주제에 대한 사전 처리 문서 및 기계 학습 기술(K-평균 및 LDA)에 대한 지침을 제공합니다. 이 커널은 두 부분으로 나뉩니다.\n",
    "\n",
    "1. 탐색적 데이터 분석\n",
    "2. 텍스트 처리\n",
    "    2.1. 토큰화 및 tf-idf 알고리즘\n",
    "    2.2. K-평균 클러스터링\n",
    "    2.3. 잠재 디리클레 할당(LDA) / 주제 모델링"
   ]
  },
  {
   "cell_type": "code",
   "execution_count": 1,
   "metadata": {
    "_cell_guid": "4f211658-d449-4052-87c4-0ab5d10545e8",
    "_kg_hide-input": true,
    "_kg_hide-output": true,
    "_uuid": "af187b17315c15081fcdcdc99942db794844d90d"
   },
   "outputs": [
    {
     "data": {
      "text/html": [
       "        <script type=\"text/javascript\">\n",
       "        window.PlotlyConfig = {MathJaxConfig: 'local'};\n",
       "        if (window.MathJax) {MathJax.Hub.Config({SVG: {font: \"STIX-Web\"}});}\n",
       "        if (typeof require !== 'undefined') {\n",
       "        require.undef(\"plotly\");\n",
       "        requirejs.config({\n",
       "            paths: {\n",
       "                'plotly': ['https://cdn.plot.ly/plotly-latest.min']\n",
       "            }\n",
       "        });\n",
       "        require(['plotly'], function(Plotly) {\n",
       "            window._Plotly = Plotly;\n",
       "        });\n",
       "        }\n",
       "        </script>\n",
       "        "
      ]
     },
     "metadata": {},
     "output_type": "display_data"
    }
   ],
   "source": [
    "import nltk\n",
    "import string\n",
    "import re\n",
    "import numpy as np\n",
    "import pandas as pd\n",
    "import pickle\n",
    "#import lda\n",
    "\n",
    "import matplotlib.pyplot as plt\n",
    "import seaborn as sns\n",
    "sns.set(style=\"white\")\n",
    "\n",
    "from nltk.stem.porter import *\n",
    "from nltk.tokenize import word_tokenize, sent_tokenize\n",
    "from nltk.corpus import stopwords\n",
    "from sklearn.feature_extraction import _stop_words\n",
    "\n",
    "from collections import Counter\n",
    "#from wordcloud import WordCloud\n",
    "from sklearn.feature_extraction.text import TfidfVectorizer, CountVectorizer\n",
    "from sklearn.decomposition import LatentDirichletAllocation\n",
    "\n",
    "import plotly.offline as py\n",
    "py.init_notebook_mode(connected=True)\n",
    "import plotly.graph_objs as go\n",
    "import plotly.tools as tls\n",
    "%matplotlib inline\n",
    "\n",
    "import bokeh.plotting as bp\n",
    "from bokeh.models import HoverTool, BoxSelectTool\n",
    "from bokeh.models import ColumnDataSource\n",
    "from bokeh.plotting import figure, show, output_notebook\n",
    "#from bokeh.transform import factor_cmap\n",
    "\n",
    "import warnings\n",
    "warnings.filterwarnings('ignore')\n",
    "import logging\n",
    "logging.getLogger(\"lda\").setLevel(logging.WARNING)"
   ]
  },
  {
   "cell_type": "markdown",
   "metadata": {
    "_cell_guid": "5fa6bae8-c5fc-4c1a-8339-acfa14aac199",
    "_kg_hide-input": true,
    "_kg_hide-output": true,
    "_uuid": "d82faf4720f0574d2be682880d2f662b96918ffa"
   },
   "source": [
    "# **탐색 데이터 분석**\n",
    "데이터를 처음 보면 고유 식별자(item_id) 외에 이 모델에는 7개의 변수가 있습니다. 이 노트북은 간단한 통계 요약과 함께 각각을 순차적으로 살펴볼 것입니다.\n",
    "\n",
    "1. **수치적/연속적 특징**\n",
    "     1. 가격: 항목의 최종 입찰 가격. 이것은 테스트 세트에서 예측해야 하는 응답/독립 변수가 될 것입니다.\n",
    "     2. 배송비\n",
    " \n",
    "1. **카테고리 특징**:\n",
    "     1. 배송비 : 판매자가 배송비를 부담하면 1, 구매자가 부담하면 0\n",
    "     2. item_condition_id : 판매자가 제공한 상품의 상태\n",
    "     1. name : 아이템의 이름\n",
    "     2. brand_name : 아이템의 생산자 브랜드명\n",
    "     2. category_name: \"\\\"로 구분된 항목의 단일 또는 다중 범주\n",
    "     3. item_description: 제거된 단어를 포함할 수 있는 항목에 대한 간단한 설명, [rm] 표시"
   ]
  },
  {
   "cell_type": "code",
   "execution_count": 7,
   "metadata": {},
   "outputs": [
    {
     "name": "stdout",
     "output_type": "stream",
     "text": [
      "Requirement already satisfied: py7zr in c:\\users\\home\\anaconda3\\lib\\site-packages (0.18.1)\n",
      "Requirement already satisfied: pybcj>=0.5.0 in c:\\users\\home\\anaconda3\\lib\\site-packages (from py7zr) (0.5.0)\n",
      "Requirement already satisfied: pyppmd<0.18.0,>=0.17.0 in c:\\users\\home\\anaconda3\\lib\\site-packages (from py7zr) (0.17.4)\n",
      "Requirement already satisfied: brotli>=1.0.9 in c:\\users\\home\\anaconda3\\lib\\site-packages (from py7zr) (1.0.9)\n",
      "Requirement already satisfied: zipfile-deflate64>=0.2.0 in c:\\users\\home\\anaconda3\\lib\\site-packages (from py7zr) (0.2.0)\n",
      "Requirement already satisfied: pycryptodomex>=3.6.6 in c:\\users\\home\\anaconda3\\lib\\site-packages (from py7zr) (3.14.1)\n",
      "Requirement already satisfied: multivolumefile>=0.2.3 in c:\\users\\home\\anaconda3\\lib\\site-packages (from py7zr) (0.2.3)\n",
      "Requirement already satisfied: texttable in c:\\users\\home\\anaconda3\\lib\\site-packages (from py7zr) (1.6.4)\n",
      "Requirement already satisfied: pyzstd>=0.14.4 in c:\\users\\home\\anaconda3\\lib\\site-packages (from py7zr) (0.15.2)\n"
     ]
    }
   ],
   "source": [
    "!pip install py7zr\n",
    "import py7zr\n",
    "import os\n",
    "\n",
    "with py7zr.SevenZipFile(\"./input/train.tsv.7z\", 'r') as archive:\n",
    "    archive.extractall(path=\"./input/\")\n",
    "\n",
    "with py7zr.SevenZipFile(\"./input/test.tsv.7z\", 'r') as archive:\n",
    "    archive.extractall(path=\"./input/\")"
   ]
  },
  {
   "cell_type": "code",
   "execution_count": 2,
   "metadata": {
    "_cell_guid": "fc7f8ff2-a9f2-488d-b9b8-0c47c1d64a9d",
    "_kg_hide-input": true,
    "_uuid": "122a209567af15b4422a75b50bfb8bb4c7b5fdfe"
   },
   "outputs": [],
   "source": [
    "PATH = \"./input/\""
   ]
  },
  {
   "cell_type": "code",
   "execution_count": 3,
   "metadata": {
    "_cell_guid": "6f1e2926-af11-4801-9df9-943162e72478",
    "_uuid": "ca7edb8850b4b2d5dfbe044e08cc709886348c2e"
   },
   "outputs": [],
   "source": [
    "train = pd.read_csv(f'{PATH}train.tsv', sep='\\t')\n",
    "test = pd.read_csv(f'{PATH}test.tsv', sep='\\t')"
   ]
  },
  {
   "cell_type": "code",
   "execution_count": 4,
   "metadata": {
    "_cell_guid": "5fe57507-8f62-4e90-afb4-f78d5ee174a0",
    "_uuid": "1a6310c7717bb6993ea79e4057f6d5a75e4c3c2a"
   },
   "outputs": [
    {
     "name": "stdout",
     "output_type": "stream",
     "text": [
      "(1482535, 8)\n",
      "(693359, 7)\n"
     ]
    }
   ],
   "source": [
    "# size of training and dataset\n",
    "print(train.shape)\n",
    "print(test.shape)"
   ]
  },
  {
   "cell_type": "code",
   "execution_count": 5,
   "metadata": {
    "_cell_guid": "f58f905d-8279-42fa-8877-862c1f23aff8",
    "_uuid": "b247cf361d89fc2431adc5150d0c4533691f71b2"
   },
   "outputs": [
    {
     "data": {
      "text/plain": [
       "train_id               int64\n",
       "name                  object\n",
       "item_condition_id      int64\n",
       "category_name         object\n",
       "brand_name            object\n",
       "price                float64\n",
       "shipping               int64\n",
       "item_description      object\n",
       "dtype: object"
      ]
     },
     "execution_count": 5,
     "metadata": {},
     "output_type": "execute_result"
    }
   ],
   "source": [
    "# different data types in the dataset: categorical (strings) and numeric\n",
    "train.dtypes"
   ]
  },
  {
   "cell_type": "code",
   "execution_count": 6,
   "metadata": {
    "_cell_guid": "8fd3b4d2-2bc9-47dc-8396-5980aad64a1f",
    "_uuid": "04c5b96c1de907bf9dc259a0a8d2e4df4f02375a"
   },
   "outputs": [
    {
     "data": {
      "text/html": [
       "<div>\n",
       "<style scoped>\n",
       "    .dataframe tbody tr th:only-of-type {\n",
       "        vertical-align: middle;\n",
       "    }\n",
       "\n",
       "    .dataframe tbody tr th {\n",
       "        vertical-align: top;\n",
       "    }\n",
       "\n",
       "    .dataframe thead th {\n",
       "        text-align: right;\n",
       "    }\n",
       "</style>\n",
       "<table border=\"1\" class=\"dataframe\">\n",
       "  <thead>\n",
       "    <tr style=\"text-align: right;\">\n",
       "      <th></th>\n",
       "      <th>train_id</th>\n",
       "      <th>name</th>\n",
       "      <th>item_condition_id</th>\n",
       "      <th>category_name</th>\n",
       "      <th>brand_name</th>\n",
       "      <th>price</th>\n",
       "      <th>shipping</th>\n",
       "      <th>item_description</th>\n",
       "    </tr>\n",
       "  </thead>\n",
       "  <tbody>\n",
       "    <tr>\n",
       "      <th>0</th>\n",
       "      <td>0</td>\n",
       "      <td>MLB Cincinnati Reds T Shirt Size XL</td>\n",
       "      <td>3</td>\n",
       "      <td>Men/Tops/T-shirts</td>\n",
       "      <td>NaN</td>\n",
       "      <td>10.0</td>\n",
       "      <td>1</td>\n",
       "      <td>No description yet</td>\n",
       "    </tr>\n",
       "    <tr>\n",
       "      <th>1</th>\n",
       "      <td>1</td>\n",
       "      <td>Razer BlackWidow Chroma Keyboard</td>\n",
       "      <td>3</td>\n",
       "      <td>Electronics/Computers &amp; Tablets/Components &amp; P...</td>\n",
       "      <td>Razer</td>\n",
       "      <td>52.0</td>\n",
       "      <td>0</td>\n",
       "      <td>This keyboard is in great condition and works ...</td>\n",
       "    </tr>\n",
       "    <tr>\n",
       "      <th>2</th>\n",
       "      <td>2</td>\n",
       "      <td>AVA-VIV Blouse</td>\n",
       "      <td>1</td>\n",
       "      <td>Women/Tops &amp; Blouses/Blouse</td>\n",
       "      <td>Target</td>\n",
       "      <td>10.0</td>\n",
       "      <td>1</td>\n",
       "      <td>Adorable top with a hint of lace and a key hol...</td>\n",
       "    </tr>\n",
       "    <tr>\n",
       "      <th>3</th>\n",
       "      <td>3</td>\n",
       "      <td>Leather Horse Statues</td>\n",
       "      <td>1</td>\n",
       "      <td>Home/Home Décor/Home Décor Accents</td>\n",
       "      <td>NaN</td>\n",
       "      <td>35.0</td>\n",
       "      <td>1</td>\n",
       "      <td>New with tags. Leather horses. Retail for [rm]...</td>\n",
       "    </tr>\n",
       "    <tr>\n",
       "      <th>4</th>\n",
       "      <td>4</td>\n",
       "      <td>24K GOLD plated rose</td>\n",
       "      <td>1</td>\n",
       "      <td>Women/Jewelry/Necklaces</td>\n",
       "      <td>NaN</td>\n",
       "      <td>44.0</td>\n",
       "      <td>0</td>\n",
       "      <td>Complete with certificate of authenticity</td>\n",
       "    </tr>\n",
       "  </tbody>\n",
       "</table>\n",
       "</div>"
      ],
      "text/plain": [
       "   train_id                                 name  item_condition_id  \\\n",
       "0         0  MLB Cincinnati Reds T Shirt Size XL                  3   \n",
       "1         1     Razer BlackWidow Chroma Keyboard                  3   \n",
       "2         2                       AVA-VIV Blouse                  1   \n",
       "3         3                Leather Horse Statues                  1   \n",
       "4         4                 24K GOLD plated rose                  1   \n",
       "\n",
       "                                       category_name brand_name  price  \\\n",
       "0                                  Men/Tops/T-shirts        NaN   10.0   \n",
       "1  Electronics/Computers & Tablets/Components & P...      Razer   52.0   \n",
       "2                        Women/Tops & Blouses/Blouse     Target   10.0   \n",
       "3                 Home/Home Décor/Home Décor Accents        NaN   35.0   \n",
       "4                            Women/Jewelry/Necklaces        NaN   44.0   \n",
       "\n",
       "   shipping                                   item_description  \n",
       "0         1                                 No description yet  \n",
       "1         0  This keyboard is in great condition and works ...  \n",
       "2         1  Adorable top with a hint of lace and a key hol...  \n",
       "3         1  New with tags. Leather horses. Retail for [rm]...  \n",
       "4         0          Complete with certificate of authenticity  "
      ]
     },
     "execution_count": 6,
     "metadata": {},
     "output_type": "execute_result"
    }
   ],
   "source": [
    "train.head()"
   ]
  },
  {
   "cell_type": "markdown",
   "metadata": {
    "_cell_guid": "74b924c4-fecc-4a5b-b112-87625297d3b9",
    "_uuid": "3dc222ed04ddb74c4cf4081192150dcd7de17d89"
   },
   "source": [
    "## Target Variable: **Price**"
   ]
  },
  {
   "cell_type": "markdown",
   "metadata": {
    "_cell_guid": "cb846bc6-01be-4f61-8c2b-49a6af0f8f29",
    "_uuid": "15c4c0eb2b7b138f52fba95cd11915ce4e15539f"
   },
   "source": [
    "다음 표준 검사는 응답 또는 target 변수를 사용하는 것입니다. 이 경우 Mercari의 마켓플레이스 판매자에게 제안하는 '가격'입니다. 교육에 포함된 모든 항목의 중앙값은 약 267달러이지만 일부 극단값이 100달러 이상이고 최대값이 2,009달러인 경우 변수의 분포가 왼쪽으로 크게 치우쳐 있습니다. 따라서 가격에 대한 로그 변환을 수행해 보겠습니다(0 및 음수 값을 피하기 위해 변환 전에 값에 +1을 추가했습니다)."
   ]
  },
  {
   "cell_type": "code",
   "execution_count": 7,
   "metadata": {
    "_cell_guid": "621d00c1-6f22-42bc-8709-fd77399b6492",
    "_uuid": "b3d3c18e99c7e49e81f3e51221ba26483f6ead81"
   },
   "outputs": [
    {
     "data": {
      "text/plain": [
       "count    1.482535e+06\n",
       "mean     2.673752e+01\n",
       "std      3.858607e+01\n",
       "min      0.000000e+00\n",
       "25%      1.000000e+01\n",
       "50%      1.700000e+01\n",
       "75%      2.900000e+01\n",
       "max      2.009000e+03\n",
       "Name: price, dtype: float64"
      ]
     },
     "execution_count": 7,
     "metadata": {},
     "output_type": "execute_result"
    }
   ],
   "source": [
    "train.price.describe()"
   ]
  },
  {
   "cell_type": "code",
   "execution_count": 8,
   "metadata": {
    "_cell_guid": "ba824e0f-b23a-4e70-b621-fc1d979e57d6",
    "_kg_hide-input": true,
    "_uuid": "314e556a16f6810ea01536c135d62e3e39d88431"
   },
   "outputs": [
    {
     "data": {
      "image/png": "[encoded data removed]",
      "text/plain": [
       "<Figure size 1440x720 with 2 Axes>"
      ]
     },
     "metadata": {
      "needs_background": "light"
     },
     "output_type": "display_data"
    }
   ],
   "source": [
    "# 원래\n",
    "plt.subplot(1, 2, 1)\n",
    "(train['price']).plot.hist(bins=50, figsize=(20,10), edgecolor='white',range=[0,250])\n",
    "plt.xlabel('price+', fontsize=17)\n",
    "plt.ylabel('frequency', fontsize=17)\n",
    "plt.tick_params(labelsize=15)\n",
    "plt.title('Price Distribution - Training Set', fontsize=17)\n",
    "\n",
    "# 로그 스케일\n",
    "plt.subplot(1, 2, 2)\n",
    "np.log(train['price']+1).plot.hist(bins=50, figsize=(20,10), edgecolor='white')\n",
    "plt.xlabel('log(price+1)', fontsize=17)\n",
    "plt.ylabel('frequency', fontsize=17)\n",
    "plt.tick_params(labelsize=15)\n",
    "plt.title('Log(Price) Distribution - Training Set', fontsize=17)\n",
    "plt.show()"
   ]
  },
  {
   "cell_type": "markdown",
   "metadata": {
    "_cell_guid": "91de0c69-7cb3-4503-aedf-9c396a1a8f19",
    "_uuid": "8ead68391b89acaa393f9f694c08addd4bd3a58a",
    "collapsed": true
   },
   "source": [
    "## **Shipping**\n",
    "\n",
    "배송료 부담은 판매자와 구매자가 적절하게 분할하여 상품 배송비의 절반 이상을 판매자가 부담합니다(55%). 또한 배송비를 부담해야 하는 사용자가 지불하는 평균 가격은 추가 배송비가 필요하지 않은 사용자보다 저렴합니다. 이는 판매자가 추가 배송을 보상하기 위해 더 낮은 가격이 필요하다는 우리의 인식과 일치합니다."
   ]
  },
  {
   "cell_type": "code",
   "execution_count": 9,
   "metadata": {
    "_cell_guid": "b3d38506-ebe3-4951-8fb0-9dd3de6c0851",
    "_kg_hide-input": true,
    "_uuid": "34df65c2eaa227091d1101a17ee43a99eae5e639"
   },
   "outputs": [
    {
     "data": {
      "text/plain": [
       "0    0.552726\n",
       "1    0.447274\n",
       "Name: shipping, dtype: float64"
      ]
     },
     "execution_count": 9,
     "metadata": {},
     "output_type": "execute_result"
    }
   ],
   "source": [
    "train.shipping.value_counts()/len(train)"
   ]
  },
  {
   "cell_type": "code",
   "execution_count": 10,
   "metadata": {
    "_cell_guid": "956793f2-0e83-4de7-ac47-59a266e2a771",
    "_kg_hide-input": true,
    "_kg_hide-output": false,
    "_uuid": "938ea18ba993fd6f9296e3c1d1d541a728219622"
   },
   "outputs": [],
   "source": [
    "prc_shipBySeller = train.loc[train.shipping==1, 'price']\n",
    "prc_shipByBuyer = train.loc[train.shipping==0, 'price']"
   ]
  },
  {
   "cell_type": "code",
   "execution_count": 11,
   "metadata": {
    "_cell_guid": "b7c2c064-4561-4831-9cf7-02910a8cde00",
    "_kg_hide-input": true,
    "_uuid": "cc24211ac13b7d8bd88c1061e996826cfc3da597"
   },
   "outputs": [
    {
     "data": {
      "image/png": "[encoded data removed]",
      "text/plain": [
       "<Figure size 1440x720 with 1 Axes>"
      ]
     },
     "metadata": {
      "needs_background": "light"
     },
     "output_type": "display_data"
    }
   ],
   "source": [
    "fig, ax = plt.subplots(figsize=(20,10))\n",
    "ax.hist(np.log(prc_shipBySeller+1), color='#8CB4E1', alpha=1.0, bins=50,\n",
    "       label='Price when Seller pays Shipping')\n",
    "ax.hist(np.log(prc_shipByBuyer+1), color='#007D00', alpha=0.7, bins=50,\n",
    "       label='Price when Buyer pays Shipping')\n",
    "ax.set(title='Histogram Comparison', ylabel='% of Dataset in Bin')\n",
    "plt.xlabel('log(price+1)', fontsize=17)\n",
    "plt.ylabel('frequency', fontsize=17)\n",
    "plt.title('Price Distribution by Shipping Type', fontsize=17)\n",
    "plt.tick_params(labelsize=15)\n",
    "plt.show()"
   ]
  },
  {
   "cell_type": "markdown",
   "metadata": {
    "_cell_guid": "c19f85dd-6767-4329-88f2-75aae64623e5",
    "_uuid": "c275d349c49e2dd0fc1ec10bd416900875f083a2"
   },
   "source": [
    "## **Item Category**\n",
    "\n",
    "약 **1,287**개의 고유한 카테고리가 있지만 각각의 카테고리 중에서 항상 메인/일반 카테고리가 먼저 표시되고 그 다음 두 개의 특정 하위 카테고리(예: 뷰티/메이크업/페이스 또는 립)가 표시됩니다. 이 외에도 카테고리 라벨이 없는 상품이 약 6,327개 있습니다. 카테고리를 세 개의 다른 열로 분할해 보겠습니다. 나중에 우리는 이 정보가 판매자의 관점에서 실제로 매우 중요하며 `brand_name` 열에서 누락된 정보를 처리하는 방법이 모델의 예측에 영향을 미친다는 것을 알게 될 것입니다."
   ]
  },
  {
   "cell_type": "code",
   "execution_count": 12,
   "metadata": {
    "_cell_guid": "b73488c6-789e-4dda-a21c-cc661a715db7",
    "_kg_hide-input": true,
    "_uuid": "944114da84aa5c946b0d102f908c2d303350d401"
   },
   "outputs": [
    {
     "name": "stdout",
     "output_type": "stream",
     "text": [
      "There are 1287 unique values in the category column.\n"
     ]
    }
   ],
   "source": [
    "print(\"There are %d unique values in the category column.\" % train['category_name'].nunique())"
   ]
  },
  {
   "cell_type": "code",
   "execution_count": 13,
   "metadata": {
    "_cell_guid": "ac468824-7439-415e-b119-c24ff750e631",
    "_kg_hide-input": false,
    "_uuid": "07f9fdeb6dd4bd7e3a075a4cd5d779bbe2a64320"
   },
   "outputs": [
    {
     "data": {
      "text/plain": [
       "Women/Athletic Apparel/Pants, Tights, Leggings    60177\n",
       "Women/Tops & Blouses/T-Shirts                     46380\n",
       "Beauty/Makeup/Face                                34335\n",
       "Beauty/Makeup/Lips                                29910\n",
       "Electronics/Video Games & Consoles/Games          26557\n",
       "Name: category_name, dtype: int64"
      ]
     },
     "execution_count": 13,
     "metadata": {},
     "output_type": "execute_result"
    }
   ],
   "source": [
    "# TOP 5 RAW CATEGORIES\n",
    "train['category_name'].value_counts()[:5]"
   ]
  },
  {
   "cell_type": "code",
   "execution_count": 14,
   "metadata": {
    "_cell_guid": "a17d5bbc-f2b9-48f4-bf1e-8031000c992d",
    "_kg_hide-input": true,
    "_uuid": "e79d9bae48ea3daf13d3e83ea863d1eb51658fa8"
   },
   "outputs": [
    {
     "name": "stdout",
     "output_type": "stream",
     "text": [
      "There are 6327 items that do not have a label.\n"
     ]
    }
   ],
   "source": [
    "# missing categories\n",
    "print(\"There are %d items that do not have a label.\" % train['category_name'].isnull().sum())"
   ]
  },
  {
   "cell_type": "code",
   "execution_count": 15,
   "metadata": {
    "_cell_guid": "ee8e9ba1-dd6b-493c-b97f-507eca5287fb",
    "_kg_hide-input": false,
    "_kg_hide-output": false,
    "_uuid": "f51ffaa9c0ffaa0cd04a5c2cfd7d76417971d530"
   },
   "outputs": [],
   "source": [
    "# reference: BuryBuryZymon at https://www.kaggle.com/maheshdadhich/i-will-sell-everything-for-free-0-55\n",
    "def split_cat(text):\n",
    "    try: return text.split(\"/\")\n",
    "    except: return (\"No Label\", \"No Label\", \"No Label\")"
   ]
  },
  {
   "cell_type": "code",
   "execution_count": 16,
   "metadata": {
    "_cell_guid": "74e722fb-4bf1-4540-b5e4-f9f7bba64dd4",
    "_uuid": "63f7d7f0f87b5599d3b970382432010a3968aee4"
   },
   "outputs": [
    {
     "data": {
      "text/html": [
       "<div>\n",
       "<style scoped>\n",
       "    .dataframe tbody tr th:only-of-type {\n",
       "        vertical-align: middle;\n",
       "    }\n",
       "\n",
       "    .dataframe tbody tr th {\n",
       "        vertical-align: top;\n",
       "    }\n",
       "\n",
       "    .dataframe thead th {\n",
       "        text-align: right;\n",
       "    }\n",
       "</style>\n",
       "<table border=\"1\" class=\"dataframe\">\n",
       "  <thead>\n",
       "    <tr style=\"text-align: right;\">\n",
       "      <th></th>\n",
       "      <th>train_id</th>\n",
       "      <th>name</th>\n",
       "      <th>item_condition_id</th>\n",
       "      <th>category_name</th>\n",
       "      <th>brand_name</th>\n",
       "      <th>price</th>\n",
       "      <th>shipping</th>\n",
       "      <th>item_description</th>\n",
       "      <th>general_cat</th>\n",
       "      <th>subcat_1</th>\n",
       "      <th>subcat_2</th>\n",
       "    </tr>\n",
       "  </thead>\n",
       "  <tbody>\n",
       "    <tr>\n",
       "      <th>0</th>\n",
       "      <td>0</td>\n",
       "      <td>MLB Cincinnati Reds T Shirt Size XL</td>\n",
       "      <td>3</td>\n",
       "      <td>Men/Tops/T-shirts</td>\n",
       "      <td>NaN</td>\n",
       "      <td>10.0</td>\n",
       "      <td>1</td>\n",
       "      <td>No description yet</td>\n",
       "      <td>Men</td>\n",
       "      <td>Tops</td>\n",
       "      <td>T-shirts</td>\n",
       "    </tr>\n",
       "    <tr>\n",
       "      <th>1</th>\n",
       "      <td>1</td>\n",
       "      <td>Razer BlackWidow Chroma Keyboard</td>\n",
       "      <td>3</td>\n",
       "      <td>Electronics/Computers &amp; Tablets/Components &amp; P...</td>\n",
       "      <td>Razer</td>\n",
       "      <td>52.0</td>\n",
       "      <td>0</td>\n",
       "      <td>This keyboard is in great condition and works ...</td>\n",
       "      <td>Electronics</td>\n",
       "      <td>Computers &amp; Tablets</td>\n",
       "      <td>Components &amp; Parts</td>\n",
       "    </tr>\n",
       "    <tr>\n",
       "      <th>2</th>\n",
       "      <td>2</td>\n",
       "      <td>AVA-VIV Blouse</td>\n",
       "      <td>1</td>\n",
       "      <td>Women/Tops &amp; Blouses/Blouse</td>\n",
       "      <td>Target</td>\n",
       "      <td>10.0</td>\n",
       "      <td>1</td>\n",
       "      <td>Adorable top with a hint of lace and a key hol...</td>\n",
       "      <td>Women</td>\n",
       "      <td>Tops &amp; Blouses</td>\n",
       "      <td>Blouse</td>\n",
       "    </tr>\n",
       "    <tr>\n",
       "      <th>3</th>\n",
       "      <td>3</td>\n",
       "      <td>Leather Horse Statues</td>\n",
       "      <td>1</td>\n",
       "      <td>Home/Home Décor/Home Décor Accents</td>\n",
       "      <td>NaN</td>\n",
       "      <td>35.0</td>\n",
       "      <td>1</td>\n",
       "      <td>New with tags. Leather horses. Retail for [rm]...</td>\n",
       "      <td>Home</td>\n",
       "      <td>Home Décor</td>\n",
       "      <td>Home Décor Accents</td>\n",
       "    </tr>\n",
       "    <tr>\n",
       "      <th>4</th>\n",
       "      <td>4</td>\n",
       "      <td>24K GOLD plated rose</td>\n",
       "      <td>1</td>\n",
       "      <td>Women/Jewelry/Necklaces</td>\n",
       "      <td>NaN</td>\n",
       "      <td>44.0</td>\n",
       "      <td>0</td>\n",
       "      <td>Complete with certificate of authenticity</td>\n",
       "      <td>Women</td>\n",
       "      <td>Jewelry</td>\n",
       "      <td>Necklaces</td>\n",
       "    </tr>\n",
       "  </tbody>\n",
       "</table>\n",
       "</div>"
      ],
      "text/plain": [
       "   train_id                                 name  item_condition_id  \\\n",
       "0         0  MLB Cincinnati Reds T Shirt Size XL                  3   \n",
       "1         1     Razer BlackWidow Chroma Keyboard                  3   \n",
       "2         2                       AVA-VIV Blouse                  1   \n",
       "3         3                Leather Horse Statues                  1   \n",
       "4         4                 24K GOLD plated rose                  1   \n",
       "\n",
       "                                       category_name brand_name  price  \\\n",
       "0                                  Men/Tops/T-shirts        NaN   10.0   \n",
       "1  Electronics/Computers & Tablets/Components & P...      Razer   52.0   \n",
       "2                        Women/Tops & Blouses/Blouse     Target   10.0   \n",
       "3                 Home/Home Décor/Home Décor Accents        NaN   35.0   \n",
       "4                            Women/Jewelry/Necklaces        NaN   44.0   \n",
       "\n",
       "   shipping                                   item_description  general_cat  \\\n",
       "0         1                                 No description yet          Men   \n",
       "1         0  This keyboard is in great condition and works ...  Electronics   \n",
       "2         1  Adorable top with a hint of lace and a key hol...        Women   \n",
       "3         1  New with tags. Leather horses. Retail for [rm]...         Home   \n",
       "4         0          Complete with certificate of authenticity        Women   \n",
       "\n",
       "              subcat_1            subcat_2  \n",
       "0                 Tops            T-shirts  \n",
       "1  Computers & Tablets  Components & Parts  \n",
       "2       Tops & Blouses              Blouse  \n",
       "3           Home Décor  Home Décor Accents  \n",
       "4              Jewelry           Necklaces  "
      ]
     },
     "execution_count": 16,
     "metadata": {},
     "output_type": "execute_result"
    }
   ],
   "source": [
    "train['general_cat'], train['subcat_1'], train['subcat_2'] = \\\n",
    "zip(*train['category_name'].apply(lambda x: split_cat(x)))\n",
    "train.head()"
   ]
  },
  {
   "cell_type": "code",
   "execution_count": 17,
   "metadata": {
    "_cell_guid": "e35d96ec-fa00-4f49-b5f0-e8df56f466ff",
    "_kg_hide-input": true,
    "_kg_hide-output": false,
    "_uuid": "5e5ba730355ce75bf2dce3defb1c4fe1f80ff9fb"
   },
   "outputs": [],
   "source": [
    "# repeat the same step for the test set\n",
    "test['general_cat'], test['subcat_1'], test['subcat_2'] = \\\n",
    "zip(*test['category_name'].apply(lambda x: split_cat(x)))"
   ]
  },
  {
   "cell_type": "code",
   "execution_count": 18,
   "metadata": {
    "_cell_guid": "64559f3b-b70b-45a6-ba10-975993c4926f",
    "_kg_hide-input": false,
    "_kg_hide-output": false,
    "_uuid": "d191e5c7ed101922aed6c3f9734bf34508f01912"
   },
   "outputs": [
    {
     "name": "stdout",
     "output_type": "stream",
     "text": [
      "There are 114 unique first sub-categories.\n"
     ]
    }
   ],
   "source": [
    "print(\"There are %d unique first sub-categories.\" % train['subcat_1'].nunique())"
   ]
  },
  {
   "cell_type": "code",
   "execution_count": 19,
   "metadata": {
    "_cell_guid": "0412ea5b-e8fc-4154-806c-043d34aae44c",
    "_kg_hide-input": false,
    "_kg_hide-output": false,
    "_uuid": "0d3250b78e86eddc7f621c1e7aabbcf7f762598d"
   },
   "outputs": [
    {
     "name": "stdout",
     "output_type": "stream",
     "text": [
      "There are 871 unique second sub-categories.\n"
     ]
    }
   ],
   "source": [
    "print(\"There are %d unique second sub-categories.\" % train['subcat_2'].nunique())"
   ]
  },
  {
   "cell_type": "markdown",
   "metadata": {
    "_cell_guid": "d6e280f0-885e-43bb-bda7-8ed9fe0987ba",
    "_uuid": "a03eb0d50c3103a7a3b2fa315254dfc9b5b6a894"
   },
   "source": [
    "전반적으로 **7개의 주요 카테고리**(첫 번째 하위 카테고리에서 114개, 두 번째 하위 카테고리에서 871개)가 있습니다. 여성 및 뷰티 아이템이 가장 인기 있는 두 카테고리(관찰의 50% 이상)이고 그 다음이 어린이입니다. 전자 제품."
   ]
  },
  {
   "cell_type": "code",
   "execution_count": null,
   "metadata": {
    "_cell_guid": "1977140a-f0ee-46af-8561-7fa5f3de43f2",
    "_kg_hide-input": false,
    "_kg_hide-output": false,
    "_uuid": "427123e746f47e763bb351e9abe83041985a05ca",
    "collapsed": true
   },
   "outputs": [],
   "source": [
    "x = train['general_cat'].value_counts().index.values.astype('str')\n",
    "y = train['general_cat'].value_counts().values\n",
    "pct = [(\"%.2f\"%(v*100))+\"%\"for v in (y/len(train))]"
   ]
  },
  {
   "cell_type": "code",
   "execution_count": null,
   "metadata": {
    "_cell_guid": "e40b2cfb-02e9-46fe-a8cf-75bcb3e7eec9",
    "_kg_hide-input": false,
    "_kg_hide-output": false,
    "_uuid": "95ff30e205b02024275d465d489648f0cc64cdb2",
    "collapsed": true
   },
   "outputs": [],
   "source": [
    "trace1 = go.Bar(x=x, y=y, text=pct)\n",
    "layout = dict(title= 'Number of Items by Main Category',\n",
    "              yaxis = dict(title='Count'),\n",
    "              xaxis = dict(title='Category'))\n",
    "fig=dict(data=[trace1], layout=layout)\n",
    "py.iplot(fig)"
   ]
  },
  {
   "cell_type": "code",
   "execution_count": null,
   "metadata": {
    "_cell_guid": "ee50ae89-4496-46d0-96f4-6f9f9d5407cc",
    "_kg_hide-input": false,
    "_kg_hide-output": false,
    "_uuid": "87c01e755ab62d552d584822460ae80e58843966",
    "collapsed": true
   },
   "outputs": [],
   "source": [
    "x = train['subcat_1'].value_counts().index.values.astype('str')[:15]\n",
    "y = train['subcat_1'].value_counts().values[:15]\n",
    "pct = [(\"%.2f\"%(v*100))+\"%\"for v in (y/len(train))][:15]"
   ]
  },
  {
   "cell_type": "code",
   "execution_count": null,
   "metadata": {
    "_cell_guid": "2cbdb24a-efc5-478f-b3d2-3acad54abbd1",
    "_kg_hide-input": true,
    "_uuid": "6fcb8ee80064d4c671c9e0f94d0025ad6ee4ff95",
    "collapsed": true
   },
   "outputs": [],
   "source": [
    "trace1 = go.Bar(x=x, y=y, text=pct,\n",
    "                marker=dict(\n",
    "                color = y,colorscale='Portland',showscale=True,\n",
    "                reversescale = False\n",
    "                ))\n",
    "layout = dict(title= 'Number of Items by Sub Category (Top 15)',\n",
    "              yaxis = dict(title='Count'),\n",
    "              xaxis = dict(title='SubCategory'))\n",
    "fig=dict(data=[trace1], layout=layout)\n",
    "py.iplot(fig)"
   ]
  },
  {
   "cell_type": "markdown",
   "metadata": {
    "_cell_guid": "59d504e8-a2cb-4c10-ae53-d5269000d937",
    "_uuid": "e66bf56801446d3c32bef84f7ef5820b331776c7"
   },
   "source": [
    "가격 책정(가격 로그) 관점에서 모든 카테고리는 매우 잘 분포되어 있으며 특별한 가격 책정 포인트가 있는 카테고리는 없습니다."
   ]
  },
  {
   "cell_type": "code",
   "execution_count": null,
   "metadata": {
    "_cell_guid": "94892e05-8c33-4ff3-84aa-24e39b4075ee",
    "_kg_hide-input": true,
    "_kg_hide-output": false,
    "_uuid": "788c3e10ed1ce263d2f2f2033e29cd01ed09454f",
    "collapsed": true
   },
   "outputs": [],
   "source": [
    "general_cats = train['general_cat'].unique()\n",
    "x = [train.loc[train['general_cat']==cat, 'price'] for cat in general_cats]"
   ]
  },
  {
   "cell_type": "code",
   "execution_count": null,
   "metadata": {
    "_cell_guid": "3e171144-9090-4b21-949c-a4ac42879a8e",
    "_kg_hide-input": true,
    "_kg_hide-output": false,
    "_uuid": "da641275501bfb5c5e18aa18ddb964a61fe6ad1c",
    "collapsed": true
   },
   "outputs": [],
   "source": [
    "data = [go.Box(x=np.log(x[i]+1), name=general_cats[i]) for i in range(len(general_cats))]"
   ]
  },
  {
   "cell_type": "code",
   "execution_count": null,
   "metadata": {
    "_cell_guid": "5b7dadb9-3b40-4883-bb07-942f83297364",
    "_kg_hide-input": true,
    "_uuid": "dba9498362d3b574d2d0a7bc2010f99369b99338",
    "collapsed": true
   },
   "outputs": [],
   "source": [
    "layout = dict(title=\"Price Distribution by General Category\",\n",
    "              yaxis = dict(title='Frequency'),\n",
    "              xaxis = dict(title='Category'))\n",
    "fig = dict(data=data, layout=layout)\n",
    "py.iplot(fig)"
   ]
  },
  {
   "cell_type": "markdown",
   "metadata": {
    "_cell_guid": "a2f9d3e4-9d8e-480d-8deb-465310fc8cdd",
    "_uuid": "d52355679d02f3f7d629c25384dc5751c6023de9"
   },
   "source": [
    "## **Brand Name**"
   ]
  },
  {
   "cell_type": "code",
   "execution_count": null,
   "metadata": {
    "_cell_guid": "352301ea-175f-435f-8b83-dad50cb390c0",
    "_uuid": "5d75b2bf16078275fbd938a1483de3b526fa4c2c",
    "collapsed": true
   },
   "outputs": [],
   "source": [
    "print(\"There are %d unique brand names in the training dataset.\" % train['brand_name'].nunique())"
   ]
  },
  {
   "cell_type": "code",
   "execution_count": null,
   "metadata": {
    "_cell_guid": "795e315b-5c5b-481c-8302-7b4bfca0455d",
    "_kg_hide-input": true,
    "_kg_hide-output": true,
    "_uuid": "39dfac5c98e102b2637137032d1a17c055d8b31e",
    "collapsed": true
   },
   "outputs": [],
   "source": [
    "x = train['brand_name'].value_counts().index.values.astype('str')[:10]\n",
    "y = train['brand_name'].value_counts().values[:10]"
   ]
  },
  {
   "cell_type": "code",
   "execution_count": null,
   "metadata": {
    "_cell_guid": "bd9a1b9b-c89d-4451-b1ca-52053cd6a611",
    "_kg_hide-input": true,
    "_uuid": "3df62861a822c99f3c42800c8e64e39f4276f9ab",
    "collapsed": true,
    "scrolled": true
   },
   "outputs": [],
   "source": [
    "# trace1 = go.Bar(x=x, y=y, \n",
    "#                 marker=dict(\n",
    "#                 color = y,colorscale='Portland',showscale=True,\n",
    "#                 reversescale = False\n",
    "#                 ))\n",
    "# layout = dict(title= 'Top 10 Brand by Number of Items',\n",
    "#               yaxis = dict(title='Brand Name'),\n",
    "#               xaxis = dict(title='Count'))\n",
    "# fig=dict(data=[trace1], layout=layout)\n",
    "# py.iplot(fig)"
   ]
  },
  {
   "cell_type": "markdown",
   "metadata": {
    "_cell_guid": "19d21a67-0b3b-4ade-8dc0-15003f03a146",
    "_uuid": "d2473fadc100c0ee057ebec8252dbd861751a947"
   },
   "source": [
    "## **Item Description**"
   ]
  },
  {
   "cell_type": "markdown",
   "metadata": {
    "_cell_guid": "d643eeaa-e3d7-4148-8418-2a9f9d1fa5cc",
    "_uuid": "21c36e9a9a9f4ab2d66ac1a5f193051a8e894edb"
   },
   "source": [
    "이 특정 항목은 구조화되지 않은 데이터이므로 구문 분석하는 것이 더 어려울 것입니다. 더 자세하고 긴 설명이 더 높은 입찰가를 초래한다는 것을 의미합니까? 모든 구두점을 제거하고 일부 영어 불용어(예: \"a\", \"the\" 등의 중복 단어) 및 길이가 3 미만인 기타 단어를 제거합니다."
   ]
  },
  {
   "cell_type": "code",
   "execution_count": 25,
   "metadata": {
    "_cell_guid": "3d536351-69ac-41a5-ad40-3114a24bd326",
    "_uuid": "40d28e05a35b4ef4fe11c436200cc5e40f5d561e"
   },
   "outputs": [],
   "source": [
    "def wordCount(text):\n",
    "    # convert to lower case and strip regex\n",
    "    try:\n",
    "         # convert to lower case and strip regex\n",
    "        text = text.lower()\n",
    "        regex = re.compile('[' +re.escape(string.punctuation) + '0-9\\\\r\\\\t\\\\n]')\n",
    "        txt = regex.sub(\" \", text)\n",
    "        # tokenize\n",
    "        # words = nltk.word_tokenize(clean_txt)\n",
    "        # remove words in stop words\n",
    "        words = [w for w in txt.split(\" \") \\\n",
    "                 if not w in stop_words.ENGLISH_STOP_WORDS and len(w)>3]\n",
    "        return len(words)\n",
    "    except: \n",
    "        return 0"
   ]
  },
  {
   "cell_type": "code",
   "execution_count": null,
   "metadata": {
    "_cell_guid": "b71db1b9-756c-4dc3-8445-94f39d697d8e",
    "_uuid": "e72483da02ea3667ba3f14db0f0996eabc980861",
    "collapsed": true
   },
   "outputs": [],
   "source": [
    "# add a column of word counts to both the training and test set\n",
    "train['desc_len'] = train['item_description'].apply(lambda x: wordCount(x))\n",
    "test['desc_len'] = test['item_description'].apply(lambda x: wordCount(x))"
   ]
  },
  {
   "cell_type": "code",
   "execution_count": null,
   "metadata": {
    "_cell_guid": "511aec70-6890-4504-8e43-742056a47733",
    "_uuid": "79ebf5e7b0e03c993a3b4c53c2abf80b2c6d17b6",
    "collapsed": true
   },
   "outputs": [],
   "source": [
    "train.head()"
   ]
  },
  {
   "cell_type": "code",
   "execution_count": null,
   "metadata": {
    "_cell_guid": "d935df86-7977-434f-ad53-0c1c9aa44a20",
    "_uuid": "e7e8accc896ef4a04e833fb2abca498e715e3785",
    "collapsed": true
   },
   "outputs": [],
   "source": [
    "df = train.groupby('desc_len')['price'].mean().reset_index()"
   ]
  },
  {
   "cell_type": "code",
   "execution_count": null,
   "metadata": {
    "_cell_guid": "e34e4bf9-073c-4ff4-a052-1f76f4283ea3",
    "_kg_hide-input": true,
    "_uuid": "6b30d788953627a01463ae3422f890f675c87d7b",
    "collapsed": true
   },
   "outputs": [],
   "source": [
    "trace1 = go.Scatter(\n",
    "    x = df['desc_len'],\n",
    "    y = np.log(df['price']+1),\n",
    "    mode = 'lines+markers',\n",
    "    name = 'lines+markers'\n",
    ")\n",
    "layout = dict(title= 'Average Log(Price) by Description Length',\n",
    "              yaxis = dict(title='Average Log(Price)'),\n",
    "              xaxis = dict(title='Description Length'))\n",
    "fig=dict(data=[trace1], layout=layout)\n",
    "py.iplot(fig)"
   ]
  },
  {
   "cell_type": "markdown",
   "metadata": {
    "_cell_guid": "cd93bed3-431f-4d42-bd98-ff287d29daa6",
    "_uuid": "52732f7292faf4e2fdd629f723d28a3bdc34ec93",
    "collapsed": true
   },
   "source": [
    "또한 항목 설명(4개의 관찰에는 설명이 없음)에 누락된 값이 있는지 확인하고 교육 세트에서 해당 관찰을 제거해야 합니다."
   ]
  },
  {
   "cell_type": "code",
   "execution_count": null,
   "metadata": {
    "_cell_guid": "82d38cb1-ad25-4479-bf35-7df79eef5a23",
    "_kg_hide-input": true,
    "_kg_hide-output": true,
    "_uuid": "27d17728a67f5ef8203f16164edcc5f939c5971d",
    "collapsed": true
   },
   "outputs": [],
   "source": [
    "train.item_description.isnull().sum()"
   ]
  },
  {
   "cell_type": "code",
   "execution_count": null,
   "metadata": {
    "_cell_guid": "eedf987b-9e21-4e7b-940a-ef0bd0e471c4",
    "_uuid": "165c1267209c1f497224690cf9f4ca2829c571a1",
    "collapsed": true
   },
   "outputs": [],
   "source": [
    "# remove missing values in item description\n",
    "train = train[pd.notnull(train['item_description'])]"
   ]
  },
  {
   "cell_type": "code",
   "execution_count": null,
   "metadata": {
    "_cell_guid": "b90e6701-76be-476c-b720-380d631bfd03",
    "_kg_hide-input": true,
    "_kg_hide-output": true,
    "_uuid": "c12117ac987cbd79d6d7612c8e6e26e9c83e3e72",
    "collapsed": true
   },
   "outputs": [],
   "source": [
    "# create a dictionary of words for each category\n",
    "cat_desc = dict()\n",
    "for cat in general_cats: \n",
    "    text = \" \".join(train.loc[train['general_cat']==cat, 'item_description'].values)\n",
    "    cat_desc[cat] = tokenize(text)\n",
    "\n",
    "# flat list of all words combined\n",
    "flat_lst = [item for sublist in list(cat_desc.values()) for item in sublist]\n",
    "allWordsCount = Counter(flat_lst)\n",
    "all_top10 = allWordsCount.most_common(20)\n",
    "x = [w[0] for w in all_top10]\n",
    "y = [w[1] for w in all_top10]"
   ]
  },
  {
   "cell_type": "code",
   "execution_count": null,
   "metadata": {
    "_cell_guid": "492f17f5-952e-4561-9c45-5722fce7afe3",
    "_kg_hide-input": true,
    "_kg_hide-output": true,
    "_uuid": "d2748e1e0f07eb31c68c907ddf49e96595a32e97",
    "collapsed": true
   },
   "outputs": [],
   "source": [
    "trace1 = go.Bar(x=x, y=y, text=pct)\n",
    "layout = dict(title= 'Word Frequency',\n",
    "              yaxis = dict(title='Count'),\n",
    "              xaxis = dict(title='Word'))\n",
    "fig=dict(data=[trace1], layout=layout)\n",
    "py.iplot(fig)"
   ]
  },
  {
   "cell_type": "markdown",
   "metadata": {
    "_cell_guid": "a95bea2e-e175-43f1-81f2-d93ee6e16d2c",
    "_uuid": "f1d170c1d5d760b485de430f3ab3a3cf4cc1aa8a"
   },
   "source": [
    "카테고리별로 가장 일반적인 단어를 보면 ***size***, ***free*** 및 ***shipping***이 판매자가 매우 일반적으로 사용한다는 것을 알 수 있습니다. 이는 '가격'과 '배송비' 두 변수 사이에 상관관계가 거의 없다는(또는 배송비가 가격의 차이를 설명하지 않음) 이전에 보여준 것과 모순되는 고객 유치 의도입니다. ***브랜드 이름***도 상당히 중요한 역할을 했습니다. 이는 네 가지 범주 모두에서 가장 인기 있는 것 중 하나입니다."
   ]
  },
  {
   "cell_type": "markdown",
   "metadata": {
    "_cell_guid": "5a657436-9c24-4fbd-aada-eaa1330a60a2",
    "_uuid": "c4c2be486e56d6d9ec662f913856fac5ea65570e",
    "collapsed": true
   },
   "source": [
    "# **Text Processing - Item Description**\n",
    "*\n",
    "The following section is based on the tutorial at https://ahmedbesbes.com/how-to-mine-newsfeed-data-and-extract-interactive-insights-in-python.html*"
   ]
  },
  {
   "cell_type": "markdown",
   "metadata": {
    "_cell_guid": "30158f97-7034-4d84-8d51-c7e8ca6ac56e",
    "_uuid": "5634aee89798082ea4025145d560629e32c026aa"
   },
   "source": [
    "## **전처리: 토큰화**\n",
    "\n",
    "대부분의 경우 NLP 프로젝트의 첫 번째 단계는 문서를 **\"토큰화\"**하는 것이며 주요 목적은 텍스트를 정규화하는 것입니다. 세 가지 기본 단계에는 일반적으로 다음이 포함됩니다.\n",
    "* 설명을 문장으로 나눈 다음 문장을 토큰으로 나눕니다.\n",
    "* 구두점 및 중지 단어 제거\n",
    "* 토큰 소문자\n",
    "* 여기에서는 길이가 3자 이상인 단어만 고려합니다."
   ]
  },
  {
   "cell_type": "code",
   "execution_count": null,
   "metadata": {
    "_cell_guid": "79b3df0f-535f-4b91-ab2e-caffbd73a315",
    "_uuid": "e23a26ab8cccc9cfdf750ddcdfcb9cc1f28475c4",
    "collapsed": true
   },
   "outputs": [],
   "source": [
    "stop = set(stopwords.words('english'))\n",
    "def tokenize(text):\n",
    "    \"\"\"\n",
    "    sent_tokenize(): segment text into sentences\n",
    "    word_tokenize(): break sentences into words\n",
    "    \"\"\"\n",
    "    try: \n",
    "        regex = re.compile('[' +re.escape(string.punctuation) + '0-9\\\\r\\\\t\\\\n]')\n",
    "        text = regex.sub(\" \", text) # remove punctuation\n",
    "        \n",
    "        tokens_ = [word_tokenize(s) for s in sent_tokenize(text)]\n",
    "        tokens = []\n",
    "        for token_by_sent in tokens_:\n",
    "            tokens += token_by_sent\n",
    "        tokens = list(filter(lambda t: t.lower() not in stop, tokens))\n",
    "        filtered_tokens = [w for w in tokens if re.search('[a-zA-Z]', w)]\n",
    "        filtered_tokens = [w.lower() for w in filtered_tokens if len(w)>=3]\n",
    "        \n",
    "        return filtered_tokens\n",
    "            \n",
    "    except TypeError as e: print(text,e)"
   ]
  },
  {
   "cell_type": "code",
   "execution_count": null,
   "metadata": {
    "_cell_guid": "7250efc8-77ba-40c1-bbad-f716bc6eeb6d",
    "_uuid": "32ddfee0de0f5f64bdae8944e9eccfa0d31751b3",
    "collapsed": true
   },
   "outputs": [],
   "source": [
    "# apply the tokenizer into the item descriptipn column\n",
    "train['tokens'] = train['item_description'].map(tokenize)\n",
    "test['tokens'] = test['item_description'].map(tokenize)"
   ]
  },
  {
   "cell_type": "code",
   "execution_count": null,
   "metadata": {
    "_cell_guid": "b8ad8934-bbaf-4db7-8da4-fdb70fdf17cc",
    "_kg_hide-input": true,
    "_kg_hide-output": true,
    "_uuid": "98cb8b403c7ea7c47663caf98e4259fb85c7dd72",
    "collapsed": true
   },
   "outputs": [],
   "source": [
    "train.reset_index(drop=True, inplace=True)\n",
    "test.reset_index(drop=True, inplace=True)"
   ]
  },
  {
   "cell_type": "markdown",
   "metadata": {
    "_cell_guid": "f4fb8dcd-3f94-4fef-908a-42fc864be42c",
    "_uuid": "548e888a1839b2c3c3d93e7578357b20af095b3d"
   },
   "source": [
    "토크나이저가 설명을 잘 정리했는지에 대한 예를 살펴보겠습니다."
   ]
  },
  {
   "cell_type": "code",
   "execution_count": null,
   "metadata": {
    "_cell_guid": "74c356c2-e2b8-4dda-b6d5-ccad74d6302a",
    "_uuid": "57a867fd01f737b7a60e04a5e8ab6e59b3c4a150",
    "collapsed": true
   },
   "outputs": [],
   "source": [
    "for description, tokens in zip(train['item_description'].head(),\n",
    "                              train['tokens'].head()):\n",
    "    print('description:', description)\n",
    "    print('tokens:', tokens)\n",
    "    print()"
   ]
  },
  {
   "cell_type": "markdown",
   "metadata": {
    "_cell_guid": "643b583b-11a3-45fe-94e4-1f6dcdafb196",
    "_kg_hide-output": true,
    "_uuid": "01942e57c0fcab0894c38e31cff43109a9bce23e"
   },
   "source": [
    "'WordCloud' 패키지를 사용하여 각 카테고리 내에서 빈도가 가장 높은 단어를 쉽게 시각화할 수도 있습니다."
   ]
  },
  {
   "cell_type": "code",
   "execution_count": null,
   "metadata": {
    "_cell_guid": "349888f0-7ffe-44aa-8bf7-d03df78073c3",
    "_uuid": "d17f807ae37a466f5e9410d97c37560670e08a74",
    "collapsed": true
   },
   "outputs": [],
   "source": [
    "# build dictionary with key=category and values as all the descriptions related.\n",
    "cat_desc = dict()\n",
    "for cat in general_cats: \n",
    "    text = \" \".join(train.loc[train['general_cat']==cat, 'item_description'].values)\n",
    "    cat_desc[cat] = tokenize(text)\n",
    "\n",
    "\n",
    "# find the most common words for the top 4 categories\n",
    "women100 = Counter(cat_desc['Women']).most_common(100)\n",
    "beauty100 = Counter(cat_desc['Beauty']).most_common(100)\n",
    "kids100 = Counter(cat_desc['Kids']).most_common(100)\n",
    "electronics100 = Counter(cat_desc['Electronics']).most_common(100)"
   ]
  },
  {
   "cell_type": "code",
   "execution_count": null,
   "metadata": {
    "_cell_guid": "b2f2274a-d48c-43c6-8349-c1a597967f87",
    "_uuid": "15b09d32c291e35db0de4c610a61ac3bf732f4a0",
    "collapsed": true
   },
   "outputs": [],
   "source": [
    "def generate_wordcloud(tup):\n",
    "    wordcloud = WordCloud(background_color='white',\n",
    "                          max_words=50, max_font_size=40,\n",
    "                          random_state=42\n",
    "                         ).generate(str(tup))\n",
    "    return wordcloud"
   ]
  },
  {
   "cell_type": "code",
   "execution_count": null,
   "metadata": {
    "_cell_guid": "efd8b7a2-960b-47a7-a25a-a6b5b09362b8",
    "_kg_hide-input": true,
    "_uuid": "974f2954233a235ca805ea393220ac5a1fbd1bfd",
    "collapsed": true
   },
   "outputs": [],
   "source": [
    "fig,axes = plt.subplots(2, 2, figsize=(30, 15))\n",
    "\n",
    "ax = axes[0, 0]\n",
    "ax.imshow(generate_wordcloud(women100), interpolation=\"bilinear\")\n",
    "ax.axis('off')\n",
    "ax.set_title(\"Women Top 100\", fontsize=30)\n",
    "\n",
    "ax = axes[0, 1]\n",
    "ax.imshow(generate_wordcloud(beauty100))\n",
    "ax.axis('off')\n",
    "ax.set_title(\"Beauty Top 100\", fontsize=30)\n",
    "\n",
    "ax = axes[1, 0]\n",
    "ax.imshow(generate_wordcloud(kids100))\n",
    "ax.axis('off')\n",
    "ax.set_title(\"Kids Top 100\", fontsize=30)\n",
    "\n",
    "ax = axes[1, 1]\n",
    "ax.imshow(generate_wordcloud(electronics100))\n",
    "ax.axis('off')\n",
    "ax.set_title(\"Electronic Top 100\", fontsize=30)"
   ]
  },
  {
   "cell_type": "markdown",
   "metadata": {
    "_cell_guid": "e77c6bc3-3a04-4b0f-8a89-31a31878f639",
    "_uuid": "190223022141a75be619b3471e5469eae329cad1"
   },
   "source": [
    "## **Pre-processing:  tf-idf**"
   ]
  },
  {
   "cell_type": "markdown",
   "metadata": {
    "_cell_guid": "76a54be8-3ef9-4184-b5bd-ca535d9abf75",
    "_uuid": "3b7d46cfb2279f955b639c68589fd839a46a3c4c"
   },
   "source": [
    "tf-idf는 **Term Frequency–inverse Document Frequency**의 약어입니다. 문서 또는 말뭉치 모음의 어휘와 관련하여 특정 단어의 중요성을 수량화합니다. 측정항목은 다음 두 가지 요소에 따라 달라집니다.\n",
    "- **용어 빈도**: 주어진 문서에서 단어의 출현(예: 단어 모음)\n",
    "- **역 문서 빈도**: 문서 모음에서 단어가 나타나는 역수\n",
    "\n",
    "다음과 같이 생각해 보십시오. 단어가 모든 문서에서 광범위하게 사용되는 경우 특정 문서 내에서 그 존재가 문서 자체에 대한 많은 특정 정보를 제공할 수 없습니다. 따라서 두 번째 용어는 \"a\", \"the\", \"and\" 등과 같은 일반적인 단어에 불이익을 주는 벌칙 용어로 볼 수 있습니다. 따라서 tf-idf는 특정 문서의 단어 관련성에 대한 가중치 체계로 볼 수 있습니다. ."
   ]
  },
  {
   "cell_type": "code",
   "execution_count": null,
   "metadata": {
    "_cell_guid": "11e3a9f9-e94a-45b0-90df-f452727028cd",
    "_uuid": "3152ded0c36fc76a0e60f9b6aabb0824bb9e4f13",
    "collapsed": true
   },
   "outputs": [],
   "source": [
    "from sklearn.feature_extraction.text import TfidfVectorizer\n",
    "vectorizer = TfidfVectorizer(min_df=10,\n",
    "                             max_features=180000,\n",
    "                             tokenizer=tokenize,\n",
    "                             ngram_range=(1, 2))"
   ]
  },
  {
   "cell_type": "code",
   "execution_count": null,
   "metadata": {
    "_cell_guid": "7c556ca8-9969-4c5e-af24-f54411732c75",
    "_uuid": "37f44a006ca9d2f4f71081f55278759d7a473808",
    "collapsed": true
   },
   "outputs": [],
   "source": [
    "all_desc = np.append(train['item_description'].values, test['item_description'].values)\n",
    "vz = vectorizer.fit_transform(list(all_desc))"
   ]
  },
  {
   "cell_type": "markdown",
   "metadata": {
    "_cell_guid": "ce40e6f2-c56e-4412-815e-46852ae8e21c",
    "_uuid": "d581a19f324ec33c6bc13ae9c6197087f191f0c0"
   },
   "source": [
    "vz는 tfidf 행렬입니다. 여기서:\n",
    "* 행 수는 전체 설명 수입니다.\n",
    "* 컬럼 수는 설명 전체에 걸쳐 고유한 토큰의 총 수입니다."
   ]
  },
  {
   "cell_type": "code",
   "execution_count": null,
   "metadata": {
    "_cell_guid": "bd07b7e0-33cd-4326-a02c-bc0b6660f1e6",
    "_uuid": "93a3d6f38fdc6f9eb756ff2a72c422d81191d395",
    "collapsed": true
   },
   "outputs": [],
   "source": [
    "#  create a dictionary mapping the tokens to their tfidf values\n",
    "tfidf = dict(zip(vectorizer.get_feature_names(), vectorizer.idf_))\n",
    "tfidf = pd.DataFrame(columns=['tfidf']).from_dict(\n",
    "                    dict(tfidf), orient='index')\n",
    "tfidf.columns = ['tfidf']"
   ]
  },
  {
   "cell_type": "markdown",
   "metadata": {
    "_cell_guid": "891a9d4b-c684-48e1-9ac2-72dcf84bedd7",
    "_uuid": "8c27a5ff0f5a57fd4c50c8730aca758c05558426"
   },
   "source": [
    "아래는 가장 낮은 tfidf 점수를 가진 10개의 토큰입니다. 이는 놀랍게도 하나의 설명을 다른 설명과 구별하는 데 사용할 수 없는 매우 일반적인 단어입니다."
   ]
  },
  {
   "cell_type": "code",
   "execution_count": null,
   "metadata": {
    "_cell_guid": "bac2d553-a3e8-48e6-97a8-228e75dd97ae",
    "_uuid": "7b3dafb38d33b46ddb2509cca86b7fae2d4a678f",
    "collapsed": true
   },
   "outputs": [],
   "source": [
    "tfidf.sort_values(by=['tfidf'], ascending=True).head(10)"
   ]
  },
  {
   "cell_type": "markdown",
   "metadata": {
    "_cell_guid": "25b77b22-1e2c-4f37-851f-72b07d4e0c6e",
    "_uuid": "ea113f51e664f454b087db59757ad538f9632b9b"
   },
   "source": [
    "아래는 가장 높은 tfidf 점수를 가진 10개의 토큰입니다. 여기에는 매우 구체적인 단어가 포함되어 있어 단어를 보면 해당 단어가 속한 범주를 추측할 수 있습니다."
   ]
  },
  {
   "cell_type": "code",
   "execution_count": null,
   "metadata": {
    "_cell_guid": "e2c31570-8e83-4c88-bc50-dbb0727cc8a0",
    "_uuid": "68a97356bd6afaf78b441d5887f68aad53ac9170",
    "collapsed": true
   },
   "outputs": [],
   "source": [
    "tfidf.sort_values(by=['tfidf'], ascending=False).head(10)"
   ]
  },
  {
   "cell_type": "markdown",
   "metadata": {
    "_cell_guid": "2540c3fa-61cc-41f8-9542-c0274c949271",
    "_uuid": "2031b851f6edb5865308149ef18346f43b59a679"
   },
   "source": [
    "tfidf 행렬의 높은 차원을 감안할 때 SVD(특이 값 분해) 기술을 사용하여 차원을 줄여야 합니다. 그리고 어휘를 시각화하기 위해 다음으로 t-SNE를 사용하여 차원을 50에서 2로 줄일 수 있습니다. t-SNE는 차원을 2 또는 3으로 줄이는 데 더 적합합니다.\n",
    "\n",
    "### **t-분산 확률적 이웃 임베딩(t-SNE)**\n",
    "\n",
    "t-SNE는 고차원 데이터 세트의 시각화에 특히 적합한 차원 축소 기술입니다. 목표는 고차원 공간에서 점 세트를 가져와 저차원 공간, 일반적으로 2D 평면에서 해당 점의 표현을 찾는 것입니다. 데이터 내의 구조를 찾기 위해 이웃 그래프에서 랜덤 워크가 있는 확률 분포를 기반으로 합니다. 그러나 t-SNE 복잡성이 상당히 높기 때문에 일반적으로 t-SNE를 적용하기 전에 다른 고차원 축소 기술을 사용합니다.\n",
    "\n",
    "먼저 t-SNE를 실행하는 데 시간이 매우 오래 걸릴 수 있으므로 교육 및 테스트 항목 설명에서 샘플을 가져오겠습니다. 그런 다음 SVD를 사용하여 각 벡터의 차원을 n_components(50)로 줄일 수 있습니다."
   ]
  },
  {
   "cell_type": "code",
   "execution_count": null,
   "metadata": {
    "_cell_guid": "0e99f022-1ef1-498f-82d4-55a41de11b66",
    "_uuid": "12c465edfe5158967bd400c7bfe0318a615ccdfa",
    "collapsed": true
   },
   "outputs": [],
   "source": [
    "trn = train.copy()\n",
    "tst = test.copy()\n",
    "trn['is_train'] = 1\n",
    "tst['is_train'] = 0\n",
    "\n",
    "sample_sz = 15000\n",
    "\n",
    "combined_df = pd.concat([trn, tst])\n",
    "combined_sample = combined_df.sample(n=sample_sz)\n",
    "vz_sample = vectorizer.fit_transform(list(combined_sample['item_description']))"
   ]
  },
  {
   "cell_type": "code",
   "execution_count": null,
   "metadata": {
    "_cell_guid": "d1fdc518-d325-4fe4-b8a8-9f84a975de03",
    "_uuid": "6f6e6d1e3e5d75062dc7e844b338bf3a33afecba",
    "collapsed": true
   },
   "outputs": [],
   "source": [
    "from sklearn.decomposition import TruncatedSVD\n",
    "\n",
    "n_comp=30\n",
    "svd = TruncatedSVD(n_components=n_comp, random_state=42)\n",
    "svd_tfidf = svd.fit_transform(vz_sample)"
   ]
  },
  {
   "cell_type": "markdown",
   "metadata": {
    "_cell_guid": "4c4eded5-ed1f-482b-a83b-02e5aa38a2cd",
    "_uuid": "92a3d8c0ba36fb567712d4d6a1470fc9ece2db73"
   },
   "source": [
    "이제 t-SNE를 사용하여 차원을 50에서 2로 줄일 수 있습니다!"
   ]
  },
  {
   "cell_type": "code",
   "execution_count": null,
   "metadata": {
    "_cell_guid": "894e4868-099f-47ae-aca2-b78f9ca73bcd",
    "_uuid": "e2e9aa416aa12531e14911deafbaa5d302f36c67",
    "collapsed": true
   },
   "outputs": [],
   "source": [
    "from sklearn.manifold import TSNE\n",
    "tsne_model = TSNE(n_components=2, verbose=1, random_state=42, n_iter=500)"
   ]
  },
  {
   "cell_type": "code",
   "execution_count": null,
   "metadata": {
    "_cell_guid": "4f19da97-4d22-4831-8469-ba8b3b099989",
    "_uuid": "612ee5dcdeafc698702cb094b370827d40dd03e1",
    "collapsed": true
   },
   "outputs": [],
   "source": [
    "tsne_tfidf = tsne_model.fit_transform(svd_tfidf)"
   ]
  },
  {
   "cell_type": "markdown",
   "metadata": {
    "_cell_guid": "4f8b10c5-f01d-436a-8cc2-aa5048d71234",
    "_uuid": "fde4cd911968c645202d9e165ae62417ac376622"
   },
   "source": [
    "이제 데이터 포인트를 시각화할 수 있습니다. 클러스터의 크기와 편차는 t-SNE에서 정보가 거의 없음을 의미합니다."
   ]
  },
  {
   "cell_type": "code",
   "execution_count": null,
   "metadata": {
    "_cell_guid": "87aff740-4718-4321-8468-573945e6c26e",
    "_kg_hide-input": false,
    "_uuid": "70e0a5e9402a42191a3ef5336d186b386a3885c2",
    "collapsed": true
   },
   "outputs": [],
   "source": [
    "output_notebook()\n",
    "plot_tfidf = bp.figure(plot_width=700, plot_height=600,\n",
    "                       title=\"tf-idf clustering of the item description\",\n",
    "    tools=\"pan,wheel_zoom,box_zoom,reset,hover,previewsave\",\n",
    "    x_axis_type=None, y_axis_type=None, min_border=1)"
   ]
  },
  {
   "cell_type": "code",
   "execution_count": null,
   "metadata": {
    "_cell_guid": "74ea4283-9ab8-40d6-829a-5dc01e6b31f1",
    "_kg_hide-input": true,
    "_kg_hide-output": true,
    "_uuid": "b6195acc2f32fe21fbf863f4127d7993b4f4994d",
    "collapsed": true
   },
   "outputs": [],
   "source": [
    "combined_sample.reset_index(inplace=True, drop=True)"
   ]
  },
  {
   "cell_type": "code",
   "execution_count": null,
   "metadata": {
    "_cell_guid": "5976a500-8ec0-44f7-b7cd-cbc81a898989",
    "_uuid": "ea95c9e2c90336c2fdd2f89cf3ccffab3f9562d1",
    "collapsed": true
   },
   "outputs": [],
   "source": [
    "tfidf_df = pd.DataFrame(tsne_tfidf, columns=['x', 'y'])\n",
    "tfidf_df['description'] = combined_sample['item_description']\n",
    "tfidf_df['tokens'] = combined_sample['tokens']\n",
    "tfidf_df['category'] = combined_sample['general_cat']"
   ]
  },
  {
   "cell_type": "code",
   "execution_count": null,
   "metadata": {
    "_cell_guid": "f0a19e78-1db9-4f69-a951-69fe9561f7bb",
    "_uuid": "8011ce69a3ea6833ac871691ad1292ad80f62348",
    "collapsed": true
   },
   "outputs": [],
   "source": [
    "plot_tfidf.scatter(x='x', y='y', source=tfidf_df, alpha=0.7)\n",
    "hover = plot_tfidf.select(dict(type=HoverTool))\n",
    "hover.tooltips={\"description\": \"@description\", \"tokens\": \"@tokens\", \"category\":\"@category\"}\n",
    "show(plot_tfidf)"
   ]
  },
  {
   "cell_type": "markdown",
   "metadata": {
    "_cell_guid": "9baa48f4-895c-46e8-b0c6-ab3a6f719cdc",
    "_uuid": "6ddd57a9aad405e7ad03b3939fc58502697aa56e"
   },
   "source": [
    "## **K-Means Clustering**\n",
    "\n",
    "K-평균 클러스터링 목표는 클러스터 중심에서 문서/설명의 평균 제곱 유클리드 거리를 최소화하는 것입니다."
   ]
  },
  {
   "cell_type": "code",
   "execution_count": null,
   "metadata": {
    "_cell_guid": "4145bb78-54ce-44b7-9014-e0d26e932f6a",
    "_uuid": "efbd785dd4814c23ff2ab7ef2ba9dd06b21c154a",
    "collapsed": true
   },
   "outputs": [],
   "source": [
    "from sklearn.cluster import MiniBatchKMeans\n",
    "\n",
    "num_clusters = 30 # need to be selected wisely\n",
    "kmeans_model = MiniBatchKMeans(n_clusters=num_clusters,\n",
    "                               init='k-means++',\n",
    "                               n_init=1,\n",
    "                               init_size=1000, batch_size=1000, verbose=0, max_iter=1000)"
   ]
  },
  {
   "cell_type": "code",
   "execution_count": null,
   "metadata": {
    "_cell_guid": "e1251d38-9813-4d12-bde9-6e3e8f16914b",
    "_uuid": "bf1cc88318c78e7b11e3c1ac7edbc79713661293",
    "collapsed": true
   },
   "outputs": [],
   "source": [
    "kmeans = kmeans_model.fit(vz)\n",
    "kmeans_clusters = kmeans.predict(vz)\n",
    "kmeans_distances = kmeans.transform(vz)"
   ]
  },
  {
   "cell_type": "code",
   "execution_count": null,
   "metadata": {
    "_cell_guid": "3b2a5a0a-670e-44b3-824e-bb32c3c8a849",
    "_kg_hide-input": false,
    "_kg_hide-output": true,
    "_uuid": "aadb73b5ab0a3a691610357e128bf275a6b3312d",
    "collapsed": true
   },
   "outputs": [],
   "source": [
    "sorted_centroids = kmeans.cluster_centers_.argsort()[:, ::-1]\n",
    "terms = vectorizer.get_feature_names()\n",
    "\n",
    "for i in range(num_clusters):\n",
    "    print(\"Cluster %d:\" % i)\n",
    "    aux = ''\n",
    "    for j in sorted_centroids[i, :10]:\n",
    "        aux += terms[j] + ' | '\n",
    "    print(aux)\n",
    "    print() "
   ]
  },
  {
   "cell_type": "markdown",
   "metadata": {
    "_cell_guid": "30af7fe9-c3f4-4e0e-88cd-16a03e0e2bf0",
    "_uuid": "3763e33b915ed577f02d035028ee2c13035f2892"
   },
   "source": [
    "이 클러스터를 표시하려면 먼저 tsne를 사용하여 거리의 차원을 2로 줄여야 합니다."
   ]
  },
  {
   "cell_type": "code",
   "execution_count": null,
   "metadata": {
    "_cell_guid": "909da1fa-d307-4a4a-a162-cc44820fd094",
    "_kg_hide-output": true,
    "_uuid": "3d14784c614bb96c0ea626c1a98d8aef706206ed",
    "collapsed": true
   },
   "outputs": [],
   "source": [
    "# repeat the same steps for the sample\n",
    "kmeans = kmeans_model.fit(vz_sample)\n",
    "kmeans_clusters = kmeans.predict(vz_sample)\n",
    "kmeans_distances = kmeans.transform(vz_sample)\n",
    "# reduce dimension to 2 using tsne\n",
    "tsne_kmeans = tsne_model.fit_transform(kmeans_distances)"
   ]
  },
  {
   "cell_type": "code",
   "execution_count": null,
   "metadata": {
    "_cell_guid": "dd55dce0-2b65-4547-8e83-2f3f8c1aa841",
    "_kg_hide-input": true,
    "_kg_hide-output": true,
    "_uuid": "59438d7cdb5f767b6746e6924cc6cb1a6a46a62a",
    "collapsed": true
   },
   "outputs": [],
   "source": [
    "colormap = np.array([\"#6d8dca\", \"#69de53\", \"#723bca\", \"#c3e14c\", \"#c84dc9\", \"#68af4e\", \"#6e6cd5\",\n",
    "\"#e3be38\", \"#4e2d7c\", \"#5fdfa8\", \"#d34690\", \"#3f6d31\", \"#d44427\", \"#7fcdd8\", \"#cb4053\", \"#5e9981\",\n",
    "\"#803a62\", \"#9b9e39\", \"#c88cca\", \"#e1c37b\", \"#34223b\", \"#bdd8a3\", \"#6e3326\", \"#cfbdce\", \"#d07d3c\",\n",
    "\"#52697d\", \"#194196\", \"#d27c88\", \"#36422b\", \"#b68f79\"])"
   ]
  },
  {
   "cell_type": "code",
   "execution_count": null,
   "metadata": {
    "_cell_guid": "aefe9f45-c060-4ef1-8f4e-72c172d7828b",
    "_kg_hide-input": false,
    "_kg_hide-output": false,
    "_uuid": "0f8ff39015f3808158878bf69e2b4382f9a06afb",
    "collapsed": true
   },
   "outputs": [],
   "source": [
    "#combined_sample.reset_index(drop=True, inplace=True)\n",
    "kmeans_df = pd.DataFrame(tsne_kmeans, columns=['x', 'y'])\n",
    "kmeans_df['cluster'] = kmeans_clusters\n",
    "kmeans_df['description'] = combined_sample['item_description']\n",
    "kmeans_df['category'] = combined_sample['general_cat']\n",
    "#kmeans_df['cluster']=kmeans_df.cluster.astype(str).astype('category')"
   ]
  },
  {
   "cell_type": "code",
   "execution_count": null,
   "metadata": {
    "_cell_guid": "21da5d15-cae0-49e7-9067-b6f6766afbbf",
    "_uuid": "52318f096f8240d65e5d342587c086b1a5307b76",
    "collapsed": true
   },
   "outputs": [],
   "source": [
    "plot_kmeans = bp.figure(plot_width=700, plot_height=600,\n",
    "                        title=\"KMeans clustering of the description\",\n",
    "    tools=\"pan,wheel_zoom,box_zoom,reset,hover,previewsave\",\n",
    "    x_axis_type=None, y_axis_type=None, min_border=1)"
   ]
  },
  {
   "cell_type": "code",
   "execution_count": null,
   "metadata": {
    "_cell_guid": "90e136bf-f1b1-41a0-96c1-0f58a4b1f4a5",
    "_uuid": "4fe434a55d528f21cd301d7c20c0bd8f3e4386f9",
    "collapsed": true
   },
   "outputs": [],
   "source": [
    "source = ColumnDataSource(data=dict(x=kmeans_df['x'], y=kmeans_df['y'],\n",
    "                                    color=colormap[kmeans_clusters],\n",
    "                                    description=kmeans_df['description'],\n",
    "                                    category=kmeans_df['category'],\n",
    "                                    cluster=kmeans_df['cluster']))\n",
    "\n",
    "plot_kmeans.scatter(x='x', y='y', color='color', source=source)\n",
    "hover = plot_kmeans.select(dict(type=HoverTool))\n",
    "hover.tooltips={\"description\": \"@description\", \"category\": \"@category\", \"cluster\":\"@cluster\" }\n",
    "show(plot_kmeans)"
   ]
  },
  {
   "cell_type": "markdown",
   "metadata": {
    "_cell_guid": "499de8b5-7be7-4e88-a7cd-ddc689be0498",
    "_uuid": "e75b6be2c799bade7aeae9027affd4f312334295"
   },
   "source": [
    "## **잠재 디리클레 할당**\n",
    "\n",
    "LDA(Latent Dirichlet Allocation)는 말뭉치에 있는 주제를 발견하는 데 사용되는 알고리즘입니다.\n",
    "\n",
    "> LDA는 고정된 수의 주제에서 시작합니다. 각 주제는 단어에 대한 분포로 표시되고 각 문서는 주제에 대한 분포로 표시됩니다. 토큰 자체는 의미가 없지만 주제에서 제공하는 단어에 대한 확률 분포는 문서에 포함된 다양한 아이디어에 대한 감각을 제공합니다.\n",
    ">\n",
    "> 참조: https://medium.com/intuitionmachine/the-two-paths-from-natural-language-processing-to-artificial-intelligence-d5384ddbfc18\n",
    "\n",
    "입력은 **단어 모음**입니다. 즉, 각 문서는 말뭉치의 단어 수가 포함된 각 열이 있는 행으로 표시됩니다. LDA를 위한 대화형 시각화를 제공하는 pyLDAvis라는 강력한 도구를 사용할 것입니다."
   ]
  },
  {
   "cell_type": "code",
   "execution_count": null,
   "metadata": {
    "_cell_guid": "3f255cb6-11b5-43cd-986d-b16a532fbed6",
    "_uuid": "8db5a893242608e737efec9f50bda5d10a42a820",
    "collapsed": true
   },
   "outputs": [],
   "source": [
    "cvectorizer = CountVectorizer(min_df=4,\n",
    "                              max_features=180000,\n",
    "                              tokenizer=tokenize,\n",
    "                              ngram_range=(1,2))"
   ]
  },
  {
   "cell_type": "code",
   "execution_count": null,
   "metadata": {
    "_cell_guid": "26d7b384-a33a-4c99-a352-4ef32bb897ed",
    "_uuid": "58ebe6357a18e5928e199fb03ed5bd41ed23c0c0",
    "collapsed": true
   },
   "outputs": [],
   "source": [
    "cvz = cvectorizer.fit_transform(combined_sample['item_description'])"
   ]
  },
  {
   "cell_type": "code",
   "execution_count": null,
   "metadata": {
    "_cell_guid": "9acb64ea-9bb0-4019-84df-932a78cd806f",
    "_uuid": "1382bea915784c1be5b636fddd78315fc825a38e",
    "collapsed": true
   },
   "outputs": [],
   "source": [
    "lda_model = LatentDirichletAllocation(n_components=20,\n",
    "                                      learning_method='online',\n",
    "                                      max_iter=20,\n",
    "                                      random_state=42)"
   ]
  },
  {
   "cell_type": "code",
   "execution_count": null,
   "metadata": {
    "_cell_guid": "68c7f202-c620-42ae-843f-472f67a0ef95",
    "_uuid": "39184ac4788791ab09ca777b0f6ec1d589516b4e",
    "collapsed": true
   },
   "outputs": [],
   "source": [
    "X_topics = lda_model.fit_transform(cvz)"
   ]
  },
  {
   "cell_type": "code",
   "execution_count": null,
   "metadata": {
    "_cell_guid": "3f3e686d-797b-4c22-b970-68778bdc66e9",
    "_uuid": "495379112353df675a8aad1c6df7a6762dc725a1",
    "collapsed": true
   },
   "outputs": [],
   "source": [
    "n_top_words = 10\n",
    "topic_summaries = []\n",
    "\n",
    "topic_word = lda_model.components_  # get the topic words\n",
    "vocab = cvectorizer.get_feature_names()\n",
    "\n",
    "for i, topic_dist in enumerate(topic_word):\n",
    "    topic_words = np.array(vocab)[np.argsort(topic_dist)][:-(n_top_words+1):-1]\n",
    "    topic_summaries.append(' '.join(topic_words))\n",
    "    print('Topic {}: {}'.format(i, ' | '.join(topic_words)))"
   ]
  },
  {
   "cell_type": "code",
   "execution_count": null,
   "metadata": {
    "_cell_guid": "635f7f3c-46c0-4f0b-8f05-1c092f81a87b",
    "_uuid": "8f0136acba090cf8cd2d9f3589087a6cb94bc5d3",
    "collapsed": true
   },
   "outputs": [],
   "source": [
    "# reduce dimension to 2 using tsne\n",
    "tsne_lda = tsne_model.fit_transform(X_topics)"
   ]
  },
  {
   "cell_type": "code",
   "execution_count": null,
   "metadata": {
    "_cell_guid": "47df42d5-248f-4f92-aacf-5a8e86bbd1ab",
    "_uuid": "fcae4082942a7131ce3b598e485902aabf64cd17",
    "collapsed": true
   },
   "outputs": [],
   "source": [
    "unnormalized = np.matrix(X_topics)\n",
    "doc_topic = unnormalized/unnormalized.sum(axis=1)\n",
    "\n",
    "lda_keys = []\n",
    "for i, tweet in enumerate(combined_sample['item_description']):\n",
    "    lda_keys += [doc_topic[i].argmax()]\n",
    "\n",
    "lda_df = pd.DataFrame(tsne_lda, columns=['x','y'])\n",
    "lda_df['description'] = combined_sample['item_description']\n",
    "lda_df['category'] = combined_sample['general_cat']\n",
    "lda_df['topic'] = lda_keys\n",
    "lda_df['topic'] = lda_df['topic'].map(int)"
   ]
  },
  {
   "cell_type": "code",
   "execution_count": null,
   "metadata": {
    "_cell_guid": "6dfecf36-44d4-49b7-9909-93a230acddb6",
    "_kg_hide-input": true,
    "_kg_hide-output": true,
    "_uuid": "b3b3f9cacc7cac86db640d5b523f3a4b4373ca9b",
    "collapsed": true
   },
   "outputs": [],
   "source": [
    "plot_lda = bp.figure(plot_width=700,\n",
    "                     plot_height=600,\n",
    "                     title=\"LDA topic visualization\",\n",
    "    tools=\"pan,wheel_zoom,box_zoom,reset,hover,previewsave\",\n",
    "    x_axis_type=None, y_axis_type=None, min_border=1)"
   ]
  },
  {
   "cell_type": "code",
   "execution_count": null,
   "metadata": {
    "_cell_guid": "3fd253f0-a446-47db-8faf-444adf37507e",
    "_uuid": "3457a62e7a68c3cc0ed3edc15a314b256775d705",
    "collapsed": true
   },
   "outputs": [],
   "source": [
    "source = ColumnDataSource(data=dict(x=lda_df['x'], y=lda_df['y'],\n",
    "                                    color=colormap[lda_keys],\n",
    "                                    description=lda_df['description'],\n",
    "                                    topic=lda_df['topic'],\n",
    "                                    category=lda_df['category']))\n",
    "\n",
    "plot_lda.scatter(source=source, x='x', y='y', color='color')\n",
    "hover = plot_kmeans.select(dict(type=HoverTool))\n",
    "hover = plot_lda.select(dict(type=HoverTool))\n",
    "hover.tooltips={\"description\":\"@description\",\n",
    "                \"topic\":\"@topic\", \"category\":\"@category\"}\n",
    "show(plot_lda)"
   ]
  },
  {
   "cell_type": "code",
   "execution_count": null,
   "metadata": {
    "_cell_guid": "161db864-75a8-4580-842b-c720efacd585",
    "_uuid": "37f2c17318ce1008ebb36d1493fa8ae5ec1b1c5a",
    "collapsed": true
   },
   "outputs": [],
   "source": [
    "def prepareLDAData():\n",
    "    data = {\n",
    "        'vocab': vocab,\n",
    "        'doc_topic_dists': doc_topic,\n",
    "        'doc_lengths': list(lda_df['len_docs']),\n",
    "        'term_frequency':cvectorizer.vocabulary_,\n",
    "        'topic_term_dists': lda_model.components_\n",
    "    } \n",
    "    return data"
   ]
  },
  {
   "cell_type": "markdown",
   "metadata": {
    "_cell_guid": "3c2dd1c1-82fe-4d59-b7dd-4a20af223eaa",
    "_uuid": "72972bccd94dcb10fcf9930878052187d570a7f2"
   },
   "source": [
    "*참고: pyLDAvis를 사용하여 시각화의 HTML을 넣으면 커널의 레이아웃이 왜곡되는 것이 유감입니다. 여기에는 업로드하지 않겠습니다. 그러나 아래 코드를 따르면 주제 클러스터의 공간과 각 주제 내의 용어 구성 요소를 시각화하는 매우 흥미로운 대화형 거품 차트로 생성된 HTML 파일이 있을 것입니다.*\n",
    "\n",
    "![](https://farm5.staticflickr.com/4536/38709272151_7128c577ee_h.jpg)"
   ]
  },
  {
   "cell_type": "code",
   "execution_count": null,
   "metadata": {
    "_cell_guid": "6155fb2e-2677-44f0-add6-6993ff608df6",
    "_uuid": "e32eb8f082d0960ebe719e33e35fbcb3a270dd30",
    "collapsed": true
   },
   "outputs": [],
   "source": [
    "import pyLDAvis\n",
    "\n",
    "lda_df['len_docs'] = combined_sample['tokens'].map(len)\n",
    "ldadata = prepareLDAData()\n",
    "pyLDAvis.enable_notebook()\n",
    "prepared_data = pyLDAvis.prepare(**ldadata)"
   ]
  },
  {
   "cell_type": "markdown",
   "metadata": {
    "_cell_guid": "2d7ba29d-5f28-43c3-9920-4a787b08467e",
    "_kg_hide-input": true,
    "_kg_hide-output": true,
    "_uuid": "df165b4bc7db4fa05adb98736b51343617c5f142",
    "collapsed": true
   },
   "source": [
    "<a data-flickr-embed=\"true\"  href=\"https://www.flickr.com/photos/thykhuely/38709272151/in/dateposted-public/\" title=\"pyLDAvis\"><img src=\"https://farm5.staticflickr.com/4536/38709272151_7128c577ee_h.jpg\" width=\"1600\" height=\"976\" alt=\"pyLDAvis\"></a><script async src=\"//embedr.flickr.com/assets/client-code.js\" charset=\"utf-8\"></script>"
   ]
  },
  {
   "cell_type": "code",
   "execution_count": null,
   "metadata": {
    "_cell_guid": "0c8f9e12-d2fe-45ae-b060-0fbba4d821a8",
    "_uuid": "a94dd585876f23074115131542a2aae956d63024",
    "collapsed": true
   },
   "outputs": [],
   "source": [
    "import IPython.display\n",
    "from IPython.core.display import display, HTML, Javascript\n",
    "\n",
    "#h = IPython.display.display(HTML(html_string))\n",
    "#IPython.display.display_HTML(h)"
   ]
  }
 ],
 "metadata": {
  "kernelspec": {
   "display_name": "Python 3 (ipykernel)",
   "language": "python",
   "name": "python3"
  },
  "language_info": {
   "codemirror_mode": {
    "name": "ipython",
    "version": 3
   },
   "file_extension": ".py",
   "mimetype": "text/x-python",
   "name": "python",
   "nbconvert_exporter": "python",
   "pygments_lexer": "ipython3",
   "version": "3.9.7"
  }
 },
 "nbformat": 4,
 "nbformat_minor": 1
}
