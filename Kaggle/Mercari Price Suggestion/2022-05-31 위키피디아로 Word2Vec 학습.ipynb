{
 "cells": [
  {
   "cell_type": "markdown",
   "id": "e027dc22",
   "metadata": {},
   "source": [
    "# https://wikidocs.net/152606\n",
    "\n",
    "아래의 실습은 구글의 Colab을 사용한다고 가정하고 작성되었습니다. 다른 환경에서 실습하셔도 상관은 없지만, 형태소 분석기 Mecab은 다른 방법으로 설치하셔야 합니다."
   ]
  },
  {
   "cell_type": "code",
   "execution_count": null,
   "id": "68de9432",
   "metadata": {},
   "outputs": [],
   "source": [
    "# 위키피디아로부터 데이터를 파싱하기 위한 파이썬 패키지인 wikiextractor를 설치합니다.\n",
    "!pip install wikiextractor"
   ]
  },
  {
   "cell_type": "code",
   "execution_count": null,
   "id": "0d7b9645",
   "metadata": {},
   "outputs": [],
   "source": [
    "# 위키피디아 데이터를 다운로드 한 후에 전처리에서 사용할 형태소 분석기인 Mecab을 설치합니다.\n",
    "# Colab에 Mecab 설치\n",
    "!git clone https://github.com/SOMJANG/Mecab-ko-for-Google-Colab.git\n",
    "%cd Mecab-ko-for-Google-Colab\n",
    "!bash install_mecab-ko_on_colab190912.sh"
   ]
  },
  {
   "cell_type": "code",
   "execution_count": null,
   "id": "8ee17351",
   "metadata": {},
   "outputs": [],
   "source": [
    "# 위키피디아 덤프(위키피디아 데이터)를 다운로드합니다.\n",
    "!wget https://dumps.wikimedia.org/kowiki/latest/kowiki-latest-pages-articles.xml.bz2"
   ]
  },
  {
   "cell_type": "code",
   "execution_count": null,
   "id": "13e52ac4",
   "metadata": {},
   "outputs": [],
   "source": [
    "# 위키익스트랙터를 사용하여 위키피디아 덤프를 파싱합니다.\n",
    "!python -m wikiextractor.WikiExtractor kowiki-latest-pages-articles.xml.bz2"
   ]
  },
  {
   "cell_type": "code",
   "execution_count": null,
   "id": "567572ee",
   "metadata": {},
   "outputs": [],
   "source": [
    "# 현재 경로에 있는 디렉토리와 파일들의 리스트를 받아옵니다.\n",
    "%ls"
   ]
  },
  {
   "cell_type": "code",
   "execution_count": null,
   "id": "941d64bc",
   "metadata": {},
   "outputs": [],
   "source": [
    "import os\n",
    "import re\n",
    "os.listdir('text')"
   ]
  },
  {
   "cell_type": "code",
   "execution_count": null,
   "id": "6926a0d6",
   "metadata": {},
   "outputs": [],
   "source": [
    "%ls text/AA"
   ]
  },
  {
   "cell_type": "code",
   "execution_count": null,
   "id": "d521aea5",
   "metadata": {},
   "outputs": [],
   "source": [
    "# 이제 이 6개 AA ~ AF 디렉토리 안의 wiki 숫자 형태의 수많은 파일들을 하나로 통합하는 과정을 진행해야 합니다. \n",
    "# AA ~ AF 디렉토리 안의 모든 파일들의 경로를 파이썬의 리스트 형태로 저장합니다.\n",
    "def list_wiki(dirname):\n",
    "    filepaths = []\n",
    "    filenames = os.listdir(dirname)\n",
    "    for filename in filenames:\n",
    "        filepath = os.path.join(dirname, filename)\n",
    "\n",
    "        if os.path.isdir(filepath):\n",
    "            # 재귀 함수\n",
    "            filepaths.extend(list_wiki(filepath))\n",
    "        else:\n",
    "            find = re.findall(r\"wiki_[0-9][0-9]\", filepath)\n",
    "            if 0 < len(find):\n",
    "                filepaths.append(filepath)\n",
    "    return sorted(filepaths)\n",
    "filepaths = list_wiki('text')"
   ]
  },
  {
   "cell_type": "code",
   "execution_count": null,
   "id": "120005df",
   "metadata": {},
   "outputs": [],
   "source": [
    "len(filepaths)"
   ]
  },
  {
   "cell_type": "code",
   "execution_count": null,
   "id": "2d465198",
   "metadata": {},
   "outputs": [],
   "source": [
    "# 총 파일의 개수는 850개입니다. 이제 output_file.txt라는 파일에 850개의 파일을 전부 하나로 합칩니다.\n",
    "\n",
    "with open(\"output_file.txt\", \"w\") as outfile:\n",
    "    for filename in filepaths:\n",
    "        with open(filename) as infile:\n",
    "            contents = infile.read()\n",
    "            outfile.write(contents)"
   ]
  },
  {
   "cell_type": "code",
   "execution_count": null,
   "id": "a12969a0",
   "metadata": {},
   "outputs": [],
   "source": [
    "# 파일을 읽고 10줄만 출력해보겠습니다.\n",
    "\n",
    "f = open('output_file.txt', encoding=\"utf8\")\n",
    "\n",
    "i = 0\n",
    "while True:\n",
    "    line = f.readline()\n",
    "    if line != '\\n':\n",
    "        i = i+1\n",
    "        print(\"%d번째 줄 :\"%i + line)\n",
    "    if i==10:\n",
    "        break \n",
    "f.close()"
   ]
  },
  {
   "cell_type": "markdown",
   "id": "7d219183",
   "metadata": {},
   "source": [
    "## 2. 형태소 분석 "
   ]
  },
  {
   "cell_type": "code",
   "execution_count": null,
   "id": "10f862ca",
   "metadata": {},
   "outputs": [],
   "source": [
    "from tqdm import tqdm\n",
    "from konlpy.tag import Mecab "
   ]
  },
  {
   "cell_type": "code",
   "execution_count": null,
   "id": "43b653ee",
   "metadata": {},
   "outputs": [],
   "source": [
    "mecab = Mecab()"
   ]
  },
  {
   "cell_type": "code",
   "execution_count": null,
   "id": "ebf74899",
   "metadata": {},
   "outputs": [],
   "source": [
    "f = open('output_file.txt', encoding=\"utf8\")\n",
    "lines = f.read().splitlines()\n",
    "print(len(lines))"
   ]
  },
  {
   "cell_type": "code",
   "execution_count": null,
   "id": "aa6ea832",
   "metadata": {},
   "outputs": [],
   "source": [
    "lines[:10]"
   ]
  },
  {
   "cell_type": "code",
   "execution_count": null,
   "id": "1fbc95a4",
   "metadata": {},
   "outputs": [],
   "source": [
    "result = []\n",
    "\n",
    "for line in tqdm(lines):\n",
    "  # 빈 문자열이 아닌 경우에만 수행\n",
    "  if line:\n",
    "    result.append(mecab.morphs(line))"
   ]
  },
  {
   "cell_type": "code",
   "execution_count": null,
   "id": "8c96e36d",
   "metadata": {},
   "outputs": [],
   "source": [
    "len(result)"
   ]
  },
  {
   "cell_type": "markdown",
   "id": "42041d3f",
   "metadata": {},
   "source": [
    "### 3. Word2Vec 학습\n"
   ]
  },
  {
   "cell_type": "code",
   "execution_count": null,
   "id": "687020af",
   "metadata": {},
   "outputs": [],
   "source": [
    "from gensim.models import Word2Vec\n",
    "model = Word2Vec(result, size=100, window=5, min_count=5, workers=4, sg=0)"
   ]
  },
  {
   "cell_type": "code",
   "execution_count": null,
   "id": "d19ec848",
   "metadata": {},
   "outputs": [],
   "source": [
    "model_result1 = model.wv.most_similar(\"대한민국\")\n",
    "print(model_result1)"
   ]
  },
  {
   "cell_type": "code",
   "execution_count": null,
   "id": "13e2372f",
   "metadata": {},
   "outputs": [],
   "source": []
  },
  {
   "cell_type": "code",
   "execution_count": null,
   "id": "22d12436",
   "metadata": {},
   "outputs": [],
   "source": []
  }
 ],
 "metadata": {
  "kernelspec": {
   "display_name": "Python 3 (ipykernel)",
   "language": "python",
   "name": "python3"
  },
  "language_info": {
   "codemirror_mode": {
    "name": "ipython",
    "version": 3
   },
   "file_extension": ".py",
   "mimetype": "text/x-python",
   "name": "python",
   "nbconvert_exporter": "python",
   "pygments_lexer": "ipython3",
   "version": "3.9.7"
  }
 },
 "nbformat": 4,
 "nbformat_minor": 5
}
