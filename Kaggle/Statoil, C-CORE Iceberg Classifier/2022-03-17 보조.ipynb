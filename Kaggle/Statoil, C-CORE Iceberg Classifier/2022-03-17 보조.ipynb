{
 "cells": [
  {
   "cell_type": "code",
   "execution_count": 1,
   "id": "d2799f61",
   "metadata": {},
   "outputs": [
    {
     "data": {
      "text/plain": [
       "['.ipynb_checkpoints',\n",
       " 'sample_submission.csv.7z',\n",
       " 'test',\n",
       " 'test.json',\n",
       " 'test.json.7z',\n",
       " 'train',\n",
       " 'train.json',\n",
       " 'train.json.7z']"
      ]
     },
     "execution_count": 1,
     "metadata": {},
     "output_type": "execute_result"
    }
   ],
   "source": [
    "import os\n",
    "subpath = './input'\n",
    "all_file = os.listdir(subpath)\n",
    "all_file"
   ]
  },
  {
   "cell_type": "code",
   "execution_count": 1,
   "id": "721608c8",
   "metadata": {},
   "outputs": [],
   "source": [
    "import pandas as pd\n",
    "import numpy as np"
   ]
  },
  {
   "cell_type": "code",
   "execution_count": 17,
   "id": "58c60f15",
   "metadata": {},
   "outputs": [
    {
     "data": {
      "text/html": [
       "<div>\n",
       "<style scoped>\n",
       "    .dataframe tbody tr th:only-of-type {\n",
       "        vertical-align: middle;\n",
       "    }\n",
       "\n",
       "    .dataframe tbody tr th {\n",
       "        vertical-align: top;\n",
       "    }\n",
       "\n",
       "    .dataframe thead th {\n",
       "        text-align: right;\n",
       "    }\n",
       "</style>\n",
       "<table border=\"1\" class=\"dataframe\">\n",
       "  <thead>\n",
       "    <tr style=\"text-align: right;\">\n",
       "      <th></th>\n",
       "      <th>id1</th>\n",
       "      <th>id2</th>\n",
       "    </tr>\n",
       "  </thead>\n",
       "  <tbody>\n",
       "    <tr>\n",
       "      <th>0</th>\n",
       "      <td>1</td>\n",
       "      <td>0</td>\n",
       "    </tr>\n",
       "    <tr>\n",
       "      <th>1</th>\n",
       "      <td>2</td>\n",
       "      <td>1</td>\n",
       "    </tr>\n",
       "    <tr>\n",
       "      <th>2</th>\n",
       "      <td>1</td>\n",
       "      <td>1</td>\n",
       "    </tr>\n",
       "    <tr>\n",
       "      <th>3</th>\n",
       "      <td>2</td>\n",
       "      <td>1</td>\n",
       "    </tr>\n",
       "    <tr>\n",
       "      <th>4</th>\n",
       "      <td>1</td>\n",
       "      <td>2</td>\n",
       "    </tr>\n",
       "    <tr>\n",
       "      <th>5</th>\n",
       "      <td>2</td>\n",
       "      <td>3</td>\n",
       "    </tr>\n",
       "    <tr>\n",
       "      <th>6</th>\n",
       "      <td>1</td>\n",
       "      <td>1</td>\n",
       "    </tr>\n",
       "    <tr>\n",
       "      <th>7</th>\n",
       "      <td>2</td>\n",
       "      <td>2</td>\n",
       "    </tr>\n",
       "  </tbody>\n",
       "</table>\n",
       "</div>"
      ],
      "text/plain": [
       "   id1  id2\n",
       "0    1    0\n",
       "1    2    1\n",
       "2    1    1\n",
       "3    2    1\n",
       "4    1    2\n",
       "5    2    3\n",
       "6    1    1\n",
       "7    2    2"
      ]
     },
     "execution_count": 17,
     "metadata": {},
     "output_type": "execute_result"
    }
   ],
   "source": [
    "df = pd.DataFrame({'id1':[1,2,1,2,1,2,1,2], 'id2':[0,1,1,1,2,3,1,2]})\n",
    "df"
   ]
  },
  {
   "cell_type": "code",
   "execution_count": 8,
   "id": "a25ad5e8",
   "metadata": {},
   "outputs": [],
   "source": [
    "# set up cutoff threshold for lower and upper bounds, easy to twist \n",
    "cutoff_lo = 1\n",
    "cutoff_hi = 3"
   ]
  },
  {
   "cell_type": "code",
   "execution_count": 15,
   "id": "622ddebc",
   "metadata": {},
   "outputs": [
    {
     "data": {
      "text/plain": [
       "0    0.5\n",
       "1    1.5\n",
       "2    1.0\n",
       "3    1.5\n",
       "4    1.5\n",
       "5    2.5\n",
       "6    1.0\n",
       "7    2.0\n",
       "Name: is_iceberg_median, dtype: float64"
      ]
     },
     "execution_count": 15,
     "metadata": {},
     "output_type": "execute_result"
    }
   ],
   "source": [
    "df['is_iceberg_median']"
   ]
  },
  {
   "cell_type": "code",
   "execution_count": 24,
   "id": "8d7280a9",
   "metadata": {},
   "outputs": [
    {
     "data": {
      "text/plain": [
       "0    0.0\n",
       "1    0.0\n",
       "2    0.0\n",
       "3    0.0\n",
       "4    0.0\n",
       "5    1.0\n",
       "6    0.0\n",
       "7    1.0\n",
       "Name: is_iceberg, dtype: float64"
      ]
     },
     "execution_count": 24,
     "metadata": {},
     "output_type": "execute_result"
    }
   ],
   "source": [
    "df['is_iceberg'] = np.where(np.all(df.iloc[:,:] > cutoff_lo, axis=1), 1, \n",
    "                                    np.where(np.all(df.iloc[:, :] < cutoff_hi, axis=1), 0, df['is_iceberg_median']))\n",
    "df['is_iceberg']\n",
    "#concat_sub[['id', 'is_iceberg']].to_csv('stack_pushout_median.csv', \n",
    "#                                        index=False, float_format='%.6f')\n"
   ]
  },
  {
   "cell_type": "code",
   "execution_count": 18,
   "id": "36e40cb6",
   "metadata": {},
   "outputs": [
    {
     "data": {
      "text/plain": [
       "0    False\n",
       "1    False\n",
       "2    False\n",
       "3    False\n",
       "4    False\n",
       "5     True\n",
       "6    False\n",
       "7     True\n",
       "dtype: bool"
      ]
     },
     "execution_count": 18,
     "metadata": {},
     "output_type": "execute_result"
    }
   ],
   "source": [
    "np.all(df.iloc[:,:] > cutoff_lo, axis=1)"
   ]
  },
  {
   "cell_type": "code",
   "execution_count": 21,
   "id": "45bb0c63",
   "metadata": {},
   "outputs": [
    {
     "data": {
      "text/plain": [
       "0     True\n",
       "1     True\n",
       "2     True\n",
       "3     True\n",
       "4     True\n",
       "5    False\n",
       "6     True\n",
       "7     True\n",
       "dtype: bool"
      ]
     },
     "execution_count": 21,
     "metadata": {},
     "output_type": "execute_result"
    }
   ],
   "source": [
    "np.all(df.iloc[:, :] < cutoff_hi, axis=1)"
   ]
  },
  {
   "cell_type": "code",
   "execution_count": 22,
   "id": "f10bf889",
   "metadata": {},
   "outputs": [
    {
     "data": {
      "text/plain": [
       "0    0.5\n",
       "1    1.5\n",
       "2    1.0\n",
       "3    1.5\n",
       "4    1.5\n",
       "5    2.5\n",
       "6    1.0\n",
       "7    2.0\n",
       "Name: is_iceberg_median, dtype: float64"
      ]
     },
     "execution_count": 22,
     "metadata": {},
     "output_type": "execute_result"
    }
   ],
   "source": [
    "df['is_iceberg_median'] = df.iloc[:, :].median(axis=1)\n",
    "df['is_iceberg_median']"
   ]
  },
  {
   "cell_type": "code",
   "execution_count": 23,
   "id": "62181e5a",
   "metadata": {},
   "outputs": [
    {
     "data": {
      "text/plain": [
       "array([0. , 0. , 0. , 0. , 0. , 2.5, 0. , 0. ])"
      ]
     },
     "execution_count": 23,
     "metadata": {},
     "output_type": "execute_result"
    }
   ],
   "source": [
    "np.where(np.all(df.iloc[:, :] < cutoff_hi, axis=1), 0, df['is_iceberg_median'])"
   ]
  },
  {
   "cell_type": "code",
   "execution_count": null,
   "id": "8396a967",
   "metadata": {},
   "outputs": [],
   "source": [
    "# np.where(조건, True 일 때 출력값, False 일 때 출력값)\n",
    "# np.all(조건) - 배열의 모든 데이터가 조건과 맞으면 True 하나라도 다르면 False\n",
    "# np.any(조건) - 배열의 데이터 중 조건과 맞는 데이터가 있으면 True 전혀 없으면 False\n",
    "# np.isnan(arr) - 배열의 데이터 중 NaN 값인 요소는 True 아니면 False로 변환\n",
    "# np.isfinite(arr) - 배열의 데이터 중 셀수 있는 데이터를 True 아니면 False로 변환\n"
   ]
  },
  {
   "cell_type": "code",
   "execution_count": null,
   "id": "32cfa0ce",
   "metadata": {},
   "outputs": [],
   "source": []
  },
  {
   "cell_type": "code",
   "execution_count": 25,
   "id": "9d109b34",
   "metadata": {},
   "outputs": [],
   "source": [
    "# Random initialization\n",
    "import numpy as np\n",
    "np.random.seed(98643)\n",
    "import tensorflow as tf\n",
    "# 할당에 대한 TF 경고를 숨기려면 이 메모를 해제하십시오.\n",
    "#import os\n",
    "#os.environ['TF_CPP_MIN_LOG_LEVEL'] = '3'\n",
    "\n",
    "# 이미지 종속성을 지웁니다.\n",
    "from skimage.restoration import (denoise_tv_chambolle, denoise_bilateral,\n",
    "                                 denoise_wavelet, estimate_sigma, denoise_tv_bregman, denoise_nl_means)\n",
    "# restoration : 복구\n",
    "# denoise : 노이즈 제거\n",
    "# denoise_tv_chambolle : n차원 이미지에 대해 전체 변형 노이즈 제거를 수행합니다.\n",
    "# denoise_bilateral : 양방향 필터를 사용하여 이미지를 노이즈 제거합니다.\n",
    "# denoise_wavelet : 이미지에 웨이블릿 노이즈 제거를 수행합니다.\n",
    "# estimate_sigma : (가우스) 노이즈 표준 편차의 강력한 웨이블릿 기반 추정기입니다.\n",
    "# denoise_tv_bregman : split-Bregman 최적화를 사용하여 총 변동 잡음 제거를 수행합니다.\n",
    "# denoise_nl_means : 로컬이 아닌 수행은 2D-4D 그레이스케일 또는 RGB 이미지에서 노이즈 제거를 의미합니다.\n",
    "# 출처 : https://scikit-image.org/docs/stable/api/skimage.restoration.html\n",
    "from skimage.filters import gaussian\n",
    "from skimage.color import rgb2gray\n",
    "\n",
    "# Data reading and visualization\n",
    "import pandas as pd\n",
    "import matplotlib.pyplot as plt\n",
    "%matplotlib inline\n",
    "from sklearn.preprocessing import MinMaxScaler\n",
    "\n",
    "# Training part\n",
    "from keras.layers import Conv2D, MaxPooling2D, Dense, Dropout, Input, Flatten, GlobalAveragePooling2D, Lambda\n",
    "from keras.layers import GlobalMaxPooling2D\n",
    "from tensorflow.keras.layers import BatchNormalization\n",
    "from keras.layers.merge import Concatenate\n",
    "from keras.models import Model\n",
    "from tensorflow.keras.optimizers import Adam\n",
    "from keras.callbacks import ModelCheckpoint, Callback, EarlyStopping\n",
    "from sklearn.model_selection import train_test_split\n",
    "from sklearn.utils import shuffle\n",
    "from keras.preprocessing.image import ImageDataGenerator # 이미지 증강, ImageDataGenerator 클래스를 사용하면 rotation_range 인수에 정수 값을 제공하여 0~360도 범위에서 이미지를 임의로 회전할 수 있습니다.\n",
    "\n",
    "\n",
    "# Any results you write to the current directory are saved as output."
   ]
  },
  {
   "cell_type": "code",
   "execution_count": 26,
   "id": "c20cee97",
   "metadata": {},
   "outputs": [],
   "source": [
    "# Translate data to an image format\n",
    "def color_composite(data):\n",
    "    rgb_arrays = []\n",
    "    for i, row in data.iterrows():\n",
    "        band_1 = np.array(row['band_1']).reshape(75, 75)\n",
    "        band_2 = np.array(row['band_2']).reshape(75, 75)\n",
    "        band_3 = band_1 / band_2\n",
    "        \n",
    "        # 백분위수\n",
    "        r = (band_1 + abs(band_1.min())) / np.max((band_1 + abs(band_1.min())))\n",
    "        g = (band_2 + abs(band_2.min())) / np.max((band_2 + abs(band_2.min())))\n",
    "        b = (band_3 + abs(band_3.min())) / np.max((band_3 + abs(band_3.min())))\n",
    "\n",
    "        rgb = np.dstack((r, g, b)) # https://yeko90.tistory.com/63\n",
    "        rgb_arrays.append(rgb)\n",
    "        \n",
    "    return np.array(rgb_arrays)\n",
    "\n",
    "def denoise(X, weight, multichannel):\n",
    "    return np.asarray([denoise_tv_chambolle(item, weight=weight, multichannel=multichannel) for item in X])\n",
    "\n",
    "def smooth(X, sigma):\n",
    "    return np.asarray([gaussian(item, sigma=sigma) for item in X])\n",
    "\n",
    "def grayscale(X):\n",
    "    return np.asarray([rgb2gray(item) for item in X])"
   ]
  },
  {
   "cell_type": "code",
   "execution_count": 27,
   "id": "03b81215",
   "metadata": {},
   "outputs": [],
   "source": [
    "train = pd.read_json(\"./input/train.json\")\n",
    "train.inc_angle = train.inc_angle.replace('na', 0)\n",
    "train.inc_angle = train.inc_angle.astype(float).fillna(0.0)\n",
    "train_all = True\n",
    "\n",
    "# 이것들은 모델을 더 효율적으로 훈련시키기 위해 필요한 train flag입니다.\n",
    "# 적절한 모형 모수를 선택합니다.\n",
    "train_b = True or train_all\n",
    "train_img = True or train_all\n",
    "train_total = True or train_all\n",
    "predict_submission = True and train_all\n",
    "\n",
    "clean_all = False\n",
    "clean_b = False or clean_all\n",
    "clean_img = False or clean_all\n",
    "\n",
    "load_all = False\n",
    "load_b = False or load_all\n",
    "load_img = False or load_all"
   ]
  },
  {
   "cell_type": "code",
   "execution_count": 31,
   "id": "bca99977",
   "metadata": {},
   "outputs": [
    {
     "data": {
      "text/plain": [
       "(1604, 5)"
      ]
     },
     "execution_count": 31,
     "metadata": {},
     "output_type": "execute_result"
    }
   ],
   "source": [
    "train.shape"
   ]
  },
  {
   "cell_type": "code",
   "execution_count": 29,
   "id": "094422e4",
   "metadata": {},
   "outputs": [
    {
     "data": {
      "text/plain": [
       "(1604, 75, 75, 3)"
      ]
     },
     "execution_count": 29,
     "metadata": {},
     "output_type": "execute_result"
    }
   ],
   "source": [
    "color_composite(train).shape"
   ]
  },
  {
   "cell_type": "code",
   "execution_count": 39,
   "id": "ea121c0a",
   "metadata": {},
   "outputs": [
    {
     "data": {
      "text/plain": [
       "(1604, 75, 75, 3)"
      ]
     },
     "execution_count": 39,
     "metadata": {},
     "output_type": "execute_result"
    }
   ],
   "source": [
    "band_1, band_2, images = train['band_1'].values, train['band_2'].values, color_composite(train)\n",
    "to_arr = lambda x: np.asarray([np.asarray(item) for item in x]) # x=band_1,2\n",
    "band_1 = to_arr(band_1) # (1604, 5625)\n",
    "band_2 = to_arr(band_2) # (1604, 5625)\n",
    "band_3 = (band_1 + band_2) / 2 # (1604, 5625)\n",
    "gray_reshape = lambda x: np.asarray([item.reshape(75, 75) for item in x])\n",
    "\n",
    "# Make a picture format from flat vector\n",
    "band_1 = gray_reshape(band_1) # (1604, 75, 75)\n",
    "band_2 = gray_reshape(band_2) # (1604, 75, 75)\n",
    "\n",
    "tf_reshape = lambda x: np.asarray([item.reshape(75, 75, 1) for item in x])\n",
    "band_1 = tf_reshape(band_1) # (1604, 75, 75, 1)\n",
    "band_2 = tf_reshape(band_2) # (1604, 75, 75, 1)\n",
    "band_3 = tf_reshape(band_3) # (1604, 75, 75, 1)\n",
    "\n",
    "band = np.concatenate([band_1, band_2, band_3], axis=3)\n",
    "band.shape # (1604, 75, 75, 3)"
   ]
  },
  {
   "cell_type": "code",
   "execution_count": 36,
   "id": "b8f10e64",
   "metadata": {},
   "outputs": [
    {
     "data": {
      "text/plain": [
       "(1604, 5625)"
      ]
     },
     "execution_count": 36,
     "metadata": {},
     "output_type": "execute_result"
    }
   ],
   "source": [
    "band_1, band_2, images = train['band_1'].values, train['band_2'].values, color_composite(train)\n",
    "to_arr = lambda x: np.asarray([np.asarray(item) for item in x]) # x=band_1,2\n",
    "band_1 = to_arr(band_1)\n",
    "band_2 = to_arr(band_2)\n",
    "band_3 = (band_1 + band_2) / 2\n",
    "band_1.shape"
   ]
  },
  {
   "cell_type": "code",
   "execution_count": 38,
   "id": "63b9c494",
   "metadata": {},
   "outputs": [
    {
     "data": {
      "text/plain": [
       "(1604, 75, 75, 1)"
      ]
     },
     "execution_count": 38,
     "metadata": {},
     "output_type": "execute_result"
    }
   ],
   "source": [
    "band_1.shape"
   ]
  },
  {
   "cell_type": "code",
   "execution_count": null,
   "id": "c6c4bf19",
   "metadata": {},
   "outputs": [],
   "source": [
    "def create_dataset(frame, labeled, smooth_rgb=0.2, smooth_gray=0.5,\n",
    "                   weight_rgb=0.05, weight_gray=0.05):\n",
    "    \n",
    "    band_1, band_2, images = train['band_1'].values, train['band_2'].values, color_composite(train)\n",
    "    to_arr = lambda x: np.asarray([np.asarray(item) for item in x]) # x=band_1,2\n",
    "    band_1 = to_arr(band_1) # (1604, 5625)\n",
    "    band_2 = to_arr(band_2) # (1604, 5625)\n",
    "    band_3 = (band_1 + band_2) / 2 # (1604, 5625)\n",
    "    gray_reshape = lambda x: np.asarray([item.reshape(75, 75) for item in x])\n",
    "\n",
    "    # Make a picture format from flat vector\n",
    "    band_1 = gray_reshape(band_1) # (1604, 75, 75)\n",
    "    band_2 = gray_reshape(band_2) # (1604, 75, 75)\n",
    "    band_3 = gray_reshape(band_3) # (1604, 75, 75)\n",
    "    print('Denoising and reshaping')\n",
    "    \n",
    "    if train_b and clean_b:\n",
    "        # Smooth and denoise data\n",
    "        band_1 = smooth(denoise(band_1, weight_gray, False), smooth_gray)\n",
    "        print('Gray 1 done')\n",
    "        band_2 = smooth(denoise(band_2, weight_gray, False), smooth_gray)\n",
    "        print('Gray 2 done')\n",
    "        band_3 = smooth(denoise(band_3, weight_gray, False), smooth_gray)\n",
    "        print('Gray 3 done')\n",
    "    \n",
    "    if train_img and clean_img:\n",
    "        images = smooth(denoise(images, weight_rgb, True), smooth_rgb)\n",
    "    \n",
    "    print('RGB done')\n",
    "    \n",
    "    tf_reshape = lambda x: np.asarray([item.reshape(75, 75, 1) for item in x])\n",
    "    band_1 = tf_reshape(band_1) # (1604, 75, 75, 1)\n",
    "    band_2 = tf_reshape(band_2) # (1604, 75, 75, 1)\n",
    "    band_3 = tf_reshape(band_3) # (1604, 75, 75, 1)\n",
    "    \n",
    "    #images = tf_reshape(images)\n",
    "    band = np.concatenate([band_1, band_2, band_3], axis=3) # (1604, 75, 75, 3)\n",
    "    \n",
    "    if labeled:\n",
    "        y = np.array(frame[\"is_iceberg\"])\n",
    "    else:\n",
    "        y = None\n",
    "    return y, band, images"
   ]
  },
  {
   "cell_type": "code",
   "execution_count": null,
   "id": "78a84792",
   "metadata": {},
   "outputs": [],
   "source": [
    "y_train, X_b, X_images = create_dataset(train, True)"
   ]
  },
  {
   "cell_type": "code",
   "execution_count": null,
   "id": "eba89ae2",
   "metadata": {},
   "outputs": [],
   "source": []
  },
  {
   "cell_type": "code",
   "execution_count": null,
   "id": "9eb532c3",
   "metadata": {},
   "outputs": [],
   "source": []
  },
  {
   "cell_type": "code",
   "execution_count": null,
   "id": "39a07657",
   "metadata": {},
   "outputs": [],
   "source": []
  },
  {
   "cell_type": "code",
   "execution_count": null,
   "id": "dbf68c07",
   "metadata": {},
   "outputs": [],
   "source": []
  },
  {
   "cell_type": "code",
   "execution_count": null,
   "id": "7862000e",
   "metadata": {},
   "outputs": [],
   "source": []
  }
 ],
 "metadata": {
  "kernelspec": {
   "display_name": "Python 3 (ipykernel)",
   "language": "python",
   "name": "python3"
  },
  "language_info": {
   "codemirror_mode": {
    "name": "ipython",
    "version": 3
   },
   "file_extension": ".py",
   "mimetype": "text/x-python",
   "name": "python",
   "nbconvert_exporter": "python",
   "pygments_lexer": "ipython3",
   "version": "3.9.7"
  }
 },
 "nbformat": 4,
 "nbformat_minor": 5
}
