{
 "cells": [
  {
   "cell_type": "markdown",
   "metadata": {
    "_cell_guid": "58ef1a47-96bc-416d-a016-938a494fb1c3",
    "_uuid": "b531642dd4c3a53e20e5f6b9076bf17e9418e1e4"
   },
   "source": [
    "# WavCeption V1: just a 1-D Inception approach "
   ]
  },
  {
   "cell_type": "markdown",
   "metadata": {
    "_cell_guid": "e68a3daa-14d7-46d7-a0db-9f80380b9d0f",
    "_uuid": "f597ce3d9e1e9fe818cf0a8e51f6da2404ba5b43"
   },
   "source": [
    "저는 단지 제가 가지고 놀던 작은 장난감을 공유하고 싶었을 뿐인데 **놀라운 결과**를 주었습니다. 지금은 시간이 없기 때문에, 사람들이 어떻게 가지고 놀지 보려고 공유하려고 합니다. :-D. **WavCception V1** 네트워크는 일반 컨볼루션 뉴럴 네트워크에 비해 인상적인 결과를 얻을 수 있는 것으로 보이지만, 이번 경쟁에서는 전처리 및 알려지지 않은 트랙 관리에 많은 노력이 필요한 것으로 보입니다. 이것은 구글의 초기 네트워크를 기반으로 합니다. 같은 아이디어입니다. \n",
    "\n",
    " 저는 몇 주 전에 이러한 모듈들을 캐스케이드로 연결하여 쉽게 1D 인셉션 네트워크를 구축할 수 있도록 구현하는 모듈을 작성했습니다(아래 참조).\n",
    " \n",
    " 아쉽게도 몇 가지 Kaggle의 제약으로 인해 커널 머신에서는 실행되지 않으므로 다운로드하여 자신의 머신에서 실행해 보시기 바랍니다.\n",
    " \n",
    " 너무 고생하지 않고 12시간 동안 모델을 실행함으로써 리더보드에서 0.76을 달성했습니다(로컬 테스트에서는 0.84). 같은 라인의 다른 시험에서는 로컬에서 0.89를 얻었기 때문에 알려지지 않은 클립을 처리하는 방법이 크게 개선되었습니다."
   ]
  },
  {
   "cell_type": "markdown",
   "metadata": {
    "_cell_guid": "dd3e1543-18e2-4be6-b511-5c1e734d2c60",
    "_uuid": "f924854d4d258cd9a7db10eb5566e0bdff085574"
   },
   "source": [
    "## Load modules and libraries"
   ]
  },
  {
   "cell_type": "code",
   "execution_count": 4,
   "metadata": {
    "_cell_guid": "cb0f537e-1932-4c45-a4d0-59e7d2caac6b",
    "_uuid": "9d73d1472e8ea2c21b0c70b5f537a74a9c562708"
   },
   "outputs": [],
   "source": [
    "%matplotlib inline\n",
    "import numpy as np \n",
    "import pandas as pd \n",
    "import os\n",
    "import shutil # shutil 모듈은 파일과 파일 모음에 대한 여러 가지 고수준 연산을 제공합니다. 특히, 파일 복사와 삭제를 지원하는 함수가 제공됩니다\n",
    "import glob # 파일 리스트 추출\n",
    "import random\n",
    "\n",
    "from tqdm import tqdm # 진행표시바\n",
    "from collections import Counter # Counter('hello world') # Counter({'l': 3, 'o': 2, 'h': 1, 'e': 1, ' ': 1, 'w': 1, 'r': 1, 'd': 1})\n",
    "from sklearn.preprocessing import LabelEncoder\n",
    "import IPython # 인터렉티브 파이썬\n",
    "from numpy.fft import rfft, irfft # 1차원 이산 푸리에변환 # 역푸리에변환\n",
    "import itertools\n",
    "\n",
    "from scipy.io import wavfile\n",
    "import IPython.display as ipd\n",
    "import matplotlib.pyplot as plt\n",
    "import scipy as sp\n",
    "import tensorflow as tf"
   ]
  },
  {
   "cell_type": "markdown",
   "metadata": {
    "_cell_guid": "e8220812-116f-4f9b-a855-4b836f7411fc",
    "_uuid": "89ca39590c40bc3e332bab39fcedc7f2670b0f99"
   },
   "source": [
    "## Noise generation functions "
   ]
  },
  {
   "cell_type": "markdown",
   "metadata": {
    "_cell_guid": "890ea515-323c-46ae-884f-9cc71cf19d08",
    "_uuid": "d2d4594b05edbaf2eb450959812b741b8cfed6dc"
   },
   "source": [
    "이 섹션의 코드는 다음 항목에서 차용 및 개조되었습니다.\n",
    "https://github.com/python-acoustics/python-acoustics/blob/master/acoustics/generator.py"
   ]
  },
  {
   "cell_type": "code",
   "execution_count": 5,
   "metadata": {
    "_cell_guid": "a401d022-6475-4155-8282-94acd8c81fd7",
    "_uuid": "df4bdf2dc7234238c43e495a393ea824ae5e6e82"
   },
   "outputs": [],
   "source": [
    "def ms(x): # 제곱평균\n",
    "    \"\"\"Mean value of signal `x` squared.\n",
    "    :param x: Dynamic quantity.\n",
    "    :returns: Mean squared of `x`.\n",
    "    \"\"\"\n",
    "    return (np.abs(x)**2.0).mean()\n",
    "\n",
    "def normalize(y, x=None): # 일부(y)/전체(루트(제곱평균))\n",
    "    \"\"\"normalize power in y to a (standard normal) white noise signal.\n",
    "    Optionally normalize to power in signal `x`.\n",
    "    #The mean power of a Gaussian with :math:`\\\\mu=0` and :math:`\\\\sigma=1` is 1.\n",
    "    \"\"\"\n",
    "    #return y * np.sqrt( (np.abs(x)**2.0).mean() / (np.abs(y)**2.0).mean() )\n",
    "    if x is not None:\n",
    "        x = ms(x)\n",
    "    else:\n",
    "        x = 1.0\n",
    "    return y * np.sqrt( x / ms(y) ) # y/루트(제곱평균y)\n",
    "    #return y * np.sqrt( ms(x) / (np.abs(y)**2.0).mean() )\n",
    "    #return y * np.sqrt( 1.0 / (np.abs(y)**2.0).mean() )\n",
    "\n",
    "def white_noise(N, state=None): # N=16000*30, state=np.random.RandomState(655321)\n",
    "    state = np.random.RandomState() if state is None else state\n",
    "    return state.randn(N) # 정규분포\n",
    "\n",
    "def pink_noise(N, state=None):\n",
    "    state = np.random.RandomState() if state is None else state\n",
    "    uneven = N%2\n",
    "    X = state.randn(N//2+1+uneven) + 1j * state.randn(N//2+1+uneven)\n",
    "    S = np.sqrt(np.arange(len(X))+1.) # +1 to avoid divide by zero\n",
    "    y = (irfft(X/S)).real\n",
    "    if uneven:\n",
    "        y = y[:-1]\n",
    "    return normalize(y)\n",
    "\n",
    "def blue_noise(N, state=None):\n",
    "    \"\"\"\n",
    "    Blue noise. \n",
    "    \n",
    "    :param N: Amount of samples.\n",
    "    :param state: State of PRNG.\n",
    "    :type state: :class:`np.random.RandomState`\n",
    "    \n",
    "    Power increases with 6 dB per octave.\n",
    "    Power density increases with 3 dB per octave. \n",
    "    \"\"\"\n",
    "    state = np.random.RandomState() if state is None else state\n",
    "    uneven = N%2\n",
    "    X = state.randn(N//2+1+uneven) + 1j * state.randn(N//2+1+uneven)\n",
    "    S = np.sqrt(np.arange(len(X)))# Filter\n",
    "    y = (irfft(X*S)).real\n",
    "    if uneven:\n",
    "        y = y[:-1]\n",
    "    return normalize(y)\n",
    "\n",
    "def brown_noise(N, state=None):\n",
    "    \"\"\"\n",
    "    Violet noise.\n",
    "    \n",
    "    :param N: Amount of samples.\n",
    "    :param state: State of PRNG.\n",
    "    :type state: :class:`np.random.RandomState`\n",
    "    \n",
    "    Power decreases with -3 dB per octave.\n",
    "    Power density decreases with 6 dB per octave. \n",
    "    \"\"\"\n",
    "    state = np.random.RandomState() if state is None else state\n",
    "    uneven = N%2\n",
    "    X = state.randn(N//2+1+uneven) + 1j * state.randn(N//2+1+uneven)\n",
    "    S = (np.arange(len(X))+1)# Filter\n",
    "    y = (irfft(X/S)).real\n",
    "    if uneven:\n",
    "        y = y[:-1]\n",
    "    return normalize(y)\n",
    "\n",
    "def violet_noise(N, state=None):\n",
    "    \"\"\"\n",
    "    Violet noise. Power increases with 6 dB per octave. \n",
    "    \n",
    "    :param N: Amount of samples.\n",
    "    :param state: State of PRNG.\n",
    "    :type state: :class:`np.random.RandomState`\n",
    "    \n",
    "    Power increases with +9 dB per octave.\n",
    "    Power density increases with +6 dB per octave. \n",
    "    \n",
    "    \"\"\"\n",
    "    state = np.random.RandomState() if state is None else state\n",
    "    uneven = N%2\n",
    "    X = state.randn(N//2+1+uneven) + 1j * state.randn(N//2+1+uneven)\n",
    "    S = (np.arange(len(X)))# Filter\n",
    "    y = (irfft(X*S)).real\n",
    "    if uneven:\n",
    "        y = y[:-1]\n",
    "    return normalize(y)"
   ]
  },
  {
   "cell_type": "code",
   "execution_count": 3,
   "metadata": {
    "scrolled": true
   },
   "outputs": [
    {
     "data": {
      "text/plain": [
       "'\\nimport numpy as np\\n\\nN = 10\\nstate = np.random.RandomState()\\nstate.randn(N)\\n\\n# array([-0.59026399, -0.68431962,  1.56870611, -1.10500642, -0.67393401,\\n#        0.10376222, -0.31171382, -0.35720405, -0.74424293,  0.12614498])\\n\\nN//2+1+uneven # 6\\nX = state.randn(N//2+1+uneven) # array([-0.17811637,  0.56738609,  0.1139559 , -0.1609064 , -0.0583465 , 0.09898859])\\nstate = np.random.RandomState()\\nuneven = N%2 # 나머지\\nX = state.randn(N//2+1+uneven) + 1j * state.randn(N//2+1+uneven) \\n#array([-0.67854019+0.33696715j, -0.53639523-1.33228336j,\\n#       -0.16807449-1.02284005j,  0.57717245+0.56470304j,\\n#       -0.563283  +1.19573055j, -1.07630368+0.5818659j ])\\nS = np.sqrt(np.arange(len(X))+1.) # +1 to avoid divide by zero \\n# array([1.        , 1.41421356, 1.73205081, 2.        , 2.23606798,       2.44948974])\\n\\nX = state.randn(N//2+1+uneven) + 1j * state.randn(N//2+1+uneven)\\nS = np.sqrt(np.arange(len(X))+1.) # +1 to avoid divide by zero\\ny = (irfft(X/S)).real\\n\\nif uneven:\\n    y = y[:-1]\\nnormalize(y)\\n\\n#array([-1.13220548,  0.52472321,  1.24908875,  0.27902739, -0.36896684,\\n#       -0.32109447, -1.36113839, -1.96029794, -0.84810501, -0.38821552])\\n'"
      ]
     },
     "execution_count": 3,
     "metadata": {},
     "output_type": "execute_result"
    }
   ],
   "source": [
    "'''\n",
    "import numpy as np\n",
    "\n",
    "N = 10\n",
    "state = np.random.RandomState()\n",
    "state.randn(N)\n",
    "\n",
    "# array([-0.59026399, -0.68431962,  1.56870611, -1.10500642, -0.67393401,\n",
    "#        0.10376222, -0.31171382, -0.35720405, -0.74424293,  0.12614498])\n",
    "\n",
    "N//2+1+uneven # 6\n",
    "X = state.randn(N//2+1+uneven) # array([-0.17811637,  0.56738609,  0.1139559 , -0.1609064 , -0.0583465 , 0.09898859])\n",
    "state = np.random.RandomState()\n",
    "uneven = N%2 # 나머지\n",
    "\n",
    "X = state.randn(N//2+1+uneven) + 1j * state.randn(N//2+1+uneven) \n",
    "#array([-0.67854019+0.33696715j, -0.53639523-1.33228336j,\n",
    "#       -0.16807449-1.02284005j,  0.57717245+0.56470304j,\n",
    "#       -0.563283  +1.19573055j, -1.07630368+0.5818659j ])\n",
    "\n",
    "S = np.sqrt(np.arange(len(X))+1.) # +1 to avoid divide by zero \n",
    "# array([1.        , 1.41421356, 1.73205081, 2.        , 2.23606798,       2.44948974])\n",
    "\n",
    "X = state.randn(N//2+1+uneven) + 1j * state.randn(N//2+1+uneven)\n",
    "S = np.sqrt(np.arange(len(X))+1.) # +1 to avoid divide by zero\n",
    "y = (irfft(X/S)).real\n",
    "\n",
    "if uneven:\n",
    "    y = y[:-1]\n",
    "normalize(y)\n",
    "\n",
    "#array([-1.13220548,  0.52472321,  1.24908875,  0.27902739, -0.36896684,\n",
    "#       -0.32109447, -1.36113839, -1.96029794, -0.84810501, -0.38821552])\n",
    "'''"
   ]
  },
  {
   "cell_type": "markdown",
   "metadata": {
    "_cell_guid": "f08a3dd0-fb34-4415-a24d-795c2a475b3f",
    "_uuid": "a0c5d5315f8f420ba504c26f4ef0ed6d97a4aa57"
   },
   "source": [
    "## Tensorflow utilities"
   ]
  },
  {
   "cell_type": "markdown",
   "metadata": {
    "_cell_guid": "f7c51859-aedb-4da5-87e2-8ecf0d41425e",
    "_uuid": "ea75d0aee8fe1d444af7201364c62bc358ba38ab"
   },
   "source": [
    "텐서플로우 공통 작업을 모듈화하기 위한 유틸리티입니다.\n"
   ]
  },
  {
   "cell_type": "code",
   "execution_count": 6,
   "metadata": {
    "_cell_guid": "93fe476d-5f7b-40b1-a074-1a0e9d50ce11",
    "_uuid": "7a782f5e128b8c429c9df8489276c8147ed365f2"
   },
   "outputs": [],
   "source": [
    "# Tf Utils\n",
    "def get_tensorflow_configuration(device=\"0\", memory_fraction=1): # memory_fraction=1 : 100% 사용 # configuration : 구성\n",
    "    \"\"\"\n",
    "    사용할 GPU 및 프로세스에서 사용할 수 있는 메모리 양을 선택하는 기능입니다.\n",
    "    1. device: 사용할 장치를 지정합니다(str)\n",
    "    2. memory_fraction: 할당해야 하는 메모리의 비율입니다(float)\n",
    "    3. return: 세션에 전달할 구성입니다(tf 개체)\n",
    "    \"\"\"\n",
    "    device = str(device)\n",
    "    config = tf.compat.v1.ConfigProto() \n",
    "    config.allow_soft_placement = True # 선택한 장치가 없으면 다른 장치로 대체\n",
    "    config.gpu_options.per_process_gpu_memory_fraction = memory_fraction\n",
    "    config.gpu_options.visible_device_list = device\n",
    "    return(config)\n",
    "\n",
    "\n",
    "def start_tensorflow_session(device=\"0\", memory_fraction=1):\n",
    "    \"\"\"\n",
    "    사용할 GPU 장치를 처리하는 텐서플로우 세션을 시작합니다.\n",
    "    이 부분은 미리 인식될 메모리의 비율입니다.\n",
    "    \n",
    "    1. return: configured tf.Session\n",
    "    \"\"\"\n",
    "    return(tf.compat.v1.Session(config=get_tensorflow_configuration(device=device, memory_fraction=memory_fraction)))\n",
    "\n",
    "\n",
    "def get_summary_writer(session, logs_path, project_id, version_id): # 경로를 새로 만들어서 결과물(그래프)을 저장한다.\n",
    "    # sw = get_summary_writer(tf.compat.v1.Session(device='1'), \"~/.logs_tensorboard/\", \"wavception\", \"V1\") \n",
    "    \"\"\"\n",
    "    For Tensorboard reporting\n",
    "    1. session: opened tensorflow session (tf.Session)\n",
    "    2. logs_path: 텐서보드가 로그를 찾는 경로입니다. (str)\n",
    "    3. project_id: 보고용 프로젝트 이름입니다. (str)\n",
    "    4. version_id: 보고용 버전 이름입니다.(str)\n",
    "    5. return summary_writer: the tensorboard writer\n",
    "    \"\"\"\n",
    "    path = os.path.join(logs_path,\"{}_{}\".format(project_id, version_id)) # '~/.logs_tensorboard/wavception_V1'\n",
    "    \n",
    "    if os.path.exists(path):\n",
    "        shutil.rmtree(path) # 전체 디렉터리 트리를 삭제합니다\n",
    "    \n",
    "    summary_writer = tf.summary.FileWriter(path, graph_def=session.graph_def) #  path에 그래프(graph_def) 생성\n",
    "    \n",
    "    return(summary_writer)"
   ]
  },
  {
   "cell_type": "code",
   "execution_count": 7,
   "metadata": {},
   "outputs": [
    {
     "data": {
      "text/plain": [
       "'~/.logs_tensorboard/wavception_V1'"
      ]
     },
     "execution_count": 7,
     "metadata": {},
     "output_type": "execute_result"
    }
   ],
   "source": [
    "#sw = get_summary_writer(sess, \"~/.logs_tensorboard/\", \"wavception\", \"V1\")\n",
    "path = os.path.join(\"~/.logs_tensorboard/\",\"{}_{}\".format(\"wavception\", \"V1\")) # \n",
    "path"
   ]
  },
  {
   "cell_type": "markdown",
   "metadata": {
    "_cell_guid": "7dadd066-bd8e-4902-939d-300993467c67",
    "_uuid": "233bef658d360ebf7c9c6f623925615c56ec727b"
   },
   "source": [
    "## Paths management module"
   ]
  },
  {
   "cell_type": "markdown",
   "metadata": {
    "_cell_guid": "db84f1ec-e69d-47b6-9bc2-6916a224e905",
    "_uuid": "3bba8797dc146f2a51bc6887aa3d60831745425d"
   },
   "source": [
    "경로를 처리할 모듈입니다.\n"
   ]
  },
  {
   "cell_type": "code",
   "execution_count": 5,
   "metadata": {},
   "outputs": [
    {
     "data": {
      "text/plain": [
       "'\\ndef abc(x):\\n    def ab(*arg, **kwargs)\\n        return x(*arg, **kwargs)\\n    return ab\\n    \\n'"
      ]
     },
     "execution_count": 5,
     "metadata": {},
     "output_type": "execute_result"
    }
   ],
   "source": [
    "'''\n",
    "def abc(x):\n",
    "    def ab(*arg, **kwargs)\n",
    "        return x(*arg, **kwargs)\n",
    "    return ab\n",
    "    \n",
    "'''"
   ]
  },
  {
   "cell_type": "code",
   "execution_count": 8,
   "metadata": {
    "_cell_guid": "98e21f2b-673c-44d3-a156-56278ebe0054",
    "_uuid": "ac2c7e2219c90972ed163a2ce50c2af3c634f8be"
   },
   "outputs": [],
   "source": [
    "# Common paths\n",
    "def _norm_path(path):\n",
    "    \"\"\"\n",
    "    경로 검색 함수의 출력을 정규화하는 데 사용하기 위한 데코레이터 함수입니다.\n",
    "    슬래시/백슬래시 windows 케이스를 수정하는 데 유용합니다.\n",
    "    \"\"\"\n",
    "    def normalize_path(*args, **kwargs):\n",
    "        return os.path.normpath(path(*args, **kwargs))\n",
    "    \n",
    "    return normalize_path\n",
    "\n",
    "\n",
    "def _assure_path_exists(path): # assure : 확신\n",
    "    \"\"\"\n",
    "    경로 검색 함수의 출력 여부를 확인하기 위한 데코레이터 함수입니다.\n",
    "    fixing the slash/backslash windows cases.\n",
    "    \"\"\"\n",
    "    def assure_exists(*args, **kwargs):\n",
    "        p=path(*args, **kwargs)\n",
    "        \n",
    "        assert os.path.exists(p), \"the following path does not exist: '{}'\".format(p)\n",
    "        return p\n",
    "    \n",
    "    return assure_exists\n",
    "\n",
    "\n",
    "def _is_output_path(path):\n",
    "    \"\"\"\n",
    "    출력 경로 검색 함수의 출력에 적용되는 함수를 그룹화하기 위한 데코레이터 함수입니다.\n",
    "    \"\"\"\n",
    "    @_norm_path\n",
    "    @_assure_path_exists\n",
    "    def check_existence_or_create_it(*args, **kwargs):\n",
    "        if not os.path.exists(path(*args, **kwargs)):\n",
    "            \"Path does not exist... creating it: {}\".format(path(*args, **kwargs))\n",
    "            os.makedirs(path(*args, **kwargs))\n",
    "        return path(*args, **kwargs)\n",
    "    return check_existence_or_create_it\n",
    "\n",
    "\n",
    "def _is_input_path(path):\n",
    "    \"\"\"\n",
    "    입력 경로 검색 함수의 출력에 적용되는 함수를 그룹화하기 위한 데코레이터 함수입니다.\n",
    "    \"\"\"\n",
    "    @_norm_path\n",
    "    @_assure_path_exists\n",
    "    def check_existence(*args, **kwargs):\n",
    "        return path(*args, **kwargs)\n",
    "    return check_existence\n",
    "\n",
    "@_is_input_path\n",
    "def get_train_path():\n",
    "    path = \"./input/train/train\"\n",
    "    return path\n",
    "\n",
    "@_is_input_path\n",
    "def get_test_path():\n",
    "    path = \"./input/test/test\"\n",
    "    return path\n",
    "\n",
    "@_is_input_path\n",
    "def get_train_audio_path():\n",
    "    path = os.path.join(get_train_path(), \"audio\")\n",
    "    return path\n",
    "\n",
    "@_is_input_path\n",
    "def get_scoring_audio_path():\n",
    "    path = os.path.join(get_test_path(), \"audio\")\n",
    "    return path\n",
    "\n",
    "@_is_output_path\n",
    "def get_submissions_path():\n",
    "    path = \"../working/output\"\n",
    "    return path\n",
    "\n",
    "@_is_output_path\n",
    "def get_silence_path():\n",
    "    path = \"../working/silence\"\n",
    "    return path"
   ]
  },
  {
   "cell_type": "markdown",
   "metadata": {
    "_cell_guid": "ee43ab62-3c4a-40dc-9f18-efb0c114505d",
    "_uuid": "fb0647c5bf761a85cfbfc98017dfc428cad260f4"
   },
   "source": [
    "## Utilities"
   ]
  },
  {
   "cell_type": "markdown",
   "metadata": {
    "_cell_guid": "7001ab0b-20f0-44ad-abc9-54c855232c53",
    "_uuid": "46742e27457bae13221a6dd2983aeb05c59b7aaa"
   },
   "source": [
    "일반적인 범용 유틸리티입니다.\n"
   ]
  },
  {
   "cell_type": "code",
   "execution_count": 9,
   "metadata": {
    "_cell_guid": "c38d1870-b7c4-453e-bf94-1d6226fbe8b8",
    "_uuid": "ca100ad49d05f067cd4c96636a687563581f73d8"
   },
   "outputs": [],
   "source": [
    "# Utilities\n",
    "flatten = lambda l: [item for sublist in l for item in sublist]\n",
    "\n",
    "def batching(iterable, n=1): # iterable=filepaths, n =1000\n",
    "    l = len(iterable)# 72000\n",
    "    for ndx in range(0, l, n): # ndx = 1000, 2000, ..., 72000\n",
    "        yield iterable[ndx:min(ndx + n, l)] # filepaths[1000:2000], filepaths[2000:3000], ..., filepaths[71000:72000]"
   ]
  },
  {
   "cell_type": "markdown",
   "metadata": {
    "_cell_guid": "4cf6e246-a187-456d-9b32-4885babd562f",
    "_uuid": "2d0cb1612507e8edcf3752cb3411b4836f6ec800"
   },
   "source": [
    "## Data Tools"
   ]
  },
  {
   "cell_type": "markdown",
   "metadata": {
    "_cell_guid": "0d5b73ee-5261-4ada-8ca1-3bf5a31af487",
    "_uuid": "666ca8a8a9f96b9284d8efa3b5d0f5617661c399"
   },
   "source": [
    "Data handling tools"
   ]
  },
  {
   "cell_type": "code",
   "execution_count": 14,
   "metadata": {},
   "outputs": [
    {
     "name": "stderr",
     "output_type": "stream",
     "text": [
      "C:\\Users\\HOME\\AppData\\Local\\Temp/ipykernel_8536/2859869491.py:2: WavFileWarning: Chunk (non-data) not understood, skipping it.\n",
      "  sample_rate, x = wavfile.read(filepath)\n"
     ]
    },
    {
     "ename": "PermissionError",
     "evalue": "[Errno 13] Permission denied: '.'",
     "output_type": "error",
     "traceback": [
      "\u001b[1;31m---------------------------------------------------------------------------\u001b[0m",
      "\u001b[1;31mPermissionError\u001b[0m                           Traceback (most recent call last)",
      "\u001b[1;32m~\\AppData\\Local\\Temp/ipykernel_8536/2859869491.py\u001b[0m in \u001b[0;36m<module>\u001b[1;34m\u001b[0m\n\u001b[0;32m      4\u001b[0m \u001b[1;33m\u001b[0m\u001b[0m\n\u001b[0;32m      5\u001b[0m \u001b[1;32mfor\u001b[0m \u001b[0mfilepaths\u001b[0m \u001b[1;32min\u001b[0m \u001b[0mbatching\u001b[0m\u001b[1;33m(\u001b[0m\u001b[0mfilepath\u001b[0m\u001b[1;33m,\u001b[0m \u001b[1;36m1000\u001b[0m\u001b[1;33m)\u001b[0m\u001b[1;33m:\u001b[0m\u001b[1;33m\u001b[0m\u001b[1;33m\u001b[0m\u001b[0m\n\u001b[1;32m----> 6\u001b[1;33m     \u001b[0mwavs\u001b[0m\u001b[1;33m,\u001b[0m \u001b[0mtargets\u001b[0m \u001b[1;33m=\u001b[0m \u001b[0mzip\u001b[0m\u001b[1;33m(\u001b[0m\u001b[1;33m*\u001b[0m\u001b[0mlist\u001b[0m\u001b[1;33m(\u001b[0m\u001b[0mmap\u001b[0m\u001b[1;33m(\u001b[0m\u001b[0mread_wav\u001b[0m\u001b[1;33m,\u001b[0m \u001b[0mfilepaths\u001b[0m\u001b[1;33m)\u001b[0m\u001b[1;33m)\u001b[0m\u001b[1;33m)\u001b[0m \u001b[1;31m# map(+1해주는 함수/조건, 반복)\u001b[0m\u001b[1;33m\u001b[0m\u001b[1;33m\u001b[0m\u001b[0m\n\u001b[0m\u001b[0;32m      7\u001b[0m \u001b[0mtargets\u001b[0m\u001b[1;33m\u001b[0m\u001b[1;33m\u001b[0m\u001b[0m\n",
      "\u001b[1;32m~\\AppData\\Local\\Temp/ipykernel_8536/3694018068.py\u001b[0m in \u001b[0;36mread_wav\u001b[1;34m(filepath, pad)\u001b[0m\n\u001b[0;32m      8\u001b[0m     \u001b[1;36m3.\u001b[0m \u001b[0mreturns\u001b[0m\u001b[1;33m:\u001b[0m \u001b[0m표본과\u001b[0m \u001b[0m목표\u001b[0m \u001b[0m변수\u001b[0m \u001b[1;33m(\u001b[0m\u001b[0mtuple\u001b[0m \u001b[0mof\u001b[0m \u001b[1;33m(\u001b[0m\u001b[0mnp\u001b[0m\u001b[1;33m.\u001b[0m\u001b[0marray\u001b[0m\u001b[1;33m,\u001b[0m \u001b[0mstr\u001b[0m\u001b[1;33m)\u001b[0m\u001b[1;33m)\u001b[0m\u001b[1;33m\u001b[0m\u001b[1;33m\u001b[0m\u001b[0m\n\u001b[0;32m      9\u001b[0m     \"\"\"\n\u001b[1;32m---> 10\u001b[1;33m     \u001b[0msample_rate\u001b[0m\u001b[1;33m,\u001b[0m \u001b[0mx\u001b[0m \u001b[1;33m=\u001b[0m \u001b[0mwavfile\u001b[0m\u001b[1;33m.\u001b[0m\u001b[0mread\u001b[0m\u001b[1;33m(\u001b[0m\u001b[0mfilepath\u001b[0m\u001b[1;33m)\u001b[0m\u001b[1;33m\u001b[0m\u001b[1;33m\u001b[0m\u001b[0m\n\u001b[0m\u001b[0;32m     11\u001b[0m     \u001b[0mtarget\u001b[0m \u001b[1;33m=\u001b[0m \u001b[0mos\u001b[0m\u001b[1;33m.\u001b[0m\u001b[0mpath\u001b[0m\u001b[1;33m.\u001b[0m\u001b[0msplit\u001b[0m\u001b[1;33m(\u001b[0m\u001b[0mos\u001b[0m\u001b[1;33m.\u001b[0m\u001b[0mpath\u001b[0m\u001b[1;33m.\u001b[0m\u001b[0msplit\u001b[0m\u001b[1;33m(\u001b[0m\u001b[0mfilepath\u001b[0m\u001b[1;33m)\u001b[0m\u001b[1;33m[\u001b[0m\u001b[1;36m0\u001b[0m\u001b[1;33m]\u001b[0m\u001b[1;33m)\u001b[0m\u001b[1;33m[\u001b[0m\u001b[1;36m1\u001b[0m\u001b[1;33m]\u001b[0m \u001b[1;31m# '_background_noise_'\u001b[0m\u001b[1;33m\u001b[0m\u001b[1;33m\u001b[0m\u001b[0m\n\u001b[0;32m     12\u001b[0m     \u001b[1;32massert\u001b[0m \u001b[0msample_rate\u001b[0m\u001b[1;33m==\u001b[0m\u001b[1;36m16000\u001b[0m\u001b[1;33m\u001b[0m\u001b[1;33m\u001b[0m\u001b[0m\n",
      "\u001b[1;32m~\\anaconda3\\lib\\site-packages\\scipy\\io\\wavfile.py\u001b[0m in \u001b[0;36mread\u001b[1;34m(filename, mmap)\u001b[0m\n\u001b[0;32m    645\u001b[0m         \u001b[0mmmap\u001b[0m \u001b[1;33m=\u001b[0m \u001b[1;32mFalse\u001b[0m\u001b[1;33m\u001b[0m\u001b[1;33m\u001b[0m\u001b[0m\n\u001b[0;32m    646\u001b[0m     \u001b[1;32melse\u001b[0m\u001b[1;33m:\u001b[0m\u001b[1;33m\u001b[0m\u001b[1;33m\u001b[0m\u001b[0m\n\u001b[1;32m--> 647\u001b[1;33m         \u001b[0mfid\u001b[0m \u001b[1;33m=\u001b[0m \u001b[0mopen\u001b[0m\u001b[1;33m(\u001b[0m\u001b[0mfilename\u001b[0m\u001b[1;33m,\u001b[0m \u001b[1;34m'rb'\u001b[0m\u001b[1;33m)\u001b[0m\u001b[1;33m\u001b[0m\u001b[1;33m\u001b[0m\u001b[0m\n\u001b[0m\u001b[0;32m    648\u001b[0m \u001b[1;33m\u001b[0m\u001b[0m\n\u001b[0;32m    649\u001b[0m     \u001b[1;32mtry\u001b[0m\u001b[1;33m:\u001b[0m\u001b[1;33m\u001b[0m\u001b[1;33m\u001b[0m\u001b[0m\n",
      "\u001b[1;31mPermissionError\u001b[0m: [Errno 13] Permission denied: '.'"
     ]
    }
   ],
   "source": [
    "filepath = './input/train/train/audio/_background_noise_/exercise_bike.wav'\n",
    "sample_rate, x = wavfile.read(filepath)\n",
    "target = os.path.split(os.path.split(filepath)[0])[1] # '_background_noise_'\n",
    "\n",
    "for filepaths in batching(filepath, 1000):\n",
    "    wavs, targets = zip(*list(map(read_wav, filepaths))) # map(+1해주는 함수/조건, 반복)\n",
    "targets"
   ]
  },
  {
   "cell_type": "code",
   "execution_count": 18,
   "metadata": {},
   "outputs": [
    {
     "name": "stderr",
     "output_type": "stream",
     "text": [
      "C:\\Users\\HOME\\AppData\\Local\\Temp/ipykernel_8536/3694018068.py:10: WavFileWarning: Chunk (non-data) not understood, skipping it.\n",
      "  sample_rate, x = wavfile.read(filepath)\n"
     ]
    },
    {
     "data": {
      "text/plain": [
       "(array([ 0.        ,  0.        ,  0.        , ..., -0.02764893,\n",
       "        -0.01760864,  0.00912476]),\n",
       " '_background_noise_')"
      ]
     },
     "execution_count": 18,
     "metadata": {},
     "output_type": "execute_result"
    }
   ],
   "source": [
    "filepath = './input/train/train/audio/_background_noise_/exercise_bike.wav'\n",
    "read_wav(filepath, pad=False)"
   ]
  },
  {
   "cell_type": "code",
   "execution_count": 38,
   "metadata": {},
   "outputs": [
    {
     "ename": "FileNotFoundError",
     "evalue": "[Errno 2] No such file or directory: './input/tr'",
     "output_type": "error",
     "traceback": [
      "\u001b[1;31m---------------------------------------------------------------------------\u001b[0m",
      "\u001b[1;31mFileNotFoundError\u001b[0m                         Traceback (most recent call last)",
      "\u001b[1;32m~\\AppData\\Local\\Temp/ipykernel_8536/2967134095.py\u001b[0m in \u001b[0;36m<module>\u001b[1;34m\u001b[0m\n\u001b[0;32m      1\u001b[0m \u001b[1;32mfor\u001b[0m \u001b[0mfilepaths\u001b[0m \u001b[1;32min\u001b[0m \u001b[0mbatching\u001b[0m\u001b[1;33m(\u001b[0m\u001b[0mfilepath\u001b[0m\u001b[1;33m,\u001b[0m \u001b[0mn\u001b[0m\u001b[1;33m=\u001b[0m\u001b[1;36m10\u001b[0m\u001b[1;33m)\u001b[0m\u001b[1;33m:\u001b[0m\u001b[1;33m\u001b[0m\u001b[1;33m\u001b[0m\u001b[0m\n\u001b[1;32m----> 2\u001b[1;33m     \u001b[0mwavs\u001b[0m\u001b[1;33m,\u001b[0m \u001b[0mtargets\u001b[0m \u001b[1;33m=\u001b[0m \u001b[0mzip\u001b[0m\u001b[1;33m(\u001b[0m\u001b[1;33m*\u001b[0m\u001b[0mlist\u001b[0m\u001b[1;33m(\u001b[0m\u001b[1;33m(\u001b[0m\u001b[0mread_wav\u001b[0m\u001b[1;33m(\u001b[0m\u001b[0mfilepaths\u001b[0m\u001b[1;33m,\u001b[0m \u001b[0mpad\u001b[0m\u001b[1;33m=\u001b[0m\u001b[1;32mFalse\u001b[0m\u001b[1;33m)\u001b[0m\u001b[1;33m)\u001b[0m\u001b[1;33m)\u001b[0m\u001b[1;33m)\u001b[0m \u001b[1;31m# map(+1해주는 함수/조건, 반복)\u001b[0m\u001b[1;33m\u001b[0m\u001b[1;33m\u001b[0m\u001b[0m\n\u001b[0m\u001b[0;32m      3\u001b[0m \u001b[0mtargets\u001b[0m\u001b[1;33m\u001b[0m\u001b[1;33m\u001b[0m\u001b[0m\n",
      "\u001b[1;32m~\\AppData\\Local\\Temp/ipykernel_8536/3694018068.py\u001b[0m in \u001b[0;36mread_wav\u001b[1;34m(filepath, pad)\u001b[0m\n\u001b[0;32m      8\u001b[0m     \u001b[1;36m3.\u001b[0m \u001b[0mreturns\u001b[0m\u001b[1;33m:\u001b[0m \u001b[0m표본과\u001b[0m \u001b[0m목표\u001b[0m \u001b[0m변수\u001b[0m \u001b[1;33m(\u001b[0m\u001b[0mtuple\u001b[0m \u001b[0mof\u001b[0m \u001b[1;33m(\u001b[0m\u001b[0mnp\u001b[0m\u001b[1;33m.\u001b[0m\u001b[0marray\u001b[0m\u001b[1;33m,\u001b[0m \u001b[0mstr\u001b[0m\u001b[1;33m)\u001b[0m\u001b[1;33m)\u001b[0m\u001b[1;33m\u001b[0m\u001b[1;33m\u001b[0m\u001b[0m\n\u001b[0;32m      9\u001b[0m     \"\"\"\n\u001b[1;32m---> 10\u001b[1;33m     \u001b[0msample_rate\u001b[0m\u001b[1;33m,\u001b[0m \u001b[0mx\u001b[0m \u001b[1;33m=\u001b[0m \u001b[0mwavfile\u001b[0m\u001b[1;33m.\u001b[0m\u001b[0mread\u001b[0m\u001b[1;33m(\u001b[0m\u001b[0mfilepath\u001b[0m\u001b[1;33m)\u001b[0m\u001b[1;33m\u001b[0m\u001b[1;33m\u001b[0m\u001b[0m\n\u001b[0m\u001b[0;32m     11\u001b[0m     \u001b[0mtarget\u001b[0m \u001b[1;33m=\u001b[0m \u001b[0mos\u001b[0m\u001b[1;33m.\u001b[0m\u001b[0mpath\u001b[0m\u001b[1;33m.\u001b[0m\u001b[0msplit\u001b[0m\u001b[1;33m(\u001b[0m\u001b[0mos\u001b[0m\u001b[1;33m.\u001b[0m\u001b[0mpath\u001b[0m\u001b[1;33m.\u001b[0m\u001b[0msplit\u001b[0m\u001b[1;33m(\u001b[0m\u001b[0mfilepath\u001b[0m\u001b[1;33m)\u001b[0m\u001b[1;33m[\u001b[0m\u001b[1;36m0\u001b[0m\u001b[1;33m]\u001b[0m\u001b[1;33m)\u001b[0m\u001b[1;33m[\u001b[0m\u001b[1;36m1\u001b[0m\u001b[1;33m]\u001b[0m \u001b[1;31m# '_background_noise_'\u001b[0m\u001b[1;33m\u001b[0m\u001b[1;33m\u001b[0m\u001b[0m\n\u001b[0;32m     12\u001b[0m     \u001b[1;32massert\u001b[0m \u001b[0msample_rate\u001b[0m\u001b[1;33m==\u001b[0m\u001b[1;36m16000\u001b[0m\u001b[1;33m\u001b[0m\u001b[1;33m\u001b[0m\u001b[0m\n",
      "\u001b[1;32m~\\anaconda3\\lib\\site-packages\\scipy\\io\\wavfile.py\u001b[0m in \u001b[0;36mread\u001b[1;34m(filename, mmap)\u001b[0m\n\u001b[0;32m    645\u001b[0m         \u001b[0mmmap\u001b[0m \u001b[1;33m=\u001b[0m \u001b[1;32mFalse\u001b[0m\u001b[1;33m\u001b[0m\u001b[1;33m\u001b[0m\u001b[0m\n\u001b[0;32m    646\u001b[0m     \u001b[1;32melse\u001b[0m\u001b[1;33m:\u001b[0m\u001b[1;33m\u001b[0m\u001b[1;33m\u001b[0m\u001b[0m\n\u001b[1;32m--> 647\u001b[1;33m         \u001b[0mfid\u001b[0m \u001b[1;33m=\u001b[0m \u001b[0mopen\u001b[0m\u001b[1;33m(\u001b[0m\u001b[0mfilename\u001b[0m\u001b[1;33m,\u001b[0m \u001b[1;34m'rb'\u001b[0m\u001b[1;33m)\u001b[0m\u001b[1;33m\u001b[0m\u001b[1;33m\u001b[0m\u001b[0m\n\u001b[0m\u001b[0;32m    648\u001b[0m \u001b[1;33m\u001b[0m\u001b[0m\n\u001b[0;32m    649\u001b[0m     \u001b[1;32mtry\u001b[0m\u001b[1;33m:\u001b[0m\u001b[1;33m\u001b[0m\u001b[1;33m\u001b[0m\u001b[0m\n",
      "\u001b[1;31mFileNotFoundError\u001b[0m: [Errno 2] No such file or directory: './input/tr'"
     ]
    }
   ],
   "source": [
    "for filepaths in batching(filepath, n=10):\n",
    "    wavs, targets = zip(*list((read_wav(filepaths, pad=False)))) # map(+1해주는 함수/조건, 반복)\n",
    "targets"
   ]
  },
  {
   "cell_type": "code",
   "execution_count": 10,
   "metadata": {
    "_cell_guid": "99da70b7-1f49-41f5-bd6b-268429c2d401",
    "_uuid": "87488aa067d32f457072b5816b8f96a45e1add11"
   },
   "outputs": [],
   "source": [
    "# Data tools\n",
    "def read_wav(filepath, pad=True):\n",
    "    \"\"\"\n",
    "    wav 파일의 파일 경로를 지정하면 이 함수는 파일을 읽고 정규화하고 패드를 채웁니다.\n",
    "    16k개의 샘플을 가지고 있는지 확인합니다.\n",
    "    1. filepath: wav 파일의 기존 파일 경로입니다. (str)\n",
    "    2. pad: 패딩이 필요합니까? (bool)\n",
    "    3. returns: 표본과 목표 변수 (tuple of (np.array, str))\n",
    "    \"\"\"\n",
    "    sample_rate, x = wavfile.read(filepath)\n",
    "    target = os.path.split(os.path.split(filepath)[0])[1] # '_background_noise_'\n",
    "    assert sample_rate==16000\n",
    "    if pad:\n",
    "        return np.pad(x, (0, 16000-len(x)), mode=\"constant\")/32768, target\n",
    "    else:\n",
    "        return x/32768, target\n",
    "\n",
    "def get_batcher(list_of_paths, batch_size, label_encoder=None, scoring=False): \n",
    "    # get_batcher(testing_list, 64, le_classes)\n",
    "    # list_of_paths = './input/train/train/audio/**/*.wav', batchsize=1000/0, label_encoder = LabelEncoder().fit(cardinal_classes)\n",
    "    \"\"\" \n",
    "    배치 목록이 지정된 배치 생성기를 작성합니다.\n",
    "    1. list_of_paths: 형식 요소가 있는 튜플 리스트입니다. (filepath, target) (list)\n",
    "    2. batch_size: size of the batch (int)\n",
    "    3. label_encoder: fitted LabelEncoder (sklearn.LabelEncoder|optional)\n",
    "    4. scoring: 대상을 고려해야 합니까? (bool)\n",
    "    5. returns: batch generator\n",
    "    \"\"\"\n",
    "    for filepaths in batching(list_of_paths, batch_size):\n",
    "        wavs, targets = zip(*list(map(read_wav, filepaths))) # map(+1해주는 함수/조건, 반복)\n",
    "        if scoring:\n",
    "            yield np.expand_dims(np.row_stack(wavs), 2), filepaths # np.row_stack() = np.vstack()\n",
    "        else:\n",
    "            if label_encoder is None:\n",
    "                yield np.expand_dims(np.row_stack(wavs), 2), np.row_stack(targets)\n",
    "            else:\n",
    "                yield np.expand_dims(np.row_stack(wavs), 2), np.expand_dims(label_encoder.transform(np.squeeze(targets)), 1)"
   ]
  },
  {
   "cell_type": "markdown",
   "metadata": {
    "_cell_guid": "d1472be2-c57a-41be-bf61-c5dea64e9c0c",
    "_uuid": "167d8606f98b87258078ef99d89bf7cc1d84c724"
   },
   "source": [
    "## Architecture building blocks"
   ]
  },
  {
   "cell_type": "markdown",
   "metadata": {
    "_cell_guid": "a299b242-fd42-4cbf-8181-2bdbd9fa7c3a",
    "_uuid": "fa4997b17d264980689f988e1a50519206d13246"
   },
   "source": [
    "Inception-1D(일명 wavception)는 이 문제를 해결하기 위해 몇 주 전에 설계한 모듈입니다. 그것은 규칙적인 컨볼루션 뉴럴 네트의 성능을 상당히 향상시킵니다."
   ]
  },
  {
   "cell_type": "code",
   "execution_count": 9,
   "metadata": {},
   "outputs": [
    {
     "data": {
      "text/plain": [
       "'\\ntf.compat.v1.disable_eager_execution()\\n\\nholder1 = tf.compat.v1.placeholder(dtype=tf.float32)\\nholder2 = tf.compat.v1.placeholder(dtype=tf.float32)\\nholder3 = tf.compat.v1.placeholder(dtype=tf.float32)\\n \\nv1 = 5\\nv2 = 10\\nv3 = 3\\n \\n# 함수    \\nret_val = holder1 * holder2 + holder3 # <tf.Tensor \\'add:0\\' shape=<unknown> dtype=float32>\\n\\n# 값 할당\\nfeed_dict = {holder1: v1, holder2: v2, holder3: v3}\\n\\n# 값계산을 위한 세션 사용\\ndef get_tensorflow_configuration(device=\"0\", memory_fraction=1): # memory_fraction=1 : 100% 사용 # configuration : 구성\\n    device = str(device)\\n    config = tf.compat.v1.ConfigProto() \\n    config.allow_soft_placement = True # 선택한 장치가 없으면 다른 장치로 대체\\n    config.gpu_options.per_process_gpu_memory_fraction = memory_fraction\\n    config.gpu_options.visible_device_list = device\\n    return(config)\\n\\n\\ndef start_tensorflow_session(device=\"0\", memory_fraction=1):\\n    return(tf.compat.v1.Session(config=get_tensorflow_configuration(device=device, memory_fraction=memory_fraction)))\\n\\nsess = start_tensorflow_session(device=\"1\")\\n\\nresult = sess.run(ret_val, feed_dict=feed_dict)\\n \\nprint(result)\\n'"
      ]
     },
     "execution_count": 9,
     "metadata": {},
     "output_type": "execute_result"
    }
   ],
   "source": [
    "'''\n",
    "tf.compat.v1.disable_eager_execution()\n",
    "\n",
    "holder1 = tf.compat.v1.placeholder(dtype=tf.float32)\n",
    "holder2 = tf.compat.v1.placeholder(dtype=tf.float32)\n",
    "holder3 = tf.compat.v1.placeholder(dtype=tf.float32)\n",
    " \n",
    "v1 = 5\n",
    "v2 = 10\n",
    "v3 = 3\n",
    " \n",
    "# 함수    \n",
    "ret_val = holder1 * holder2 + holder3 # <tf.Tensor 'add:0' shape=<unknown> dtype=float32>\n",
    "\n",
    "# 값 할당\n",
    "feed_dict = {holder1: v1, holder2: v2, holder3: v3}\n",
    "\n",
    "# 값계산을 위한 세션 사용\n",
    "def get_tensorflow_configuration(device=\"0\", memory_fraction=1): # memory_fraction=1 : 100% 사용 # configuration : 구성\n",
    "    device = str(device)\n",
    "    config = tf.compat.v1.ConfigProto() \n",
    "    config.allow_soft_placement = True # 선택한 장치가 없으면 다른 장치로 대체\n",
    "    config.gpu_options.per_process_gpu_memory_fraction = memory_fraction\n",
    "    config.gpu_options.visible_device_list = device\n",
    "    return(config)\n",
    "\n",
    "\n",
    "def start_tensorflow_session(device=\"0\", memory_fraction=1):\n",
    "    return(tf.compat.v1.Session(config=get_tensorflow_configuration(device=device, memory_fraction=memory_fraction)))\n",
    "\n",
    "sess = start_tensorflow_session(device=\"1\")\n",
    "\n",
    "result = sess.run(ret_val, feed_dict=feed_dict)\n",
    " \n",
    "print(result)\n",
    "'''"
   ]
  },
  {
   "cell_type": "code",
   "execution_count": 11,
   "metadata": {
    "_cell_guid": "5f9d3b17-e5b8-4801-a91b-bf9fce956b84",
    "_uuid": "b2e0ccb28bc9a730958a11c6ad35da321ff33db9"
   },
   "outputs": [],
   "source": [
    "class BatchNorm(object):\n",
    "    def __init__(self, epsilon=1e-5, momentum=0.999, name=\"batch_norm\"):\n",
    "        with tf.variable_scope(name):\n",
    "            self.epsilon = epsilon\n",
    "            self.momentum = momentum\n",
    "            self.name = name\n",
    "\n",
    "    def __call__(self, x, train=True):\n",
    "        return tf.contrib.layers.batch_norm(x,\n",
    "                                            decay=self.momentum,\n",
    "                                            updates_collections=None,\n",
    "                                            epsilon=self.epsilon,\n",
    "                                            scale=True,\n",
    "                                            is_training=train,\n",
    "                                            scope=self.name)\n",
    "    \n",
    "def inception_1d(x, is_train, depth, norm_function, activ_function, name):  # depth=1,2,3,4\n",
    "    \"\"\"\n",
    "    inception_1d(x=self.placeholders.wav_in=batch_x=get_batcher=train_list=,\n",
    "                            is_train=self.placeholders.is_train=bool, \n",
    "                             norm_function=BatchNorm=tf.contrib.layers.batch_norm(x), \n",
    "                             activ_function=tf.nn.relu, depth=1,\n",
    "                             name=\"Inception_1_1\")\n",
    "                             \n",
    "    Inception 1D 모듈 구현입니다.\n",
    "    1. x: 현재 모듈에 입력합니다. (4D tensor with channels-last)\n",
    "    2. is_train: BatchNormalization 동작을 제어하기 위한 부울 자리 표시자가 되려고 합니다. (0D tensor)\n",
    "    3. depth: 네트워크의 깊이를 선형적으로 제어합니다.(int)\n",
    "    4. norm_function: 정규화 클래스입니다. (same format as the BatchNorm class above)\n",
    "    5. activ_function: 활성화함수 (e.g. tf.nn.relu) \n",
    "    6. name: 변수 범위의 이름입니다. (str)\n",
    "    \"\"\"\n",
    "    with tf.variable_scope(name):\n",
    "        x_norm = norm_function(name=\"norm_input\")(x, train=is_train) # BatchNorm(name='norm_input')(x, train=s)\n",
    "\n",
    "        # Branch 1: 64 x conv 1x1 \n",
    "        branch_conv_1_1 = tf.layers.conv1d(inputs=x_norm, filters=16*depth, kernel_size=1,\n",
    "                                           kernel_initializer=tf.contrib.layers.xavier_initializer(),\n",
    "                                           padding=\"same\", name=\"conv_1_1\")\n",
    "        branch_conv_1_1 = norm_function(name=\"norm_conv_1_1\")(branch_conv_1_1, train=is_train) # BatchNorm\n",
    "        branch_conv_1_1 = activ_function(branch_conv_1_1, \"activation_1_1\")  # tf.nn.relu\n",
    "\n",
    "        # Branch 2: 128 x conv 3x3 \n",
    "        branch_conv_3_3 = tf.layers.conv1d(inputs=x_norm, filters=16, kernel_size=1, \n",
    "                                           kernel_initializer=tf.contrib.layers.xavier_initializer(),\n",
    "                                           padding=\"same\", name=\"conv_3_3_1\")\n",
    "        branch_conv_3_3 = norm_function(name=\"norm_conv_3_3_1\")(branch_conv_3_3, train=is_train)\n",
    "        branch_conv_3_3 = activ_function(branch_conv_3_3, \"activation_3_3_1\")\n",
    "\n",
    "        branch_conv_3_3 = tf.layers.conv1d(inputs=branch_conv_3_3, filters=32*depth, kernel_size=3, \n",
    "                                           kernel_initializer=tf.contrib.layers.xavier_initializer(),\n",
    "                                           padding=\"same\", name=\"conv_3_3_2\")\n",
    "        branch_conv_3_3 = norm_function(name=\"norm_conv_3_3_2\")(branch_conv_3_3, train=is_train)\n",
    "        branch_conv_3_3 = activ_function(branch_conv_3_3, \"activation_3_3_2\")\n",
    "\n",
    "        # Branch 3: 128 x conv 5x5 \n",
    "        branch_conv_5_5 = tf.layers.conv1d(inputs=x_norm, filters=16, kernel_size=1, \n",
    "                                           kernel_initializer=tf.contrib.layers.xavier_initializer(),\n",
    "                                           padding=\"same\", name=\"conv_5_5_1\")\n",
    "        branch_conv_5_5 = norm_function(name=\"norm_conv_5_5_1\")(branch_conv_5_5, train=is_train)\n",
    "        branch_conv_5_5 = activ_function(branch_conv_5_5, \"activation_5_5_1\")\n",
    "\n",
    "        branch_conv_5_5 = tf.layers.conv1d(inputs=branch_conv_5_5, filters=32*depth, kernel_size=5, \n",
    "                                           kernel_initializer=tf.contrib.layers.xavier_initializer(),\n",
    "                                           padding=\"same\", name=\"conv_5_5_2\")\n",
    "        branch_conv_5_5 = norm_function(name=\"norm_conv_5_5_2\")(branch_conv_5_5, train=is_train)\n",
    "        branch_conv_5_5 = activ_function(branch_conv_5_5, \"activation_5_5_2\")\n",
    "\n",
    "        # Branch 4: 128 x conv 7x7\n",
    "        branch_conv_7_7 = tf.layers.conv1d(inputs=x_norm, filters=16, kernel_size=1, \n",
    "                                           kernel_initializer=tf.contrib.layers.xavier_initializer(),\n",
    "                                           padding=\"same\", name=\"conv_7_7_1\")\n",
    "        branch_conv_7_7 = norm_function(name=\"norm_conv_7_7_1\")(branch_conv_7_7, train=is_train)\n",
    "        branch_conv_7_7 = activ_function(branch_conv_7_7, \"activation_7_7_1\")\n",
    "\n",
    "        branch_conv_7_7 = tf.layers.conv1d(inputs=branch_conv_7_7, filters=32*depth, kernel_size=5, \n",
    "                                           kernel_initializer=tf.contrib.layers.xavier_initializer(),\n",
    "                                           padding=\"same\", name=\"conv_7_7_2\")\n",
    "        branch_conv_7_7 = norm_function(name=\"norm_conv_7_7_2\")(branch_conv_7_7, train=is_train)\n",
    "        branch_conv_7_7 = activ_function(branch_conv_7_7, \"activation_7_7_2\")\n",
    "\n",
    "        # Branch 5: 16 x (max_pool 3x3 + conv 1x1)\n",
    "        branch_maxpool_3_3 = tf.layers.max_pooling1d(inputs=x_norm, pool_size=3, strides=1, padding=\"same\", name=\"maxpool_3\")\n",
    "        branch_maxpool_3_3 = norm_function(name=\"norm_maxpool_3_3\")(branch_maxpool_3_3, train=is_train)\n",
    "        branch_maxpool_3_3 = tf.layers.conv1d(inputs=branch_maxpool_3_3, filters=16, kernel_size=1, \n",
    "                                              kernel_initializer=tf.contrib.layers.xavier_initializer(),\n",
    "                                              padding=\"same\", name=\"conv_maxpool_3\")\n",
    "\n",
    "        # Branch 6: 16 x (max_pool 5x5 + conv 1x1)\n",
    "        branch_maxpool_5_5 = tf.layers.max_pooling1d(inputs=x_norm, pool_size=5, strides=1, padding=\"same\", name=\"maxpool_5\")\n",
    "        branch_maxpool_5_5 = norm_function(name=\"norm_maxpool_5_5\")(branch_maxpool_5_5, train=is_train)\n",
    "        branch_maxpool_5_5 = tf.layers.conv1d(inputs=branch_maxpool_5_5, filters=16, kernel_size=1, \n",
    "                                              kernel_initializer=tf.contrib.layers.xavier_initializer(),\n",
    "                                              padding=\"same\", name=\"conv_maxpool_5\")\n",
    "\n",
    "        # Branch 7: 16 x (avg_pool 3x3 + conv 1x1)\n",
    "        branch_avgpool_3_3 = tf.layers.average_pooling1d(inputs=x_norm, pool_size=3, strides=1, padding=\"same\", name=\"avgpool_3\")\n",
    "        branch_avgpool_3_3 = norm_function(name=\"norm_avgpool_3_3\")(branch_avgpool_3_3, train=is_train)\n",
    "        branch_avgpool_3_3 = tf.layers.conv1d(inputs=branch_avgpool_3_3, filters=16, kernel_size=1,\n",
    "                                              kernel_initializer=tf.contrib.layers.xavier_initializer(),\n",
    "                                              padding=\"same\", name=\"conv_avgpool_3\")\n",
    "\n",
    "        # Branch 8: 16 x (avg_pool 5x5 + conv 1x1)\n",
    "        branch_avgpool_5_5 = tf.layers.average_pooling1d(inputs=x_norm, pool_size=5, strides=1, padding=\"same\", name=\"avgpool_5\")\n",
    "        branch_avgpool_5_5 = norm_function(name=\"norm_avgpool_5_5\")(branch_avgpool_5_5, train=is_train)\n",
    "        branch_avgpool_5_5 = tf.layers.conv1d(inputs=branch_avgpool_5_5, filters=16, kernel_size=1, \n",
    "                                              kernel_initializer=tf.contrib.layers.xavier_initializer(),\n",
    "                                              padding=\"same\", name=\"conv_avgpool_5\")\n",
    "\n",
    "        # Concatenate\n",
    "        output = tf.concat([branch_conv_1_1, branch_conv_3_3, branch_conv_5_5, branch_conv_7_7, branch_maxpool_3_3, \n",
    "                           branch_maxpool_5_5, branch_avgpool_3_3, branch_avgpool_5_5], axis=-1)\n",
    "        return output\n"
   ]
  },
  {
   "cell_type": "markdown",
   "metadata": {
    "_cell_guid": "a0210bf0-d88f-4bbd-8be8-11013fcc4b32",
    "_uuid": "87e5f1456e46cc5295acb535e761ba0f4cdc60cd"
   },
   "source": [
    "## Load and prepare Data"
   ]
  },
  {
   "cell_type": "code",
   "execution_count": 9,
   "metadata": {},
   "outputs": [
    {
     "data": {
      "text/plain": [
       "['input\\\\train\\\\train\\\\audio\\\\_background_noise_\\\\doing_the_dishes.wav',\n",
       " 'input\\\\train\\\\train\\\\audio\\\\_background_noise_\\\\dude_miaowing.wav',\n",
       " 'input\\\\train\\\\train\\\\audio\\\\_background_noise_\\\\exercise_bike.wav',\n",
       " 'input\\\\train\\\\train\\\\audio\\\\_background_noise_\\\\pink_noise.wav',\n",
       " 'input\\\\train\\\\train\\\\audio\\\\_background_noise_\\\\running_tap.wav',\n",
       " 'input\\\\train\\\\train\\\\audio\\\\_background_noise_\\\\white_noise.wav']"
      ]
     },
     "execution_count": 9,
     "metadata": {},
     "output_type": "execute_result"
    }
   ],
   "source": [
    "filepaths_noise = glob.glob(os.path.join(get_train_audio_path(), \"_background_noise_\", \"*.wav\")) \n",
    "filepaths_noise"
   ]
  },
  {
   "cell_type": "code",
   "execution_count": 49,
   "metadata": {},
   "outputs": [
    {
     "data": {
      "text/plain": [
       "[1, 2]"
      ]
     },
     "execution_count": 49,
     "metadata": {},
     "output_type": "execute_result"
    }
   ],
   "source": [
    "list(map(lambda i: i, [1, 2]))"
   ]
  },
  {
   "cell_type": "code",
   "execution_count": 51,
   "metadata": {},
   "outputs": [
    {
     "name": "stderr",
     "output_type": "stream",
     "text": [
      "C:\\Users\\HOME\\AppData\\Local\\Temp/ipykernel_8536/3694018068.py:10: WavFileWarning: Chunk (non-data) not understood, skipping it.\n",
      "  sample_rate, x = wavfile.read(filepath)\n"
     ]
    },
    {
     "data": {
      "text/plain": [
       "(6390371,)"
      ]
     },
     "execution_count": 51,
     "metadata": {},
     "output_type": "execute_result"
    }
   ],
   "source": [
    "noise = np.concatenate(list(map(lambda x: read_wav(x, False)[0], filepaths_noise))) # x= filepaths_noise\n",
    "noise.shape"
   ]
  },
  {
   "cell_type": "code",
   "execution_count": 12,
   "metadata": {
    "_cell_guid": "aeec049b-d435-44d9-9c5f-ef57b2a6c1b3",
    "_uuid": "b779ec62114e4036225b2f62ea3a9bcab013e143"
   },
   "outputs": [
    {
     "name": "stderr",
     "output_type": "stream",
     "text": [
      "C:\\Users\\HOME\\AppData\\Local\\Temp/ipykernel_8276/3277725824.py:10: WavFileWarning: Chunk (non-data) not understood, skipping it.\n",
      "  sample_rate, x = wavfile.read(filepath)\n"
     ]
    },
    {
     "data": {
      "text/plain": [
       "array([ 0.        ,  0.        ,  0.        , ...,  0.02363595,\n",
       "       -0.16235002, -0.09919803])"
      ]
     },
     "execution_count": 12,
     "metadata": {},
     "output_type": "execute_result"
    }
   ],
   "source": [
    "# 합성 및 제공된 소음 추가입니다.\n",
    "filepaths_noise = glob.glob(os.path.join(get_train_audio_path(), \"_background_noise_\", \"*.wav\")) \n",
    "# filepaths_noise = './input/train/train/audio/_background_noise_/*.wav'\n",
    "\n",
    "# _background_noise_에 있는 노이즈를 모두 합친다.\n",
    "noise = np.concatenate(list(map(lambda x: read_wav(x, False)[0], filepaths_noise))) # (6390371,), x= filepaths_noise\n",
    "# [x1.wav/32768, x2.wav/32768, x3.wav/32768, ...]\n",
    "# 노이즈의 내림차순으로 한번 합친다.\n",
    "noise = np.concatenate([noise, noise[::-1]]) # [x1/32768, x2/32768, x3/32768, ... , x3/32768, x2/32768, x1/32768] - > (12780742,)\n",
    "\n",
    "# 실제 있는 blue/pink.. noise를 합치고 분수화 한다. + 작업하나 더 한 후 위의 노이즈와 합친다.\n",
    "synthetic_noise = np.concatenate([white_noise(N=16000*30, state=np.random.RandomState(655321)), \n",
    "                                  blue_noise(N=16000*30, state=np.random.RandomState(655321)),\n",
    "                                  pink_noise(N=16000*30, state=np.random.RandomState(655321)),\n",
    "                                  brown_noise(N=16000*30, state=np.random.RandomState(655321)),\n",
    "                                  violet_noise(N=16000*30, state=np.random.RandomState(655321)),\n",
    "                                  np.zeros(16000*60)]) # (3360000,)\n",
    "\n",
    "synthetic_noise /= np.max(np.abs(synthetic_noise)) # [w/k, b/k, p/k, b/k, v/k, z/k ]\n",
    "synthetic_noise = np.concatenate([synthetic_noise, (synthetic_noise+synthetic_noise[::-1])/2])  # [w/k, b/k, p/k, b/k, v/k, z/k, (w/k+z/k)/2, ... ]\n",
    "all_noise = np.concatenate([noise, synthetic_noise]) # [x1/32768, x2/32768, x3/32768, ... , x3/32768, x2/32768, x1/32768, w/k, b/k, p/k, b/k, v/k, z/k, (w/k+z/k)/2, ... ]\n",
    "all_noise.shape # (19500742,)\n",
    "all_noise"
   ]
  },
  {
   "cell_type": "code",
   "execution_count": 42,
   "metadata": {},
   "outputs": [
    {
     "data": {
      "text/plain": [
       "(3360000,)"
      ]
     },
     "execution_count": 42,
     "metadata": {},
     "output_type": "execute_result"
    }
   ],
   "source": [
    "synthetic_noise = np.concatenate([white_noise(N=16000*30, state=np.random.RandomState(655321)), \n",
    "                                  blue_noise(N=16000*30, state=np.random.RandomState(655321)),\n",
    "                                  pink_noise(N=16000*30, state=np.random.RandomState(655321)),\n",
    "                                  brown_noise(N=16000*30, state=np.random.RandomState(655321)),\n",
    "                                  violet_noise(N=16000*30, state=np.random.RandomState(655321)),\n",
    "                                  np.zeros(16000*60)])\n",
    "synthetic_noise.shape"
   ]
  },
  {
   "cell_type": "code",
   "execution_count": 12,
   "metadata": {},
   "outputs": [
    {
     "data": {
      "text/plain": [
       "(12780742,)"
      ]
     },
     "execution_count": 12,
     "metadata": {},
     "output_type": "execute_result"
    }
   ],
   "source": [
    "noise.shape"
   ]
  },
  {
   "cell_type": "code",
   "execution_count": 13,
   "metadata": {},
   "outputs": [
    {
     "data": {
      "text/plain": [
       "'\\na= [1,2,3,4]\\nb = a[::-1]\\nc = np.concatenate([a, b])\\nc # array([1, 2, 3, 4, 4, 3, 2, 1])\\n'"
      ]
     },
     "execution_count": 13,
     "metadata": {},
     "output_type": "execute_result"
    }
   ],
   "source": [
    "'''\n",
    "a= [1,2,3,4]\n",
    "b = a[::-1]\n",
    "c = np.concatenate([a, b])\n",
    "c # array([1, 2, 3, 4, 4, 3, 2, 1])\n",
    "'''"
   ]
  },
  {
   "cell_type": "code",
   "execution_count": 13,
   "metadata": {
    "_cell_guid": "f579e3ad-a7ee-4e0c-a677-1a96fea8b71e",
    "_uuid": "022d18f46ce8415e3a4f3e66a86b3f55f41d3860"
   },
   "outputs": [
    {
     "name": "stderr",
     "output_type": "stream",
     "text": [
      " 49%|█████████████████████████████████████▉                                       | 3940/8000 [00:04<00:04, 866.10it/s]C:\\Users\\HOME\\AppData\\Local\\Temp/ipykernel_8276/3625355955.py:20: RuntimeWarning: invalid value encountered in true_divide\n",
      "  ((32767*clip/np.max(np.abs(clip))).astype(np.int16)))\n",
      "100%|████████████████████████████████████████████████████████████████████████████| 8000/8000 [00:07<00:00, 1069.61it/s]\n"
     ]
    }
   ],
   "source": [
    "np.random.seed(655321)\n",
    "random.seed(655321)\n",
    "\n",
    "path = get_silence_path() # \"../working/silence\" 출력경로\n",
    "\n",
    "if not os.path.exists(path):\n",
    "    os.makedirs(path) # 읽기 전용 파일 시스템으로 인해 kaggle 커널에서 실패합니다.\n",
    "\n",
    "# 기존 음성파일에 더해줄 노이즈를 추출한다.(절반은 noise, 절반은 synthetic_noise로)     \n",
    "for noise_clip_no in tqdm(range(8000)): # 진행표시바\n",
    "    if noise_clip_no<=4000:\n",
    "        idx = np.random.randint(0, len(noise)-16000) # (0, 12,780,742-16,000) 중 하나 추출\n",
    "        clip = noise[idx:(idx+16000)]\n",
    "    else:\n",
    "        idx = np.random.randint(0, len(synthetic_noise)-16000)\n",
    "        clip = synthetic_noise[idx:(idx+16000)]\n",
    "    \n",
    "    # wavfile.write(파일명, rate, 데이터=분수화)\n",
    "    wavfile.write(os.path.join(path, \"{0:04d}.wav\".format(noise_clip_no)), 16000, \n",
    "                               ((32767*clip/np.max(np.abs(clip))).astype(np.int16))) \n",
    "    # wavfile.write(filename, rate, data)"
   ]
  },
  {
   "cell_type": "code",
   "execution_count": 15,
   "metadata": {},
   "outputs": [
    {
     "data": {
      "text/plain": [
       "'..\\\\working\\\\silence\\\\7999.wav'"
      ]
     },
     "execution_count": 15,
     "metadata": {},
     "output_type": "execute_result"
    }
   ],
   "source": [
    "# 음성파일과 노이즈 합치기\n",
    "\n",
    "filepaths = glob.glob(os.path.join(get_train_audio_path(), \"**/*.wav\"), recursive=True) # filepaths = './input/train/train/audio/**/*.wav'\n",
    "# 파라미터 recursive=True 로 설정하고 ** 로 작성하면 하위 폴더에도 접근할 수 있습니다\n",
    "filepaths += glob.glob(os.path.join(get_silence_path(), \"**/*.wav\"), recursive=True) # \"../working/silence\"\n",
    "filepaths = list(filter(lambda fp: \"_background_noise_\" not in fp, filepaths)) # filter(조건 함수, 순회 가능한 데이터) : fp에 filepaths 대입\n",
    "filepaths[-1]"
   ]
  },
  {
   "cell_type": "code",
   "execution_count": 16,
   "metadata": {
    "_cell_guid": "c4f36041-b721-44cc-81ed-0a8b39bd9eed",
    "_uuid": "5b367716f0abfbca6d05ed7aea096b9e82df0b53",
    "scrolled": true
   },
   "outputs": [
    {
     "data": {
      "text/plain": [
       "59088"
      ]
     },
     "execution_count": 16,
     "metadata": {},
     "output_type": "execute_result"
    }
   ],
   "source": [
    "# validation 리스트\n",
    "validation_list = open(os.path.join(get_train_path(), \"validation_list.txt\")).readlines() # './input/train/train/validation_list.txt'\n",
    "validation = []\n",
    "for val in validation_list:\n",
    "    validation.append(val.replace('/', '\\\\'))\n",
    "    \n",
    "# test 리스트\n",
    "test_list = open(os.path.join(get_train_path(), \"testing_list.txt\")).readlines() # './input/train/train/testing_list.txt'\n",
    "test = []\n",
    "for ts in test_list:\n",
    "    test.append(ts.replace('/', '\\\\'))\n",
    "\n",
    "validation_list = list(map(lambda fn: os.path.join(get_train_audio_path(), fn.strip()), validation)) # './input/train/train/audio/vl1.wav, ...'\n",
    "testing_list = list(map(lambda fn: os.path.join(get_train_audio_path(), fn.strip()), test)) # './input/train/train/audio/t1.wav, ...'\n",
    "\n",
    "# train에서 validation과 test의 리스트를 제거\n",
    "training_list = np.setdiff1d(filepaths, validation_list+testing_list).tolist() # np.setdiff1d(차집합)\n",
    "len(training_list)"
   ]
  },
  {
   "cell_type": "code",
   "execution_count": 17,
   "metadata": {},
   "outputs": [
    {
     "data": {
      "text/plain": [
       "'\\nvalidation_list124 = open(os.path.join(get_train_path(), \"validation_list.txt\")).readlines() # \\'./input/train/train/validation_list.txt\\'\\nvalidation_list12 = []\\nfor i in validation_list124:\\n    validation_list12.append(i.replace(\\'/\\', \\'\\\\\\'))\\n\\nvalidation_list12\\n\\nvalidation_list13 = list(map(lambda fn: os.path.join(get_train_audio_path(), fn.strip()), validation_list12)) # \\'./input/train/train/audio/vl1.wav, ...\\'\\nvalidation_list13'"
      ]
     },
     "execution_count": 17,
     "metadata": {},
     "output_type": "execute_result"
    }
   ],
   "source": [
    "'''\n",
    "validation_list124 = open(os.path.join(get_train_path(), \"validation_list.txt\")).readlines() # './input/train/train/validation_list.txt'\n",
    "validation_list12 = []\n",
    "for i in validation_list124:\n",
    "    validation_list12.append(i.replace('/', '\\\\'))\n",
    "\n",
    "validation_list12\n",
    "\n",
    "validation_list13 = list(map(lambda fn: os.path.join(get_train_audio_path(), fn.strip()), validation_list12)) # './input/train/train/audio/vl1.wav, ...'\n",
    "validation_list13'''"
   ]
  },
  {
   "cell_type": "code",
   "execution_count": 18,
   "metadata": {},
   "outputs": [
    {
     "data": {
      "text/plain": [
       "'\\nfilepaths = glob.glob(os.path.join(get_train_audio_path(), \"**/*.wav\"), recursive=True) # filepaths = \\'./input/train/train/audio/**/*.wav\\'\\n# 파라미터 recursive=True 로 설정하고 ** 로 작성하면 하위 폴더에도 접근할 수 있습니다\\nfilepaths += glob.glob(os.path.join(get_silence_path(), \"**/*.wav\"), recursive=True) # \"../working/silence\"\\nfilepaths = list(filter(lambda fp: \"_background_noise_\" not in fp, filepaths)) # \\'_background_noise_\\'를 제외# filter(조건 함수, 순회 가능한 데이터) : fp에 filepaths 대입\\nfilepaths\\n'"
      ]
     },
     "execution_count": 18,
     "metadata": {},
     "output_type": "execute_result"
    }
   ],
   "source": [
    "'''\n",
    "filepaths = glob.glob(os.path.join(get_train_audio_path(), \"**/*.wav\"), recursive=True) # filepaths = './input/train/train/audio/**/*.wav'\n",
    "# 파라미터 recursive=True 로 설정하고 ** 로 작성하면 하위 폴더에도 접근할 수 있습니다\n",
    "filepaths += glob.glob(os.path.join(get_silence_path(), \"**/*.wav\"), recursive=True) # \"../working/silence\"\n",
    "filepaths = list(filter(lambda fp: \"_background_noise_\" not in fp, filepaths)) # '_background_noise_'를 제외# filter(조건 함수, 순회 가능한 데이터) : fp에 filepaths 대입\n",
    "filepaths\n",
    "''' "
   ]
  },
  {
   "cell_type": "code",
   "execution_count": 19,
   "metadata": {},
   "outputs": [
    {
     "data": {
      "text/plain": [
       "\"\\na = ['c']\\nb = ['d']\\na+b # ['c', 'd']\\n\""
      ]
     },
     "execution_count": 19,
     "metadata": {},
     "output_type": "execute_result"
    }
   ],
   "source": [
    "'''\n",
    "a = ['c']\n",
    "b = ['d']\n",
    "a+b # ['c', 'd']\n",
    "'''"
   ]
  },
  {
   "cell_type": "code",
   "execution_count": 20,
   "metadata": {
    "_cell_guid": "0840a4b4-2103-4ed0-8046-d6ebf91a8fe9",
    "_uuid": "9b036b76d0e7e4d24b749846f4aec42a213aa505"
   },
   "outputs": [],
   "source": [
    "random.seed(655321)\n",
    "random.shuffle(filepaths)\n",
    "random.shuffle(validation_list)\n",
    "random.shuffle(testing_list)\n",
    "random.shuffle(training_list)"
   ]
  },
  {
   "cell_type": "code",
   "execution_count": 21,
   "metadata": {},
   "outputs": [
    {
     "data": {
      "text/plain": [
       "59088"
      ]
     },
     "execution_count": 21,
     "metadata": {},
     "output_type": "execute_result"
    }
   ],
   "source": [
    "len(filepaths) # 72721\n",
    "len(validation_list) # 6798\n",
    "len(testing_list) # 6835\n",
    "len(training_list) # 59088"
   ]
  },
  {
   "cell_type": "code",
   "execution_count": 22,
   "metadata": {
    "_cell_guid": "a35f7c09-1ebf-4d84-adf8-5ad3d118f0fb",
    "_uuid": "c8b9d3d50116c18af5d3c5d50ad76f2dd0612078",
    "scrolled": true
   },
   "outputs": [],
   "source": [
    "# 빠른 단위 테스트입니다.\n",
    "# 파일 수와 파일 일관성을 테스트합니다.\n",
    "assert all(map(lambda fp: os.path.splitext(fp)[1]==\".wav\", filepaths))\n",
    "assert len(filepaths)==64727 - 6 + 8000\n",
    "assert len(training_list) == len(filepaths) - len(validation_list) - len(testing_list) \n",
    "assert len(validation_list) == 6798\n",
    "assert len(testing_list) == 6835\n",
    "\n",
    "# 파일 존재 여부를 테스트합니다.\n",
    "assert all(map(lambda fn: os.path.exists(os.path.join(fn)), validation_list))\n",
    "assert all(map(lambda fn: os.path.exists(os.path.join(fn)), testing_list))\n",
    "assert all(map(lambda fn: os.path.exists(os.path.join(fn)), training_list))\n",
    "assert set(validation_list + testing_list + training_list) == set(filepaths)\n",
    "\n",
    "# 집합 간에 겹치지 않도록 테스트합니다.\n",
    "assert len(np.intersect1d(validation_list, testing_list))==0 # np.intersect1d(교집합)\n",
    "assert len(np.intersect1d(training_list, testing_list))==0\n",
    "assert len(np.intersect1d(training_list, validation_list))==0"
   ]
  },
  {
   "cell_type": "code",
   "execution_count": 23,
   "metadata": {
    "_cell_guid": "5c17af42-214c-4dab-b066-d7a0c6acac13",
    "_uuid": "3852dcc9ef44bc2841eecf65361d7b6f95e43b5f"
   },
   "outputs": [
    {
     "data": {
      "text/plain": [
       "Counter({'no': 2375,\n",
       "         'yes': 2377,\n",
       "         'stop': 2380,\n",
       "         'nine': 2364,\n",
       "         'left': 2353,\n",
       "         'dog': 1746,\n",
       "         'wow': 1745,\n",
       "         'up': 2375,\n",
       "         'one': 2370,\n",
       "         'six': 2369,\n",
       "         'zero': 2376,\n",
       "         'two': 2373,\n",
       "         'sheila': 1734,\n",
       "         'tree': 1733,\n",
       "         'silence': 8000,\n",
       "         'four': 2372,\n",
       "         'marvin': 1746,\n",
       "         'bed': 1713,\n",
       "         'right': 2367,\n",
       "         'seven': 2377,\n",
       "         'cat': 1733,\n",
       "         'eight': 2352,\n",
       "         'five': 2357,\n",
       "         'on': 2367,\n",
       "         'happy': 1742,\n",
       "         'off': 2357,\n",
       "         'three': 2356,\n",
       "         'go': 2372,\n",
       "         'down': 2359,\n",
       "         'bird': 1731,\n",
       "         'house': 1750})"
      ]
     },
     "execution_count": 23,
     "metadata": {},
     "output_type": "execute_result"
    }
   ],
   "source": [
    "# Classes processing\n",
    "cardinal_classes = list(set(map(lambda fp:os.path.split(os.path.split(fp)[0])[1], filepaths))) \n",
    "# ['stop', 'off', 'up', 'zero', 'bed', ... 'silence','three']\n",
    "le_classes = LabelEncoder().fit(cardinal_classes)\n",
    "Counter(map(lambda fp:os.path.split(os.path.split(fp)[0])[1], filepaths))"
   ]
  },
  {
   "cell_type": "code",
   "execution_count": 24,
   "metadata": {},
   "outputs": [
    {
     "data": {
      "text/plain": [
       "31"
      ]
     },
     "execution_count": 24,
     "metadata": {},
     "output_type": "execute_result"
    }
   ],
   "source": [
    "len(cardinal_classes)"
   ]
  },
  {
   "cell_type": "code",
   "execution_count": 25,
   "metadata": {
    "_cell_guid": "9553bb5e-fb15-4a37-9876-8f4685b3076f",
    "_uuid": "791fd120463dd67b4255de43eb64a0af75655256"
   },
   "outputs": [],
   "source": [
    "# Quick Unit-Tests\n",
    "# Test data preparation\n",
    "_gen_test = get_batcher(filepaths, 1000) # filepaths = './input/train/train/audio/**/*.wav' # wav, target\n",
    "batch_a_wav, batch_a_target = next(_gen_test) # ex) [[값], [값],..], [['bed'], ['no']]\n",
    "batch_b_wav, batch_b_target = next(_gen_test) \n",
    "_gen_test_le = get_batcher(filepaths, 1000, label_encoder=le_classes)\n",
    "batch_le_wav, batch_le_target = next(_gen_test_le) # ex) [[4], [23], [31] \n",
    "\n",
    "# 배치 행렬 모양 일관성을 검정합니다.\n",
    "assert batch_a_wav.shape == (1000, 16000, 1)\n",
    "assert batch_le_wav.shape == (1000, 16000, 1)\n",
    "assert batch_a_wav.shape == batch_b_wav.shape == batch_le_wav.shape\n",
    "\n",
    "# 배치 재현성을 테스트합니다.\n",
    "assert np.sum(np.abs(batch_a_wav-batch_b_wav)) != 0\n",
    "assert len(batch_a_target) == len(batch_b_target) == len(batch_le_target)\n",
    "assert any(batch_a_target != batch_b_target)\n",
    "\n",
    "# 테스트 클래스 레이블 인코더입니다.\n",
    "assert all(batch_le_target == np.expand_dims(le_classes.transform(np.squeeze(batch_a_target)),1))"
   ]
  },
  {
   "cell_type": "code",
   "execution_count": 26,
   "metadata": {},
   "outputs": [
    {
     "data": {
      "text/plain": [
       "array([[[ 0.00000000e+00],\n",
       "        [-4.57763672e-04],\n",
       "        [-4.57763672e-04],\n",
       "        ...,\n",
       "        [-6.40869141e-04],\n",
       "        [-5.79833984e-04],\n",
       "        [-5.79833984e-04]],\n",
       "\n",
       "       [[ 0.00000000e+00],\n",
       "        [ 1.22070312e-04],\n",
       "        [-3.05175781e-05],\n",
       "        ...,\n",
       "        [-2.74658203e-04],\n",
       "        [-3.66210938e-04],\n",
       "        [-1.52587891e-04]],\n",
       "\n",
       "       [[ 6.10351562e-05],\n",
       "        [-3.05175781e-05],\n",
       "        [ 2.13623047e-04],\n",
       "        ...,\n",
       "        [-3.35693359e-04],\n",
       "        [-3.96728516e-04],\n",
       "        [-3.05175781e-04]],\n",
       "\n",
       "       ...,\n",
       "\n",
       "       [[-1.70898438e-03],\n",
       "        [-2.74658203e-03],\n",
       "        [-2.41088867e-03],\n",
       "        ...,\n",
       "        [ 0.00000000e+00],\n",
       "        [ 0.00000000e+00],\n",
       "        [ 0.00000000e+00]],\n",
       "\n",
       "       [[-1.43432617e-03],\n",
       "        [-1.92260742e-02],\n",
       "        [-2.43530273e-02],\n",
       "        ...,\n",
       "        [ 1.60522461e-02],\n",
       "        [ 1.59606934e-02],\n",
       "        [ 1.48620605e-02]],\n",
       "\n",
       "       [[-1.19018555e-03],\n",
       "        [-1.98364258e-03],\n",
       "        [-2.04467773e-03],\n",
       "        ...,\n",
       "        [ 0.00000000e+00],\n",
       "        [ 0.00000000e+00],\n",
       "        [ 0.00000000e+00]]])"
      ]
     },
     "execution_count": 26,
     "metadata": {},
     "output_type": "execute_result"
    }
   ],
   "source": [
    "batch_le_wav"
   ]
  },
  {
   "cell_type": "code",
   "execution_count": 27,
   "metadata": {},
   "outputs": [
    {
     "data": {
      "text/plain": [
       "'\\naa = iter([1,2,3])\\nxx= next(aa) # 1\\nyy= next(aa) # 2\\n'"
      ]
     },
     "execution_count": 27,
     "metadata": {},
     "output_type": "execute_result"
    }
   ],
   "source": [
    "'''\n",
    "aa = iter([1,2,3])\n",
    "xx= next(aa) # 1\n",
    "yy= next(aa) # 2\n",
    "'''"
   ]
  },
  {
   "cell_type": "code",
   "execution_count": 28,
   "metadata": {},
   "outputs": [
    {
     "data": {
      "text/plain": [
       "\"\\nwavs, targets = zip(*list(map(read_wav, 'input\\\\train\\\\train\\\\audio\\\\bed\\\\3903b558_nohash_0.wav',)))\\nwavs \\n# (array([-0.00073242, -0.00198364, -0.00137329, ...,  0.00164795,\\n#          0.00189209,  0.00216675]),)\\ntargets\\n# ('bed',)\\nnp.expand_dims(np.row_stack(wavs), 2)\\n# array([[[-0.00073242],\\n#        [-0.00198364],\\n#        [-0.00137329],\\n#        ...,\\n#        [ 0.00164795],\\n#        [ 0.00189209],\\n#        [ 0.00216675]]])\\n\\nnp.row_stack(targets)\\n# array([['bed']], dtype='<U3')\\n\""
      ]
     },
     "execution_count": 28,
     "metadata": {},
     "output_type": "execute_result"
    }
   ],
   "source": [
    "'''\n",
    "wavs, targets = zip(*list(map(read_wav, 'input\\\\train\\\\train\\\\audio\\\\bed\\\\3903b558_nohash_0.wav',)))\n",
    "wavs \n",
    "# (array([-0.00073242, -0.00198364, -0.00137329, ...,  0.00164795,\n",
    "#          0.00189209,  0.00216675]),)\n",
    "targets\n",
    "# ('bed',)\n",
    "np.expand_dims(np.row_stack(wavs), 2)\n",
    "# array([[[-0.00073242],\n",
    "#        [-0.00198364],\n",
    "#        [-0.00137329],\n",
    "#        ...,\n",
    "#        [ 0.00164795],\n",
    "#        [ 0.00189209],\n",
    "#        [ 0.00216675]]])\n",
    "\n",
    "np.row_stack(targets)\n",
    "# array([['bed']], dtype='<U3')\n",
    "'''"
   ]
  },
  {
   "cell_type": "markdown",
   "metadata": {
    "_cell_guid": "ed02eca4-76ee-4b40-89a4-a853ddd74143",
    "_uuid": "671cb5ffa15b6fd8e549df8e0a6dcdb5b21a64f8"
   },
   "source": [
    "## Architecture design"
   ]
  },
  {
   "cell_type": "markdown",
   "metadata": {
    "_cell_guid": "5c67ad8f-80e3-43f9-a358-d352b17e8dbf",
    "_uuid": "24889480a844029116c9c9880611bc3fafd7d9bf"
   },
   "source": [
    "Here it comes, WavCeption design"
   ]
  },
  {
   "attachments": {
    "image.png": {
     "image/png": "[encoded data removed]"
    }
   },
   "cell_type": "markdown",
   "metadata": {},
   "source": [
    "![image.png](attachment:image.png)"
   ]
  },
  {
   "cell_type": "code",
   "execution_count": 1,
   "metadata": {},
   "outputs": [],
   "source": [
    "class Student:\n",
    "    name = ''\n",
    "\n",
    "    korean = 0\n",
    "\n",
    "    english = 0\n",
    "\n",
    "    math = 0\n",
    "\n",
    "    def __init__(self, name, kor, eng, math):\n",
    "\n",
    "        self.name = name\n",
    "\n",
    "        self.korean = kor\n",
    "\n",
    "        self.english = eng\n",
    "\n",
    "        self.math = math\n",
    "\n"
   ]
  },
  {
   "cell_type": "code",
   "execution_count": 3,
   "metadata": {},
   "outputs": [
    {
     "data": {
      "text/plain": [
       "<__main__.Student at 0x1f345fdf9d0>"
      ]
     },
     "execution_count": 3,
     "metadata": {},
     "output_type": "execute_result"
    }
   ],
   "source": [
    "a = Student('홍길동', 80, 85, 75)\n",
    "a"
   ]
  },
  {
   "cell_type": "code",
   "execution_count": null,
   "metadata": {
    "_cell_guid": "6ab30f80-6bff-43bd-9280-8aaa50326283",
    "_uuid": "53e3de8a3ad9a1bd08746065d4d8bb6fab648615",
    "collapsed": true
   },
   "outputs": [],
   "source": [
    "# 동적 할당\n",
    "class NameSpacer:\n",
    "    def __init__(self, **kwargs): # {\"wav_in\": wav_in, \"target\": target, \"is_train\": is_train, \"acc_dev\": acc_dev, \"loss_dev\": loss_dev}\n",
    "        self.__dict__.update(kwargs)\n",
    "\n",
    "# 모델\n",
    "class Architecture: \n",
    "    # net = Architecture(self, class_cardinality=len(cardinal_classes), name=\"wavception\")\n",
    "    # cardinal_classes = list(set(map(lambda fp:os.path.split(os.path.split(fp)[0])[1], filepaths))) # ['no','bed',...]\n",
    "    # len(cardinal_classes) = 31\n",
    "    def __init__(self, class_cardinality, seq_len=16000, name=\"architecture\"):\n",
    "        self.seq_len = seq_len # 16,000\n",
    "        self.class_cardinality = class_cardinality # 31\n",
    "        self.name = name # wavception\n",
    "        \n",
    "        self.optimizer = tf.train.AdamOptimizer(learning_rate=0.0001)\n",
    "        self.define_computation_graph()\n",
    "        \n",
    "        # 별칭\n",
    "        self.ph = self.placeholders\n",
    "        self.op = self.optimizers\n",
    "        self.summ = self.summaries\n",
    "\n",
    "    def define_computation_graph(self):\n",
    "        # Reset graph\n",
    "        tf.reset_default_graph()\n",
    "        self.placeholders = NameSpacer(**self.define_placeholders()) # self.__dict__.update(define_placeholders()) = NameSpacer().Placeholders/wav_in/.target/...\n",
    "        self.core_model = NameSpacer(**self.define_core_model()) # NameSpacer().Core_Model/output\n",
    "        self.losses = NameSpacer(**self.define_losses()) # NameSpacer().softmax_ce\n",
    "        self.optimizers = NameSpacer(**self.define_optimizers()) # NameSpacer().op\n",
    "        self.summaries = NameSpacer(**self.define_summaries()) # NameSpacer().acc/.loss/.train_performance_scalar/.dev_performance_scalar\n",
    "\n",
    "    def define_placeholders(self):\n",
    "        with tf.variable_scope(\"Placeholders\"):\n",
    "            wav_in = tf.placeholder(dtype=tf.float32, shape=(None, self.seq_len, 1), name=\"wav_in\")\n",
    "            is_train = tf.placeholder(dtype=tf.bool, shape=None, name=\"is_train\")\n",
    "            target = tf.placeholder(dtype=tf.int32, shape=(None, 1), name=\"target\")\n",
    "            acc_dev = tf.placeholder(dtype=tf.float32, shape=None, name=\"acc_dev\")\n",
    "            loss_dev = tf.placeholder(dtype=tf.float32, shape=None, name=\"loss_dev\")\n",
    "            return({\"wav_in\": wav_in, \"target\": target, \"is_train\": is_train, \"acc_dev\": \n",
    "                    acc_dev, \"loss_dev\": loss_dev})\n",
    "        \n",
    "    def define_core_model(self):\n",
    "        with tf.variable_scope(\"Core_Model\"):\n",
    "            x = inception_1d(x=self.placeholders.wav_in, is_train=self.placeholders.is_train, \n",
    "                             norm_function=BatchNorm, activ_function=tf.nn.relu, depth=1,\n",
    "                             name=\"Inception_1_1\")\n",
    "            x = inception_1d(x=x, is_train=self.placeholders.is_train, norm_function=BatchNorm, \n",
    "                             activ_function=tf.nn.relu, depth=1, name=\"Inception_1_2\")\n",
    "            x = tf.layers.max_pooling1d(x, 2, 2, name=\"maxpool_1\")\n",
    "            x = inception_1d(x=x, is_train=self.placeholders.is_train, norm_function=BatchNorm, \n",
    "                             activ_function=tf.nn.relu, depth=1, name=\"Inception_2_1\")\n",
    "            x = inception_1d(x=x, is_train=self.placeholders.is_train, norm_function=BatchNorm, \n",
    "                             activ_function=tf.nn.relu, depth=1, name=\"Inception_2_3\")\n",
    "            x = tf.layers.max_pooling1d(x, 2, 2, name=\"maxpool_2\")\n",
    "            x = inception_1d(x=x, is_train=self.placeholders.is_train, norm_function=BatchNorm, \n",
    "                             activ_function=tf.nn.relu, depth=2, name=\"Inception_3_1\")\n",
    "            x = inception_1d(x=x, is_train=self.placeholders.is_train, norm_function=BatchNorm, \n",
    "                             activ_function=tf.nn.relu, depth=2, name=\"Inception_3_2\")\n",
    "            x = tf.layers.max_pooling1d(x, 2, 2, name=\"maxpool_3\")\n",
    "            x = inception_1d(x=x, is_train=self.placeholders.is_train, norm_function=BatchNorm, \n",
    "                             activ_function=tf.nn.relu, depth=2, name=\"Inception_4_1\")\n",
    "            x = inception_1d(x=x, is_train=self.placeholders.is_train, norm_function=BatchNorm, \n",
    "                             activ_function=tf.nn.relu, depth=2, name=\"Inception_4_2\")\n",
    "            x = tf.layers.max_pooling1d(x, 2, 2, name=\"maxpool_4\")\n",
    "            x = inception_1d(x=x, is_train=self.placeholders.is_train, norm_function=BatchNorm, \n",
    "                             activ_function=tf.nn.relu, depth=3, name=\"Inception_5_1\")\n",
    "            x = inception_1d(x=x, is_train=self.placeholders.is_train, norm_function=BatchNorm, \n",
    "                             activ_function=tf.nn.relu, depth=3, name=\"Inception_5_2\")\n",
    "            x = tf.layers.max_pooling1d(x, 2, 2, name=\"maxpool_5\")\n",
    "            x = inception_1d(x=x, is_train=self.placeholders.is_train, norm_function=BatchNorm, \n",
    "                             activ_function=tf.nn.relu, depth=3, name=\"Inception_6_1\")\n",
    "            x = inception_1d(x=x, is_train=self.placeholders.is_train, norm_function=BatchNorm, \n",
    "                             activ_function=tf.nn.relu, depth=3, name=\"Inception_6_2\")\n",
    "            x = tf.layers.max_pooling1d(x, 2, 2, name=\"maxpool_6\")\n",
    "            x = inception_1d(x=x, is_train=self.placeholders.is_train, norm_function=BatchNorm, \n",
    "                             activ_function=tf.nn.relu, depth=4, name=\"Inception_7_1\")\n",
    "            x = inception_1d(x=x, is_train=self.placeholders.is_train, norm_function=BatchNorm, \n",
    "                             activ_function=tf.nn.relu, depth=4, name=\"Inception_7_2\")\n",
    "            x = tf.layers.max_pooling1d(x, 2, 2, name=\"maxpool_7\")\n",
    "            x = inception_1d(x=x, is_train=self.placeholders.is_train, norm_function=BatchNorm, \n",
    "                             activ_function=tf.nn.relu, depth=4, name=\"Inception_8_1\")\n",
    "            x = inception_1d(x=x, is_train=self.placeholders.is_train, norm_function=BatchNorm, \n",
    "                             activ_function=tf.nn.relu, depth=4, name=\"Inception_8_2\")\n",
    "            x = tf.layers.max_pooling1d(x, 2, 2, name=\"maxpool_8\")\n",
    "            x = inception_1d(x=x, is_train=self.placeholders.is_train, norm_function=BatchNorm, \n",
    "                             activ_function=tf.nn.relu, depth=4, name=\"Inception_9_1\")\n",
    "            x = inception_1d(x=x, is_train=self.placeholders.is_train, norm_function=BatchNorm, \n",
    "                             activ_function=tf.nn.relu, depth=4, name=\"Inception_9_2\")\n",
    "            x = tf.layers.max_pooling1d(x, 2, 2, name=\"maxpool_9\")\n",
    "            x = tf.contrib.layers.flatten(x)\n",
    "            x = tf.layers.dense(BatchNorm(name=\"bn_dense_1\")(x,train=self.placeholders.is_train),\n",
    "                                128, activation=tf.nn.relu, kernel_initializer=tf.contrib.layers.xavier_initializer(),\n",
    "                                name=\"dense_1\")\n",
    "            output = tf.layers.dense(BatchNorm(name=\"bn_dense_2\")(x,train=self.placeholders.is_train),\n",
    "                                self.class_cardinality, activation=None, kernel_initializer=tf.contrib.layers.xavier_initializer(),\n",
    "                                name=\"output\")\n",
    "            return({\"output\": output})\n",
    "        \n",
    "    def define_losses(self):\n",
    "        with tf.variable_scope(\"Losses\"):\n",
    "            softmax_ce = tf.nn.sparse_softmax_cross_entropy_with_logits(labels=tf.squeeze(self.placeholders.target), \n",
    "                                                                        logits=self.core_model.output,\n",
    "                                                                        name=\"softmax\")\n",
    "            return({\"softmax\": softmax_ce})\n",
    "\n",
    "    def define_optimizers(self):\n",
    "        with tf.variable_scope(\"Optimization\"):\n",
    "            op = self.optimizer.minimize(self.losses.softmax)\n",
    "            return({\"op\": op})\n",
    "\n",
    "    def define_summaries(self):\n",
    "        with tf.variable_scope(\"Summaries\"):\n",
    "            ind_max = tf.squeeze(tf.cast(tf.argmax(self.core_model.output, axis=1), tf.int32))\n",
    "            target = tf.squeeze(self.placeholders.target)\n",
    "            acc = tf.reduce_mean(tf.cast(tf.equal(ind_max, target), tf.float32)) # 정확도\n",
    "            loss = tf.reduce_mean(self.losses.softmax) \n",
    "            train_scalar_probes = {\"accuracy\": acc, \n",
    "                                   \"loss\": loss}\n",
    "            train_performance_scalar = [tf.summary.scalar(k, tf.reduce_mean(v), family=self.name) \n",
    "                                        for k, v in train_scalar_probes.items()]\n",
    "            train_performance_scalar = tf.summary.merge(train_performance_scalar)\n",
    "\n",
    "            dev_scalar_probes = {\"acc_dev\": self.placeholders.acc_dev, \n",
    "                                 \"loss_dev\": self.placeholders.loss_dev}\n",
    "            dev_performance_scalar = [tf.summary.scalar(k, v, family=self.name) for k, v in dev_scalar_probes.items()]\n",
    "            dev_performance_scalar = tf.summary.merge(dev_performance_scalar)\n",
    "            return({\"accuracy\": acc, \"loss\": loss, \"s_tr\": train_performance_scalar, \"s_de\": dev_performance_scalar})\n"
   ]
  },
  {
   "cell_type": "markdown",
   "metadata": {
    "_cell_guid": "b390b59e-0a78-4ff7-9b7d-fc0b48c7b3dd",
    "_uuid": "e8dec0fa842ab5f693daf729900f461145a8355f"
   },
   "source": [
    "## Run model "
   ]
  },
  {
   "cell_type": "markdown",
   "metadata": {
    "_cell_guid": "1d586dc1-2f02-4669-8aca-5010ed9d2a1a",
    "_uuid": "9d79ca62dd150ac46a471492ce6156b265e9ef07"
   },
   "source": [
    "오래 걸리지 않으려면 GPU를 사용하여 모델을 실행해야 합니다. 또한 예측하기 위해 네트워크를 중지할 시기를 결정해야 합니다. 타이탄 엑스 파스칼에서 12시간이나 걸렸어요"
   ]
  },
  {
   "cell_type": "code",
   "execution_count": null,
   "metadata": {
    "_cell_guid": "a226088d-ecd9-4070-8893-de1ecc90938f",
    "_uuid": "bd4220c1d4ba2b9c20e0f51c226387217109b692",
    "collapsed": true
   },
   "outputs": [],
   "source": [
    "net = Architecture(class_cardinality=len(cardinal_classes), name=\"wavception\")"
   ]
  },
  {
   "cell_type": "code",
   "execution_count": null,
   "metadata": {
    "_cell_guid": "ef8b85d6-271c-434a-b886-447e6d57c1b6",
    "_uuid": "dea3a0c128e64b3e8680b51ae0486c4ce0031e79",
    "collapsed": true
   },
   "outputs": [],
   "source": [
    "sess = start_tensorflow_session(device=\"1\")\n",
    "sw = get_summary_writer(sess, \"~/.logs_tensorboard/\", \"wavception\", \"V1\") # 여기서 텐서보드 로그 경로를 조정합니다.\n",
    "c=0"
   ]
  },
  {
   "cell_type": "code",
   "execution_count": null,
   "metadata": {
    "_cell_guid": "2575da3e-f8b4-4a83-beba-f4683cf09cb1",
    "_uuid": "4f0503ed3dffd436ff81caeefeac880b95167396",
    "collapsed": true
   },
   "outputs": [],
   "source": [
    "sess.run(tf.global_variables_initializer()) # 초기화"
   ]
  },
  {
   "cell_type": "code",
   "execution_count": null,
   "metadata": {
    "_cell_guid": "c4198ebd-bfbf-4c37-8370-95a37f73f5fa",
    "_uuid": "ee203cc482466c4f133ff83161bcd871c626bc5c",
    "collapsed": true
   },
   "outputs": [],
   "source": [
    "np.random.seed(655321)\n",
    "random.seed(655321)"
   ]
  },
  {
   "cell_type": "code",
   "execution_count": null,
   "metadata": {
    "_cell_guid": "7872b624-0a21-45e6-b5d1-47323a69e8d3",
    "_uuid": "34ba4ec269007f8102fe6dff142763e10d29902f",
    "collapsed": true,
    "scrolled": false
   },
   "outputs": [],
   "source": [
    "for epoch in range(50000):\n",
    "    random.shuffle(training_list)\n",
    "    batcher = get_batcher(training_list, 16, le_classes)\n",
    "    for i, (batch_x, batch_y) in enumerate(batcher):\n",
    "        # net.ph.wav_in + .target+.is_train으로 [net.op.op, net.losses.softmax...]를 구함 \n",
    "        _, loss, acc, s = sess.run([net.op.op, net.losses.softmax, net.summ.accuracy, net.summ.s_tr],\n",
    "                                 feed_dict={net.ph.wav_in: batch_x, # Architecture().placeholder.wav_in\n",
    "                                            net.ph.target: batch_y, \n",
    "                                            net.ph.is_train: True})\n",
    "        print(\"[{0:04d}|{1:04d}] Accuracy train: {2:.2f}%\".format(epoch, i, acc*100))\n",
    "        sw.add_summary(s, c)\n",
    "        \n",
    "        if c%1000==0: # Validation\n",
    "            accuracies_dev=[]\n",
    "            losses_dev=[]\n",
    "            batcher = get_batcher(validation_list, 16, le_classes)\n",
    "            for i, (batch_x, batch_y) in enumerate(batcher):\n",
    "                acc, loss= sess.run([net.summ.accuracy, net.summ.loss], \n",
    "                               feed_dict={net.ph.wav_in: batch_x, \n",
    "                                          net.ph.target: batch_y, \n",
    "                                          net.ph.is_train: False})\n",
    "                accuracies_dev.append(acc)\n",
    "                losses_dev.append(loss)\n",
    "            s = sess.run(net.summ.s_de, feed_dict={net.ph.acc_dev: np.mean(accuracies_dev),\n",
    "                                                   net.ph.loss_dev: np.mean(losses_dev)})\n",
    "            sw.add_summary(s, c)\n",
    "        c += 1"
   ]
  },
  {
   "cell_type": "markdown",
   "metadata": {
    "_cell_guid": "a499d252-39d4-4262-9d3e-b0a5de05e44b",
    "_uuid": "cbf30b73e48e0f832ce07358ae4aa5a1e6b2bf22"
   },
   "source": [
    "Test accuracy"
   ]
  },
  {
   "cell_type": "code",
   "execution_count": null,
   "metadata": {
    "_cell_guid": "e4679982-80ae-4906-b9ed-820b5050d6ce",
    "_uuid": "df013bec21566ca6df051b649fa9ad2af886c3fd",
    "collapsed": true
   },
   "outputs": [],
   "source": [
    "accuracies=[]\n",
    "batcher = get_batcher(testing_list, 64, le_classes)\n",
    "# 64단위의 배치 덩어리들에 대한 wav, target을 반환\n",
    "for i, (batch_x, batch_y) in tqdm(enumerate(batcher)):\n",
    "    acc = sess.run(net.summ.accuracy, feed_dict={net.ph.wav_in: batch_x,\n",
    "                                                 net.ph.target: batch_y, \n",
    "                                                 net.ph.is_train: False})\n",
    "    accuracies.append(acc)"
   ]
  },
  {
   "cell_type": "markdown",
   "metadata": {
    "_cell_guid": "7f13d203-8631-41ad-8db2-c3fb0da16938",
    "_uuid": "5c38203a647bb0b93fd29174eb81a2e3cb4f16ed"
   },
   "source": [
    "## Prediction and submission building"
   ]
  },
  {
   "cell_type": "code",
   "execution_count": null,
   "metadata": {
    "_cell_guid": "c6a67202-a658-46da-9934-555b355f24e9",
    "_uuid": "e2266973295bc652913ad078e14c35ef44e9c702",
    "collapsed": true
   },
   "outputs": [],
   "source": [
    "scoring_list = glob.glob(os.path.join(get_scoring_audio_path(), \"*.wav\"), recursive=True)\n",
    "# './input/test/test/audio/*.wav'"
   ]
  },
  {
   "cell_type": "code",
   "execution_count": null,
   "metadata": {
    "_cell_guid": "91bce141-2bb6-46eb-bff5-9578260a307e",
    "_uuid": "14e7aec6a0c2200191904c1f2f65013d71620813",
    "collapsed": true
   },
   "outputs": [],
   "source": [
    "batcher = get_batcher(scoring_list, 80, le_classes, scoring=True) \n",
    "# 80단위의 배치 덩어리들에 대한 wav, target을 반환"
   ]
  },
  {
   "cell_type": "code",
   "execution_count": null,
   "metadata": {
    "_cell_guid": "11015ffb-878c-4451-9688-3f3dbbd5114d",
    "_uuid": "dd967dd2c93fd7dbc867c505b1ba66a108db7805",
    "collapsed": true
   },
   "outputs": [],
   "source": [
    "fns = []\n",
    "prds = []\n",
    "for i, (batch_x, filepaths) in tqdm(enumerate(batcher)): # 인덱스, 함수1, 함수2 -> 총 3개 가능\n",
    "    pred = sess.run(net.core_model.output, feed_dict={net.ph.wav_in: batch_x, \n",
    "                                                      net.ph.is_train: False})\n",
    "    fns.extend(map(lambda f:os.path.split(f)[1], filepaths))\n",
    "    prds.extend(map(lambda f:np.argmax(pred, axis=1).tolist(), pred))"
   ]
  },
  {
   "cell_type": "markdown",
   "metadata": {
    "_cell_guid": "f188097c-6eb7-40e6-add6-24a3dc4b3cb7",
    "_uuid": "666fb81cce7b16f1f229d2936ef877105f1446a3"
   },
   "source": [
    "참고: 여기에서 알 수 없는 클립 문제를 빠르고 지저분한 방법으로 해결했습니다. 성능은 여전히 양호하지만(최대 76LB), 훨씬 더 현명한 방법이 있습니다;-.\n"
   ]
  },
  {
   "cell_type": "code",
   "execution_count": null,
   "metadata": {
    "_cell_guid": "bafc416e-9bcf-46cc-8b7a-ef627dda8220",
    "_uuid": "04c064866c203f7e29c0a43347b7ff29bfe33443",
    "collapsed": true
   },
   "outputs": [],
   "source": [
    "# Submission storage\n",
    "df=pd.DataFrame({\"fname\":fns, \"label\": prds})\n",
    "df.label = le_classes.inverse_transform(df.label) # .inverse_transform : 본래값으로 되돌린다.\n",
    "df.loc[~df.label.isin([\"yes\", \"no\", \"up\", \"down\", \"left\", \"right\", \"on\", \"off\", \"stop\", \"go\", \"silence\"]), \"label\"] = \"unknown\" # df.loc[행, 열]\n",
    "df.to_csv(os.path.join(get_submissions_path(), \"submission.csv\"), index=False) # \"../working/output/submission.csv\""
   ]
  }
 ],
 "metadata": {
  "kernelspec": {
   "display_name": "Python 3 (ipykernel)",
   "language": "python",
   "name": "python3"
  },
  "language_info": {
   "codemirror_mode": {
    "name": "ipython",
    "version": 3
   },
   "file_extension": ".py",
   "mimetype": "text/x-python",
   "name": "python",
   "nbconvert_exporter": "python",
   "pygments_lexer": "ipython3",
   "version": "3.9.7"
  }
 },
 "nbformat": 4,
 "nbformat_minor": 1
}
