{
 "cells": [
  {
   "cell_type": "markdown",
   "id": "49a98835",
   "metadata": {
    "_cell_guid": "58ef1a47-96bc-416d-a016-938a494fb1c3",
    "_uuid": "b531642dd4c3a53e20e5f6b9076bf17e9418e1e4"
   },
   "source": [
    "# WavCeption V1: just a 1-D Inception approach "
   ]
  },
  {
   "cell_type": "markdown",
   "id": "11d20d65",
   "metadata": {
    "_cell_guid": "e68a3daa-14d7-46d7-a0db-9f80380b9d0f",
    "_uuid": "f597ce3d9e1e9fe818cf0a8e51f6da2404ba5b43"
   },
   "source": [
    "저는 단지 제가 가지고 놀던 작은 장난감을 공유하고 싶었을 뿐인데 **놀라운 결과**를 주었습니다. 지금은 시간이 없기 때문에, 사람들이 어떻게 가지고 놀지 보려고 공유하려고 합니다. :-D. **WavCception V1** 네트워크는 일반 컨볼루션 뉴럴 네트워크에 비해 인상적인 결과를 얻을 수 있는 것으로 보이지만, 이번 경쟁에서는 전처리 및 알려지지 않은 트랙 관리에 많은 노력이 필요한 것으로 보입니다. 이것은 구글의 초기 네트워크를 기반으로 합니다. 같은 아이디어입니다. \n",
    "\n",
    " 저는 몇 주 전에 이러한 모듈들을 캐스케이드로 연결하여 쉽게 1D 인셉션 네트워크를 구축할 수 있도록 구현하는 모듈을 작성했습니다(아래 참조).\n",
    " \n",
    " 아쉽게도 몇 가지 Kaggle의 제약으로 인해 커널 머신에서는 실행되지 않으므로 다운로드하여 자신의 머신에서 실행해 보시기 바랍니다.\n",
    " \n",
    " 너무 고생하지 않고 12시간 동안 모델을 실행함으로써 리더보드에서 0.76을 달성했습니다(로컬 테스트에서는 0.84). 같은 라인의 다른 시험에서는 로컬에서 0.89를 얻었기 때문에 알려지지 않은 클립을 처리하는 방법이 크게 개선되었습니다."
   ]
  },
  {
   "cell_type": "markdown",
   "id": "c88dfc95",
   "metadata": {
    "_cell_guid": "dd3e1543-18e2-4be6-b511-5c1e734d2c60",
    "_uuid": "f924854d4d258cd9a7db10eb5566e0bdff085574"
   },
   "source": [
    "## Load modules and libraries"
   ]
  },
  {
   "cell_type": "code",
   "execution_count": 10,
   "id": "ae95bedd",
   "metadata": {
    "_cell_guid": "cb0f537e-1932-4c45-a4d0-59e7d2caac6b",
    "_uuid": "9d73d1472e8ea2c21b0c70b5f537a74a9c562708"
   },
   "outputs": [],
   "source": [
    "%matplotlib inline\n",
    "import numpy as np \n",
    "import pandas as pd \n",
    "import os\n",
    "import shutil # shutil 모듈은 파일과 파일 모음에 대한 여러 가지 고수준 연산을 제공합니다. 특히, 파일 복사와 삭제를 지원하는 함수가 제공됩니다\n",
    "import glob\n",
    "import random\n",
    "\n",
    "from tqdm import tqdm \n",
    "from collections import Counter # Counter('hello world') # Counter({'l': 3, 'o': 2, 'h': 1, 'e': 1, ' ': 1, 'w': 1, 'r': 1, 'd': 1})\n",
    "from sklearn.preprocessing import LabelEncoder\n",
    "import IPython\n",
    "from numpy.fft import rfft, irfft # 1차원 이산 푸리에변환 # 역푸리에변환\n",
    "import itertools\n",
    "\n",
    "from scipy.io import wavfile\n",
    "import IPython.display as ipd\n",
    "import matplotlib.pyplot as plt\n",
    "import scipy as sp\n",
    "import tensorflow as tf"
   ]
  },
  {
   "cell_type": "markdown",
   "id": "2b013472",
   "metadata": {
    "_cell_guid": "e8220812-116f-4f9b-a855-4b836f7411fc",
    "_uuid": "89ca39590c40bc3e332bab39fcedc7f2670b0f99"
   },
   "source": [
    "## Noise generation functions "
   ]
  },
  {
   "cell_type": "markdown",
   "id": "6ffd181f",
   "metadata": {
    "_cell_guid": "890ea515-323c-46ae-884f-9cc71cf19d08",
    "_uuid": "d2d4594b05edbaf2eb450959812b741b8cfed6dc"
   },
   "source": [
    "이 섹션의 코드는 다음 항목에서 차용 및 개조되었습니다.\n",
    "https://github.com/python-acoustics/python-acoustics/blob/master/acoustics/generator.py"
   ]
  },
  {
   "cell_type": "code",
   "execution_count": 13,
   "id": "2fe5327c",
   "metadata": {
    "_cell_guid": "a401d022-6475-4155-8282-94acd8c81fd7",
    "_uuid": "df4bdf2dc7234238c43e495a393ea824ae5e6e82"
   },
   "outputs": [],
   "source": [
    "def ms(x):\n",
    "    \"\"\"Mean value of signal `x` squared.\n",
    "    :param x: Dynamic quantity.\n",
    "    :returns: Mean squared of `x`.\n",
    "    \"\"\"\n",
    "    return (np.abs(x)**2.0).mean()\n",
    "\n",
    "def normalize(y, x=None):\n",
    "    \"\"\"normalize power in y to a (standard normal) white noise signal.\n",
    "    Optionally normalize to power in signal `x`.\n",
    "    #The mean power of a Gaussian with :math:`\\\\mu=0` and :math:`\\\\sigma=1` is 1.\n",
    "    \"\"\"\n",
    "    #return y * np.sqrt( (np.abs(x)**2.0).mean() / (np.abs(y)**2.0).mean() )\n",
    "    if x is not None:\n",
    "        x = ms(x)\n",
    "    else:\n",
    "        x = 1.0\n",
    "    return y * np.sqrt( x / ms(y) )\n",
    "    #return y * np.sqrt( 1.0 / (np.abs(y)**2.0).mean() )\n",
    "\n",
    "def white_noise(N, state=None):\n",
    "    state = np.random.RandomState() if state is None else state\n",
    "    return state.randn(N)\n",
    "\n",
    "def pink_noise(N, state=None):\n",
    "    state = np.random.RandomState() if state is None else state\n",
    "    uneven = N%2\n",
    "    X = state.randn(N//2+1+uneven) + 1j * state.randn(N//2+1+uneven)\n",
    "    S = np.sqrt(np.arange(len(X))+1.) # +1 to avoid divide by zero\n",
    "    y = (irfft(X/S)).real\n",
    "    if uneven:\n",
    "        y = y[:-1]\n",
    "    return normalize(y)\n",
    "\n",
    "def blue_noise(N, state=None):\n",
    "    \"\"\"\n",
    "    Blue noise. \n",
    "    \n",
    "    :param N: Amount of samples.\n",
    "    :param state: State of PRNG.\n",
    "    :type state: :class:`np.random.RandomState`\n",
    "    \n",
    "    Power increases with 6 dB per octave.\n",
    "    Power density increases with 3 dB per octave. \n",
    "    \n",
    "    \"\"\"\n",
    "    state = np.random.RandomState() if state is None else state\n",
    "    uneven = N%2\n",
    "    X = state.randn(N//2+1+uneven) + 1j * state.randn(N//2+1+uneven)\n",
    "    S = np.sqrt(np.arange(len(X)))# Filter\n",
    "    y = (irfft(X*S)).real\n",
    "    if uneven:\n",
    "        y = y[:-1]\n",
    "    return normalize(y)\n",
    "\n",
    "def brown_noise(N, state=None):\n",
    "    \"\"\"\n",
    "    Violet noise.\n",
    "    \n",
    "    :param N: Amount of samples.\n",
    "    :param state: State of PRNG.\n",
    "    :type state: :class:`np.random.RandomState`\n",
    "    \n",
    "    Power decreases with -3 dB per octave.\n",
    "    Power density decreases with 6 dB per octave. \n",
    "    \"\"\"\n",
    "    state = np.random.RandomState() if state is None else state\n",
    "    uneven = N%2\n",
    "    X = state.randn(N//2+1+uneven) + 1j * state.randn(N//2+1+uneven)\n",
    "    S = (np.arange(len(X))+1)# Filter\n",
    "    y = (irfft(X/S)).real\n",
    "    if uneven:\n",
    "        y = y[:-1]\n",
    "    return normalize(y)\n",
    "\n",
    "def violet_noise(N, state=None):\n",
    "    \"\"\"\n",
    "    Violet noise. Power increases with 6 dB per octave. \n",
    "    \n",
    "    :param N: Amount of samples.\n",
    "    :param state: State of PRNG.\n",
    "    :type state: :class:`np.random.RandomState`\n",
    "    \n",
    "    Power increases with +9 dB per octave.\n",
    "    Power density increases with +6 dB per octave. \n",
    "    \n",
    "    \"\"\"\n",
    "    state = np.random.RandomState() if state is None else state\n",
    "    uneven = N%2\n",
    "    X = state.randn(N//2+1+uneven) + 1j * state.randn(N//2+1+uneven)\n",
    "    S = (np.arange(len(X)))# Filter\n",
    "    y = (irfft(X*S)).real\n",
    "    if uneven:\n",
    "        y = y[:-1]\n",
    "    return normalize(y)"
   ]
  },
  {
   "cell_type": "code",
   "execution_count": 3,
   "id": "620505a1",
   "metadata": {},
   "outputs": [
    {
     "data": {
      "text/plain": [
       "array([-0.59026399, -0.68431962,  1.56870611, -1.10500642, -0.67393401,\n",
       "        0.10376222, -0.31171382, -0.35720405, -0.74424293,  0.12614498])"
      ]
     },
     "execution_count": 3,
     "metadata": {},
     "output_type": "execute_result"
    }
   ],
   "source": [
    "import numpy as np\n",
    "\n",
    "N = 10\n",
    "state = np.random.RandomState()\n",
    "state.randn(N)"
   ]
  },
  {
   "cell_type": "code",
   "execution_count": 7,
   "id": "a803f249",
   "metadata": {},
   "outputs": [
    {
     "data": {
      "text/plain": [
       "6"
      ]
     },
     "execution_count": 7,
     "metadata": {},
     "output_type": "execute_result"
    }
   ],
   "source": [
    "N//2+1+uneven"
   ]
  },
  {
   "cell_type": "code",
   "execution_count": 6,
   "id": "722cf598",
   "metadata": {},
   "outputs": [
    {
     "data": {
      "text/plain": [
       "array([-0.17811637,  0.56738609,  0.1139559 , -0.1609064 , -0.0583465 ,\n",
       "        0.09898859])"
      ]
     },
     "execution_count": 6,
     "metadata": {},
     "output_type": "execute_result"
    }
   ],
   "source": [
    "X = state.randn(N//2+1+uneven)\n",
    "X"
   ]
  },
  {
   "cell_type": "code",
   "execution_count": 5,
   "id": "c7dbf3e6",
   "metadata": {},
   "outputs": [
    {
     "data": {
      "text/plain": [
       "array([-0.67854019+0.33696715j, -0.53639523-1.33228336j,\n",
       "       -0.16807449-1.02284005j,  0.57717245+0.56470304j,\n",
       "       -0.563283  +1.19573055j, -1.07630368+0.5818659j ])"
      ]
     },
     "execution_count": 5,
     "metadata": {},
     "output_type": "execute_result"
    }
   ],
   "source": [
    "state = np.random.RandomState()\n",
    "uneven = N%2 # 나머지\n",
    "X = state.randn(N//2+1+uneven) + 1j * state.randn(N//2+1+uneven) #\n",
    "X"
   ]
  },
  {
   "cell_type": "code",
   "execution_count": 8,
   "id": "5420ed46",
   "metadata": {},
   "outputs": [
    {
     "data": {
      "text/plain": [
       "array([1.        , 1.41421356, 1.73205081, 2.        , 2.23606798,\n",
       "       2.44948974])"
      ]
     },
     "execution_count": 8,
     "metadata": {},
     "output_type": "execute_result"
    }
   ],
   "source": [
    "S = np.sqrt(np.arange(len(X))+1.) # +1 to avoid divide by zero\n",
    "S"
   ]
  },
  {
   "cell_type": "code",
   "execution_count": 14,
   "id": "b6d82ce4",
   "metadata": {},
   "outputs": [
    {
     "data": {
      "text/plain": [
       "array([-1.13220548,  0.52472321,  1.24908875,  0.27902739, -0.36896684,\n",
       "       -0.32109447, -1.36113839, -1.96029794, -0.84810501, -0.38821552])"
      ]
     },
     "execution_count": 14,
     "metadata": {},
     "output_type": "execute_result"
    }
   ],
   "source": [
    "X = state.randn(N//2+1+uneven) + 1j * state.randn(N//2+1+uneven)\n",
    "S = np.sqrt(np.arange(len(X))+1.) # +1 to avoid divide by zero\n",
    "y = (irfft(X/S)).real\n",
    "\n",
    "if uneven:\n",
    "    y = y[:-1]\n",
    "normalize(y)"
   ]
  },
  {
   "cell_type": "markdown",
   "id": "3c6c3a38",
   "metadata": {
    "_cell_guid": "f08a3dd0-fb34-4415-a24d-795c2a475b3f",
    "_uuid": "a0c5d5315f8f420ba504c26f4ef0ed6d97a4aa57"
   },
   "source": [
    "## Tensorflow utilities"
   ]
  },
  {
   "cell_type": "markdown",
   "id": "b13de8b5",
   "metadata": {
    "_cell_guid": "f7c51859-aedb-4da5-87e2-8ecf0d41425e",
    "_uuid": "ea75d0aee8fe1d444af7201364c62bc358ba38ab"
   },
   "source": [
    "텐서플로우 공통 작업을 모듈화하기 위한 유틸리티입니다.\n"
   ]
  },
  {
   "cell_type": "code",
   "execution_count": null,
   "id": "78e97fcb",
   "metadata": {
    "_cell_guid": "93fe476d-5f7b-40b1-a074-1a0e9d50ce11",
    "_uuid": "7a782f5e128b8c429c9df8489276c8147ed365f2",
    "collapsed": true
   },
   "outputs": [],
   "source": [
    "# Tf Utils\n",
    "def get_tensorflow_configuration(device=\"0\", memory_fraction=1): # memory_fraction=1 : 100% 사용 # configuration : 구성\n",
    "    \"\"\"\n",
    "    사용할 GPU 및 프로세스에서 사용할 수 있는 메모리 양을 선택하는 기능입니다.\n",
    "    1. device: 사용할 장치를 지정합니다(str)\n",
    "    2. memory_fraction: 할당해야 하는 메모리의 비율입니다(float)\n",
    "    3. return: 세션에 전달할 구성입니다(tf 개체)\n",
    "    \"\"\"\n",
    "    device = str(device)\n",
    "    config = tf.ConfigProto() \n",
    "    config.allow_soft_placement = True # 선택한 장치가 없으면 다른 장치로 대체\n",
    "    config.gpu_options.per_process_gpu_memory_fraction = memory_fraction\n",
    "    config.gpu_options.visible_device_list = device\n",
    "    return(config)\n",
    "\n",
    "\n",
    "def start_tensorflow_session(device=\"0\", memory_fraction=1):\n",
    "    \"\"\"\n",
    "    사용할 GPU 장치를 처리하는 텐서플로우 세션을 시작합니다.\n",
    "    이 부분은 미리 인식될 메모리의 비율입니다.\n",
    "    \n",
    "    1. return: configured tf.Session\n",
    "    \"\"\"\n",
    "    return(tf.Session(config=get_tensorflow_configuration(device=device, memory_fraction=memory_fraction)))\n",
    "\n",
    "\n",
    "def get_summary_writer(session, logs_path, project_id, version_id):\n",
    "    \"\"\"\n",
    "    For Tensorboard reporting\n",
    "    1. session: opened tensorflow session (tf.Session)\n",
    "    2. logs_path: 텐서보드가 로그를 찾는 경로입니다. (str)\n",
    "    3. project_id: 보고용 프로젝트 이름입니다. (str)\n",
    "    4. version_id: 보고용 버전 이름입니다.(str)\n",
    "    5. return summary_writer: the tensorboard writer\n",
    "    \"\"\"\n",
    "    path = os.path.join(logs_path,\"{}_{}\".format(project_id, version_id)) \n",
    "    \n",
    "    if os.path.exists(path):\n",
    "        shutil.rmtree(path) # 전체 디렉터리 트리를 삭제합니다\n",
    "    \n",
    "    summary_writer = tf.summary.FileWriter(path, graph_def=session.graph_def)\n",
    "    \n",
    "    return(summary_writer)\n"
   ]
  },
  {
   "cell_type": "markdown",
   "id": "3c1a3ab6",
   "metadata": {
    "_cell_guid": "7dadd066-bd8e-4902-939d-300993467c67",
    "_uuid": "233bef658d360ebf7c9c6f623925615c56ec727b"
   },
   "source": [
    "## Paths management module"
   ]
  },
  {
   "cell_type": "markdown",
   "id": "2a6d52b9",
   "metadata": {
    "_cell_guid": "db84f1ec-e69d-47b6-9bc2-6916a224e905",
    "_uuid": "3bba8797dc146f2a51bc6887aa3d60831745425d"
   },
   "source": [
    "경로를 처리할 모듈입니다.\n"
   ]
  },
  {
   "cell_type": "code",
   "execution_count": null,
   "id": "03bfc488",
   "metadata": {},
   "outputs": [],
   "source": [
    "def abc(a):\n",
    "    def ab(*arg, **kwargs)"
   ]
  },
  {
   "cell_type": "code",
   "execution_count": null,
   "id": "5787e1ad",
   "metadata": {
    "_cell_guid": "98e21f2b-673c-44d3-a156-56278ebe0054",
    "_uuid": "ac2c7e2219c90972ed163a2ce50c2af3c634f8be",
    "collapsed": true
   },
   "outputs": [],
   "source": [
    "# Common paths\n",
    "def _norm_path(path):\n",
    "    \"\"\"\n",
    "    경로 검색 함수의 출력을 정규화하는 데 사용하기 위한 데코레이터 함수입니다.\n",
    "    슬래시/백슬래시 windows 케이스를 수정하는 데 유용합니다.\n",
    "    \"\"\"\n",
    "    def normalize_path(*args, **kwargs):\n",
    "        return os.path.normpath(path(*args, **kwargs))\n",
    "    \n",
    "    return normalize_path\n",
    "\n",
    "\n",
    "def _assure_path_exists(path): # assure : 확신\n",
    "    \"\"\"\n",
    "    경로 검색 함수의 출력 여부를 확인하기 위한 데코레이터 함수입니다.\n",
    "    fixing the slash/backslash windows cases.\n",
    "    \"\"\"\n",
    "    def assure_exists(*args, **kwargs):\n",
    "        p=path(*args, **kwargs)\n",
    "        \n",
    "        assert os.path.exists(p), \"the following path does not exist: '{}'\".format(p)\n",
    "        return p\n",
    "    \n",
    "    return assure_exists\n",
    "\n",
    "\n",
    "def _is_output_path(path):\n",
    "    \"\"\"\n",
    "    출력 경로 검색 함수의 출력에 적용되는 함수를 그룹화하기 위한 데코레이터 함수입니다.\n",
    "    \"\"\"\n",
    "    @_norm_path\n",
    "    @_assure_path_exists\n",
    "    def check_existence_or_create_it(*args, **kwargs):\n",
    "        if not os.path.exists(path(*args, **kwargs)):\n",
    "            \"Path does not exist... creating it: {}\".format(path(*args, **kwargs))\n",
    "            os.makedirs(path(*args, **kwargs))\n",
    "        return path(*args, **kwargs)\n",
    "    return check_existence_or_create_it\n",
    "\n",
    "\n",
    "def _is_input_path(path):\n",
    "    \"\"\"\n",
    "    입력 경로 검색 함수의 출력에 적용되는 함수를 그룹화하기 위한 데코레이터 함수입니다.\n",
    "    \"\"\"\n",
    "    @_norm_path\n",
    "    @_assure_path_exists\n",
    "    def check_existence(*args, **kwargs):\n",
    "        return path(*args, **kwargs)\n",
    "    return check_existence\n",
    "\n",
    "@_is_input_path\n",
    "def get_train_path():\n",
    "    path = \"./input/train/train\"\n",
    "    return path\n",
    "\n",
    "@_is_input_path\n",
    "def get_test_path():\n",
    "    path = \"./input/test/test\"\n",
    "    return path\n",
    "\n",
    "@_is_input_path\n",
    "def get_train_audio_path():\n",
    "    path = os.path.join(get_train_path(), \"audio\")\n",
    "    return path\n",
    "\n",
    "@_is_input_path\n",
    "def get_scoring_audio_path():\n",
    "    path = os.path.join(get_test_path(), \"audio\")\n",
    "    return path\n",
    "\n",
    "@_is_output_path\n",
    "def get_submissions_path():\n",
    "    path = \"../working/output\"\n",
    "    return path\n",
    "\n",
    "@_is_output_path\n",
    "def get_silence_path():\n",
    "    path = \"../working/silence\"\n",
    "    return path"
   ]
  },
  {
   "cell_type": "markdown",
   "id": "08580018",
   "metadata": {
    "_cell_guid": "ee43ab62-3c4a-40dc-9f18-efb0c114505d",
    "_uuid": "fb0647c5bf761a85cfbfc98017dfc428cad260f4"
   },
   "source": [
    "## Utilities"
   ]
  },
  {
   "cell_type": "markdown",
   "id": "f4dcdc45",
   "metadata": {
    "_cell_guid": "7001ab0b-20f0-44ad-abc9-54c855232c53",
    "_uuid": "46742e27457bae13221a6dd2983aeb05c59b7aaa"
   },
   "source": [
    "일반적인 범용 유틸리티입니다.\n"
   ]
  },
  {
   "cell_type": "code",
   "execution_count": null,
   "id": "1118751f",
   "metadata": {
    "_cell_guid": "c38d1870-b7c4-453e-bf94-1d6226fbe8b8",
    "_uuid": "ca100ad49d05f067cd4c96636a687563581f73d8",
    "collapsed": true
   },
   "outputs": [],
   "source": [
    "# Utilities\n",
    "flatten = lambda l: [item for sublist in l for item in sublist]\n",
    "\n",
    "def batching(iterable, n=1):\n",
    "    l = len(iterable)\n",
    "    for ndx in range(0, l, n):\n",
    "        yield iterable[ndx:min(ndx + n, l)]"
   ]
  },
  {
   "cell_type": "code",
   "execution_count": null,
   "id": "1dee1a22",
   "metadata": {},
   "outputs": [],
   "source": []
  }
 ],
 "metadata": {
  "kernelspec": {
   "display_name": "Python 3 (ipykernel)",
   "language": "python",
   "name": "python3"
  },
  "language_info": {
   "codemirror_mode": {
    "name": "ipython",
    "version": 3
   },
   "file_extension": ".py",
   "mimetype": "text/x-python",
   "name": "python",
   "nbconvert_exporter": "python",
   "pygments_lexer": "ipython3",
   "version": "3.9.7"
  }
 },
 "nbformat": 4,
 "nbformat_minor": 5
}
