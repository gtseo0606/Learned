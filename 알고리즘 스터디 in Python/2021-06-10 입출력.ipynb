{
 "cells": [
  {
   "cell_type": "markdown",
   "metadata": {},
   "source": [
    "1. 입력\n",
    "* map() 내장함수 : 리스트의 각 원소에 특정한 함수를 적용"
   ]
  },
  {
   "cell_type": "code",
   "execution_count": 2,
   "metadata": {},
   "outputs": [
    {
     "name": "stdout",
     "output_type": "stream",
     "text": [
      "12 23 53\n",
      "12 23 53\n"
     ]
    }
   ],
   "source": [
    "### 1-1. 기본\n",
    "\n",
    "# input되는 데이터를 공백을 기준으로 나열\n",
    "a, b, c = map(int, input().split())\n",
    "print(a, b, c)"
   ]
  },
  {
   "cell_type": "code",
   "execution_count": 3,
   "metadata": {},
   "outputs": [
    {
     "name": "stdout",
     "output_type": "stream",
     "text": [
      "12 23 53\n",
      "[12, 23, 53]\n"
     ]
    }
   ],
   "source": [
    "### 1-2. list 형태로\n",
    "\n",
    "# input되는 데이터를 공백을 기준으로 나열\n",
    "data = list(map(int, input().split()))\n",
    "print(data)"
   ]
  },
  {
   "cell_type": "code",
   "execution_count": 4,
   "metadata": {},
   "outputs": [
    {
     "name": "stdout",
     "output_type": "stream",
     "text": [
      "\n"
     ]
    }
   ],
   "source": [
    "###1-3. 빠르게 입력받기\n",
    "\n",
    "# 기존의 input() 함수가 아닌 sys 함수를 이용해 더 빨리 입력 받자!!!\n",
    "import sys\n",
    "data = sys.stdin.readline().rstrip()\n",
    "print(data)"
   ]
  },
  {
   "cell_type": "code",
   "execution_count": null,
   "metadata": {},
   "outputs": [],
   "source": []
  },
  {
   "cell_type": "code",
   "execution_count": 5,
   "metadata": {},
   "outputs": [
    {
     "name": "stdout",
     "output_type": "stream",
     "text": [
      "쌀 20kg\n"
     ]
    }
   ],
   "source": [
    "## 2. 출력\n",
    "\n",
    "### 2-1. 숫자 + 문자열 출력 \n",
    "n = 20\n",
    "print(\"쌀 \" + str(n) + \"kg\")"
   ]
  },
  {
   "cell_type": "code",
   "execution_count": 6,
   "metadata": {},
   "outputs": [
    {
     "name": "stdout",
     "output_type": "stream",
     "text": [
      "쌀 20kg\n"
     ]
    }
   ],
   "source": [
    "### 2-2. 숫자 + 문자열 출력(f-string 방법) \n",
    "n = 20\n",
    "print(f\"쌀 {n}kg\")"
   ]
  },
  {
   "cell_type": "code",
   "execution_count": null,
   "metadata": {},
   "outputs": [],
   "source": []
  }
 ],
 "metadata": {
  "kernelspec": {
   "display_name": "Python 3",
   "language": "python",
   "name": "python3"
  },
  "language_info": {
   "codemirror_mode": {
    "name": "ipython",
    "version": 3
   },
   "file_extension": ".py",
   "mimetype": "text/x-python",
   "name": "python",
   "nbconvert_exporter": "python",
   "pygments_lexer": "ipython3",
   "version": "3.8.3"
  }
 },
 "nbformat": 4,
 "nbformat_minor": 4
}
