{
  "nbformat": 4,
  "nbformat_minor": 0,
  "metadata": {
    "colab": {
      "name": "Hyperparameter tuning.ipynb",
      "provenance": [],
      "authorship_tag": "ABX9TyOyusf6O4E1WjSx1FpY/ld4",
      "include_colab_link": true
    },
    "kernelspec": {
      "name": "python3",
      "display_name": "Python 3"
    },
    "language_info": {
      "name": "python"
    }
  },
  "cells": [
    {
      "cell_type": "markdown",
      "metadata": {
        "id": "view-in-github",
        "colab_type": "text"
      },
      "source": [
        "<a href=\"https://colab.research.google.com/github/gtseo0606/Learned/blob/main/Hyperparameter_tuning.ipynb\" target=\"_parent\"><img src=\"https://colab.research.google.com/assets/colab-badge.svg\" alt=\"Open In Colab\"/></a>"
      ]
    },
    {
      "cell_type": "markdown",
      "metadata": {
        "id": "GothaUGCsqv7"
      },
      "source": [
        "# 하이퍼 파라미터를 정하는 방식 2가지를 소개한다."
      ]
    },
    {
      "cell_type": "markdown",
      "metadata": {
        "id": "KLYGCTb4nIiz"
      },
      "source": [
        "# Grid Search\n",
        "순차적으로 진행된다."
      ]
    },
    {
      "cell_type": "code",
      "metadata": {
        "id": "99wR9qQdm-on"
      },
      "source": [
        "# batch_size, learning_rate"
      ],
      "execution_count": null,
      "outputs": []
    },
    {
      "cell_type": "code",
      "metadata": {
        "id": "42YPBsMbm_ts"
      },
      "source": [
        "import numpy as np\n",
        "from tensorflow import keras\n",
        "from tensorflow.keras import layers"
      ],
      "execution_count": 1,
      "outputs": []
    },
    {
      "cell_type": "code",
      "metadata": {
        "id": "gchxbIAQnAJT"
      },
      "source": [
        "batch_sizes = np.arange(5, 10, 2)"
      ],
      "execution_count": 2,
      "outputs": []
    },
    {
      "cell_type": "code",
      "metadata": {
        "colab": {
          "base_uri": "https://localhost:8080/"
        },
        "id": "qmWhgfWMnAVz",
        "outputId": "9d1d60e3-9331-4b28-a94a-e333d9f7a24f"
      },
      "source": [
        "batch_sizes"
      ],
      "execution_count": 3,
      "outputs": [
        {
          "output_type": "execute_result",
          "data": {
            "text/plain": [
              "array([5, 7, 9])"
            ]
          },
          "metadata": {},
          "execution_count": 3
        }
      ]
    },
    {
      "cell_type": "code",
      "metadata": {
        "id": "8pxrzI8SntgO"
      },
      "source": [
        "learning_rates = [0.005, 0.01, 0.02]"
      ],
      "execution_count": 4,
      "outputs": []
    },
    {
      "cell_type": "code",
      "metadata": {
        "colab": {
          "base_uri": "https://localhost:8080/"
        },
        "id": "a-OYkdYpntit",
        "outputId": "9c65d520-a0a0-485b-c746-4c2362e2bfa1"
      },
      "source": [
        "for batch_size in batch_sizes:\n",
        "  for learning_rate in learning_rates:\n",
        "    print(\"batch_size : \", batch_size, \"learning_rate : \", learning_rate)"
      ],
      "execution_count": 5,
      "outputs": [
        {
          "output_type": "stream",
          "name": "stdout",
          "text": [
            "batch_size :  5 learning_rate :  0.005\n",
            "batch_size :  5 learning_rate :  0.01\n",
            "batch_size :  5 learning_rate :  0.02\n",
            "batch_size :  7 learning_rate :  0.005\n",
            "batch_size :  7 learning_rate :  0.01\n",
            "batch_size :  7 learning_rate :  0.02\n",
            "batch_size :  9 learning_rate :  0.005\n",
            "batch_size :  9 learning_rate :  0.01\n",
            "batch_size :  9 learning_rate :  0.02\n"
          ]
        }
      ]
    },
    {
      "cell_type": "markdown",
      "metadata": {
        "id": "FHl0G8jqqvZw"
      },
      "source": [
        "**하단의 코드를 돌려놓고 퇴근**\n"
      ]
    },
    {
      "cell_type": "markdown",
      "metadata": {
        "id": "j-ptgPWurcKL"
      },
      "source": [
        "batch_size, learning_rate가 몇일 때, rmse가 가장 작게 나오는지 확인\n"
      ]
    },
    {
      "cell_type": "code",
      "metadata": {
        "id": "i5S__6k-ntko"
      },
      "source": [
        "results = []\n",
        "\n",
        "for batch_size in batch_sizes:\n",
        "  for learning_rate in learning_rates:\n",
        "    print(batch_size, learning_rate)\n",
        "    \n",
        "    # 머신러닝 코드\n",
        "\n",
        "    result = {}\n",
        "    result['batch_size'] = batch_size\n",
        "    result['learning_rate'] = learning_rate\n",
        "    result['rmse'] = rmse\n",
        "\n",
        "    results.append(result)\n",
        "    break\n",
        "break"
      ],
      "execution_count": null,
      "outputs": []
    },
    {
      "cell_type": "code",
      "metadata": {
        "id": "gLR05DI6ntnU"
      },
      "source": [
        "results"
      ],
      "execution_count": null,
      "outputs": []
    },
    {
      "cell_type": "markdown",
      "metadata": {
        "id": "baoqpDR3qWet"
      },
      "source": [
        "![asas.PNG](data:image/png;base64,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)"
      ]
    },
    {
      "cell_type": "markdown",
      "metadata": {
        "id": "JTpAmwh3rlyF"
      },
      "source": [
        "# Random Search"
      ]
    },
    {
      "cell_type": "code",
      "metadata": {
        "id": "SMJ9kvwfrrDe"
      },
      "source": [
        "import random"
      ],
      "execution_count": 6,
      "outputs": []
    },
    {
      "cell_type": "code",
      "metadata": {
        "id": "A19iO8sOrrNJ"
      },
      "source": [
        "batch_size = random.sample(range(1, 11), 5) #1~11까지 랜덤하게 5개 추출"
      ],
      "execution_count": 7,
      "outputs": []
    },
    {
      "cell_type": "code",
      "metadata": {
        "colab": {
          "base_uri": "https://localhost:8080/"
        },
        "id": "ipxZRJILrrPg",
        "outputId": "13535887-158b-44e0-a9ca-e5e63a76efff"
      },
      "source": [
        "batch_size"
      ],
      "execution_count": 8,
      "outputs": [
        {
          "output_type": "execute_result",
          "data": {
            "text/plain": [
              "[10, 6, 3, 2, 5]"
            ]
          },
          "metadata": {},
          "execution_count": 8
        }
      ]
    },
    {
      "cell_type": "code",
      "metadata": {
        "id": "VlRHE2etrrR-"
      },
      "source": [
        "learning_rate = np.random.uniform(low = 0.005, high= 0.1, size=(4,))"
      ],
      "execution_count": 9,
      "outputs": []
    },
    {
      "cell_type": "code",
      "metadata": {
        "colab": {
          "base_uri": "https://localhost:8080/"
        },
        "id": "D_RldhNcrrU6",
        "outputId": "a0b28417-6493-4c8c-e23a-38398139bb58"
      },
      "source": [
        "learning_rate"
      ],
      "execution_count": 10,
      "outputs": [
        {
          "output_type": "execute_result",
          "data": {
            "text/plain": [
              "array([0.0782534 , 0.07458125, 0.04046393, 0.06263729])"
            ]
          },
          "metadata": {},
          "execution_count": 10
        }
      ]
    }
  ]
}
