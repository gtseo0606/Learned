{
 "cells": [
  {
   "cell_type": "markdown",
   "id": "03719bb7",
   "metadata": {},
   "source": [
    "## Dacon 월간 데이콘 반도체 박막두께 분석 모델링 경진대회\n"
   ]
  },
  {
   "cell_type": "code",
   "execution_count": 1,
   "id": "8ca16f25",
   "metadata": {},
   "outputs": [],
   "source": [
    "import math\n",
    "import time\n",
    "from itertools import chain\n",
    "import argparse\n",
    "\n",
    "import numpy as np\n",
    "import pandas as pd\n",
    "from tqdm.auto import tqdm\n",
    "\n",
    "import torch \n",
    "import torch.nn as nn\n",
    "import torch.nn.functional as F\n",
    "from torch.utils.data import Dataset, DataLoader\n",
    "from torch.optim import Optimizer\n",
    "from torch.optim.lr_scheduler import LambdaLR\n",
    "\n",
    "# 모델 학습을 위해 CUDA 환경 설정. : 지피유 설정\n",
    "device = torch.device('cuda:0' if torch.cuda.is_available else 'cpu')"
   ]
  },
  {
   "cell_type": "markdown",
   "id": "06e464c2",
   "metadata": {
    "heading_collapsed": true
   },
   "source": [
    "## 연습 "
   ]
  },
  {
   "cell_type": "code",
   "execution_count": 6,
   "id": "d170c6fd",
   "metadata": {
    "hidden": true
   },
   "outputs": [
    {
     "data": {
      "text/plain": [
       "['layer_1',\n",
       " 'layer_2',\n",
       " 'layer_3',\n",
       " 'layer_4',\n",
       " '0',\n",
       " '1',\n",
       " '2',\n",
       " '3',\n",
       " '4',\n",
       " '5',\n",
       " '6',\n",
       " '7',\n",
       " '8',\n",
       " '9',\n",
       " '10',\n",
       " '11',\n",
       " '12',\n",
       " '13',\n",
       " '14',\n",
       " '15',\n",
       " '16',\n",
       " '17',\n",
       " '18',\n",
       " '19',\n",
       " '20',\n",
       " '21',\n",
       " '22',\n",
       " '23',\n",
       " '24',\n",
       " '25',\n",
       " '26',\n",
       " '27',\n",
       " '28',\n",
       " '29',\n",
       " '30',\n",
       " '31',\n",
       " '32',\n",
       " '33',\n",
       " '34',\n",
       " '35',\n",
       " '36',\n",
       " '37',\n",
       " '38',\n",
       " '39',\n",
       " '40',\n",
       " '41',\n",
       " '42',\n",
       " '43',\n",
       " '44',\n",
       " '45',\n",
       " '46',\n",
       " '47',\n",
       " '48',\n",
       " '49',\n",
       " '50',\n",
       " '51',\n",
       " '52',\n",
       " '53',\n",
       " '54',\n",
       " '55',\n",
       " '56',\n",
       " '57',\n",
       " '58',\n",
       " '59',\n",
       " '60',\n",
       " '61',\n",
       " '62',\n",
       " '63',\n",
       " '64',\n",
       " '65',\n",
       " '66',\n",
       " '67',\n",
       " '68',\n",
       " '69',\n",
       " '70',\n",
       " '71',\n",
       " '72',\n",
       " '73',\n",
       " '74',\n",
       " '75',\n",
       " '76',\n",
       " '77',\n",
       " '78',\n",
       " '79',\n",
       " '80',\n",
       " '81',\n",
       " '82',\n",
       " '83',\n",
       " '84',\n",
       " '85',\n",
       " '86',\n",
       " '87',\n",
       " '88',\n",
       " '89',\n",
       " '90',\n",
       " '91',\n",
       " '92',\n",
       " '93',\n",
       " '94',\n",
       " '95',\n",
       " '96',\n",
       " '97',\n",
       " '98',\n",
       " '99',\n",
       " '100',\n",
       " '101',\n",
       " '102',\n",
       " '103',\n",
       " '104',\n",
       " '105',\n",
       " '106',\n",
       " '107',\n",
       " '108',\n",
       " '109',\n",
       " '110',\n",
       " '111',\n",
       " '112',\n",
       " '113',\n",
       " '114',\n",
       " '115',\n",
       " '116',\n",
       " '117',\n",
       " '118',\n",
       " '119',\n",
       " '120',\n",
       " '121',\n",
       " '122',\n",
       " '123',\n",
       " '124',\n",
       " '125',\n",
       " '126',\n",
       " '127',\n",
       " '128',\n",
       " '129',\n",
       " '130',\n",
       " '131',\n",
       " '132',\n",
       " '133',\n",
       " '134',\n",
       " '135',\n",
       " '136',\n",
       " '137',\n",
       " '138',\n",
       " '139',\n",
       " '140',\n",
       " '141',\n",
       " '142',\n",
       " '143',\n",
       " '144',\n",
       " '145',\n",
       " '146',\n",
       " '147',\n",
       " '148',\n",
       " '149',\n",
       " '150',\n",
       " '151',\n",
       " '152',\n",
       " '153',\n",
       " '154',\n",
       " '155',\n",
       " '156',\n",
       " '157',\n",
       " '158',\n",
       " '159',\n",
       " '160',\n",
       " '161',\n",
       " '162',\n",
       " '163',\n",
       " '164',\n",
       " '165',\n",
       " '166',\n",
       " '167',\n",
       " '168',\n",
       " '169',\n",
       " '170',\n",
       " '171',\n",
       " '172',\n",
       " '173',\n",
       " '174',\n",
       " '175',\n",
       " '176',\n",
       " '177',\n",
       " '178',\n",
       " '179',\n",
       " '180',\n",
       " '181',\n",
       " '182',\n",
       " '183',\n",
       " '184',\n",
       " '185',\n",
       " '186',\n",
       " '187',\n",
       " '188',\n",
       " '189',\n",
       " '190',\n",
       " '191',\n",
       " '192',\n",
       " '193',\n",
       " '194',\n",
       " '195',\n",
       " '196',\n",
       " '197',\n",
       " '198',\n",
       " '199',\n",
       " '200',\n",
       " '201',\n",
       " '202',\n",
       " '203',\n",
       " '204',\n",
       " '205',\n",
       " '206',\n",
       " '207',\n",
       " '208',\n",
       " '209',\n",
       " '210',\n",
       " '211',\n",
       " '212',\n",
       " '213',\n",
       " '214',\n",
       " '215',\n",
       " '216',\n",
       " '217',\n",
       " '218',\n",
       " '219',\n",
       " '220',\n",
       " '221',\n",
       " '222',\n",
       " '223',\n",
       " '224',\n",
       " '225']"
      ]
     },
     "execution_count": 6,
     "metadata": {},
     "output_type": "execute_result"
    }
   ],
   "source": [
    "layers = [['layer_1','layer_2','layer_3','layer_4'], [str(i) for i in range(0, 226)]]\n",
    "layers = list(chain(*layers))\n",
    "layers"
   ]
  },
  {
   "cell_type": "code",
   "execution_count": 14,
   "id": "af7098a3",
   "metadata": {
    "hidden": true
   },
   "outputs": [
    {
     "data": {
      "text/plain": [
       "<torch.utils.data.dataloader.DataLoader at 0x1f3715c9f40>"
      ]
     },
     "execution_count": 14,
     "metadata": {},
     "output_type": "execute_result"
    }
   ],
   "source": [
    "# test 파일 경로 및 test 데이터 로드\n",
    "path_test = './input/test.csv'\n",
    "class TestDataset(Dataset):\n",
    "    def __init__(self, path_test):\n",
    "        super(TestDataset, self).__init__()\n",
    "        test = pd.read_csv(path_test)\n",
    "        self.test_X = test.iloc[:,1:]\n",
    "        self.tmp_x = self.test_X.values\n",
    "    \n",
    "    def __len__(self):\n",
    "        return len(self.test_X)\n",
    "\n",
    "    def __getitem__(self, idx):\n",
    "        return torch.from_numpy(self.tmp_x)[idx]\n",
    "    \n",
    "test_data = TestDataset(path_test) # <__main__.TestDataset at 0x1f37cd22670>\n",
    "test_loader = DataLoader(test_data, batch_size=10000,  num_workers=4) # <torch.utils.data.dataloader.DataLoader at 0x1f3715c9f40>\n",
    "test_loader"
   ]
  },
  {
   "cell_type": "markdown",
   "id": "806337d8",
   "metadata": {
    "heading_collapsed": true
   },
   "source": [
    "## 2. 데이터 전처리\n",
    "Data Cleansing & Pre-Processing"
   ]
  },
  {
   "cell_type": "code",
   "execution_count": 2,
   "id": "ad4b87ab",
   "metadata": {
    "hidden": true
   },
   "outputs": [],
   "source": [
    "# 별도의 데이터 Pre-Processing 과정은 없고 모델 훈련시 검증을 위해 train 중 10000개를 validation 용으로 분리.\n",
    "# 새로 만든 train.csv는 train1.csv, validation은 val.csv로 저장.\n",
    "# dataframe.sample(frac=1) 을 통해 셔플.\n",
    "path_train = './input/train.csv' # (810000,230)\n",
    "path_test = './input/test.csv' # (10000,226)\n",
    "layers = [['layer_1','layer_2','layer_3','layer_4'], [str(i) for i in range(0, 226)]]\n",
    "layers = list(chain(*layers))\n",
    "\n",
    "train = pd.read_csv(path_train)\n",
    "train = train.sample(frac=1) # 랜덤추출\n",
    "rows, cols = train.shape\n",
    "\n",
    "train1 = train.iloc[:rows - 10000,:]\n",
    "train1 = train1.values\n",
    "train1 = pd.DataFrame(data=train1, columns=layers)\n",
    "train1.to_csv('train1.csv', index_label='id')\n",
    "\n",
    "val = train.iloc[rows - 10000:,:]\n",
    "val = val.values\n",
    "val = pd.DataFrame(data=val,columns=layers)\n",
    "val.to_csv('val.csv', index_label='id')"
   ]
  },
  {
   "cell_type": "code",
   "execution_count": 2,
   "id": "425a4b37",
   "metadata": {
    "hidden": true
   },
   "outputs": [
    {
     "data": {
      "text/plain": [
       "tensor([[1, 5],\n",
       "        [2, 4],\n",
       "        [3, 3],\n",
       "        [4, 2],\n",
       "        [5, 1]])"
      ]
     },
     "execution_count": 2,
     "metadata": {},
     "output_type": "execute_result"
    }
   ],
   "source": [
    "a1=pd.DataFrame({'a':[1,2,3,4,5], 'b':[5,4,3,2,1]})\n",
    "a12=a1.values\n",
    "torch.from_numpy(a12)"
   ]
  },
  {
   "cell_type": "code",
   "execution_count": 4,
   "id": "443fdd47",
   "metadata": {
    "hidden": true
   },
   "outputs": [
    {
     "data": {
      "text/plain": [
       "<torch.utils.data.dataloader.DataLoader at 0x1af89787640>"
      ]
     },
     "execution_count": 4,
     "metadata": {},
     "output_type": "execute_result"
    }
   ],
   "source": [
    "train_loader = DataLoader(a12, batch_size=2,  num_workers=4)\n",
    "len(train_loader)"
   ]
  },
  {
   "cell_type": "code",
   "execution_count": null,
   "id": "d2eb0ba4",
   "metadata": {
    "hidden": true
   },
   "outputs": [],
   "source": [
    "# 새로 만든 train/ val 모델 학습 데이터 경로를 설정.\n",
    "train_path = './input/train1.csv'\n",
    "val_path = './input/val.csv'\n",
    "\n",
    "lr = 1e-03\n",
    "adam_epsilon = 1e-06\n",
    "epochs = 100\n",
    "batch_size = 2048\n",
    "warmup_step = 2000\n",
    "loss_fn = nn.L1Loss() # MAE\n",
    "\n",
    "# df -> array(df.values) -> tensor(torch.from_numpy(df.values))\n",
    "class PandasDataset(Dataset):\n",
    "    def __init__(self, path):\n",
    "        super(PandasDataset, self).__init__()\n",
    "        train = pd.read_csv(path).iloc[:,1:]\n",
    "        self.train_X, self.train_Y = train.iloc[:,4:], train.iloc[:,0:4]\n",
    "        self.tmp_x , self.tmp_y = self.train_X.values, self.train_Y.values\n",
    "    \n",
    "    def __len__(self):\n",
    "        return len(self.train_X)\n",
    "\n",
    "    def __getitem__(self, idx):\n",
    "        return {\n",
    "            'X':torch.from_numpy(self.tmp_x)[idx],\n",
    "            'Y':torch.from_numpy(self.tmp_y)[idx]\n",
    "        }\n",
    "            \n",
    "train_dataset = PandasDataset(train_path)\n",
    "train_loader = DataLoader(train_dataset, batch_size=2048,  num_workers=4) # 0-2048, 2048-4096....7997952-800000, num_workers=사용할cpu개수\n",
    "\n",
    "val_dataset = PandasDataset(val_path)\n",
    "val_loader = DataLoader(val_dataset, batch_size=2048,  num_workers=4) # 0-2048, 2048-4096, 4096-6144, 6144-8192, 8192-10000 "
   ]
  },
  {
   "cell_type": "markdown",
   "id": "a5d6c343",
   "metadata": {
    "heading_collapsed": true
   },
   "source": [
    "## 3. 탐색적 자료분석\n",
    "Exploratory Data Analysis"
   ]
  },
  {
   "cell_type": "code",
   "execution_count": null,
   "id": "38cd7986",
   "metadata": {
    "hidden": true
   },
   "outputs": [],
   "source": [
    "# 4개의 layer_1, layer_2, layer_3, layer_4의 두께를 구하는 방법이라 마지막 Dense unit을 1로\n",
    "# 해서 각각의 두께를 구하는 모델을 구성해보았으나 결과는 좋지 않음.\n",
    "# 특별한 탐색적 자료 분석 없음."
   ]
  },
  {
   "cell_type": "markdown",
   "id": "f2844cf3",
   "metadata": {
    "heading_collapsed": true
   },
   "source": [
    "## 4. 변수 선택 및 모델 구축\n",
    "Feature Engineering & Initial Modeling"
   ]
  },
  {
   "cell_type": "code",
   "execution_count": null,
   "id": "a85fbb55",
   "metadata": {
    "hidden": true
   },
   "outputs": [],
   "source": [
    "\"\"\"\n",
    "- Modeling\n",
    "\n",
    "Learning rate : 다양한 learning rate 스케줄링. Warmup 스케줄링이 train, val loss 줄이는데 가장 효과적.\n",
    "Activation function : ReLU, ELU, CeLU, GeLU 사용. 음의 영역에서는 0의 값을 가지는 relu 대신 ELU, CeLU, GeLU등을 사용. relu보다는 효과적.\n",
    "Optimizer : adam, adamW.\n",
    "Batch size : batch size는 10000으로 시작하였으나 10000보다 작은 값에서 효과적.\n",
    "Hidden node, layer depth : node 수는 Nh = Ns/(a * (Ni + No))에 따라 초기 모델링에서는 약 2500개 정도로 하였으나 실험적으로 많은\n",
    "node가 train, val loss 줄이는데 효과적.\n",
    "(Nh : number of hidden , Ni : Number of input, No : Number of output, a : 2 - 10)\n",
    "Loss funciotion : L1 Loss\n",
    "BatchNorm : 모든 layer에 batchNorm 적용\n",
    "MLP Model : 단순한 MLP 모델로는 한계를 느껴 MLP의 복잡성을 증가시키는 방향으로 설계\n",
    "        (1) 노드 수를 증가시켰다 줄이는 방식(UP-block, DOWN-block)\n",
    "        (2) Down-block에서 skip connection과 layer norm 적용\n",
    "\"\"\""
   ]
  },
  {
   "cell_type": "code",
   "execution_count": null,
   "id": "4896d2f9",
   "metadata": {
    "hidden": true
   },
   "outputs": [],
   "source": [
    "# 활성화 함수\n",
    "class GELU(nn.Module):\n",
    "    def forward(self, x):\n",
    "        return 0.5 * x * (1 + torch.tanh(math.sqrt(2 / math.pi) * (x + 0.044715 * torch.pow(x, 3))))"
   ]
  },
  {
   "cell_type": "markdown",
   "id": "ea572f6c",
   "metadata": {
    "heading_collapsed": true
   },
   "source": [
    "## 연습"
   ]
  },
  {
   "cell_type": "code",
   "execution_count": 10,
   "id": "70d6fa3f",
   "metadata": {
    "hidden": true
   },
   "outputs": [
    {
     "name": "stdout",
     "output_type": "stream",
     "text": [
      "tensor([[1., 1.],\n",
      "        [1., 1.]])\n",
      "tensor([[1., 1.],\n",
      "        [1., 1.]], requires_grad=True)\n"
     ]
    }
   ],
   "source": [
    "# requires_grad=True\n",
    "x1 = torch.ones(2, 2)\n",
    "print(x1)\n",
    "\n",
    "x2 = torch.ones(2, 2, requires_grad = True)\n",
    "print(x2) # requires_grad=True : 전파 과정을 수행 후, 해당 텐서의 변화도를 구할 수 있도록 합니다."
   ]
  },
  {
   "cell_type": "code",
   "execution_count": 3,
   "id": "0b256698",
   "metadata": {
    "hidden": true
   },
   "outputs": [
    {
     "data": {
      "text/plain": [
       "<function Tensor.type>"
      ]
     },
     "execution_count": 3,
     "metadata": {},
     "output_type": "execute_result"
    }
   ],
   "source": [
    "torch.ones(10).type"
   ]
  },
  {
   "cell_type": "code",
   "execution_count": 5,
   "id": "216bf30a",
   "metadata": {
    "hidden": true
   },
   "outputs": [
    {
     "data": {
      "text/plain": [
       "tensor([1., 1., 1., 1., 1., 1., 1., 1., 1., 1.])"
      ]
     },
     "execution_count": 5,
     "metadata": {},
     "output_type": "execute_result"
    }
   ],
   "source": [
    "# 가중치 계산용(nn.Parameter())\n",
    "# 레이어가 아니라 말 그대로 파라미터 값만을 가짐\n",
    "nn.Parameter(torch.ones(10)).data.fill_(1.0)"
   ]
  },
  {
   "cell_type": "code",
   "execution_count": 19,
   "id": "cc92a2f7",
   "metadata": {
    "hidden": true
   },
   "outputs": [
    {
     "data": {
      "text/plain": [
       "tensor([0., 0., 0., 0., 0., 0., 0., 0., 0., 0.])"
      ]
     },
     "execution_count": 19,
     "metadata": {},
     "output_type": "execute_result"
    }
   ],
   "source": [
    "torch.zeros(10)"
   ]
  },
  {
   "cell_type": "code",
   "execution_count": 18,
   "id": "3ea27bd5",
   "metadata": {
    "hidden": true
   },
   "outputs": [
    {
     "data": {
      "text/plain": [
       "tensor([0., 0., 0., 0., 0., 0., 0., 0., 0., 0.])"
      ]
     },
     "execution_count": 18,
     "metadata": {},
     "output_type": "execute_result"
    }
   ],
   "source": [
    "nn.Parameter(torch.zeros(10)).data.zero_()"
   ]
  },
  {
   "cell_type": "code",
   "execution_count": 14,
   "id": "d6cef41c",
   "metadata": {
    "hidden": true
   },
   "outputs": [
    {
     "data": {
      "text/plain": [
       "tensor([1, 4, 9])"
      ]
     },
     "execution_count": 14,
     "metadata": {},
     "output_type": "execute_result"
    }
   ],
   "source": [
    "# pow 함수\n",
    "a = torch.tensor([1, 2, 3])\n",
    "a.pow(2)"
   ]
  },
  {
   "cell_type": "code",
   "execution_count": 6,
   "id": "2affeeb0",
   "metadata": {
    "hidden": true
   },
   "outputs": [
    {
     "data": {
      "text/plain": [
       "tensor([-1.3801e+00, -6.9007e-01, -1.2853e-07,  6.9007e-01,  1.3801e+00])"
      ]
     },
     "execution_count": 6,
     "metadata": {},
     "output_type": "execute_result"
    }
   ],
   "source": [
    "# 계층정규화(평균,분산)\n",
    "x= torch.tensor([0.01, 0.02, 0.03, 0.04, 0.05])\n",
    "u = x.mean(-1, keepdim=True)\n",
    "s = (x - u).pow(2).mean(-1, keepdim=True)\n",
    "x = (x - u) / torch.sqrt(s + 1/100000)\n",
    "u\n",
    "s\n",
    "x"
   ]
  },
  {
   "cell_type": "code",
   "execution_count": 12,
   "id": "39898d81",
   "metadata": {
    "hidden": true
   },
   "outputs": [
    {
     "name": "stdout",
     "output_type": "stream",
     "text": [
      "tensor([-1.3801e+00, -6.9007e-01, -1.2853e-07,  6.9007e-01,  1.3801e+00],\n",
      "       grad_fn=<AddBackward0>)\n",
      "tensor([-1.3801e+00, -6.9007e-01, -1.2853e-07,  6.9007e-01,  1.3801e+00])\n"
     ]
    }
   ],
   "source": [
    "# grad_fn=<AddBackward0>\n",
    "nnParameter = nn.Parameter(torch.ones(5)) * x + nn.Parameter(torch.zeros(5))\n",
    "print(nnParameter) # grad_fn에는 텐서가 어떤 연산을 하였는 지 연산 정보를 담고 있고, 이 정보는 역전파 과정에 사용될 예정입니다.\n",
    "\n",
    "base = (torch.ones(5)) * x + (torch.zeros(5))\n",
    "print(base)"
   ]
  },
  {
   "attachments": {
    "image.png": {
     "image/png": "[encoded data removed]"
    }
   },
   "cell_type": "markdown",
   "id": "5aed65a7",
   "metadata": {
    "hidden": true
   },
   "source": [
    "![image.png](attachment:image.png)"
   ]
  },
  {
   "cell_type": "markdown",
   "id": "3e75d036",
   "metadata": {
    "heading_collapsed": true
   },
   "source": [
    "## 계층 정규화"
   ]
  },
  {
   "cell_type": "code",
   "execution_count": null,
   "id": "3bf9ff15",
   "metadata": {
    "hidden": true
   },
   "outputs": [],
   "source": [
    "# 계층 정규화\n",
    "class LayerNorm(nn.Module):\n",
    "    def __init__(self, hidden_size, eps=1e-5):\n",
    "        \"\"\"Construct a layernorm module in the TF style (epsilon inside the square root).\n",
    "        \"\"\"\n",
    "        super(LayerNorm, self).__init__()\n",
    "        self.weight = nn.Parameter(torch.ones(hidden_size))\n",
    "        self.bias = nn.Parameter(torch.zeros(hidden_size))\n",
    "        self.variance_epsilon = eps\n",
    "\n",
    "        self.init_weights()\n",
    "\n",
    "    def init_weights(self):\n",
    "        self.weight.data.fill_(1.0)\n",
    "        self.bias.data.zero_()\n",
    "\n",
    "    def forward(self, x):\n",
    "        u = x.mean(-1, keepdim=True)\n",
    "        s = (x - u).pow(2).mean(-1, keepdim=True)\n",
    "        x = (x - u) / torch.sqrt(s + self.variance_epsilon) # 계층정규화 완료\n",
    "        return self.weight * x + self.bias # wx+b"
   ]
  },
  {
   "cell_type": "markdown",
   "id": "7f80e838",
   "metadata": {
    "heading_collapsed": true
   },
   "source": [
    "## 모델"
   ]
  },
  {
   "cell_type": "code",
   "execution_count": null,
   "id": "222f1bf3",
   "metadata": {
    "hidden": true
   },
   "outputs": [],
   "source": [
    "# MLP + (UP-block, DOWN-block) + Down-block에서 skip connection과 layer norm 적용\n",
    "class skipConnectionModel(nn.Module):\n",
    "    def __init__(self):\n",
    "        super(skipConnectionModel, self).__init__()\n",
    "        \n",
    "        self.ln = LayerNorm(10000)\n",
    "        self.ln1 = LayerNorm(7000)\n",
    "        self.ln2 = LayerNorm(4000)\n",
    "        self.ln3 = LayerNorm(2000)\n",
    "        \n",
    "        self.upblock1 = nn.Sequential(nn.Linear(226, 2000),GELU(),nn.BatchNorm1d(2000))\n",
    "        self.upblock2 = nn.Sequential(nn.Linear(2000,4000),GELU(),nn.BatchNorm1d(4000))\n",
    "        self.upblock3 = nn.Sequential(nn.Linear(4000,7000), GELU(),nn.BatchNorm1d(7000))\n",
    "        self.upblock4 = nn.Sequential(nn.Linear(7000,10000),GELU(),nn.BatchNorm1d(10000))\n",
    "\n",
    "        self.downblock1 = nn.Sequential(nn.Linear(10000, 7000),GELU(),nn.BatchNorm1d(7000))\n",
    "        self.downblock2 = nn.Sequential(nn.Linear(7000, 4000),GELU(),nn.BatchNorm1d(4000))\n",
    "        self.downblock3 = nn.Sequential(nn.Linear(4000, 2000),GELU(),nn.BatchNorm1d(2000))\n",
    "        self.downblock4 = nn.Sequential(nn.Linear(2000, 300),GELU(),nn.BatchNorm1d(300))\n",
    "        \n",
    "        self.fclayer = nn.Sequential(nn.Linear(300,4))\n",
    "        self.dropout = nn.Dropout(0.1)\n",
    "        \n",
    "    def forward(self, x):\n",
    "        upblock1_out = self.upblock1(x)\n",
    "        upblock2_out = self.upblock2(upblock1_out)\n",
    "        upblock3_out = self.upblock3(upblock2_out)\n",
    "        upblock4_out = self.upblock4(upblock3_out)\n",
    "        \n",
    "        downblock1_out = self.downblock1(self.ln(upblock4_out))\n",
    "        skipblock1 = downblock1_out + upblock3_out\n",
    "        downblock2_out = self.downblock2(self.ln1(skipblock1))\n",
    "        skipblock2 = downblock2_out + upblock2_out\n",
    "        downblock3_out = self.downblock3(self.ln2(skipblock2))\n",
    "        skipblock3 = downblock3_out + upblock1_out\n",
    "        downblock4_out = self.downblock4(self.ln3(skipblock3))\n",
    "        \n",
    "        output = self.fclayer(downblock4_out)\n",
    "        \n",
    "        return output"
   ]
  },
  {
   "cell_type": "markdown",
   "id": "d309c24e",
   "metadata": {
    "heading_collapsed": true
   },
   "source": [
    "## 옵티마이저 스케쥴러"
   ]
  },
  {
   "cell_type": "code",
   "execution_count": null,
   "id": "9896a1ae",
   "metadata": {
    "hidden": true
   },
   "outputs": [],
   "source": [
    "# 옵티마이저 학습률=스케쥴러\n",
    "def get_constant_schedule(optimizer, last_epoch=-1):\n",
    "    \"\"\" Create a schedule with a constant learning rate.\n",
    "    \"\"\"\n",
    "    return LambdaLR(optimizer, lambda _: 1, last_epoch=last_epoch)\n",
    "\n",
    "\n",
    "def get_constant_schedule_with_warmup(optimizer, num_warmup_steps, last_epoch=-1):\n",
    "    \"\"\" Create a schedule with a constant learning rate preceded by a warmup\n",
    "    period during which the learning rate increases linearly between 0 and 1.\n",
    "    \"\"\"\n",
    "\n",
    "    def lr_lambda(current_step):\n",
    "        if current_step &lt; num_warmup_steps:\n",
    "            return float(current_step) / float(max(1.0, num_warmup_steps))\n",
    "        return 1.0\n",
    "\n",
    "    return LambdaLR(optimizer, lr_lambda, last_epoch=last_epoch)\n",
    "\n",
    "\n",
    "def get_linear_schedule_with_warmup(optimizer, num_warmup_steps, num_training_steps, last_epoch=-1):\n",
    "    \"\"\" Create a schedule with a learning rate that decreases linearly after\n",
    "    linearly increasing during a warmup period.\n",
    "    \"\"\"\n",
    "\n",
    "    def lr_lambda(current_step):\n",
    "        if current_step &lt; num_warmup_steps:\n",
    "            return float(current_step) / float(max(1, num_warmup_steps))\n",
    "        return max(\n",
    "            0.0, float(num_training_steps - current_step) / float(max(1, num_training_steps - num_warmup_steps))\n",
    "        )\n",
    "\n",
    "    return LambdaLR(optimizer, lr_lambda, last_epoch)\n",
    "\n",
    "\n",
    "def get_cosine_schedule_with_warmup(optimizer, num_warmup_steps, num_training_steps, num_cycles=0.5, last_epoch=-1):\n",
    "    \"\"\" Create a schedule with a learning rate that decreases following the\n",
    "    values of the cosine function between 0 and `pi * cycles` after a warmup\n",
    "    period during which it increases linearly between 0 and 1.\n",
    "    \"\"\"\n",
    "\n",
    "    def lr_lambda(current_step):\n",
    "        if current_step &lt; num_warmup_steps:\n",
    "            return float(current_step) / float(max(1, num_warmup_steps))\n",
    "        progress = float(current_step - num_warmup_steps) / float(max(1, num_training_steps - num_warmup_steps))\n",
    "        return max(0.0, 0.5 * (1.0 + math.cos(math.pi * float(num_cycles) * 2.0 * progress)))\n",
    "\n",
    "    return LambdaLR(optimizer, lr_lambda, last_epoch)\n",
    "\n",
    "\n",
    "def get_cosine_with_hard_restarts_schedule_with_warmup(\n",
    "    optimizer, num_warmup_steps, num_training_steps, num_cycles=1.0, last_epoch=-1): # num_warmup_steps=2000\n",
    "\n",
    "    \"\"\" Create a schedule with a learning rate that decreases following the\n",
    "    values of the cosine function with several hard restarts, after a warmup\n",
    "    period during which it increases linearly between 0 and 1.\n",
    "    \"\"\"\n",
    "\n",
    "    def lr_lambda(current_step):\n",
    "        if current_step &lt; num_warmup_steps:\n",
    "            return float(current_step) / float(max(1, num_warmup_steps))\n",
    "        progress = float(current_step - num_warmup_steps) / float(max(1, num_training_steps - num_warmup_steps))\n",
    "        if progress &gt;= 1.0:\n",
    "            return 0.0\n",
    "        return max(0.0, 0.5 * (1.0 + math.cos(math.pi * ((float(num_cycles) * progress) % 1.0))))\n",
    "\n",
    "    return LambdaLR(optimizer, lr_lambda, last_epoch)"
   ]
  },
  {
   "cell_type": "markdown",
   "id": "fecaf4f3",
   "metadata": {
    "heading_collapsed": true
   },
   "source": [
    "## 옵티마이저\n"
   ]
  },
  {
   "cell_type": "code",
   "execution_count": null,
   "id": "d5a238d0",
   "metadata": {
    "hidden": true
   },
   "outputs": [],
   "source": [
    "# 옵티마이저\n",
    "# optimizer = AdamW(optimizer_grouped_parameters, lr=1e-3, eps=1e-06)\n",
    "class AdamW(Optimizer):\n",
    "    \"\"\" Implements Adam algorithm with weight decay fix.\n",
    "    Parameters:\n",
    "        lr (float): learning rate. Default 1e-3.\n",
    "        betas (tuple of 2 floats): Adams beta parameters (b1, b2). Default: (0.9, 0.999)\n",
    "        eps (float): Adams epsilon. Default: 1e-6\n",
    "        weight_decay (float): Weight decay. Default: 0.0\n",
    "        correct_bias (bool): can be set to False to avoid correcting bias in Adam (e.g. like in Bert TF repository). Default True.\n",
    "    \"\"\"\n",
    "\n",
    "    def __init__(self, params, lr=1e-3, betas=(0.9, 0.999), eps=1e-6, weight_decay=0.0, correct_bias=True):\n",
    "        # &lt; = < 마크업기반(html, xml)의 코드에서는 부등호(< , >)가 인식되지 않습니다.\n",
    "        if lr &lt; 0.0: # lr<0.0 \n",
    "            raise ValueError(\"Invalid learning rate: {} - should be &gt;= 0.0\".format(lr))\n",
    "        if not 0.0 &lt;= betas[0] &lt; 1.0: # 0<=0.9<1.0\n",
    "            raise ValueError(\"Invalid beta parameter: {} - should be in [0.0, 1.0[\".format(betas[0]))\n",
    "        if not 0.0 &lt;= betas[1] &lt; 1.0: # 0<=0.99<1.0\n",
    "            raise ValueError(\"Invalid beta parameter: {} - should be in [0.0, 1.0[\".format(betas[1]))\n",
    "        if not 0.0 &lt;= eps: #0<=1e-06\n",
    "            raise ValueError(\"Invalid epsilon value: {} - should be &gt;= 0.0\".format(eps))\n",
    "        defaults = dict(lr=lr, betas=betas, eps=eps, weight_decay=weight_decay, correct_bias=correct_bias)\n",
    "        super().__init__(params, defaults)\n",
    "\n",
    "    def step(self, closure=None):\n",
    "        \"\"\"Performs a single optimization step.\n",
    "        Arguments:\n",
    "            closure (callable, optional): A closure that reevaluates the model\n",
    "                and returns the loss.\n",
    "        \"\"\"\n",
    "        loss = None\n",
    "        if closure is not None:\n",
    "            loss = closure()\n",
    "\n",
    "        for group in self.param_groups:\n",
    "            for p in group[\"params\"]:\n",
    "                if p.grad is None:\n",
    "                    continue\n",
    "                grad = p.grad.data\n",
    "                if grad.is_sparse:\n",
    "                    raise RuntimeError(\"Adam does not support sparse gradients, please consider SparseAdam instead\")\n",
    "\n",
    "                state = self.state[p]\n",
    "\n",
    "                # State initialization\n",
    "                if len(state) == 0:\n",
    "                    state[\"step\"] = 0\n",
    "                    # Exponential moving average of gradient value\n",
    "                    state[\"exp_avg\"] = torch.zeros_like(p.data)\n",
    "                    # Exponential moving average of squared gradient values\n",
    "                    state[\"exp_avg_sq\"] = torch.zeros_like(p.data)\n",
    "\n",
    "                exp_avg, exp_avg_sq = state[\"exp_avg\"], state[\"exp_avg_sq\"]\n",
    "                beta1, beta2 = group[\"betas\"]\n",
    "\n",
    "                state[\"step\"] += 1\n",
    "\n",
    "                # Decay the first and second moment running average coefficient\n",
    "                # In-place operations to update the averages at the same time\n",
    "                exp_avg.mul_(beta1).add_(1.0 - beta1, grad)\n",
    "                exp_avg_sq.mul_(beta2).addcmul_(1.0 - beta2, grad, grad)\n",
    "                denom = exp_avg_sq.sqrt().add_(group[\"eps\"])\n",
    "\n",
    "                step_size = group[\"lr\"]\n",
    "                if group[\"correct_bias\"]:  # No bias correction for Bert\n",
    "                    bias_correction1 = 1.0 - beta1 ** state[\"step\"]\n",
    "                    bias_correction2 = 1.0 - beta2 ** state[\"step\"]\n",
    "                    step_size = step_size * math.sqrt(bias_correction2) / bias_correction1\n",
    "\n",
    "                p.data.addcdiv_(-step_size, exp_avg, denom)\n",
    "\n",
    "                # Just adding the square of the weights to the loss function is *not*\n",
    "                # the correct way of using L2 regularization/weight decay with Adam,\n",
    "                # since that will interact with the m and v parameters in strange ways.\n",
    "                #\n",
    "                # Instead we want to decay the weights in a manner that doesn't interact\n",
    "                # with the m/v parameters. This is equivalent to adding the square\n",
    "                # of the weights to the loss with plain (non-momentum) SGD.\n",
    "                # Add weight decay at the end (fixed version)\n",
    "                if group[\"weight_decay\"] &gt; 0.0:\n",
    "                    p.data.add_(-group[\"lr\"] * group[\"weight_decay\"], p.data)\n",
    "\n",
    "        return loss"
   ]
  },
  {
   "cell_type": "code",
   "execution_count": null,
   "id": "f4b82d3a",
   "metadata": {
    "hidden": true
   },
   "outputs": [],
   "source": [
    "model = skipConnectionModel()\n",
    "model = model.to(device) # 모델을 GPU 메모리에 올림."
   ]
  },
  {
   "cell_type": "markdown",
   "id": "7d7cad1d",
   "metadata": {},
   "source": [
    "## 5. 모델 학습 및 검증\n",
    "Model Tuning & Evaluation"
   ]
  },
  {
   "cell_type": "code",
   "execution_count": 6,
   "id": "47179e0a",
   "metadata": {},
   "outputs": [
    {
     "data": {
      "text/plain": [
       "[{'params': [Parameter containing:\n",
       "   tensor([[-0.0212, -0.2701,  0.0072, -0.1194, -0.0752, -0.0926,  0.1966,  0.2385,\n",
       "             0.3123,  0.2693],\n",
       "           [-0.1057, -0.2142,  0.0351,  0.0620, -0.1357, -0.1117,  0.2934, -0.1177,\n",
       "            -0.0729,  0.2771],\n",
       "           [ 0.0601, -0.1083,  0.3017, -0.2169, -0.3026, -0.1122, -0.1028, -0.3035,\n",
       "            -0.0647,  0.0645]], requires_grad=True)],\n",
       "  'weight_decay': 0.0},\n",
       " {'params': [Parameter containing:\n",
       "   tensor([-0.0300, -0.1544, -0.1807], requires_grad=True)],\n",
       "  'weight_decay': 0.0}]"
      ]
     },
     "execution_count": 6,
     "metadata": {},
     "output_type": "execute_result"
    }
   ],
   "source": [
    "no_decay = [\"bias\", \"LayerNorm.weight\"] # decay하지 않을 영역 지정.\n",
    "model = nn.Linear(10,3)\n",
    "\n",
    "optimizer_grouped_parameters = [\n",
    "    {\"params\": [p for n, p in model.named_parameters() if not any(nd in n for nd in no_decay)],\n",
    "     \"weight_decay\": 0.0,},\n",
    "    {\"params\": [p for n, p in model.named_parameters() if any(nd in n for nd in no_decay)], \n",
    "     \"weight_decay\": 0.0},\n",
    "]\n",
    "optimizer_grouped_parameters"
   ]
  },
  {
   "cell_type": "code",
   "execution_count": 7,
   "id": "2f9fd0fe",
   "metadata": {},
   "outputs": [
    {
     "data": {
      "text/plain": [
       "(15, 27)"
      ]
     },
     "execution_count": 7,
     "metadata": {},
     "output_type": "execute_result"
    }
   ],
   "source": [
    "version = time.localtime()[3:5]\n",
    "version"
   ]
  },
  {
   "cell_type": "code",
   "execution_count": null,
   "id": "c16abc45",
   "metadata": {},
   "outputs": [],
   "source": [
    "\"\"\"\n",
    "모델 학습\n",
    "\"\"\"\n",
    "\n",
    "total_step = len(train_loader) * epochs # 800000/2048=390개의 배치*100 = total_iteration\n",
    "print(f\"Total step is....{total_step}\") # 모델이 학습하는 전체 step 계산.\n",
    "\n",
    "# 옵티마이저와 스케줄러의 파라미터들을 정의.\n",
    "\n",
    "no_decay = [\"bias\", \"LayerNorm.weight\"] # decay하지 않을 영역 지정.\n",
    "optimizer_grouped_parameters = [\n",
    "    {\"params\": [p for n, p in model.named_parameters() if not any(nd in n for nd in no_decay)], # weight만 추출\n",
    "     \"weight_decay\": 0.0,},\n",
    "    {\"params\": [p for n, p in model.named_parameters() if any(nd in n for nd in no_decay)], # bias만 추출\n",
    "     \"weight_decay\": 0.0}]\n",
    "\n",
    "optimizer = AdamW(optimizer_grouped_parameters, lr=1e-3, eps=1e-06)\n",
    "scheduler = get_cosine_with_hard_restarts_schedule_with_warmup(\n",
    "    optimizer, num_warmup_steps=warmup_step, num_training_steps=total_step\n",
    ")\n",
    "\n",
    "# train loss와 val loss 지정.\n",
    "total_loss = 0.0\n",
    "total_val_loss = 0.0\n",
    "\n",
    "# 모델 이름을 위해서 변수 만듦.\n",
    "version = time.localtime()[3:5] # (시간, 분)\n",
    "curr_lr = lr\n",
    "\n",
    "n_val_loss = 10000000. # 가장 낮은 validation loss를 저장하기 위해서 변수 설정.\n",
    "\n",
    "for epoch in range(epochs): # 100\n",
    "    total_loss = 0 \n",
    "    total_val_loss = 0\n",
    "    for i, data in enumerate(tqdm(train_loader, desc='*********Train mode*******')):  # 390\n",
    "        # forward pass\n",
    "        pred = model(data['X'].float().to(device))\n",
    "        loss = loss_fn(pred, data['Y'].float().to(device))\n",
    "        \n",
    "        # backward pass\n",
    "        optimizer.zero_grad() # optimizer 객체 사용해서 학습 가능한 가중치 변수에 대한 모든 변화도를 0으로 만듦\n",
    "        loss.backward() \n",
    "        optimizer.step() # update optimizer params\n",
    "        scheduler.step() # update scheduler params\n",
    "        \n",
    "        total_loss += loss.item()\n",
    "        \n",
    "    train_loss = total_loss / len(train_loader)\n",
    "    print (\"Epoch [{}/{}], Train Loss: {:.4f}\".format(epoch+1, epochs, train_loss))\n",
    "\n",
    "    # evaluation\n",
    "    # validation 데이터를 부르고 epoch 마다 학습된 모델을 부르고 평가.\n",
    "    model.eval()\n",
    "    with torch.no_grad():\n",
    "        for i, data in enumerate(tqdm(val_loader, desc='*********Evaluation mode*******')):\n",
    "            pred = model(data['X'].float().to(device))\n",
    "            loss_val = loss_fn(pred, data['Y'].float().to(device))\n",
    "            \n",
    "            total_val_loss += loss_val.item()\n",
    "    val_loss = total_val_loss / len(val_loader)\n",
    "    print (\"Epoch [{}/{}], Eval Loss: {:.4f}\".format(epoch+1, epochs, val_loss))\n",
    "    \n",
    "    # best model을 저장.\n",
    "    if val_loss &lt; n_val_loss:\n",
    "        n_val_loss = val_loss\n",
    "        torch.save(model.state_dict(), f'test_{version}_{lr}_{epochs}.pth')\n",
    "        print(\"Best Model saved......\")"
   ]
  },
  {
   "cell_type": "code",
   "execution_count": null,
   "id": "db06bef8",
   "metadata": {},
   "outputs": [],
   "source": [
    "\"\"\"\n",
    "모델 테스트\n",
    "\"\"\"\n",
    "\n",
    "test_model = skipConnectionModel()\n",
    "\n",
    "# test 파일 경로 및 test 데이터 로드\n",
    "path_test = 'test.csv'\n",
    "class TestDataset(Dataset):\n",
    "    def __init__(self, path_test):\n",
    "        super(TestDataset, self).__init__()\n",
    "        test = pd.read_csv(path_test)\n",
    "        self.test_X = test.iloc[:,1:]\n",
    "        self.tmp_x = self.test_X.values\n",
    "    \n",
    "    def __len__(self):\n",
    "        return len(self.test_X)\n",
    "\n",
    "    def __getitem__(self, idx):\n",
    "        return torch.from_numpy(self.tmp_x)[idx]\n",
    "    \n",
    "test_data = TestDataset(path_test) # <__main__.TestDataset at 0x1f37cd22670>\n",
    "test_loader = DataLoader(test_data, batch_size=10000,  num_workers=4) # <torch.utils.data.dataloader.DataLoader at 0x1f3715c9f40>\n",
    "\n",
    "# 모델에 학습된 가중치를 업로드.\n",
    "weights = torch.load(f'test_{version}_{lr}_{epochs}.pth', map_location='cuda:0')\n",
    "test_model.load_state_dict(weights) # 가중치 업로드\n",
    "test_model = test_model.to(device)\n",
    "\n",
    "# 해당 모델의 모든 레이어가 evaluation(inference) mode\n",
    "# == 학습할 때만 필요한 Dropout, Batchnorm등의 기능을 비활성화 시킨다\n",
    "test_model.eval()\n",
    "\n",
    "with torch.no_grad(): # autograd engine(gradient를 계산해주는 context)을 비활성화시켜 메모리를 줄어주고 연산속도를 증가\n",
    "    for data in test_loader:\n",
    "        data = data.to(device)\n",
    "        outputs = test_model(data.float())\n",
    "pred_test = outputs\n",
    "\n",
    "sample_sub = pd.read_csv('sample_submission.csv', index_col=0)\n",
    "layers = ['layer_1','layer_2','layer_3','layer_4']\n",
    "submission = sample_sub.values + pred_test.cpu().numpy()\n",
    "\n",
    "submission = pd.DataFrame(data=submission, columns=layers)\n",
    "submission.to_csv(f'test_{version}_{lr}_{epochs}.csv', index_label='id')"
   ]
  },
  {
   "cell_type": "code",
   "execution_count": 19,
   "id": "6940d7a7",
   "metadata": {},
   "outputs": [
    {
     "data": {
      "text/plain": [
       "array([[0., 0., 0., 0.],\n",
       "       [0., 0., 0., 0.],\n",
       "       [0., 0., 0., 0.],\n",
       "       ...,\n",
       "       [0., 0., 0., 0.],\n",
       "       [0., 0., 0., 0.],\n",
       "       [0., 0., 0., 0.]])"
      ]
     },
     "execution_count": 19,
     "metadata": {},
     "output_type": "execute_result"
    }
   ],
   "source": [
    "sample_sub = pd.read_csv('./input/sample_submission.csv', index_col=0)\n",
    "sample_sub.values"
   ]
  },
  {
   "cell_type": "code",
   "execution_count": null,
   "id": "2c6a0205",
   "metadata": {},
   "outputs": [],
   "source": [
    "# + Self evaluation and Ensemble\n",
    "# Dacon의 제출하기를 통해 측정한 mae값 중 가장 낮은 mae csv 파일과 다른 파라미터 적용으로 훈련한 모델과 mae 비교를 통해\n",
    "# 대략적인 test mae를 예상한 뒤 제출하기 하여 3번 제출할 수 있는 기회를 최대한 살림.\n",
    "# 다양한 파라미터 적용을 통한 모델들을 아래의 en함수를 통해 합친 뒤 평균을 구하여 제출\n",
    "# (추가하는 csv 파일의 수에 따라 en함수의 함수가 받는 csv 파일 개수 증가 및 코드 수정 필요.)\n",
    "def mae(best_path, my_path):\n",
    "    best = pd.read_csv(best_path)\n",
    "    best_value = best.iloc[:,1:].values\n",
    "    value = pd.read_csv(my_path)\n",
    "    my_value = value.iloc[:,1:].values\n",
    "    abs_value = abs(best_value - my_value)\n",
    "    size = abs_value.shape\n",
    "    return sum(sum(abs_value) / (size[0]*size[1]))\n",
    "\n",
    "def en(best_path, my_path):\n",
    "    best = pd.read_csv(best_path)\n",
    "    best_value = best.iloc[:,1:].values\n",
    "    value = pd.read_csv(my_path)\n",
    "    my_value = value.iloc[:,1:].values\n",
    "    return (my_value + best_value)/2"
   ]
  },
  {
   "cell_type": "code",
   "execution_count": null,
   "id": "5d485433",
   "metadata": {},
   "outputs": [],
   "source": []
  }
 ],
 "metadata": {
  "kernelspec": {
   "display_name": "Python 3 (ipykernel)",
   "language": "python",
   "name": "python3"
  },
  "language_info": {
   "codemirror_mode": {
    "name": "ipython",
    "version": 3
   },
   "file_extension": ".py",
   "mimetype": "text/x-python",
   "name": "python",
   "nbconvert_exporter": "python",
   "pygments_lexer": "ipython3",
   "version": "3.9.7"
  },
  "varInspector": {
   "cols": {
    "lenName": 16,
    "lenType": 16,
    "lenVar": 40
   },
   "kernels_config": {
    "python": {
     "delete_cmd_postfix": "",
     "delete_cmd_prefix": "del ",
     "library": "var_list.py",
     "varRefreshCmd": "print(var_dic_list())"
    },
    "r": {
     "delete_cmd_postfix": ") ",
     "delete_cmd_prefix": "rm(",
     "library": "var_list.r",
     "varRefreshCmd": "cat(var_dic_list()) "
    }
   },
   "types_to_exclude": [
    "module",
    "function",
    "builtin_function_or_method",
    "instance",
    "_Feature"
   ],
   "window_display": false
  }
 },
 "nbformat": 4,
 "nbformat_minor": 5
}
